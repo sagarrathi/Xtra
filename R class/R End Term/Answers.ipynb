{
 "cells": [
  {
   "cell_type": "code",
   "execution_count": 1,
   "metadata": {},
   "outputs": [
    {
     "data": {
      "text/html": [
       "<ol class=list-inline>\n",
       "\t<li>'Answers.ipynb'</li>\n",
       "\t<li>'Crime_Rate.csv'</li>\n",
       "\t<li>'End-term_examination_of_Statistical_Programming_with_R.zip'</li>\n",
       "\t<li>'Listed companies_BSE_2017.csv'</li>\n",
       "\t<li>'Names_Companies.xlsx'</li>\n",
       "\t<li>'Property_Delhi_20.xlsx'</li>\n",
       "\t<li>'Property_Delhi.xlsx'</li>\n",
       "\t<li>'Takehome Exam -Statistical Programming with R.DOCX'</li>\n",
       "</ol>\n"
      ],
      "text/latex": [
       "\\begin{enumerate*}\n",
       "\\item 'Answers.ipynb'\n",
       "\\item 'Crime\\_Rate.csv'\n",
       "\\item 'End-term\\_examination\\_of\\_Statistical\\_Programming\\_with\\_R.zip'\n",
       "\\item 'Listed companies\\_BSE\\_2017.csv'\n",
       "\\item 'Names\\_Companies.xlsx'\n",
       "\\item 'Property\\_Delhi\\_20.xlsx'\n",
       "\\item 'Property\\_Delhi.xlsx'\n",
       "\\item 'Takehome Exam -Statistical Programming with R.DOCX'\n",
       "\\end{enumerate*}\n"
      ],
      "text/markdown": [
       "1. 'Answers.ipynb'\n",
       "2. 'Crime_Rate.csv'\n",
       "3. 'End-term_examination_of_Statistical_Programming_with_R.zip'\n",
       "4. 'Listed companies_BSE_2017.csv'\n",
       "5. 'Names_Companies.xlsx'\n",
       "6. 'Property_Delhi_20.xlsx'\n",
       "7. 'Property_Delhi.xlsx'\n",
       "8. 'Takehome Exam -Statistical Programming with R.DOCX'\n",
       "\n",
       "\n"
      ],
      "text/plain": [
       "[1] \"Answers.ipynb\"                                             \n",
       "[2] \"Crime_Rate.csv\"                                            \n",
       "[3] \"End-term_examination_of_Statistical_Programming_with_R.zip\"\n",
       "[4] \"Listed companies_BSE_2017.csv\"                             \n",
       "[5] \"Names_Companies.xlsx\"                                      \n",
       "[6] \"Property_Delhi_20.xlsx\"                                    \n",
       "[7] \"Property_Delhi.xlsx\"                                       \n",
       "[8] \"Takehome Exam -Statistical Programming with R.DOCX\"        "
      ]
     },
     "metadata": {},
     "output_type": "display_data"
    }
   ],
   "source": [
    "list.files()"
   ]
  },
  {
   "cell_type": "code",
   "execution_count": 2,
   "metadata": {},
   "outputs": [
    {
     "data": {
      "text/html": [
       "<table>\n",
       "<thead><tr><th scope=col>Security.Code</th><th scope=col>Security.Id</th><th scope=col>Security.Name</th><th scope=col>Status</th><th scope=col>Group</th><th scope=col>Face.Value</th><th scope=col>ISIN.No</th><th scope=col>Industry</th><th scope=col>Instrument</th></tr></thead>\n",
       "<tbody>\n",
       "\t<tr><td>500002                          </td><td>ABB                             </td><td>ABB India Limited               </td><td>Active                          </td><td>A                               </td><td>2                               </td><td>INE117A01022                    </td><td>Heavy Electrical Equipment      </td><td>Equity                          </td></tr>\n",
       "\t<tr><td>500003                              </td><td>AEGISLOG                            </td><td>AEGIS LOGISTICS LTD.                </td><td>Active                              </td><td>A                                   </td><td>1                                   </td><td>INE208C01025                        </td><td>Oil Marketing &amp;amp; Distribution</td><td>Equity                              </td></tr>\n",
       "</tbody>\n",
       "</table>\n"
      ],
      "text/latex": [
       "\\begin{tabular}{r|lllllllll}\n",
       " Security.Code & Security.Id & Security.Name & Status & Group & Face.Value & ISIN.No & Industry & Instrument\\\\\n",
       "\\hline\n",
       "\t 500002                           & ABB                              & ABB India Limited                & Active                           & A                                & 2                                & INE117A01022                     & Heavy Electrical Equipment       & Equity                          \\\\\n",
       "\t 500003                             & AEGISLOG                           & AEGIS LOGISTICS LTD.               & Active                             & A                                  & 1                                  & INE208C01025                       & Oil Marketing \\&amp; Distribution & Equity                            \\\\\n",
       "\\end{tabular}\n"
      ],
      "text/markdown": [
       "\n",
       "| Security.Code | Security.Id | Security.Name | Status | Group | Face.Value | ISIN.No | Industry | Instrument |\n",
       "|---|---|---|---|---|---|---|---|---|\n",
       "| 500002                           | ABB                              | ABB India Limited                | Active                           | A                                | 2                                | INE117A01022                     | Heavy Electrical Equipment       | Equity                           |\n",
       "| 500003                           | AEGISLOG                         | AEGIS LOGISTICS LTD.             | Active                           | A                                | 1                                | INE208C01025                     | Oil Marketing &amp; Distribution | Equity                           |\n",
       "\n"
      ],
      "text/plain": [
       "  Security.Code Security.Id Security.Name        Status Group Face.Value\n",
       "1 500002        ABB         ABB India Limited    Active A     2         \n",
       "2 500003        AEGISLOG    AEGIS LOGISTICS LTD. Active A     1         \n",
       "  ISIN.No      Industry                         Instrument\n",
       "1 INE117A01022 Heavy Electrical Equipment       Equity    \n",
       "2 INE208C01025 Oil Marketing &amp; Distribution Equity    "
      ]
     },
     "metadata": {},
     "output_type": "display_data"
    }
   ],
   "source": [
    "######################## Solution for 1 ############################\n",
    "########## Loading the csv file\n",
    "x=read.csv(\"./Listed companies_BSE_2017.csv\")\n",
    "head(x,2)"
   ]
  },
  {
   "cell_type": "code",
   "execution_count": 3,
   "metadata": {},
   "outputs": [
    {
     "name": "stdout",
     "output_type": "stream",
     "text": [
      "[1] \"415 Companies have Security Id starting from B\"\n"
     ]
    }
   ],
   "source": [
    "#### Answer 1.i\n",
    "print(paste(sum(grepl('^B',x$Security.Id)), 'Companies have Security Id starting from B'))"
   ]
  },
  {
   "cell_type": "code",
   "execution_count": 4,
   "metadata": {},
   "outputs": [
    {
     "name": "stdout",
     "output_type": "stream",
     "text": [
      "[1] \"519 Companies have Security Id ending in T\"\n"
     ]
    }
   ],
   "source": [
    "#### Answer 1.ii\n",
    "print(paste(sum(grepl('T$',x$Security.Id)), 'Companies have Security Id ending in T'))"
   ]
  },
  {
   "cell_type": "code",
   "execution_count": 5,
   "metadata": {},
   "outputs": [
    {
     "name": "stdout",
     "output_type": "stream",
     "text": [
      "[1] \"32 Companies have Security Id starting with M and ending in T\"\n"
     ]
    }
   ],
   "source": [
    "#### Answer 1.iii\n",
    "print(paste(sum(grepl('^M.*T$',x$Security.Id)), 'Companies have Security Id starting with M and ending in T'))"
   ]
  },
  {
   "cell_type": "code",
   "execution_count": 6,
   "metadata": {},
   "outputs": [
    {
     "name": "stdout",
     "output_type": "stream",
     "text": [
      "[1] \"3772 Companies are not active\"\n"
     ]
    }
   ],
   "source": [
    "#### Answer 1.iv\n",
    "not_Active=x[(x$Status==\"Delisted\") |(x$Status==\"Suspended\"),]\n",
    "print(paste(nrow(not_Active), 'Companies are not active'))"
   ]
  },
  {
   "cell_type": "code",
   "execution_count": 7,
   "metadata": {},
   "outputs": [
    {
     "name": "stdout",
     "output_type": "stream",
     "text": [
      "[1] \"592 Companies are not active and belong to eiither A or B group\"\n"
     ]
    }
   ],
   "source": [
    "#### Answer 1.v\n",
    "not_Active_AB=not_Active[(not_Active$Group==\"A \") | (not_Active$Group==\"B \"),]\n",
    "print(paste(nrow(not_Active_AB), 'Companies are not active and belong to eiither A or B group'))"
   ]
  },
  {
   "cell_type": "code",
   "execution_count": 8,
   "metadata": {
    "scrolled": true
   },
   "outputs": [
    {
     "name": "stdout",
     "output_type": "stream",
     "text": [
      "[1] \"1375 Companies are active and belong to group B\"\n"
     ]
    }
   ],
   "source": [
    "#### Answer 1.vi\n",
    "Active_B=x[(x$Status==\"Active\") & (x$Group==\"B \"),]\n",
    "print(paste(nrow(Active_B), 'Companies are active and belong to group B'))"
   ]
  },
  {
   "cell_type": "code",
   "execution_count": 9,
   "metadata": {},
   "outputs": [
    {
     "name": "stdout",
     "output_type": "stream",
     "text": [
      "[1] \"84 Companies are Active and belong to group B with face value of 2\"\n"
     ]
    }
   ],
   "source": [
    "#### Answer 1.vii\n",
    "Active_A_2=x[(x$Status==\"Active\") & (x$Group==\"A \") & (x$Face.Value==2), ]\n",
    "print(paste(nrow(Active_A_2), 'Companies are Active and belong to group B with face value of 2'))"
   ]
  },
  {
   "cell_type": "code",
   "execution_count": 10,
   "metadata": {},
   "outputs": [
    {
     "name": "stdout",
     "output_type": "stream",
     "text": [
      "[1] \"14 Active companies of group A with face value of 2 have Security starting with L and ending with N\"\n"
     ]
    }
   ],
   "source": [
    "#### Answer 1.viii\n",
    "Active_A_2_LN=Active_A_2[grepl('^L.*N$', x$Security.Id), ]\n",
    "print(paste(nrow(Active_A_2_LN), 'Active companies of group A with face value of 2 have Security starting with L and ending with N'))"
   ]
  },
  {
   "cell_type": "code",
   "execution_count": 11,
   "metadata": {},
   "outputs": [
    {
     "data": {
      "text/html": [
       "<table>\n",
       "<thead><tr><th scope=col>Security.Code</th><th scope=col>Security.Id</th><th scope=col>Security.Name</th><th scope=col>Status</th><th scope=col>Group</th><th scope=col>Face.Value</th><th scope=col>ISIN.No</th><th scope=col>Industry</th><th scope=col>Instrument</th><th scope=col>Name_Status_Group</th></tr></thead>\n",
       "<tbody>\n",
       "\t<tr><td>500002                          </td><td>ABB                             </td><td>ABB India Limited               </td><td>Active                          </td><td>A                               </td><td> 2                              </td><td>INE117A01022                    </td><td>Heavy Electrical Equipment      </td><td>Equity                          </td><td>ABB _ Active _ A                </td></tr>\n",
       "\t<tr><td>500003                                                        </td><td>AEGISLOG                                                      </td><td><span style=white-space:pre-wrap>AEGIS LOGISTICS LTD.  </span></td><td><span style=white-space:pre-wrap>Active  </span>              </td><td>A                                                             </td><td> 1                                                            </td><td>INE208C01025                                                  </td><td>Oil Marketing &amp;amp; Distribution                          </td><td>Equity                                                        </td><td>AEGISLOG _ Active _ A                                         </td></tr>\n",
       "\t<tr><td>500004                          </td><td>TPAEC                           </td><td>TORRENT POWER AEC LTD.          </td><td>Delisted                        </td><td>B                               </td><td>10                              </td><td>INE424A01014                    </td><td>                                </td><td>Equity                          </td><td>TPAEC _ Delisted _ B            </td></tr>\n",
       "</tbody>\n",
       "</table>\n"
      ],
      "text/latex": [
       "\\begin{tabular}{r|llllllllll}\n",
       " Security.Code & Security.Id & Security.Name & Status & Group & Face.Value & ISIN.No & Industry & Instrument & Name\\_Status\\_Group\\\\\n",
       "\\hline\n",
       "\t 500002                           & ABB                              & ABB India Limited                & Active                           & A                                &  2                               & INE117A01022                     & Heavy Electrical Equipment       & Equity                           & ABB \\_ Active \\_ A            \\\\\n",
       "\t 500003                             & AEGISLOG                           & AEGIS LOGISTICS LTD.               & Active                             & A                                  &  1                                 & INE208C01025                       & Oil Marketing \\&amp; Distribution & Equity                             & AEGISLOG \\_ Active \\_ A         \\\\\n",
       "\t 500004                           & TPAEC                            & TORRENT POWER AEC LTD.           & Delisted                         & B                                & 10                               & INE424A01014                     &                                  & Equity                           & TPAEC \\_ Delisted \\_ B        \\\\\n",
       "\\end{tabular}\n"
      ],
      "text/markdown": [
       "\n",
       "| Security.Code | Security.Id | Security.Name | Status | Group | Face.Value | ISIN.No | Industry | Instrument | Name_Status_Group |\n",
       "|---|---|---|---|---|---|---|---|---|---|\n",
       "| 500002                           | ABB                              | ABB India Limited                | Active                           | A                                |  2                               | INE117A01022                     | Heavy Electrical Equipment       | Equity                           | ABB _ Active _ A                 |\n",
       "| 500003                           | AEGISLOG                         | AEGIS LOGISTICS LTD.             | Active                           | A                                |  1                               | INE208C01025                     | Oil Marketing &amp; Distribution | Equity                           | AEGISLOG _ Active _ A            |\n",
       "| 500004                           | TPAEC                            | TORRENT POWER AEC LTD.           | Delisted                         | B                                | 10                               | INE424A01014                     |                                  | Equity                           | TPAEC _ Delisted _ B             |\n",
       "\n"
      ],
      "text/plain": [
       "  Security.Code Security.Id Security.Name          Status   Group Face.Value\n",
       "1 500002        ABB         ABB India Limited      Active   A      2        \n",
       "2 500003        AEGISLOG    AEGIS LOGISTICS LTD.   Active   A      1        \n",
       "3 500004        TPAEC       TORRENT POWER AEC LTD. Delisted B     10        \n",
       "  ISIN.No      Industry                         Instrument\n",
       "1 INE117A01022 Heavy Electrical Equipment       Equity    \n",
       "2 INE208C01025 Oil Marketing &amp; Distribution Equity    \n",
       "3 INE424A01014                                  Equity    \n",
       "  Name_Status_Group     \n",
       "1 ABB _ Active _ A      \n",
       "2 AEGISLOG _ Active _ A \n",
       "3 TPAEC _ Delisted _ B  "
      ]
     },
     "metadata": {},
     "output_type": "display_data"
    }
   ],
   "source": [
    "#### Answer 1.ix\n",
    "x$Name_Status_Group=paste(x$Security.Id,\"_\",x$Status,\"_\", x$Group)\n",
    "head(x, 3)"
   ]
  },
  {
   "cell_type": "code",
   "execution_count": 12,
   "metadata": {},
   "outputs": [
    {
     "data": {
      "text/html": [
       "<table>\n",
       "<thead><tr><th scope=col>Security.Code</th><th scope=col>Security.Id</th><th scope=col>Security.Name</th><th scope=col>Status</th><th scope=col>Group</th><th scope=col>Face.Value</th><th scope=col>ISIN.No</th><th scope=col>Industry</th><th scope=col>Instrument</th><th scope=col>Name_Status_Group</th><th scope=col>Characters</th></tr></thead>\n",
       "<tbody>\n",
       "\t<tr><td>500002                          </td><td>ABB                             </td><td>ABB India Limited               </td><td>Active                          </td><td>A                               </td><td> 2                              </td><td>INE117A01022                    </td><td>Heavy Electrical Equipment      </td><td>Equity                          </td><td>ABB _ Active _ A                </td><td>17                              </td></tr>\n",
       "\t<tr><td>500003                                                        </td><td>AEGISLOG                                                      </td><td><span style=white-space:pre-wrap>AEGIS LOGISTICS LTD.  </span></td><td><span style=white-space:pre-wrap>Active  </span>              </td><td>A                                                             </td><td> 1                                                            </td><td>INE208C01025                                                  </td><td>Oil Marketing &amp;amp; Distribution                          </td><td>Equity                                                        </td><td>AEGISLOG _ Active _ A                                         </td><td>22                                                            </td></tr>\n",
       "\t<tr><td>500004                          </td><td>TPAEC                           </td><td>TORRENT POWER AEC LTD.          </td><td>Delisted                        </td><td>B                               </td><td>10                              </td><td>INE424A01014                    </td><td>                                </td><td>Equity                          </td><td>TPAEC _ Delisted _ B            </td><td>21                              </td></tr>\n",
       "</tbody>\n",
       "</table>\n"
      ],
      "text/latex": [
       "\\begin{tabular}{r|lllllllllll}\n",
       " Security.Code & Security.Id & Security.Name & Status & Group & Face.Value & ISIN.No & Industry & Instrument & Name\\_Status\\_Group & Characters\\\\\n",
       "\\hline\n",
       "\t 500002                           & ABB                              & ABB India Limited                & Active                           & A                                &  2                               & INE117A01022                     & Heavy Electrical Equipment       & Equity                           & ABB \\_ Active \\_ A             & 17                              \\\\\n",
       "\t 500003                             & AEGISLOG                           & AEGIS LOGISTICS LTD.               & Active                             & A                                  &  1                                 & INE208C01025                       & Oil Marketing \\&amp; Distribution & Equity                             & AEGISLOG \\_ Active \\_ A          & 22                                \\\\\n",
       "\t 500004                           & TPAEC                            & TORRENT POWER AEC LTD.           & Delisted                         & B                                & 10                               & INE424A01014                     &                                  & Equity                           & TPAEC \\_ Delisted \\_ B         & 21                              \\\\\n",
       "\\end{tabular}\n"
      ],
      "text/markdown": [
       "\n",
       "| Security.Code | Security.Id | Security.Name | Status | Group | Face.Value | ISIN.No | Industry | Instrument | Name_Status_Group | Characters |\n",
       "|---|---|---|---|---|---|---|---|---|---|---|\n",
       "| 500002                           | ABB                              | ABB India Limited                | Active                           | A                                |  2                               | INE117A01022                     | Heavy Electrical Equipment       | Equity                           | ABB _ Active _ A                 | 17                               |\n",
       "| 500003                           | AEGISLOG                         | AEGIS LOGISTICS LTD.             | Active                           | A                                |  1                               | INE208C01025                     | Oil Marketing &amp; Distribution | Equity                           | AEGISLOG _ Active _ A            | 22                               |\n",
       "| 500004                           | TPAEC                            | TORRENT POWER AEC LTD.           | Delisted                         | B                                | 10                               | INE424A01014                     |                                  | Equity                           | TPAEC _ Delisted _ B             | 21                               |\n",
       "\n"
      ],
      "text/plain": [
       "  Security.Code Security.Id Security.Name          Status   Group Face.Value\n",
       "1 500002        ABB         ABB India Limited      Active   A      2        \n",
       "2 500003        AEGISLOG    AEGIS LOGISTICS LTD.   Active   A      1        \n",
       "3 500004        TPAEC       TORRENT POWER AEC LTD. Delisted B     10        \n",
       "  ISIN.No      Industry                         Instrument\n",
       "1 INE117A01022 Heavy Electrical Equipment       Equity    \n",
       "2 INE208C01025 Oil Marketing &amp; Distribution Equity    \n",
       "3 INE424A01014                                  Equity    \n",
       "  Name_Status_Group      Characters\n",
       "1 ABB _ Active _ A       17        \n",
       "2 AEGISLOG _ Active _ A  22        \n",
       "3 TPAEC _ Delisted _ B   21        "
      ]
     },
     "metadata": {},
     "output_type": "display_data"
    }
   ],
   "source": [
    "#### Answer 1.x\n",
    "x$Characters=nchar(as.character(x$Name_Status_Group))\n",
    "head(x, 3)"
   ]
  },
  {
   "cell_type": "markdown",
   "metadata": {},
   "source": [
    "# 2"
   ]
  },
  {
   "cell_type": "code",
   "execution_count": 13,
   "metadata": {},
   "outputs": [
    {
     "data": {
      "text/html": [
       "<table>\n",
       "<thead><tr><th scope=col>Company.Name</th><th scope=col>Group</th><th scope=col>Industry</th></tr></thead>\n",
       "<tbody>\n",
       "\t<tr><td>ABB India Limited               </td><td>A                               </td><td>Heavy Electrical Equipment      </td></tr>\n",
       "\t<tr><td><span style=white-space:pre-wrap>AEGIS LOGISTICS LTD.  </span></td><td>A                                                             </td><td>Oil Marketing &amp;amp; Distribution                          </td></tr>\n",
       "\t<tr><td>TORRENT POWER AEC LTD.          </td><td>B                               </td><td>Pharmaceuticals                 </td></tr>\n",
       "</tbody>\n",
       "</table>\n"
      ],
      "text/latex": [
       "\\begin{tabular}{r|lll}\n",
       " Company.Name & Group & Industry\\\\\n",
       "\\hline\n",
       "\t ABB India Limited                & A                                & Heavy Electrical Equipment      \\\\\n",
       "\t AEGIS LOGISTICS LTD.               & A                                  & Oil Marketing \\&amp; Distribution\\\\\n",
       "\t TORRENT POWER AEC LTD.           & B                                & Pharmaceuticals                 \\\\\n",
       "\\end{tabular}\n"
      ],
      "text/markdown": [
       "\n",
       "| Company.Name | Group | Industry |\n",
       "|---|---|---|\n",
       "| ABB India Limited                | A                                | Heavy Electrical Equipment       |\n",
       "| AEGIS LOGISTICS LTD.             | A                                | Oil Marketing &amp; Distribution |\n",
       "| TORRENT POWER AEC LTD.           | B                                | Pharmaceuticals                  |\n",
       "\n"
      ],
      "text/plain": [
       "  Company.Name           Group Industry                        \n",
       "1 ABB India Limited      A     Heavy Electrical Equipment      \n",
       "2 AEGIS LOGISTICS LTD.   A     Oil Marketing &amp; Distribution\n",
       "3 TORRENT POWER AEC LTD. B     Pharmaceuticals                 "
      ]
     },
     "metadata": {},
     "output_type": "display_data"
    }
   ],
   "source": [
    "######################## Solution for 2 ############################\n",
    "########## Loading the xlsx file\n",
    "library(xlsx)\n",
    "y=read.xlsx(file=\"./Names_Companies.xlsx\", sheetName = \"Sheet1\")\n",
    "head(y,3)"
   ]
  },
  {
   "cell_type": "code",
   "execution_count": 14,
   "metadata": {},
   "outputs": [
    {
     "name": "stdout",
     "output_type": "stream",
     "text": [
      " [1] \"ABB India Limited belongs to Group A  and Heavy Electrical Equipment Industry\"          \n",
      " [2] \"AEGIS LOGISTICS LTD. belongs to Group A  and Oil Marketing &amp; Distribution Industry\" \n",
      " [3] \"TORRENT POWER AEC LTD. belongs to Group B  and Pharmaceuticals Industry\"                \n",
      " [4] \"AKAR LAMINATORS LTD. belongs to Group XD and Iron &amp; Steel Products Industry\"        \n",
      " [5] \"ALPHA DRUG INDIA LTD. belongs to Group B  and Pharmaceuticals Industry\"                 \n",
      " [6] \"AMARA RAJA BATTERIES LTD. belongs to Group A  and Auto Parts &amp; Equipment Industry\"  \n",
      " [7] \"AMBALAL SARABHAI ENTERPRISES LTD. belongs to Group XD and Pharmaceuticals Industry\"     \n",
      " [8] \"HOUSING DEVELOPMENT FINANCE CORP.LTD. belongs to Group A  and Housing Finance  Industry\"\n",
      " [9] \"AMRUT INDUSTRIES LTD. belongs to Group Z  and Pharmaceuticals Industry\"                 \n",
      "[10] \"ANDHRA PETROCHEMICALS LTD. belongs to Group XT and Commodity Chemicals Industry\"        \n"
     ]
    }
   ],
   "source": [
    "### Initiaizing a ampty vector\n",
    "y1=vector()\n",
    "### Using for loop from 1 to number of rows in the dataset\n",
    "for(i in 1:nrow(y) ){\n",
    "    ###### Making the sennctes as required by concating the string and the data from data set\n",
    "    sentence=paste( y[i,1], \"belongs to Group\", y[i,2] ,\"and\",y[i,3], \"Industry\" )\n",
    "    ###### Saving all the senctence in the vector.\n",
    "    y1[i]=sentence\n",
    "    }\n",
    "print(y1)"
   ]
  },
  {
   "cell_type": "markdown",
   "metadata": {},
   "source": [
    "# 3"
   ]
  },
  {
   "cell_type": "code",
   "execution_count": 15,
   "metadata": {},
   "outputs": [],
   "source": [
    "######################## Solution for  ############################\n",
    "########## Loading the xlsx file\n",
    "\n",
    "z=read.xlsx(file=\"./Property_Delhi.xlsx\", sheetName = \"Sheet1\")"
   ]
  },
  {
   "cell_type": "code",
   "execution_count": 16,
   "metadata": {},
   "outputs": [
    {
     "data": {
      "text/html": [
       "<table>\n",
       "<thead><tr><th scope=col>Locality</th><th scope=col>Rate.per.sq.ft..Rs..</th></tr></thead>\n",
       "<tbody>\n",
       "\t<tr><td>Akshardham     </td><td>15088          </td></tr>\n",
       "\t<tr><td>Dilshad Garden </td><td> 6630          </td></tr>\n",
       "\t<tr><td>I P Extension  </td><td> 8628          </td></tr>\n",
       "\t<tr><td>Kondli Gharoli </td><td> 6800          </td></tr>\n",
       "\t<tr><td>Laxmi Nagar    </td><td> 4718          </td></tr>\n",
       "\t<tr><td>Mayur Vihar - I</td><td> 9945          </td></tr>\n",
       "</tbody>\n",
       "</table>\n"
      ],
      "text/latex": [
       "\\begin{tabular}{r|ll}\n",
       " Locality & Rate.per.sq.ft..Rs..\\\\\n",
       "\\hline\n",
       "\t Akshardham      & 15088          \\\\\n",
       "\t Dilshad Garden  &  6630          \\\\\n",
       "\t I P Extension   &  8628          \\\\\n",
       "\t Kondli Gharoli  &  6800          \\\\\n",
       "\t Laxmi Nagar     &  4718          \\\\\n",
       "\t Mayur Vihar - I &  9945          \\\\\n",
       "\\end{tabular}\n"
      ],
      "text/markdown": [
       "\n",
       "| Locality | Rate.per.sq.ft..Rs.. |\n",
       "|---|---|\n",
       "| Akshardham      | 15088           |\n",
       "| Dilshad Garden  |  6630           |\n",
       "| I P Extension   |  8628           |\n",
       "| Kondli Gharoli  |  6800           |\n",
       "| Laxmi Nagar     |  4718           |\n",
       "| Mayur Vihar - I |  9945           |\n",
       "\n"
      ],
      "text/plain": [
       "  Locality        Rate.per.sq.ft..Rs..\n",
       "1 Akshardham      15088               \n",
       "2 Dilshad Garden   6630               \n",
       "3 I P Extension    8628               \n",
       "4 Kondli Gharoli   6800               \n",
       "5 Laxmi Nagar      4718               \n",
       "6 Mayur Vihar - I  9945               "
      ]
     },
     "metadata": {},
     "output_type": "display_data"
    }
   ],
   "source": [
    "head(z)"
   ]
  },
  {
   "cell_type": "code",
   "execution_count": 17,
   "metadata": {},
   "outputs": [],
   "source": [
    "#### Answer 3.i\n",
    "## Null hypothesis H0:       \"Average property rates in Delhi is Rs.8,000/Sq.feet.\"\n",
    "## Alternative Hypothesis H1:\"Average property rates in Delhi is not Rs.8,000/Sq.feet.\"\n"
   ]
  },
  {
   "cell_type": "code",
   "execution_count": 18,
   "metadata": {},
   "outputs": [
    {
     "data": {
      "image/png": "[encoded data removed]",
      "text/plain": [
       "Plot with title “density.default(x = z[, 2])”"
      ]
     },
     "metadata": {},
     "output_type": "display_data"
    }
   ],
   "source": [
    "#### Answer 3.ii\n",
    "## Let us first inpect that data is normally distributed for T test\n",
    "d=density(z[,2]); plot(d); polygon(d, col=\"red\", border=\"blue\")"
   ]
  },
  {
   "cell_type": "code",
   "execution_count": 19,
   "metadata": {},
   "outputs": [
    {
     "data": {
      "text/plain": [
       "\n",
       "\tShapiro-Wilk normality test\n",
       "\n",
       "data:  z[, 2]\n",
       "W = 0.93882, p-value = 0.0006473\n"
      ]
     },
     "metadata": {},
     "output_type": "display_data"
    }
   ],
   "source": [
    "## ----Cannot make any conclusion \n",
    "## Let us carry sapiro test \n",
    "## With H0: Data similar to normal distrubution \n",
    "## With H1: Data not similar to normal distrubution \n",
    "## Conducting Shapiro test below\n",
    "shapiro.test(z[,2])"
   ]
  },
  {
   "cell_type": "code",
   "execution_count": 20,
   "metadata": {},
   "outputs": [
    {
     "data": {
      "text/plain": [
       "\n",
       "\tOne Sample t-test\n",
       "\n",
       "data:  z[, 2]\n",
       "t = -2.931, df = 82, p-value = 0.004377\n",
       "alternative hypothesis: true mean is not equal to 8000\n",
       "95 percent confidence interval:\n",
       " 6432.598 7700.028\n",
       "sample estimates:\n",
       "mean of x \n",
       " 7066.313 \n"
      ]
     },
     "metadata": {},
     "output_type": "display_data"
    }
   ],
   "source": [
    "## From above we reject H0 that data is normmally distributed.\n",
    "## Hence data is not normally ditributed.\n",
    "## But as requested we still conducted the T-test.\n",
    "## Although  the answer will be have taken with pinch of salt.\n",
    "\n",
    "#### Answer 3.iii\n",
    "## Conduting T test:\n",
    "claimed_value=8000\n",
    "t.test(z[,2],mu=claimed_value, conf.level = .95)"
   ]
  },
  {
   "cell_type": "code",
   "execution_count": 21,
   "metadata": {},
   "outputs": [],
   "source": [
    "#### Answer 3.iii: Interpretion\n",
    "# After conducting T test we can say that:\n",
    "## T value: -2.931 \n",
    "## P value: 0.004377\n",
    "## Since P value is less than 0.05 we can reject null hypotheses H0: that Average property rates in Delhi is Rs.8,000/Sq.feet.\n",
    "## Hence we are 95% sure that claim of real estate agent is a lie. \n"
   ]
  },
  {
   "cell_type": "code",
   "execution_count": 22,
   "metadata": {},
   "outputs": [
    {
     "data": {
      "text/plain": [
       "\n",
       "\tOne Sample t-test\n",
       "\n",
       "data:  z[, 2]\n",
       "t = -2.931, df = 82, p-value = 0.9978\n",
       "alternative hypothesis: true mean is greater than 8000\n",
       "95 percent confidence interval:\n",
       " 6536.343      Inf\n",
       "sample estimates:\n",
       "mean of x \n",
       " 7066.313 \n"
      ]
     },
     "metadata": {},
     "output_type": "display_data"
    }
   ],
   "source": [
    "#### Answer 3.iv\n",
    "## Null hypothesis H0:       \"Average property rates in Delhi is not greater than  Rs.8,000/Sq.feet.\"\n",
    "## Alternative Hypothesis H1:\"Average property rates in Delhi is greater than Rs.8,000/Sq.feet.\"\n",
    "claimed_value=8000\n",
    "t.test(z[,2],mu=claimed_value, conf.level = .95, alternative=\"greater\")"
   ]
  },
  {
   "cell_type": "code",
   "execution_count": 23,
   "metadata": {},
   "outputs": [],
   "source": [
    "#### Answer 3.iv: Interpretion\n",
    "# After conducting T test we can say that:\n",
    "## T value: -2.931 \n",
    "## P value: 0.9978\n",
    "## Since P value is more than 0.05 we cannot reject null hypotheses H0: Average property rates in Delhi is not greater than Rs.8,000/Sq.feet.\n",
    "## Hence we are 95% sure that Average property price is than less than Rs.8,000/Sq.feet."
   ]
  },
  {
   "cell_type": "code",
   "execution_count": 24,
   "metadata": {},
   "outputs": [
    {
     "data": {
      "text/plain": [
       "\n",
       "\tOne Sample t-test\n",
       "\n",
       "data:  z[, 2]\n",
       "t = -2.931, df = 82, p-value = 0.002188\n",
       "alternative hypothesis: true mean is less than 8000\n",
       "95 percent confidence interval:\n",
       "     -Inf 7596.283\n",
       "sample estimates:\n",
       "mean of x \n",
       " 7066.313 \n"
      ]
     },
     "metadata": {},
     "output_type": "display_data"
    }
   ],
   "source": [
    "#### Answer 3.v\n",
    "## Null hypothesis H0:       \"Average property rates in Delhi is not less than  Rs.8,000/Sq.feet.\"\n",
    "## Alternative Hypothesis H1:\"Average property rates in Delhi is less than Rs.8,000/Sq.feet.\"\n",
    "claimed_value=8000\n",
    "t.test(z[,2],mu=claimed_value, conf.level = .95, alternative=\"less\")"
   ]
  },
  {
   "cell_type": "code",
   "execution_count": 25,
   "metadata": {},
   "outputs": [],
   "source": [
    "#### Answer 3.v: Interpretion\n",
    "# After conducting T test we can say that:\n",
    "## T value: -2.931 \n",
    "## P value: 0.002188\n",
    "## Since P value is less than 0.05 we canot reject null hypotheses H0: Average property rates in Delhi is not less than Rs.8,000/Sq.feet.\n",
    "## Hence we are 95% sure that Average property price of Delhi is less than Rs.8,000/Sq.feet."
   ]
  },
  {
   "cell_type": "markdown",
   "metadata": {},
   "source": [
    "# 4"
   ]
  },
  {
   "cell_type": "code",
   "execution_count": 26,
   "metadata": {},
   "outputs": [
    {
     "data": {
      "text/html": [
       "<table>\n",
       "<thead><tr><th scope=col>Locality</th><th scope=col>Rate.per.sq.ft..Rs..</th></tr></thead>\n",
       "<tbody>\n",
       "\t<tr><td>Akshardham    </td><td>15088         </td></tr>\n",
       "\t<tr><td>Dilshad Garden</td><td> 6630         </td></tr>\n",
       "\t<tr><td>Mayur Vihar   </td><td> 9945         </td></tr>\n",
       "\t<tr><td>Bakkarwala    </td><td> 3740         </td></tr>\n",
       "\t<tr><td>Janakpuri     </td><td> 7990         </td></tr>\n",
       "\t<tr><td>Paschim Vihar </td><td> 7565         </td></tr>\n",
       "</tbody>\n",
       "</table>\n"
      ],
      "text/latex": [
       "\\begin{tabular}{r|ll}\n",
       " Locality & Rate.per.sq.ft..Rs..\\\\\n",
       "\\hline\n",
       "\t Akshardham     & 15088         \\\\\n",
       "\t Dilshad Garden &  6630         \\\\\n",
       "\t Mayur Vihar    &  9945         \\\\\n",
       "\t Bakkarwala     &  3740         \\\\\n",
       "\t Janakpuri      &  7990         \\\\\n",
       "\t Paschim Vihar  &  7565         \\\\\n",
       "\\end{tabular}\n"
      ],
      "text/markdown": [
       "\n",
       "| Locality | Rate.per.sq.ft..Rs.. |\n",
       "|---|---|\n",
       "| Akshardham     | 15088          |\n",
       "| Dilshad Garden |  6630          |\n",
       "| Mayur Vihar    |  9945          |\n",
       "| Bakkarwala     |  3740          |\n",
       "| Janakpuri      |  7990          |\n",
       "| Paschim Vihar  |  7565          |\n",
       "\n"
      ],
      "text/plain": [
       "  Locality       Rate.per.sq.ft..Rs..\n",
       "1 Akshardham     15088               \n",
       "2 Dilshad Garden  6630               \n",
       "3 Mayur Vihar     9945               \n",
       "4 Bakkarwala      3740               \n",
       "5 Janakpuri       7990               \n",
       "6 Paschim Vihar   7565               "
      ]
     },
     "metadata": {},
     "output_type": "display_data"
    }
   ],
   "source": [
    "######################## Solution for 4 ############################\n",
    "########## Loading the xlsx file\n",
    "z=read.xlsx(file=\"./Property_Delhi_20.xlsx\", sheetName = \"Sheet1\")\n",
    "head(z)"
   ]
  },
  {
   "cell_type": "code",
   "execution_count": 27,
   "metadata": {},
   "outputs": [],
   "source": [
    "### For random number\n",
    "set.seed(1000)\n",
    "#### The below line does follwoing\n",
    "#### 1. Sample the second column of data with replacement\n",
    "#### 2. Calcaulate mean of above data\n",
    "#### 3. Replicate 1 and 2 for 1000 times\n",
    "#### 4. Store this as vector with name new_population\n",
    "##### The above 4 steps create population from sample by means of CLT.\n",
    "new_population=replicate(100000,mean(sample(z[,2], nrow(z), replace=T)))"
   ]
  },
  {
   "cell_type": "code",
   "execution_count": 28,
   "metadata": {},
   "outputs": [
    {
     "data": {
      "image/png": "[encoded data removed]",
      "text/plain": [
       "Plot with title “density.default(x = new_population)”"
      ]
     },
     "metadata": {},
     "output_type": "display_data"
    }
   ],
   "source": [
    "### Creating density for new_population\n",
    "d=density(new_population)\n",
    "### PLotting density of new_population \n",
    "plot(d)\n",
    "### Colouring the population \n",
    "polygon(d, col = \"dodgerblue\", border=\"red\")"
   ]
  },
  {
   "cell_type": "code",
   "execution_count": 29,
   "metadata": {},
   "outputs": [
    {
     "data": {
      "text/html": [
       "7881.955767"
      ],
      "text/latex": [
       "7881.955767"
      ],
      "text/markdown": [
       "7881.955767"
      ],
      "text/plain": [
       "[1] 7881.956"
      ]
     },
     "metadata": {},
     "output_type": "display_data"
    }
   ],
   "source": [
    "#### Mean of sample means or mean of new_population  \n",
    "mean(new_population)"
   ]
  },
  {
   "cell_type": "markdown",
   "metadata": {},
   "source": [
    "# 5"
   ]
  },
  {
   "cell_type": "code",
   "execution_count": 30,
   "metadata": {},
   "outputs": [
    {
     "data": {
      "text/html": [
       "<table>\n",
       "<thead><tr><th scope=col>City</th><th scope=col>X1</th><th scope=col>X2</th><th scope=col>X3</th><th scope=col>X4</th><th scope=col>X5</th><th scope=col>X6</th><th scope=col>X7</th></tr></thead>\n",
       "<tbody>\n",
       "\t<tr><td>City1</td><td>478  </td><td>184  </td><td>40   </td><td>74   </td><td>11   </td><td>31   </td><td>20   </td></tr>\n",
       "\t<tr><td>City2</td><td>494  </td><td>213  </td><td>32   </td><td>72   </td><td>11   </td><td>43   </td><td>18   </td></tr>\n",
       "\t<tr><td>City3</td><td>643  </td><td>347  </td><td>57   </td><td>70   </td><td>18   </td><td>16   </td><td>16   </td></tr>\n",
       "\t<tr><td>City4</td><td>341  </td><td>565  </td><td>31   </td><td>71   </td><td>11   </td><td>25   </td><td>19   </td></tr>\n",
       "\t<tr><td>City5</td><td>773  </td><td>327  </td><td>67   </td><td>72   </td><td> 9   </td><td>29   </td><td>24   </td></tr>\n",
       "\t<tr><td>City6</td><td>603  </td><td>260  </td><td>25   </td><td>68   </td><td> 8   </td><td>32   </td><td>15   </td></tr>\n",
       "</tbody>\n",
       "</table>\n"
      ],
      "text/latex": [
       "\\begin{tabular}{r|llllllll}\n",
       " City & X1 & X2 & X3 & X4 & X5 & X6 & X7\\\\\n",
       "\\hline\n",
       "\t City1 & 478   & 184   & 40    & 74    & 11    & 31    & 20   \\\\\n",
       "\t City2 & 494   & 213   & 32    & 72    & 11    & 43    & 18   \\\\\n",
       "\t City3 & 643   & 347   & 57    & 70    & 18    & 16    & 16   \\\\\n",
       "\t City4 & 341   & 565   & 31    & 71    & 11    & 25    & 19   \\\\\n",
       "\t City5 & 773   & 327   & 67    & 72    &  9    & 29    & 24   \\\\\n",
       "\t City6 & 603   & 260   & 25    & 68    &  8    & 32    & 15   \\\\\n",
       "\\end{tabular}\n"
      ],
      "text/markdown": [
       "\n",
       "| City | X1 | X2 | X3 | X4 | X5 | X6 | X7 |\n",
       "|---|---|---|---|---|---|---|---|\n",
       "| City1 | 478   | 184   | 40    | 74    | 11    | 31    | 20    |\n",
       "| City2 | 494   | 213   | 32    | 72    | 11    | 43    | 18    |\n",
       "| City3 | 643   | 347   | 57    | 70    | 18    | 16    | 16    |\n",
       "| City4 | 341   | 565   | 31    | 71    | 11    | 25    | 19    |\n",
       "| City5 | 773   | 327   | 67    | 72    |  9    | 29    | 24    |\n",
       "| City6 | 603   | 260   | 25    | 68    |  8    | 32    | 15    |\n",
       "\n"
      ],
      "text/plain": [
       "  City  X1  X2  X3 X4 X5 X6 X7\n",
       "1 City1 478 184 40 74 11 31 20\n",
       "2 City2 494 213 32 72 11 43 18\n",
       "3 City3 643 347 57 70 18 16 16\n",
       "4 City4 341 565 31 71 11 25 19\n",
       "5 City5 773 327 67 72  9 29 24\n",
       "6 City6 603 260 25 68  8 32 15"
      ]
     },
     "metadata": {},
     "output_type": "display_data"
    }
   ],
   "source": [
    "######################## Solution for 5 ############################\n",
    "########## Loading the csv file\n",
    "x=read.csv(file=\"Crime_Rate.csv\")\n",
    "head(x)"
   ]
  },
  {
   "cell_type": "code",
   "execution_count": 31,
   "metadata": {},
   "outputs": [
    {
     "data": {
      "text/html": [
       "<table>\n",
       "<thead><tr><th></th><th scope=col>Estimate</th><th scope=col>Std. Error</th><th scope=col>t value</th><th scope=col>Pr(&gt;|t|)</th></tr></thead>\n",
       "<tbody>\n",
       "\t<tr><th scope=row>(Intercept)</th><td>-182.24539  </td><td>207.097871  </td><td>-0.8799964  </td><td>0.3832459408</td></tr>\n",
       "\t<tr><th scope=row>X3</th><td>  21.14474  </td><td>  5.156541  </td><td> 4.1005669  </td><td>0.0001583481</td></tr>\n",
       "</tbody>\n",
       "</table>\n"
      ],
      "text/latex": [
       "\\begin{tabular}{r|llll}\n",
       "  & Estimate & Std. Error & t value & Pr(>\\textbar{}t\\textbar{})\\\\\n",
       "\\hline\n",
       "\t(Intercept) & -182.24539   & 207.097871   & -0.8799964   & 0.3832459408\\\\\n",
       "\tX3 &   21.14474   &   5.156541   &  4.1005669   & 0.0001583481\\\\\n",
       "\\end{tabular}\n"
      ],
      "text/markdown": [
       "\n",
       "| <!--/--> | Estimate | Std. Error | t value | Pr(>|t|) |\n",
       "|---|---|---|---|---|\n",
       "| (Intercept) | -182.24539   | 207.097871   | -0.8799964   | 0.3832459408 |\n",
       "| X3 |   21.14474   |   5.156541   |  4.1005669   | 0.0001583481 |\n",
       "\n"
      ],
      "text/plain": [
       "            Estimate   Std. Error t value    Pr(>|t|)    \n",
       "(Intercept) -182.24539 207.097871 -0.8799964 0.3832459408\n",
       "X3            21.14474   5.156541  4.1005669 0.0001583481"
      ]
     },
     "metadata": {},
     "output_type": "display_data"
    }
   ],
   "source": [
    "#### Answer 5.i\n",
    "### Storing the summary of model in Model_x\n",
    "Model_x=summary(lm(data = x, X2~X3))\n",
    "###Listing out Coefficient table \n",
    "Model_x$coefficients"
   ]
  },
  {
   "cell_type": "code",
   "execution_count": 32,
   "metadata": {},
   "outputs": [
    {
     "name": "stdout",
     "output_type": "stream",
     "text": [
      "[1] \"Cofessicient of intercept is: -182.245386318372\"\n",
      "[1] \"Cofessicient of X3 is: 21.1447401037704\"\n"
     ]
    }
   ],
   "source": [
    "#### Answer 5.ii\n",
    "print(paste(\"Cofessicient of intercept is:\",Model_x$coefficients[\"(Intercept)\",\"Estimate\"]))\n",
    "print(paste(\"Cofessicient of X3 is:\",Model_x$coefficients[\"X3\",\"Estimate\"]))"
   ]
  },
  {
   "cell_type": "code",
   "execution_count": 33,
   "metadata": {},
   "outputs": [
    {
     "name": "stdout",
     "output_type": "stream",
     "text": [
      "[1] \"Adjusted R Squred of model is: 0.24399806448052\"\n"
     ]
    }
   ],
   "source": [
    "#### Answer 5.iii\n",
    "print(paste(\"Adjusted R Squred of model is:\",Model_x$adj.r.squared))"
   ]
  },
  {
   "cell_type": "code",
   "execution_count": 34,
   "metadata": {},
   "outputs": [
    {
     "data": {
      "text/plain": [
       "\n",
       "\tJarque-Bera Normality Test\n",
       "\n",
       "data:  Model_x$residuals\n",
       "JB = 35.43, p-value = 2.025e-08\n",
       "alternative hypothesis: greater\n"
      ]
     },
     "metadata": {},
     "output_type": "display_data"
    }
   ],
   "source": [
    "#### Answer 5.iv\n",
    "### Activating libraray moments for Jarque-Bera test \n",
    "library(moments)\n",
    "### Conduscting Jarque-Bera test\n",
    "## Hypothisis:\n",
    "## H0: Data are normally distributed\n",
    "## H1: Data is not normally distributed\n",
    "jarque.test(Model_x$residuals)"
   ]
  },
  {
   "cell_type": "code",
   "execution_count": 35,
   "metadata": {},
   "outputs": [
    {
     "data": {
      "text/html": [
       "<dl class=dl-horizontal>\n",
       "\t<dt>1</dt>\n",
       "\t\t<dd>663.544217832445</dd>\n",
       "\t<dt>2</dt>\n",
       "\t\t<dd>494.386297002283</dd>\n",
       "\t<dt>3</dt>\n",
       "\t\t<dd>1023.00479959654</dd>\n",
       "\t<dt>4</dt>\n",
       "\t\t<dd>473.241556898512</dd>\n",
       "\t<dt>5</dt>\n",
       "\t\t<dd>1234.45220063425</dd>\n",
       "\t<dt>6</dt>\n",
       "\t\t<dd>346.373116275889</dd>\n",
       "\t<dt>7</dt>\n",
       "\t\t<dd>536.675777209823</dd>\n",
       "\t<dt>8</dt>\n",
       "\t\t<dd>515.531037106053</dd>\n",
       "\t<dt>9</dt>\n",
       "\t\t<dd>578.965257417364</dd>\n",
       "\t<dt>10</dt>\n",
       "\t\t<dd>473.241556898512</dd>\n",
       "\t<dt>11</dt>\n",
       "\t\t<dd>557.820517313594</dd>\n",
       "\t<dt>12</dt>\n",
       "\t\t<dd>452.096816794741</dd>\n",
       "\t<dt>13</dt>\n",
       "\t\t<dd>748.123178247528</dd>\n",
       "\t<dt>14</dt>\n",
       "\t\t<dd>494.386297002282</dd>\n",
       "\t<dt>15</dt>\n",
       "\t\t<dd>452.096816794741</dd>\n",
       "\t<dt>16</dt>\n",
       "\t\t<dd>156.070455341955</dd>\n",
       "\t<dt>17</dt>\n",
       "\t\t<dd>430.952076690971</dd>\n",
       "\t<dt>18</dt>\n",
       "\t\t<dd>578.965257417364</dd>\n",
       "\t<dt>19</dt>\n",
       "\t\t<dd>452.096816794741</dd>\n",
       "\t<dt>20</dt>\n",
       "\t\t<dd>304.083636068348</dd>\n",
       "\t<dt>21</dt>\n",
       "\t\t<dd>515.531037106053</dd>\n",
       "\t<dt>22</dt>\n",
       "\t\t<dd>557.820517313594</dd>\n",
       "\t<dt>23</dt>\n",
       "\t\t<dd>621.254737624905</dd>\n",
       "\t<dt>24</dt>\n",
       "\t\t<dd>748.123178247528</dd>\n",
       "\t<dt>25</dt>\n",
       "\t\t<dd>409.8073365872</dd>\n",
       "\t<dt>26</dt>\n",
       "\t\t<dd>557.820517313594</dd>\n",
       "\t<dt>27</dt>\n",
       "\t\t<dd>473.241556898512</dd>\n",
       "\t<dt>28</dt>\n",
       "\t\t<dd>642.399477728675</dd>\n",
       "\t<dt>29</dt>\n",
       "\t\t<dd>388.66259648343</dd>\n",
       "\t<dt>30</dt>\n",
       "\t\t<dd>578.965257417364</dd>\n",
       "\t<dt>31</dt>\n",
       "\t\t<dd>621.254737624905</dd>\n",
       "\t<dt>32</dt>\n",
       "\t\t<dd>790.412658455068</dd>\n",
       "\t<dt>33</dt>\n",
       "\t\t<dd>430.952076690971</dd>\n",
       "\t<dt>34</dt>\n",
       "\t\t<dd>494.386297002282</dd>\n",
       "\t<dt>35</dt>\n",
       "\t\t<dd>642.399477728675</dd>\n",
       "\t<dt>36</dt>\n",
       "\t\t<dd>748.123178247528</dd>\n",
       "\t<dt>37</dt>\n",
       "\t\t<dd>515.531037106053</dd>\n",
       "\t<dt>38</dt>\n",
       "\t\t<dd>726.978438143757</dd>\n",
       "\t<dt>39</dt>\n",
       "\t\t<dd>282.938895964578</dd>\n",
       "\t<dt>40</dt>\n",
       "\t\t<dd>452.096816794741</dd>\n",
       "\t<dt>41</dt>\n",
       "\t\t<dd>1636.20226260589</dd>\n",
       "\t<dt>42</dt>\n",
       "\t\t<dd>452.096816794741</dd>\n",
       "\t<dt>43</dt>\n",
       "\t\t<dd>494.386297002282</dd>\n",
       "\t<dt>44</dt>\n",
       "\t\t<dd>726.978438143757</dd>\n",
       "\t<dt>45</dt>\n",
       "\t\t<dd>240.649415757037</dd>\n",
       "\t<dt>46</dt>\n",
       "\t\t<dd>980.715319389002</dd>\n",
       "\t<dt>47</dt>\n",
       "\t\t<dd>748.123178247527</dd>\n",
       "\t<dt>48</dt>\n",
       "\t\t<dd>600.109997521134</dd>\n",
       "\t<dt>49</dt>\n",
       "\t\t<dd>1551.6233021908</dd>\n",
       "\t<dt>50</dt>\n",
       "\t\t<dd>1213.30746053048</dd>\n",
       "</dl>\n"
      ],
      "text/latex": [
       "\\begin{description*}\n",
       "\\item[1] 663.544217832445\n",
       "\\item[2] 494.386297002283\n",
       "\\item[3] 1023.00479959654\n",
       "\\item[4] 473.241556898512\n",
       "\\item[5] 1234.45220063425\n",
       "\\item[6] 346.373116275889\n",
       "\\item[7] 536.675777209823\n",
       "\\item[8] 515.531037106053\n",
       "\\item[9] 578.965257417364\n",
       "\\item[10] 473.241556898512\n",
       "\\item[11] 557.820517313594\n",
       "\\item[12] 452.096816794741\n",
       "\\item[13] 748.123178247528\n",
       "\\item[14] 494.386297002282\n",
       "\\item[15] 452.096816794741\n",
       "\\item[16] 156.070455341955\n",
       "\\item[17] 430.952076690971\n",
       "\\item[18] 578.965257417364\n",
       "\\item[19] 452.096816794741\n",
       "\\item[20] 304.083636068348\n",
       "\\item[21] 515.531037106053\n",
       "\\item[22] 557.820517313594\n",
       "\\item[23] 621.254737624905\n",
       "\\item[24] 748.123178247528\n",
       "\\item[25] 409.8073365872\n",
       "\\item[26] 557.820517313594\n",
       "\\item[27] 473.241556898512\n",
       "\\item[28] 642.399477728675\n",
       "\\item[29] 388.66259648343\n",
       "\\item[30] 578.965257417364\n",
       "\\item[31] 621.254737624905\n",
       "\\item[32] 790.412658455068\n",
       "\\item[33] 430.952076690971\n",
       "\\item[34] 494.386297002282\n",
       "\\item[35] 642.399477728675\n",
       "\\item[36] 748.123178247528\n",
       "\\item[37] 515.531037106053\n",
       "\\item[38] 726.978438143757\n",
       "\\item[39] 282.938895964578\n",
       "\\item[40] 452.096816794741\n",
       "\\item[41] 1636.20226260589\n",
       "\\item[42] 452.096816794741\n",
       "\\item[43] 494.386297002282\n",
       "\\item[44] 726.978438143757\n",
       "\\item[45] 240.649415757037\n",
       "\\item[46] 980.715319389002\n",
       "\\item[47] 748.123178247527\n",
       "\\item[48] 600.109997521134\n",
       "\\item[49] 1551.6233021908\n",
       "\\item[50] 1213.30746053048\n",
       "\\end{description*}\n"
      ],
      "text/markdown": [
       "1\n",
       ":   663.5442178324452\n",
       ":   494.3862970022833\n",
       ":   1023.004799596544\n",
       ":   473.2415568985125\n",
       ":   1234.452200634256\n",
       ":   346.3731162758897\n",
       ":   536.6757772098238\n",
       ":   515.5310371060539\n",
       ":   578.96525741736410\n",
       ":   473.24155689851211\n",
       ":   557.82051731359412\n",
       ":   452.09681679474113\n",
       ":   748.12317824752814\n",
       ":   494.38629700228215\n",
       ":   452.09681679474116\n",
       ":   156.07045534195517\n",
       ":   430.95207669097118\n",
       ":   578.96525741736419\n",
       ":   452.09681679474120\n",
       ":   304.08363606834821\n",
       ":   515.53103710605322\n",
       ":   557.82051731359423\n",
       ":   621.25473762490524\n",
       ":   748.12317824752825\n",
       ":   409.807336587226\n",
       ":   557.82051731359427\n",
       ":   473.24155689851228\n",
       ":   642.39947772867529\n",
       ":   388.6625964834330\n",
       ":   578.96525741736431\n",
       ":   621.25473762490532\n",
       ":   790.41265845506833\n",
       ":   430.95207669097134\n",
       ":   494.38629700228235\n",
       ":   642.39947772867536\n",
       ":   748.12317824752837\n",
       ":   515.53103710605338\n",
       ":   726.97843814375739\n",
       ":   282.93889596457840\n",
       ":   452.09681679474141\n",
       ":   1636.2022626058942\n",
       ":   452.09681679474143\n",
       ":   494.38629700228244\n",
       ":   726.97843814375745\n",
       ":   240.64941575703746\n",
       ":   980.71531938900247\n",
       ":   748.12317824752748\n",
       ":   600.10999752113449\n",
       ":   1551.623302190850\n",
       ":   1213.30746053048\n",
       "\n"
      ],
      "text/plain": [
       "        1         2         3         4         5         6         7         8 \n",
       " 663.5442  494.3863 1023.0048  473.2416 1234.4522  346.3731  536.6758  515.5310 \n",
       "        9        10        11        12        13        14        15        16 \n",
       " 578.9653  473.2416  557.8205  452.0968  748.1232  494.3863  452.0968  156.0705 \n",
       "       17        18        19        20        21        22        23        24 \n",
       " 430.9521  578.9653  452.0968  304.0836  515.5310  557.8205  621.2547  748.1232 \n",
       "       25        26        27        28        29        30        31        32 \n",
       " 409.8073  557.8205  473.2416  642.3995  388.6626  578.9653  621.2547  790.4127 \n",
       "       33        34        35        36        37        38        39        40 \n",
       " 430.9521  494.3863  642.3995  748.1232  515.5310  726.9784  282.9389  452.0968 \n",
       "       41        42        43        44        45        46        47        48 \n",
       "1636.2023  452.0968  494.3863  726.9784  240.6494  980.7153  748.1232  600.1100 \n",
       "       49        50 \n",
       "1551.6233 1213.3075 "
      ]
     },
     "metadata": {},
     "output_type": "display_data"
    }
   ],
   "source": [
    "#### Answer 5.v\n",
    "### Using lm for regression and without using summary extartcting the fitted values.\n",
    "lm(data = x, X2~X3)$fitted.values"
   ]
  }
 ],
 "metadata": {
  "kernelspec": {
   "display_name": "R",
   "language": "R",
   "name": "ir"
  },
  "language_info": {
   "codemirror_mode": "r",
   "file_extension": ".r",
   "mimetype": "text/x-r-source",
   "name": "R",
   "pygments_lexer": "r",
   "version": "3.5.1"
  }
 },
 "nbformat": 4,
 "nbformat_minor": 2
}
