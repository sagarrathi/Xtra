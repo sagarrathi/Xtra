{
 "cells": [
  {
   "cell_type": "code",
   "execution_count": 134,
   "metadata": {},
   "outputs": [],
   "source": [
    "# Password  H2o$ymw@19\n"
   ]
  },
  {
   "cell_type": "code",
   "execution_count": 135,
   "metadata": {},
   "outputs": [
    {
     "data": {
      "text/html": [
       "<ol class=list-inline>\n",
       "\t<li>'adm_exm.ods'</li>\n",
       "\t<li>'adm_exm.xlsx'</li>\n",
       "\t<li>'DataFile.xlsx'</li>\n",
       "\t<li>'Panel101.dta'</li>\n",
       "</ol>\n"
      ],
      "text/latex": [
       "\\begin{enumerate*}\n",
       "\\item 'adm\\_exm.ods'\n",
       "\\item 'adm\\_exm.xlsx'\n",
       "\\item 'DataFile.xlsx'\n",
       "\\item 'Panel101.dta'\n",
       "\\end{enumerate*}\n"
      ],
      "text/markdown": [
       "1. 'adm_exm.ods'\n",
       "2. 'adm_exm.xlsx'\n",
       "3. 'DataFile.xlsx'\n",
       "4. 'Panel101.dta'\n",
       "\n",
       "\n"
      ],
      "text/plain": [
       "[1] \"adm_exm.ods\"   \"adm_exm.xlsx\"  \"DataFile.xlsx\" \"Panel101.dta\" "
      ]
     },
     "metadata": {},
     "output_type": "display_data"
    }
   ],
   "source": [
    "list.files(path = \"./Data\",recursive=\"True\")"
   ]
  },
  {
   "cell_type": "code",
   "execution_count": 136,
   "metadata": {},
   "outputs": [],
   "source": [
    "library(xlsx)\n",
    "df=read.xlsx(\"./Data/adm_exm.xlsx\", sheetIndex = 1)"
   ]
  },
  {
   "cell_type": "code",
   "execution_count": 137,
   "metadata": {},
   "outputs": [
    {
     "data": {
      "text/html": [
       "<table>\n",
       "<thead><tr><th scope=col>year</th><th scope=col>Bank.Group</th><th scope=col>Bank</th><th scope=col>id</th><th scope=col>Ownership</th><th scope=col>ROA</th><th scope=col>CDR</th><th scope=col>X..IDR</th><th scope=col>PRIORITY</th><th scope=col>NIM</th><th scope=col>DIV</th><th scope=col>CAR</th><th scope=col>NNPAs</th><th scope=col>GDPG</th><th scope=col>LSEN</th><th scope=col>SIZEA</th></tr></thead>\n",
       "<tbody>\n",
       "\t<tr><td>2005                                    </td><td>Foreign Banks                           </td><td>ABU DHABI COMMERCIAL BANK               </td><td>1                                       </td><td>0                                       </td><td>-2.57                                   </td><td>  5.404583                              </td><td>75.62776                                </td><td>30.55653                                </td><td>0.609123                                </td><td>2.071552                                </td><td>14.38                                   </td><td>12.7300000                              </td><td>7.922901                                </td><td> 3.379701                               </td><td> 9.878603                               </td></tr>\n",
       "\t<tr><td>2005                                                                                </td><td>Foreign Banks                                                                       </td><td><span style=white-space:pre-wrap>BANK OF BAHRAIN &amp; KUWAIT B.S.C.         </span></td><td>2                                                                                   </td><td>0                                                                                   </td><td>-3.52                                                                               </td><td> 66.928244                                                                          </td><td>48.12748                                                                            </td><td>25.83943                                                                            </td><td>1.947337                                                                            </td><td>0.382617                                                                            </td><td>11.66                                                                               </td><td> 5.5300000                                                                          </td><td>7.922901                                                                            </td><td> 2.681022                                                                           </td><td> 8.700398                                                                           </td></tr>\n",
       "\t<tr><td>2005                                    </td><td>Foreign Banks                           </td><td>CITIBANK N.A.                           </td><td>3                                       </td><td>0                                       </td><td> 2.84                                   </td><td> 84.297883                              </td><td>37.79413                                </td><td>23.32989                                </td><td>4.575780                                </td><td>2.977108                                </td><td>10.78                                   </td><td> 1.0000000                              </td><td>7.922901                                </td><td>10.629150                               </td><td>12.730986                               </td></tr>\n",
       "\t<tr><td>2005                                    </td><td>Foreign Banks                           </td><td>DEUTSCHE BANK AG                        </td><td>4                                       </td><td>0                                       </td><td> 0.72                                   </td><td> 71.407677                              </td><td>63.34906                                </td><td>26.29262                                </td><td>0.883570                                </td><td>4.219317                                </td><td>16.22                                   </td><td> 0.2855556                              </td><td>7.922901                                </td><td> 5.284218                               </td><td>11.584962                               </td></tr>\n",
       "\t<tr><td>2005                                    </td><td>Foreign Banks                           </td><td>HONGKONG AND SHANGHAI BANKING CORPN.LTD.</td><td>5                                       </td><td>0                                       </td><td> 1.27                                   </td><td> 74.183082                              </td><td>53.89395                                </td><td>17.61938                                </td><td>3.689262                                </td><td>2.482585                                </td><td>14.03                                   </td><td> 0.5000000                              </td><td>7.922901                                </td><td>10.785917                               </td><td>12.538959                               </td></tr>\n",
       "\t<tr><td>2005                                    </td><td>Foreign Banks                           </td><td>ROYAL BANK OF SCOTLAND N.V.             </td><td>6                                       </td><td>0                                       </td><td> 1.27                                   </td><td>140.001002                              </td><td>47.40394                                </td><td>32.24842                                </td><td>4.411332                                </td><td>3.347998                                </td><td>10.55                                   </td><td> 0.3500000                              </td><td>7.922901                                </td><td> 9.168466                               </td><td>11.944402                               </td></tr>\n",
       "</tbody>\n",
       "</table>\n"
      ],
      "text/latex": [
       "\\begin{tabular}{r|llllllllllllllll}\n",
       " year & Bank.Group & Bank & id & Ownership & ROA & CDR & X..IDR & PRIORITY & NIM & DIV & CAR & NNPAs & GDPG & LSEN & SIZEA\\\\\n",
       "\\hline\n",
       "\t 2005                                     & Foreign Banks                            & ABU DHABI COMMERCIAL BANK                & 1                                        & 0                                        & -2.57                                    &   5.404583                               & 75.62776                                 & 30.55653                                 & 0.609123                                 & 2.071552                                 & 14.38                                    & 12.7300000                               & 7.922901                                 &  3.379701                                &  9.878603                               \\\\\n",
       "\t 2005                                       & Foreign Banks                              & BANK OF BAHRAIN \\& KUWAIT B.S.C.          & 2                                          & 0                                          & -3.52                                      &  66.928244                                 & 48.12748                                   & 25.83943                                   & 1.947337                                   & 0.382617                                   & 11.66                                      &  5.5300000                                 & 7.922901                                   &  2.681022                                  &  8.700398                                 \\\\\n",
       "\t 2005                                     & Foreign Banks                            & CITIBANK N.A.                            & 3                                        & 0                                        &  2.84                                    &  84.297883                               & 37.79413                                 & 23.32989                                 & 4.575780                                 & 2.977108                                 & 10.78                                    &  1.0000000                               & 7.922901                                 & 10.629150                                & 12.730986                               \\\\\n",
       "\t 2005                                     & Foreign Banks                            & DEUTSCHE BANK AG                         & 4                                        & 0                                        &  0.72                                    &  71.407677                               & 63.34906                                 & 26.29262                                 & 0.883570                                 & 4.219317                                 & 16.22                                    &  0.2855556                               & 7.922901                                 &  5.284218                                & 11.584962                               \\\\\n",
       "\t 2005                                     & Foreign Banks                            & HONGKONG AND SHANGHAI BANKING CORPN.LTD. & 5                                        & 0                                        &  1.27                                    &  74.183082                               & 53.89395                                 & 17.61938                                 & 3.689262                                 & 2.482585                                 & 14.03                                    &  0.5000000                               & 7.922901                                 & 10.785917                                & 12.538959                               \\\\\n",
       "\t 2005                                     & Foreign Banks                            & ROYAL BANK OF SCOTLAND N.V.              & 6                                        & 0                                        &  1.27                                    & 140.001002                               & 47.40394                                 & 32.24842                                 & 4.411332                                 & 3.347998                                 & 10.55                                    &  0.3500000                               & 7.922901                                 &  9.168466                                & 11.944402                               \\\\\n",
       "\\end{tabular}\n"
      ],
      "text/markdown": [
       "\n",
       "year | Bank.Group | Bank | id | Ownership | ROA | CDR | X..IDR | PRIORITY | NIM | DIV | CAR | NNPAs | GDPG | LSEN | SIZEA | \n",
       "|---|---|---|---|---|---|\n",
       "| 2005                                     | Foreign Banks                            | ABU DHABI COMMERCIAL BANK                | 1                                        | 0                                        | -2.57                                    |   5.404583                               | 75.62776                                 | 30.55653                                 | 0.609123                                 | 2.071552                                 | 14.38                                    | 12.7300000                               | 7.922901                                 |  3.379701                                |  9.878603                                | \n",
       "| 2005                                     | Foreign Banks                            | BANK OF BAHRAIN & KUWAIT B.S.C.          | 2                                        | 0                                        | -3.52                                    |  66.928244                               | 48.12748                                 | 25.83943                                 | 1.947337                                 | 0.382617                                 | 11.66                                    |  5.5300000                               | 7.922901                                 |  2.681022                                |  8.700398                                | \n",
       "| 2005                                     | Foreign Banks                            | CITIBANK N.A.                            | 3                                        | 0                                        |  2.84                                    |  84.297883                               | 37.79413                                 | 23.32989                                 | 4.575780                                 | 2.977108                                 | 10.78                                    |  1.0000000                               | 7.922901                                 | 10.629150                                | 12.730986                                | \n",
       "| 2005                                     | Foreign Banks                            | DEUTSCHE BANK AG                         | 4                                        | 0                                        |  0.72                                    |  71.407677                               | 63.34906                                 | 26.29262                                 | 0.883570                                 | 4.219317                                 | 16.22                                    |  0.2855556                               | 7.922901                                 |  5.284218                                | 11.584962                                | \n",
       "| 2005                                     | Foreign Banks                            | HONGKONG AND SHANGHAI BANKING CORPN.LTD. | 5                                        | 0                                        |  1.27                                    |  74.183082                               | 53.89395                                 | 17.61938                                 | 3.689262                                 | 2.482585                                 | 14.03                                    |  0.5000000                               | 7.922901                                 | 10.785917                                | 12.538959                                | \n",
       "| 2005                                     | Foreign Banks                            | ROYAL BANK OF SCOTLAND N.V.              | 6                                        | 0                                        |  1.27                                    | 140.001002                               | 47.40394                                 | 32.24842                                 | 4.411332                                 | 3.347998                                 | 10.55                                    |  0.3500000                               | 7.922901                                 |  9.168466                                | 11.944402                                | \n",
       "\n",
       "\n"
      ],
      "text/plain": [
       "  year Bank.Group    Bank                                     id Ownership\n",
       "1 2005 Foreign Banks ABU DHABI COMMERCIAL BANK                1  0        \n",
       "2 2005 Foreign Banks BANK OF BAHRAIN & KUWAIT B.S.C.          2  0        \n",
       "3 2005 Foreign Banks CITIBANK N.A.                            3  0        \n",
       "4 2005 Foreign Banks DEUTSCHE BANK AG                         4  0        \n",
       "5 2005 Foreign Banks HONGKONG AND SHANGHAI BANKING CORPN.LTD. 5  0        \n",
       "6 2005 Foreign Banks ROYAL BANK OF SCOTLAND N.V.              6  0        \n",
       "  ROA   CDR        X..IDR   PRIORITY NIM      DIV      CAR   NNPAs     \n",
       "1 -2.57   5.404583 75.62776 30.55653 0.609123 2.071552 14.38 12.7300000\n",
       "2 -3.52  66.928244 48.12748 25.83943 1.947337 0.382617 11.66  5.5300000\n",
       "3  2.84  84.297883 37.79413 23.32989 4.575780 2.977108 10.78  1.0000000\n",
       "4  0.72  71.407677 63.34906 26.29262 0.883570 4.219317 16.22  0.2855556\n",
       "5  1.27  74.183082 53.89395 17.61938 3.689262 2.482585 14.03  0.5000000\n",
       "6  1.27 140.001002 47.40394 32.24842 4.411332 3.347998 10.55  0.3500000\n",
       "  GDPG     LSEN      SIZEA    \n",
       "1 7.922901  3.379701  9.878603\n",
       "2 7.922901  2.681022  8.700398\n",
       "3 7.922901 10.629150 12.730986\n",
       "4 7.922901  5.284218 11.584962\n",
       "5 7.922901 10.785917 12.538959\n",
       "6 7.922901  9.168466 11.944402"
      ]
     },
     "metadata": {},
     "output_type": "display_data"
    }
   ],
   "source": [
    "head(df)"
   ]
  },
  {
   "cell_type": "code",
   "execution_count": 138,
   "metadata": {},
   "outputs": [
    {
     "data": {
      "text/html": [
       "<ol class=list-inline>\n",
       "\t<li>'year'</li>\n",
       "\t<li>'Bank.Group'</li>\n",
       "\t<li>'Bank'</li>\n",
       "\t<li>'id'</li>\n",
       "\t<li>'Ownership'</li>\n",
       "\t<li>'ROA'</li>\n",
       "\t<li>'CDR'</li>\n",
       "\t<li>'X..IDR'</li>\n",
       "\t<li>'PRIORITY'</li>\n",
       "\t<li>'NIM'</li>\n",
       "\t<li>'DIV'</li>\n",
       "\t<li>'CAR'</li>\n",
       "\t<li>'NNPAs'</li>\n",
       "\t<li>'GDPG'</li>\n",
       "\t<li>'LSEN'</li>\n",
       "\t<li>'SIZEA'</li>\n",
       "</ol>\n"
      ],
      "text/latex": [
       "\\begin{enumerate*}\n",
       "\\item 'year'\n",
       "\\item 'Bank.Group'\n",
       "\\item 'Bank'\n",
       "\\item 'id'\n",
       "\\item 'Ownership'\n",
       "\\item 'ROA'\n",
       "\\item 'CDR'\n",
       "\\item 'X..IDR'\n",
       "\\item 'PRIORITY'\n",
       "\\item 'NIM'\n",
       "\\item 'DIV'\n",
       "\\item 'CAR'\n",
       "\\item 'NNPAs'\n",
       "\\item 'GDPG'\n",
       "\\item 'LSEN'\n",
       "\\item 'SIZEA'\n",
       "\\end{enumerate*}\n"
      ],
      "text/markdown": [
       "1. 'year'\n",
       "2. 'Bank.Group'\n",
       "3. 'Bank'\n",
       "4. 'id'\n",
       "5. 'Ownership'\n",
       "6. 'ROA'\n",
       "7. 'CDR'\n",
       "8. 'X..IDR'\n",
       "9. 'PRIORITY'\n",
       "10. 'NIM'\n",
       "11. 'DIV'\n",
       "12. 'CAR'\n",
       "13. 'NNPAs'\n",
       "14. 'GDPG'\n",
       "15. 'LSEN'\n",
       "16. 'SIZEA'\n",
       "\n",
       "\n"
      ],
      "text/plain": [
       " [1] \"year\"       \"Bank.Group\" \"Bank\"       \"id\"         \"Ownership\" \n",
       " [6] \"ROA\"        \"CDR\"        \"X..IDR\"     \"PRIORITY\"   \"NIM\"       \n",
       "[11] \"DIV\"        \"CAR\"        \"NNPAs\"      \"GDPG\"       \"LSEN\"      \n",
       "[16] \"SIZEA\"     "
      ]
     },
     "metadata": {},
     "output_type": "display_data"
    }
   ],
   "source": [
    "colnames(df)"
   ]
  },
  {
   "cell_type": "code",
   "execution_count": 139,
   "metadata": {},
   "outputs": [],
   "source": [
    "y=\"NIM\"\n",
    "X=c('ROA' ,'CDR', 'X..IDR', 'PRIORITY' ,'DIV' ,'CAR', 'NNPAs', 'LSEN', 'SIZEA', 'Ownership')\n",
    "df_index=c(\"year\",\"Bank\")"
   ]
  },
  {
   "cell_type": "code",
   "execution_count": 140,
   "metadata": {},
   "outputs": [],
   "source": [
    "df=df[,c(df_index,y, X)]"
   ]
  },
  {
   "cell_type": "code",
   "execution_count": 141,
   "metadata": {},
   "outputs": [
    {
     "data": {
      "text/html": [
       "<table>\n",
       "<thead><tr><th scope=col>year</th><th scope=col>Bank</th><th scope=col>NIM</th><th scope=col>ROA</th><th scope=col>CDR</th><th scope=col>X..IDR</th><th scope=col>PRIORITY</th><th scope=col>DIV</th><th scope=col>CAR</th><th scope=col>NNPAs</th><th scope=col>LSEN</th><th scope=col>SIZEA</th><th scope=col>Ownership</th></tr></thead>\n",
       "<tbody>\n",
       "\t<tr><td>2005                                    </td><td>ABU DHABI COMMERCIAL BANK               </td><td>0.609123                                </td><td>-2.57                                   </td><td>  5.404583                              </td><td>75.62776                                </td><td>30.55653                                </td><td>2.071552                                </td><td>14.38                                   </td><td>12.7300000                              </td><td> 3.379701                               </td><td> 9.878603                               </td><td>0                                       </td></tr>\n",
       "\t<tr><td>2005                                                                                </td><td><span style=white-space:pre-wrap>BANK OF BAHRAIN &amp; KUWAIT B.S.C.         </span></td><td>1.947337                                                                            </td><td>-3.52                                                                               </td><td> 66.928244                                                                          </td><td>48.12748                                                                            </td><td>25.83943                                                                            </td><td>0.382617                                                                            </td><td>11.66                                                                               </td><td> 5.5300000                                                                          </td><td> 2.681022                                                                           </td><td> 8.700398                                                                           </td><td>0                                                                                   </td></tr>\n",
       "\t<tr><td>2005                                    </td><td>CITIBANK N.A.                           </td><td>4.575780                                </td><td> 2.84                                   </td><td> 84.297883                              </td><td>37.79413                                </td><td>23.32989                                </td><td>2.977108                                </td><td>10.78                                   </td><td> 1.0000000                              </td><td>10.629150                               </td><td>12.730986                               </td><td>0                                       </td></tr>\n",
       "\t<tr><td>2005                                    </td><td>DEUTSCHE BANK AG                        </td><td>0.883570                                </td><td> 0.72                                   </td><td> 71.407677                              </td><td>63.34906                                </td><td>26.29262                                </td><td>4.219317                                </td><td>16.22                                   </td><td> 0.2855556                              </td><td> 5.284218                               </td><td>11.584962                               </td><td>0                                       </td></tr>\n",
       "\t<tr><td>2005                                    </td><td>HONGKONG AND SHANGHAI BANKING CORPN.LTD.</td><td>3.689262                                </td><td> 1.27                                   </td><td> 74.183082                              </td><td>53.89395                                </td><td>17.61938                                </td><td>2.482585                                </td><td>14.03                                   </td><td> 0.5000000                              </td><td>10.785917                               </td><td>12.538959                               </td><td>0                                       </td></tr>\n",
       "\t<tr><td>2005                                    </td><td>ROYAL BANK OF SCOTLAND N.V.             </td><td>4.411332                                </td><td> 1.27                                   </td><td>140.001002                              </td><td>47.40394                                </td><td>32.24842                                </td><td>3.347998                                </td><td>10.55                                   </td><td> 0.3500000                              </td><td> 9.168466                               </td><td>11.944402                               </td><td>0                                       </td></tr>\n",
       "</tbody>\n",
       "</table>\n"
      ],
      "text/latex": [
       "\\begin{tabular}{r|lllllllllllll}\n",
       " year & Bank & NIM & ROA & CDR & X..IDR & PRIORITY & DIV & CAR & NNPAs & LSEN & SIZEA & Ownership\\\\\n",
       "\\hline\n",
       "\t 2005                                     & ABU DHABI COMMERCIAL BANK                & 0.609123                                 & -2.57                                    &   5.404583                               & 75.62776                                 & 30.55653                                 & 2.071552                                 & 14.38                                    & 12.7300000                               &  3.379701                                &  9.878603                                & 0                                       \\\\\n",
       "\t 2005                                       & BANK OF BAHRAIN \\& KUWAIT B.S.C.          & 1.947337                                   & -3.52                                      &  66.928244                                 & 48.12748                                   & 25.83943                                   & 0.382617                                   & 11.66                                      &  5.5300000                                 &  2.681022                                  &  8.700398                                  & 0                                         \\\\\n",
       "\t 2005                                     & CITIBANK N.A.                            & 4.575780                                 &  2.84                                    &  84.297883                               & 37.79413                                 & 23.32989                                 & 2.977108                                 & 10.78                                    &  1.0000000                               & 10.629150                                & 12.730986                                & 0                                       \\\\\n",
       "\t 2005                                     & DEUTSCHE BANK AG                         & 0.883570                                 &  0.72                                    &  71.407677                               & 63.34906                                 & 26.29262                                 & 4.219317                                 & 16.22                                    &  0.2855556                               &  5.284218                                & 11.584962                                & 0                                       \\\\\n",
       "\t 2005                                     & HONGKONG AND SHANGHAI BANKING CORPN.LTD. & 3.689262                                 &  1.27                                    &  74.183082                               & 53.89395                                 & 17.61938                                 & 2.482585                                 & 14.03                                    &  0.5000000                               & 10.785917                                & 12.538959                                & 0                                       \\\\\n",
       "\t 2005                                     & ROYAL BANK OF SCOTLAND N.V.              & 4.411332                                 &  1.27                                    & 140.001002                               & 47.40394                                 & 32.24842                                 & 3.347998                                 & 10.55                                    &  0.3500000                               &  9.168466                                & 11.944402                                & 0                                       \\\\\n",
       "\\end{tabular}\n"
      ],
      "text/markdown": [
       "\n",
       "year | Bank | NIM | ROA | CDR | X..IDR | PRIORITY | DIV | CAR | NNPAs | LSEN | SIZEA | Ownership | \n",
       "|---|---|---|---|---|---|\n",
       "| 2005                                     | ABU DHABI COMMERCIAL BANK                | 0.609123                                 | -2.57                                    |   5.404583                               | 75.62776                                 | 30.55653                                 | 2.071552                                 | 14.38                                    | 12.7300000                               |  3.379701                                |  9.878603                                | 0                                        | \n",
       "| 2005                                     | BANK OF BAHRAIN & KUWAIT B.S.C.          | 1.947337                                 | -3.52                                    |  66.928244                               | 48.12748                                 | 25.83943                                 | 0.382617                                 | 11.66                                    |  5.5300000                               |  2.681022                                |  8.700398                                | 0                                        | \n",
       "| 2005                                     | CITIBANK N.A.                            | 4.575780                                 |  2.84                                    |  84.297883                               | 37.79413                                 | 23.32989                                 | 2.977108                                 | 10.78                                    |  1.0000000                               | 10.629150                                | 12.730986                                | 0                                        | \n",
       "| 2005                                     | DEUTSCHE BANK AG                         | 0.883570                                 |  0.72                                    |  71.407677                               | 63.34906                                 | 26.29262                                 | 4.219317                                 | 16.22                                    |  0.2855556                               |  5.284218                                | 11.584962                                | 0                                        | \n",
       "| 2005                                     | HONGKONG AND SHANGHAI BANKING CORPN.LTD. | 3.689262                                 |  1.27                                    |  74.183082                               | 53.89395                                 | 17.61938                                 | 2.482585                                 | 14.03                                    |  0.5000000                               | 10.785917                                | 12.538959                                | 0                                        | \n",
       "| 2005                                     | ROYAL BANK OF SCOTLAND N.V.              | 4.411332                                 |  1.27                                    | 140.001002                               | 47.40394                                 | 32.24842                                 | 3.347998                                 | 10.55                                    |  0.3500000                               |  9.168466                                | 11.944402                                | 0                                        | \n",
       "\n",
       "\n"
      ],
      "text/plain": [
       "  year Bank                                     NIM      ROA   CDR       \n",
       "1 2005 ABU DHABI COMMERCIAL BANK                0.609123 -2.57   5.404583\n",
       "2 2005 BANK OF BAHRAIN & KUWAIT B.S.C.          1.947337 -3.52  66.928244\n",
       "3 2005 CITIBANK N.A.                            4.575780  2.84  84.297883\n",
       "4 2005 DEUTSCHE BANK AG                         0.883570  0.72  71.407677\n",
       "5 2005 HONGKONG AND SHANGHAI BANKING CORPN.LTD. 3.689262  1.27  74.183082\n",
       "6 2005 ROYAL BANK OF SCOTLAND N.V.              4.411332  1.27 140.001002\n",
       "  X..IDR   PRIORITY DIV      CAR   NNPAs      LSEN      SIZEA     Ownership\n",
       "1 75.62776 30.55653 2.071552 14.38 12.7300000  3.379701  9.878603 0        \n",
       "2 48.12748 25.83943 0.382617 11.66  5.5300000  2.681022  8.700398 0        \n",
       "3 37.79413 23.32989 2.977108 10.78  1.0000000 10.629150 12.730986 0        \n",
       "4 63.34906 26.29262 4.219317 16.22  0.2855556  5.284218 11.584962 0        \n",
       "5 53.89395 17.61938 2.482585 14.03  0.5000000 10.785917 12.538959 0        \n",
       "6 47.40394 32.24842 3.347998 10.55  0.3500000  9.168466 11.944402 0        "
      ]
     },
     "metadata": {},
     "output_type": "display_data"
    }
   ],
   "source": [
    "head(df)"
   ]
  },
  {
   "cell_type": "code",
   "execution_count": 142,
   "metadata": {},
   "outputs": [],
   "source": [
    "df=pdata.frame(df, index=df_index)"
   ]
  },
  {
   "cell_type": "code",
   "execution_count": 143,
   "metadata": {},
   "outputs": [
    {
     "data": {
      "text/plain": [
       "Balanced Panel: n = 12, T = 49, N = 588"
      ]
     },
     "metadata": {},
     "output_type": "display_data"
    }
   ],
   "source": [
    "pdim(df)"
   ]
  },
  {
   "cell_type": "code",
   "execution_count": 144,
   "metadata": {},
   "outputs": [],
   "source": [
    "library(lmtest)\n",
    "library(car)"
   ]
  },
  {
   "cell_type": "code",
   "execution_count": 145,
   "metadata": {},
   "outputs": [
    {
     "data": {
      "text/plain": [
       "\n",
       "\tLagrange Multiplier Test - (Breusch-Pagan) for unbalanced panels\n",
       "\n",
       "data:  NIM ~ ROA + CDR + X..IDR + PRIORITY + DIV + CAR + NNPAs + LSEN +  ...\n",
       "chisq = 24.076, df = 1, p-value = 9.263e-07\n",
       "alternative hypothesis: significant effects\n"
      ]
     },
     "metadata": {},
     "output_type": "display_data"
    }
   ],
   "source": [
    "library(plm)\n",
    "pool=plm(NIM~ROA +CDR+ X..IDR+ PRIORITY +DIV +CAR+ NNPAs+ LSEN+ SIZEA+ Ownership, data=df,index=df_index, model=\"pooling\")\n",
    "plmtest(pool, type=c(\"bp\"))#Ho : NUll variance "
   ]
  },
  {
   "cell_type": "code",
   "execution_count": 146,
   "metadata": {},
   "outputs": [],
   "source": [
    "## Variance not null panel effects presten, cannot use pool"
   ]
  },
  {
   "cell_type": "code",
   "execution_count": 178,
   "metadata": {
    "scrolled": false
   },
   "outputs": [
    {
     "data": {
      "text/plain": [
       "\n",
       "\tHausman Test\n",
       "\n",
       "data:  NIM ~ ROA + CDR + X..IDR + PRIORITY + DIV + CAR + NNPAs + LSEN +  ...\n",
       "chisq = 6.6957, df = 10, p-value = 0.7538\n",
       "alternative hypothesis: one model is inconsistent\n"
      ]
     },
     "metadata": {},
     "output_type": "display_data"
    }
   ],
   "source": [
    "fixed=plm(NIM~ROA+CDR+X..IDR+PRIORITY+DIV+CAR+NNPAs+LSEN+SIZEA+Ownership, data=df,index=df_index, model=\"within\")\n",
    "random=plm(NIM~ROA+CDR+X..IDR+PRIORITY+DIV+CAR+NNPAs+LSEN+SIZEA+Ownership, data=df,index=df_index, model=\"random\")\n",
    "phtest(fixed, random)"
   ]
  },
  {
   "cell_type": "code",
   "execution_count": 179,
   "metadata": {},
   "outputs": [],
   "source": [
    "fixed_time=plm(NIM~ROA+CDR+X..IDR+PRIORITY+DIV+CAR+NNPAs+LSEN+SIZEA+Ownership+ factor(year), data=df,index=df_index)"
   ]
  },
  {
   "cell_type": "code",
   "execution_count": 182,
   "metadata": {},
   "outputs": [
    {
     "data": {
      "text/plain": [
       "\n",
       "\tF test for individual effects\n",
       "\n",
       "data:  NIM ~ ROA + CDR + X..IDR + PRIORITY + DIV + CAR + NNPAs + LSEN +  ...\n",
       "F = NaN, df1 = 0, df2 = 562, p-value = NA\n",
       "alternative hypothesis: significant effects\n"
      ]
     },
     "metadata": {},
     "output_type": "display_data"
    }
   ],
   "source": [
    "pFtest(fixed_time,fixed)"
   ]
  },
  {
   "cell_type": "code",
   "execution_count": 184,
   "metadata": {},
   "outputs": [],
   "source": [
    "library(tseries)"
   ]
  },
  {
   "cell_type": "code",
   "execution_count": 185,
   "metadata": {},
   "outputs": [
    {
     "name": "stderr",
     "output_type": "stream",
     "text": [
      "Warning message in adf.test(df$NIM, k = 2):\n",
      "“p-value smaller than printed p-value”"
     ]
    },
    {
     "data": {
      "text/plain": [
       "\n",
       "\tAugmented Dickey-Fuller Test\n",
       "\n",
       "data:  df$NIM\n",
       "Dickey-Fuller = -14.016, Lag order = 2, p-value = 0.01\n",
       "alternative hypothesis: stationary\n"
      ]
     },
     "metadata": {},
     "output_type": "display_data"
    }
   ],
   "source": [
    "adf.test(df$NIM, k=2)"
   ]
  },
  {
   "cell_type": "code",
   "execution_count": 187,
   "metadata": {},
   "outputs": [
    {
     "data": {
      "text/plain": [
       "\n",
       "\tBreusch-Pagan test\n",
       "\n",
       "data:  NIM ~ ROA + CDR + X..IDR + PRIORITY + DIV + CAR + NNPAs + LSEN +     SIZEA + Ownership + factor(Bank)\n",
       "BP = 540.94, df = 57, p-value < 2.2e-16\n"
      ]
     },
     "metadata": {},
     "output_type": "display_data"
    }
   ],
   "source": [
    "library(lmtest)\n",
    "bptest(NIM~ROA+CDR+X..IDR+PRIORITY+DIV+CAR+NNPAs+LSEN+SIZEA+Ownership+factor(Bank), data=df,studentize = F) \n"
   ]
  },
  {
   "cell_type": "code",
   "execution_count": 188,
   "metadata": {},
   "outputs": [
    {
     "data": {
      "text/plain": [
       "\n",
       "\tBreusch-Godfrey/Wooldridge test for serial correlation in panel models\n",
       "\n",
       "data:  NIM ~ ROA + CDR + X..IDR + PRIORITY + DIV + CAR + NNPAs + LSEN +     SIZEA + Ownership\n",
       "chisq = 125.76, df = 47, p-value = 4.131e-09\n",
       "alternative hypothesis: serial correlation in idiosyncratic errors\n"
      ]
     },
     "metadata": {},
     "output_type": "display_data"
    }
   ],
   "source": [
    "pbgtest(fixed)"
   ]
  },
  {
   "cell_type": "code",
   "execution_count": 189,
   "metadata": {},
   "outputs": [
    {
     "data": {
      "text/plain": [
       "\n",
       "\tBreusch-Godfrey/Wooldridge test for serial correlation in panel models\n",
       "\n",
       "data:  NIM ~ ROA + CDR + X..IDR + PRIORITY + DIV + CAR + NNPAs + LSEN +     SIZEA + Ownership\n",
       "chisq = 259.21, df = 47, p-value < 2.2e-16\n",
       "alternative hypothesis: serial correlation in idiosyncratic errors\n"
      ]
     },
     "metadata": {},
     "output_type": "display_data"
    }
   ],
   "source": [
    "fixed_diff=plm(NIM~ROA+CDR+X..IDR+PRIORITY+DIV+CAR+NNPAs+LSEN+SIZEA+Ownership, data=df,index=df_index, model=\"fd\")\n",
    "pbgtest(fixed_diff)"
   ]
  },
  {
   "cell_type": "code",
   "execution_count": 190,
   "metadata": {},
   "outputs": [
    {
     "data": {
      "text/plain": [
       "Oneway (individual) effect Within Model\n",
       "\n",
       "Call:\n",
       "plm(formula = NIM ~ ROA + CDR + X..IDR + PRIORITY + DIV + CAR + \n",
       "    NNPAs + LSEN + SIZEA + Ownership, data = df, model = \"within\", \n",
       "    index = df_index)\n",
       "\n",
       "Unbalanced Panel: n = 12, T = 47-49, N = 584\n",
       "\n",
       "Residuals:\n",
       "     Min.   1st Qu.    Median   3rd Qu.      Max. \n",
       "-2.584968 -0.325428 -0.030124  0.320243  2.265176 \n",
       "\n",
       "Coefficients:\n",
       "            Estimate Std. Error t-value  Pr(>|t|)    \n",
       "ROA        0.5342217  0.0453595 11.7775 < 2.2e-16 ***\n",
       "CDR       -0.0024589  0.0016715 -1.4710  0.141842    \n",
       "X..IDR     0.0036967  0.0024245  1.5247  0.127889    \n",
       "PRIORITY   0.0326691  0.0040744  8.0182 6.258e-15 ***\n",
       "DIV        0.3289281  0.0506489  6.4943 1.838e-10 ***\n",
       "CAR        0.0053977  0.0022952  2.3517  0.019033 *  \n",
       "NNPAs      0.0311087  0.0200603  1.5508  0.121523    \n",
       "LSEN       0.1089253  0.0429316  2.5372  0.011444 *  \n",
       "SIZEA     -0.1523696  0.0608764 -2.5029  0.012600 *  \n",
       "Ownership -0.2470971  0.0787170 -3.1391  0.001784 ** \n",
       "---\n",
       "Signif. codes:  0 ‘***’ 0.001 ‘**’ 0.01 ‘*’ 0.05 ‘.’ 0.1 ‘ ’ 1\n",
       "\n",
       "Total Sum of Squares:    417.74\n",
       "Residual Sum of Squares: 198.65\n",
       "R-Squared:      0.52446\n",
       "Adj. R-Squared: 0.50669\n",
       "F-statistic: 61.9825 on 10 and 562 DF, p-value: < 2.22e-16"
      ]
     },
     "metadata": {},
     "output_type": "display_data"
    }
   ],
   "source": [
    "summary(fixed)"
   ]
  },
  {
   "cell_type": "code",
   "execution_count": null,
   "metadata": {},
   "outputs": [],
   "source": []
  },
  {
   "cell_type": "code",
   "execution_count": null,
   "metadata": {},
   "outputs": [],
   "source": []
  },
  {
   "cell_type": "code",
   "execution_count": null,
   "metadata": {},
   "outputs": [],
   "source": []
  },
  {
   "cell_type": "code",
   "execution_count": null,
   "metadata": {},
   "outputs": [],
   "source": []
  },
  {
   "cell_type": "code",
   "execution_count": null,
   "metadata": {},
   "outputs": [],
   "source": []
  },
  {
   "cell_type": "code",
   "execution_count": null,
   "metadata": {},
   "outputs": [],
   "source": []
  },
  {
   "cell_type": "code",
   "execution_count": null,
   "metadata": {},
   "outputs": [],
   "source": []
  },
  {
   "cell_type": "code",
   "execution_count": null,
   "metadata": {},
   "outputs": [],
   "source": []
  },
  {
   "cell_type": "code",
   "execution_count": null,
   "metadata": {},
   "outputs": [],
   "source": []
  },
  {
   "cell_type": "code",
   "execution_count": null,
   "metadata": {},
   "outputs": [],
   "source": []
  },
  {
   "cell_type": "code",
   "execution_count": null,
   "metadata": {},
   "outputs": [],
   "source": []
  },
  {
   "cell_type": "code",
   "execution_count": null,
   "metadata": {},
   "outputs": [],
   "source": []
  },
  {
   "cell_type": "code",
   "execution_count": null,
   "metadata": {},
   "outputs": [],
   "source": []
  },
  {
   "cell_type": "code",
   "execution_count": null,
   "metadata": {},
   "outputs": [],
   "source": []
  },
  {
   "cell_type": "code",
   "execution_count": null,
   "metadata": {},
   "outputs": [],
   "source": []
  },
  {
   "cell_type": "code",
   "execution_count": null,
   "metadata": {},
   "outputs": [],
   "source": []
  },
  {
   "cell_type": "code",
   "execution_count": null,
   "metadata": {},
   "outputs": [],
   "source": []
  },
  {
   "cell_type": "code",
   "execution_count": null,
   "metadata": {},
   "outputs": [],
   "source": []
  },
  {
   "cell_type": "code",
   "execution_count": null,
   "metadata": {},
   "outputs": [],
   "source": []
  },
  {
   "cell_type": "code",
   "execution_count": null,
   "metadata": {},
   "outputs": [],
   "source": []
  },
  {
   "cell_type": "code",
   "execution_count": null,
   "metadata": {},
   "outputs": [],
   "source": []
  },
  {
   "cell_type": "code",
   "execution_count": null,
   "metadata": {},
   "outputs": [],
   "source": []
  },
  {
   "cell_type": "code",
   "execution_count": null,
   "metadata": {},
   "outputs": [],
   "source": []
  },
  {
   "cell_type": "code",
   "execution_count": null,
   "metadata": {},
   "outputs": [],
   "source": []
  },
  {
   "cell_type": "code",
   "execution_count": null,
   "metadata": {},
   "outputs": [],
   "source": []
  },
  {
   "cell_type": "code",
   "execution_count": null,
   "metadata": {},
   "outputs": [],
   "source": []
  },
  {
   "cell_type": "code",
   "execution_count": null,
   "metadata": {},
   "outputs": [],
   "source": []
  },
  {
   "cell_type": "code",
   "execution_count": null,
   "metadata": {},
   "outputs": [],
   "source": []
  },
  {
   "cell_type": "code",
   "execution_count": null,
   "metadata": {},
   "outputs": [],
   "source": []
  },
  {
   "cell_type": "code",
   "execution_count": null,
   "metadata": {},
   "outputs": [],
   "source": []
  },
  {
   "cell_type": "code",
   "execution_count": null,
   "metadata": {},
   "outputs": [],
   "source": []
  },
  {
   "cell_type": "code",
   "execution_count": null,
   "metadata": {},
   "outputs": [],
   "source": []
  },
  {
   "cell_type": "code",
   "execution_count": null,
   "metadata": {},
   "outputs": [],
   "source": []
  },
  {
   "cell_type": "code",
   "execution_count": null,
   "metadata": {},
   "outputs": [],
   "source": []
  },
  {
   "cell_type": "code",
   "execution_count": null,
   "metadata": {},
   "outputs": [],
   "source": []
  },
  {
   "cell_type": "code",
   "execution_count": null,
   "metadata": {},
   "outputs": [],
   "source": []
  },
  {
   "cell_type": "code",
   "execution_count": null,
   "metadata": {},
   "outputs": [],
   "source": []
  },
  {
   "cell_type": "code",
   "execution_count": null,
   "metadata": {},
   "outputs": [],
   "source": []
  },
  {
   "cell_type": "code",
   "execution_count": null,
   "metadata": {},
   "outputs": [],
   "source": []
  },
  {
   "cell_type": "code",
   "execution_count": null,
   "metadata": {},
   "outputs": [],
   "source": []
  },
  {
   "cell_type": "code",
   "execution_count": null,
   "metadata": {},
   "outputs": [],
   "source": []
  },
  {
   "cell_type": "code",
   "execution_count": null,
   "metadata": {},
   "outputs": [],
   "source": []
  },
  {
   "cell_type": "code",
   "execution_count": null,
   "metadata": {},
   "outputs": [],
   "source": []
  },
  {
   "cell_type": "code",
   "execution_count": null,
   "metadata": {},
   "outputs": [],
   "source": []
  },
  {
   "cell_type": "code",
   "execution_count": null,
   "metadata": {},
   "outputs": [],
   "source": []
  },
  {
   "cell_type": "code",
   "execution_count": null,
   "metadata": {},
   "outputs": [],
   "source": []
  },
  {
   "cell_type": "code",
   "execution_count": null,
   "metadata": {},
   "outputs": [],
   "source": []
  },
  {
   "cell_type": "code",
   "execution_count": null,
   "metadata": {},
   "outputs": [],
   "source": []
  },
  {
   "cell_type": "code",
   "execution_count": null,
   "metadata": {},
   "outputs": [],
   "source": []
  },
  {
   "cell_type": "code",
   "execution_count": null,
   "metadata": {},
   "outputs": [],
   "source": []
  },
  {
   "cell_type": "code",
   "execution_count": null,
   "metadata": {},
   "outputs": [],
   "source": []
  },
  {
   "cell_type": "code",
   "execution_count": null,
   "metadata": {},
   "outputs": [],
   "source": []
  },
  {
   "cell_type": "code",
   "execution_count": null,
   "metadata": {},
   "outputs": [],
   "source": []
  },
  {
   "cell_type": "code",
   "execution_count": null,
   "metadata": {},
   "outputs": [],
   "source": []
  },
  {
   "cell_type": "code",
   "execution_count": null,
   "metadata": {},
   "outputs": [],
   "source": []
  }
 ],
 "metadata": {
  "kernelspec": {
   "display_name": "R",
   "language": "R",
   "name": "ir"
  },
  "language_info": {
   "codemirror_mode": "r",
   "file_extension": ".r",
   "mimetype": "text/x-r-source",
   "name": "R",
   "pygments_lexer": "r",
   "version": "3.5.1"
  }
 },
 "nbformat": 4,
 "nbformat_minor": 2
}
