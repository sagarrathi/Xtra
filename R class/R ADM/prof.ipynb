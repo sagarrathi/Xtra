{
 "cells": [
  {
   "cell_type": "code",
   "execution_count": 20,
   "metadata": {},
   "outputs": [
    {
     "data": {
      "text/html": [
       "<table>\n",
       "<thead><tr><th scope=col>PERSON</th><th scope=col>YEAR</th><th scope=col>Y</th><th scope=col>X</th></tr></thead>\n",
       "<tbody>\n",
       "\t<tr><td>Frank </td><td>2001  </td><td>21    </td><td> 1    </td></tr>\n",
       "\t<tr><td>Frank </td><td>2002  </td><td>22    </td><td> 2    </td></tr>\n",
       "\t<tr><td>Frank </td><td>2003  </td><td>23    </td><td> 3    </td></tr>\n",
       "\t<tr><td>Frank </td><td>2004  </td><td>24    </td><td> 4    </td></tr>\n",
       "\t<tr><td>Frank </td><td>2005  </td><td>25    </td><td> 5    </td></tr>\n",
       "\t<tr><td>Tony  </td><td>2001  </td><td> 5    </td><td> 6    </td></tr>\n",
       "\t<tr><td>Tony  </td><td>2002  </td><td> 6    </td><td> 7    </td></tr>\n",
       "\t<tr><td>Tony  </td><td>2003  </td><td>NA    </td><td> 8    </td></tr>\n",
       "\t<tr><td>Tony  </td><td>2004  </td><td> 7    </td><td> 9    </td></tr>\n",
       "\t<tr><td>Tony  </td><td>2005  </td><td> 8    </td><td>10    </td></tr>\n",
       "\t<tr><td>Edward</td><td>2001  </td><td>31    </td><td>11    </td></tr>\n",
       "\t<tr><td>Edward</td><td>2002  </td><td>32    </td><td>12    </td></tr>\n",
       "\t<tr><td>Edward</td><td>2003  </td><td>33    </td><td>13    </td></tr>\n",
       "\t<tr><td>Edward</td><td>2004  </td><td>34    </td><td>14    </td></tr>\n",
       "\t<tr><td>Edward</td><td>2005  </td><td>35    </td><td>15    </td></tr>\n",
       "</tbody>\n",
       "</table>\n"
      ],
      "text/latex": [
       "\\begin{tabular}{r|llll}\n",
       " PERSON & YEAR & Y & X\\\\\n",
       "\\hline\n",
       "\t Frank  & 2001   & 21     &  1    \\\\\n",
       "\t Frank  & 2002   & 22     &  2    \\\\\n",
       "\t Frank  & 2003   & 23     &  3    \\\\\n",
       "\t Frank  & 2004   & 24     &  4    \\\\\n",
       "\t Frank  & 2005   & 25     &  5    \\\\\n",
       "\t Tony   & 2001   &  5     &  6    \\\\\n",
       "\t Tony   & 2002   &  6     &  7    \\\\\n",
       "\t Tony   & 2003   & NA     &  8    \\\\\n",
       "\t Tony   & 2004   &  7     &  9    \\\\\n",
       "\t Tony   & 2005   &  8     & 10    \\\\\n",
       "\t Edward & 2001   & 31     & 11    \\\\\n",
       "\t Edward & 2002   & 32     & 12    \\\\\n",
       "\t Edward & 2003   & 33     & 13    \\\\\n",
       "\t Edward & 2004   & 34     & 14    \\\\\n",
       "\t Edward & 2005   & 35     & 15    \\\\\n",
       "\\end{tabular}\n"
      ],
      "text/markdown": [
       "\n",
       "PERSON | YEAR | Y | X | \n",
       "|---|---|---|---|---|---|---|---|---|---|---|---|---|---|---|\n",
       "| Frank  | 2001   | 21     |  1     | \n",
       "| Frank  | 2002   | 22     |  2     | \n",
       "| Frank  | 2003   | 23     |  3     | \n",
       "| Frank  | 2004   | 24     |  4     | \n",
       "| Frank  | 2005   | 25     |  5     | \n",
       "| Tony   | 2001   |  5     |  6     | \n",
       "| Tony   | 2002   |  6     |  7     | \n",
       "| Tony   | 2003   | NA     |  8     | \n",
       "| Tony   | 2004   |  7     |  9     | \n",
       "| Tony   | 2005   |  8     | 10     | \n",
       "| Edward | 2001   | 31     | 11     | \n",
       "| Edward | 2002   | 32     | 12     | \n",
       "| Edward | 2003   | 33     | 13     | \n",
       "| Edward | 2004   | 34     | 14     | \n",
       "| Edward | 2005   | 35     | 15     | \n",
       "\n",
       "\n"
      ],
      "text/plain": [
       "   PERSON YEAR Y  X \n",
       "1  Frank  2001 21  1\n",
       "2  Frank  2002 22  2\n",
       "3  Frank  2003 23  3\n",
       "4  Frank  2004 24  4\n",
       "5  Frank  2005 25  5\n",
       "6  Tony   2001  5  6\n",
       "7  Tony   2002  6  7\n",
       "8  Tony   2003 NA  8\n",
       "9  Tony   2004  7  9\n",
       "10 Tony   2005  8 10\n",
       "11 Edward 2001 31 11\n",
       "12 Edward 2002 32 12\n",
       "13 Edward 2003 33 13\n",
       "14 Edward 2004 34 14\n",
       "15 Edward 2005 35 15"
      ]
     },
     "metadata": {},
     "output_type": "display_data"
    }
   ],
   "source": [
    "unbal <- data.frame(PERSON=c(rep('Frank',5),rep('Tony',5),rep('Edward',5)), YEAR=c(2001,2002,2003,2004,2005,2001,2002,2003,2004,2005,2001,2002,2003,2004,2005), Y=c(21,22,23,24,25,5,6,NA,7,8,31,32,33,34,35), X=c(1:15))\n",
    "unbal"
   ]
  },
  {
   "cell_type": "code",
   "execution_count": 26,
   "metadata": {},
   "outputs": [],
   "source": [
    "ubal=pdata.frame(unbal, index = c(\"PERSON\", \"YEAR\"))"
   ]
  },
  {
   "cell_type": "code",
   "execution_count": 31,
   "metadata": {},
   "outputs": [],
   "source": [
    "?make.pbalanced"
   ]
  },
  {
   "cell_type": "code",
   "execution_count": null,
   "metadata": {},
   "outputs": [],
   "source": []
  },
  {
   "cell_type": "code",
   "execution_count": 12,
   "metadata": {},
   "outputs": [
    {
     "data": {
      "text/plain": [
       "Balanced Panel: n = 3, T = 5, N = 15"
      ]
     },
     "metadata": {},
     "output_type": "display_data"
    }
   ],
   "source": [
    "pdim(unbal)"
   ]
  },
  {
   "cell_type": "code",
   "execution_count": 30,
   "metadata": {},
   "outputs": [
    {
     "data": {
      "text/html": [
       "<table>\n",
       "<thead><tr><th scope=col>PERSON</th><th scope=col>YEAR</th><th scope=col>Y</th><th scope=col>X</th></tr></thead>\n",
       "<tbody>\n",
       "\t<tr><td>Edward</td><td>2001  </td><td>31    </td><td>11    </td></tr>\n",
       "\t<tr><td>Edward</td><td>2002  </td><td>32    </td><td>12    </td></tr>\n",
       "\t<tr><td>Edward</td><td>2003  </td><td>33    </td><td>13    </td></tr>\n",
       "\t<tr><td>Edward</td><td>2004  </td><td>34    </td><td>14    </td></tr>\n",
       "\t<tr><td>Edward</td><td>2005  </td><td>35    </td><td>15    </td></tr>\n",
       "\t<tr><td>Frank </td><td>2001  </td><td>21    </td><td> 1    </td></tr>\n",
       "\t<tr><td>Frank </td><td>2002  </td><td>22    </td><td> 2    </td></tr>\n",
       "\t<tr><td>Frank </td><td>2003  </td><td>23    </td><td> 3    </td></tr>\n",
       "\t<tr><td>Frank </td><td>2004  </td><td>24    </td><td> 4    </td></tr>\n",
       "\t<tr><td>Frank </td><td>2005  </td><td>25    </td><td> 5    </td></tr>\n",
       "\t<tr><td>Tony  </td><td>2001  </td><td> 5    </td><td> 6    </td></tr>\n",
       "\t<tr><td>Tony  </td><td>2002  </td><td> 6    </td><td> 7    </td></tr>\n",
       "\t<tr><td>Tony  </td><td>2003  </td><td>NA    </td><td> 8    </td></tr>\n",
       "\t<tr><td>Tony  </td><td>2004  </td><td> 7    </td><td> 9    </td></tr>\n",
       "\t<tr><td>Tony  </td><td>2005  </td><td> 8    </td><td>10    </td></tr>\n",
       "</tbody>\n",
       "</table>\n"
      ],
      "text/latex": [
       "\\begin{tabular}{r|llll}\n",
       " PERSON & YEAR & Y & X\\\\\n",
       "\\hline\n",
       "\t Edward & 2001   & 31     & 11    \\\\\n",
       "\t Edward & 2002   & 32     & 12    \\\\\n",
       "\t Edward & 2003   & 33     & 13    \\\\\n",
       "\t Edward & 2004   & 34     & 14    \\\\\n",
       "\t Edward & 2005   & 35     & 15    \\\\\n",
       "\t Frank  & 2001   & 21     &  1    \\\\\n",
       "\t Frank  & 2002   & 22     &  2    \\\\\n",
       "\t Frank  & 2003   & 23     &  3    \\\\\n",
       "\t Frank  & 2004   & 24     &  4    \\\\\n",
       "\t Frank  & 2005   & 25     &  5    \\\\\n",
       "\t Tony   & 2001   &  5     &  6    \\\\\n",
       "\t Tony   & 2002   &  6     &  7    \\\\\n",
       "\t Tony   & 2003   & NA     &  8    \\\\\n",
       "\t Tony   & 2004   &  7     &  9    \\\\\n",
       "\t Tony   & 2005   &  8     & 10    \\\\\n",
       "\\end{tabular}\n"
      ],
      "text/markdown": [
       "\n",
       "PERSON | YEAR | Y | X | \n",
       "|---|---|---|---|---|---|---|---|---|---|---|---|---|---|---|\n",
       "| Edward | 2001   | 31     | 11     | \n",
       "| Edward | 2002   | 32     | 12     | \n",
       "| Edward | 2003   | 33     | 13     | \n",
       "| Edward | 2004   | 34     | 14     | \n",
       "| Edward | 2005   | 35     | 15     | \n",
       "| Frank  | 2001   | 21     |  1     | \n",
       "| Frank  | 2002   | 22     |  2     | \n",
       "| Frank  | 2003   | 23     |  3     | \n",
       "| Frank  | 2004   | 24     |  4     | \n",
       "| Frank  | 2005   | 25     |  5     | \n",
       "| Tony   | 2001   |  5     |  6     | \n",
       "| Tony   | 2002   |  6     |  7     | \n",
       "| Tony   | 2003   | NA     |  8     | \n",
       "| Tony   | 2004   |  7     |  9     | \n",
       "| Tony   | 2005   |  8     | 10     | \n",
       "\n",
       "\n"
      ],
      "text/plain": [
       "   PERSON YEAR Y  X \n",
       "1  Edward 2001 31 11\n",
       "2  Edward 2002 32 12\n",
       "3  Edward 2003 33 13\n",
       "4  Edward 2004 34 14\n",
       "5  Edward 2005 35 15\n",
       "6  Frank  2001 21  1\n",
       "7  Frank  2002 22  2\n",
       "8  Frank  2003 23  3\n",
       "9  Frank  2004 24  4\n",
       "10 Frank  2005 25  5\n",
       "11 Tony   2001  5  6\n",
       "12 Tony   2002  6  7\n",
       "13 Tony   2003 NA  8\n",
       "14 Tony   2004  7  9\n",
       "15 Tony   2005  8 10"
      ]
     },
     "metadata": {},
     "output_type": "display_data"
    }
   ],
   "source": [
    "make.pbalanced(unbal, balance.type = \"fill\",index = c(\"PERSON\", \"YEAR\") )"
   ]
  },
  {
   "cell_type": "code",
   "execution_count": 7,
   "metadata": {},
   "outputs": [
    {
     "data": {
      "text/html": [
       "'DataFile.xlsx'"
      ],
      "text/latex": [
       "'DataFile.xlsx'"
      ],
      "text/markdown": [
       "'DataFile.xlsx'"
      ],
      "text/plain": [
       "[1] \"DataFile.xlsx\""
      ]
     },
     "metadata": {},
     "output_type": "display_data"
    }
   ],
   "source": [
    "list.files(path = \"./Data\", recursive=\"True\")"
   ]
  },
  {
   "cell_type": "code",
   "execution_count": 9,
   "metadata": {},
   "outputs": [],
   "source": [
    "library(xlsx)\n",
    "df=read.xlsx(\"./Data/DataFile.xlsx\", sheetIndex = 1)"
   ]
  },
  {
   "cell_type": "code",
   "execution_count": 11,
   "metadata": {},
   "outputs": [
    {
     "data": {
      "text/html": [
       "<table>\n",
       "<thead><tr><th scope=col>year</th><th scope=col>Bank.Group</th><th scope=col>Bank</th><th scope=col>id</th><th scope=col>CEE1</th><th scope=col>ETA</th><th scope=col>SIZEA</th><th scope=col>PE</th><th scope=col>PE1</th></tr></thead>\n",
       "<tbody>\n",
       "\t<tr><td>2006                                    </td><td>Foreign Banks                           </td><td>CITIBANK N.A.                           </td><td>1                                       </td><td>0.15130205                              </td><td>0.09567215                              </td><td>13.02668                                </td><td>0.529859                                </td><td>1                                       </td></tr>\n",
       "\t<tr><td>2006                                    </td><td>Foreign Banks                           </td><td>DEUTSCHE BANK AG                        </td><td>2                                       </td><td>0.07489510                              </td><td>0.10882080                              </td><td>11.69943                                </td><td>1.000000                                </td><td>1                                       </td></tr>\n",
       "\t<tr><td>2006                                    </td><td>Foreign Banks                           </td><td>HONGKONG AND SHANGHAI BANKING CORPN.LTD.</td><td>3                                       </td><td>0.23463793                              </td><td>0.11118043                              </td><td>12.83396                                </td><td>0.482779                                </td><td>0                                       </td></tr>\n",
       "\t<tr><td>2006                                    </td><td>Foreign Banks                           </td><td>ROYAL BANK OF SCOTLAND N.V.             </td><td>4                                       </td><td>0.08739476                              </td><td>0.06748442                              </td><td>12.36904                                </td><td>0.528774                                </td><td>1                                       </td></tr>\n",
       "\t<tr><td>2006                                    </td><td>Foreign Banks                           </td><td>BANK OF AMERICA N.A.                    </td><td>5                                       </td><td>0.09517776                              </td><td>0.26519828                              </td><td>10.99636                                </td><td>1.000000                                </td><td>1                                       </td></tr>\n",
       "\t<tr><td>2006                                    </td><td>Foreign Banks                           </td><td>BANK OF NOVA SCOTIA                     </td><td>6                                       </td><td>0.07323517                              </td><td>0.08191892                              </td><td>10.51901                                </td><td>1.000000                                </td><td>1                                       </td></tr>\n",
       "</tbody>\n",
       "</table>\n"
      ],
      "text/latex": [
       "\\begin{tabular}{r|lllllllll}\n",
       " year & Bank.Group & Bank & id & CEE1 & ETA & SIZEA & PE & PE1\\\\\n",
       "\\hline\n",
       "\t 2006                                     & Foreign Banks                            & CITIBANK N.A.                            & 1                                        & 0.15130205                               & 0.09567215                               & 13.02668                                 & 0.529859                                 & 1                                       \\\\\n",
       "\t 2006                                     & Foreign Banks                            & DEUTSCHE BANK AG                         & 2                                        & 0.07489510                               & 0.10882080                               & 11.69943                                 & 1.000000                                 & 1                                       \\\\\n",
       "\t 2006                                     & Foreign Banks                            & HONGKONG AND SHANGHAI BANKING CORPN.LTD. & 3                                        & 0.23463793                               & 0.11118043                               & 12.83396                                 & 0.482779                                 & 0                                       \\\\\n",
       "\t 2006                                     & Foreign Banks                            & ROYAL BANK OF SCOTLAND N.V.              & 4                                        & 0.08739476                               & 0.06748442                               & 12.36904                                 & 0.528774                                 & 1                                       \\\\\n",
       "\t 2006                                     & Foreign Banks                            & BANK OF AMERICA N.A.                     & 5                                        & 0.09517776                               & 0.26519828                               & 10.99636                                 & 1.000000                                 & 1                                       \\\\\n",
       "\t 2006                                     & Foreign Banks                            & BANK OF NOVA SCOTIA                      & 6                                        & 0.07323517                               & 0.08191892                               & 10.51901                                 & 1.000000                                 & 1                                       \\\\\n",
       "\\end{tabular}\n"
      ],
      "text/markdown": [
       "\n",
       "year | Bank.Group | Bank | id | CEE1 | ETA | SIZEA | PE | PE1 | \n",
       "|---|---|---|---|---|---|\n",
       "| 2006                                     | Foreign Banks                            | CITIBANK N.A.                            | 1                                        | 0.15130205                               | 0.09567215                               | 13.02668                                 | 0.529859                                 | 1                                        | \n",
       "| 2006                                     | Foreign Banks                            | DEUTSCHE BANK AG                         | 2                                        | 0.07489510                               | 0.10882080                               | 11.69943                                 | 1.000000                                 | 1                                        | \n",
       "| 2006                                     | Foreign Banks                            | HONGKONG AND SHANGHAI BANKING CORPN.LTD. | 3                                        | 0.23463793                               | 0.11118043                               | 12.83396                                 | 0.482779                                 | 0                                        | \n",
       "| 2006                                     | Foreign Banks                            | ROYAL BANK OF SCOTLAND N.V.              | 4                                        | 0.08739476                               | 0.06748442                               | 12.36904                                 | 0.528774                                 | 1                                        | \n",
       "| 2006                                     | Foreign Banks                            | BANK OF AMERICA N.A.                     | 5                                        | 0.09517776                               | 0.26519828                               | 10.99636                                 | 1.000000                                 | 1                                        | \n",
       "| 2006                                     | Foreign Banks                            | BANK OF NOVA SCOTIA                      | 6                                        | 0.07323517                               | 0.08191892                               | 10.51901                                 | 1.000000                                 | 1                                        | \n",
       "\n",
       "\n"
      ],
      "text/plain": [
       "  year Bank.Group    Bank                                     id CEE1      \n",
       "1 2006 Foreign Banks CITIBANK N.A.                            1  0.15130205\n",
       "2 2006 Foreign Banks DEUTSCHE BANK AG                         2  0.07489510\n",
       "3 2006 Foreign Banks HONGKONG AND SHANGHAI BANKING CORPN.LTD. 3  0.23463793\n",
       "4 2006 Foreign Banks ROYAL BANK OF SCOTLAND N.V.              4  0.08739476\n",
       "5 2006 Foreign Banks BANK OF AMERICA N.A.                     5  0.09517776\n",
       "6 2006 Foreign Banks BANK OF NOVA SCOTIA                      6  0.07323517\n",
       "  ETA        SIZEA    PE       PE1\n",
       "1 0.09567215 13.02668 0.529859 1  \n",
       "2 0.10882080 11.69943 1.000000 1  \n",
       "3 0.11118043 12.83396 0.482779 0  \n",
       "4 0.06748442 12.36904 0.528774 1  \n",
       "5 0.26519828 10.99636 1.000000 1  \n",
       "6 0.08191892 10.51901 1.000000 1  "
      ]
     },
     "metadata": {},
     "output_type": "display_data"
    }
   ],
   "source": [
    "head(df)"
   ]
  },
  {
   "cell_type": "code",
   "execution_count": null,
   "metadata": {},
   "outputs": [],
   "source": [
    "###time series data-over a period of time.....cross sectional-at a particular point of time...\n",
    "#### panel data(lonitudinal data) is combination of both\n",
    "### Fixed asset model,random effects model,pooled ols (ordinary least square)\n",
    "\n",
    "### fixed asset is done on variables which change over time\n",
    "### assumption of random effect is cov(x,a) not = 0\n",
    "###install lmtest\n",
    "## ols"
   ]
  },
  {
   "cell_type": "code",
   "execution_count": 16,
   "metadata": {},
   "outputs": [
    {
     "data": {
      "text/plain": [
       "\n",
       "Call:\n",
       "lm(formula = PE ~ CEE1 + ETA + SIZEA, data = df)\n",
       "\n",
       "Residuals:\n",
       "     Min       1Q   Median       3Q      Max \n",
       "-0.72158 -0.18520 -0.04414  0.21682  0.55785 \n",
       "\n",
       "Coefficients:\n",
       "             Estimate Std. Error t value Pr(>|t|)    \n",
       "(Intercept)  1.524256   0.102443  14.879  < 2e-16 ***\n",
       "CEE1        -0.339423   0.098733  -3.438 0.000626 ***\n",
       "ETA          0.041299   0.066258   0.623 0.533307    \n",
       "SIZEA       -0.066484   0.007196  -9.239  < 2e-16 ***\n",
       "---\n",
       "Signif. codes:  0 ‘***’ 0.001 ‘**’ 0.01 ‘*’ 0.05 ‘.’ 0.1 ‘ ’ 1\n",
       "\n",
       "Residual standard error: 0.25 on 619 degrees of freedom\n",
       "Multiple R-squared:  0.1596,\tAdjusted R-squared:  0.1555 \n",
       "F-statistic: 39.18 on 3 and 619 DF,  p-value: < 2.2e-16\n"
      ]
     },
     "metadata": {},
     "output_type": "display_data"
    }
   ],
   "source": [
    "ols=lm(PE ~CEE1+ETA+SIZEA, data=df)\n",
    "summary(ols)"
   ]
  },
  {
   "cell_type": "code",
   "execution_count": 20,
   "metadata": {},
   "outputs": [
    {
     "data": {
      "text/plain": [
       "Oneway (individual) effect Within Model\n",
       "\n",
       "Call:\n",
       "plm(formula = PE ~ CEE1 + ETA + SIZEA, data = df, model = \"within\", \n",
       "    index = c(\"id\", \"year\"))\n",
       "\n",
       "Unbalanced Panel: n = 60, T = 3-11, N = 623\n",
       "\n",
       "Residuals:\n",
       "      Min.    1st Qu.     Median    3rd Qu.       Max. \n",
       "-0.4520567 -0.0891328 -0.0056814  0.0751628  0.7260402 \n",
       "\n",
       "Coefficients:\n",
       "      Estimate Std. Error t-value  Pr(>|t|)    \n",
       "CEE1  0.327105   0.143083  2.2861 0.0226202 *  \n",
       "ETA   0.328711   0.088528  3.7131 0.0002253 ***\n",
       "SIZEA 0.072804   0.014285  5.0964  4.74e-07 ***\n",
       "---\n",
       "Signif. codes:  0 ‘***’ 0.001 ‘**’ 0.01 ‘*’ 0.05 ‘.’ 0.1 ‘ ’ 1\n",
       "\n",
       "Total Sum of Squares:    17.87\n",
       "Residual Sum of Squares: 16.622\n",
       "R-Squared:      0.069821\n",
       "Adj. R-Squared: -0.033163\n",
       "F-statistic: 14.0115 on 3 and 560 DF, p-value: 8.0765e-09"
      ]
     },
     "metadata": {},
     "output_type": "display_data"
    }
   ],
   "source": [
    "library(plm)\n",
    "fixed = plm(PE ~ CEE1+ETA+SIZEA, data=df, index=c(\"id\", \"year\"), model=\"within\")\n",
    "summary(fixed)"
   ]
  },
  {
   "cell_type": "code",
   "execution_count": 21,
   "metadata": {},
   "outputs": [
    {
     "data": {
      "text/plain": [
       "\n",
       "\tF test for individual effects\n",
       "\n",
       "data:  PE ~ CEE1 + ETA + SIZEA\n",
       "F = 12.592, df1 = 59, df2 = 560, p-value < 2.2e-16\n",
       "alternative hypothesis: significant effects\n"
      ]
     },
     "metadata": {},
     "output_type": "display_data"
    }
   ],
   "source": [
    "##F test for choice between OLS and fixed effects\n",
    "######## Null: OLS is better than fixed\n",
    "pFtest(fixed, ols)   ## fixed effect is appropriate"
   ]
  },
  {
   "cell_type": "code",
   "execution_count": null,
   "metadata": {},
   "outputs": [],
   "source": []
  },
  {
   "cell_type": "code",
   "execution_count": null,
   "metadata": {},
   "outputs": [],
   "source": [
    "## Random effects estimation\n",
    "random <- plm(PE ~ CEE1+ETA+SIZEA, data=Data_File, index=c(\"id\", \"year\"), model=\"random\")\n",
    "summary(random)\n",
    "## Hausman test for choice between fixed effects and random effects\n",
    "##? NUll: null hypothesis is that the preferred model is random effects vs. the alternative the fixed effects\n",
    "phtest(fixed, random) \n",
    "#? Null is rejected i.e. fixed effect is appropriate\n",
    "## Choice between random effects and Ols BPLM Test\n",
    "pool <- plm(PE ~ CEE1+ETA+SIZEA, data=Data_File, index=c(\"id\", \"year\"), model=\"pooling\")\n",
    "summary(pool)\n",
    "\n",
    "#### Null is no panel effect (i.e. OLS better).\n",
    "plmtest(pool, type=c(\"bp\"))\n",
    "\n",
    "##// Test for cross sectional dependence\n",
    "## The null hypothesis in the B-P/LM and Pasaran CD tests of independence is that residuals across entities\n",
    "## are not correlated i.e. no cross sectional dependence\n",
    "fixed <- plm(PE ~ CEE1+ETA+SIZEA, data=Data_File, index=c(\"id\", \"year\"), model=\"within\")\n",
    "pcdtest(fixed, test = c(\"cd\"))\n",
    "\n",
    "##// Wooldridge test for serial correlation\n",
    "###? Null: No serial correlation\n",
    "fixed <- plm(PE ~ CEE1+ETA+SIZEA, data=Data_File, index=c(\"id\", \"year\"), model=\"within\")\n",
    "pbgtest(fixed)\n",
    "\n",
    "##// Testing for heteroskedasticity\n",
    "##? # Null: Homo skedasticity\n",
    "library(lmtest)\n",
    "bptest(PE ~ CEE1+ETA+SIZEA+factor(id), data=Data_File)\n",
    "\n",
    "# here Reject Null, Hetroscadisticity present\n",
    "\n",
    "\n",
    "\n",
    "## Unit root\n",
    "###? NUll: Unit root present\n",
    "Panel.set <- plm.data(Data_File,index=c(\"id\", \"year\"))\n",
    "library(tseries)\n",
    "adf.test(Data_File$PE, k = trunc((length(Data_File$CEE1)-1)^(1/3)))"
   ]
  }
 ],
 "metadata": {
  "kernelspec": {
   "display_name": "R",
   "language": "R",
   "name": "ir"
  },
  "language_info": {
   "codemirror_mode": "r",
   "file_extension": ".r",
   "mimetype": "text/x-r-source",
   "name": "R",
   "pygments_lexer": "r",
   "version": "3.5.1"
  }
 },
 "nbformat": 4,
 "nbformat_minor": 2
}
