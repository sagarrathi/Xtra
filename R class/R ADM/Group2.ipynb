{
 "cells": [
  {
   "cell_type": "markdown",
   "metadata": {
    "slideshow": {
     "slide_type": "slide"
    }
   },
   "source": [
    "# T test and F test\n",
    "\n",
    "### -> Ishan Gupta  \n",
    "### -> Sagar Rathi  \n",
    "### -> Sharad Khandelwal \n",
    "### -> Vaisakh Mahapatra"
   ]
  },
  {
   "cell_type": "markdown",
   "metadata": {
    "slideshow": {
     "slide_type": "slide"
    }
   },
   "source": [
    "## T Test:\n",
    "* T test (student t test) given by William Gosset in 1908.\n",
    "* It is used to compare the means of 2 population. \n",
    "* It is a test of significance of regression coefficient in regression model."
   ]
  },
  {
   "cell_type": "markdown",
   "metadata": {
    "slideshow": {
     "slide_type": "fragment"
    }
   },
   "source": [
    "## F Test :\n",
    "* F test (Variance ratio test) given by Fisher in 1920s.\n",
    "* It is a statistical test that determines the equality variance of two normal population and is used to compare variance of two population."
   ]
  },
  {
   "cell_type": "markdown",
   "metadata": {
    "slideshow": {
     "slide_type": "slide"
    }
   },
   "source": [
    "# Why use T test ?\n",
    "## > To compare mean of two sample.."
   ]
  },
  {
   "cell_type": "markdown",
   "metadata": {
    "slideshow": {
     "slide_type": "fragment"
    }
   },
   "source": [
    "## Main Conditions :\n",
    "### 1. Sample should be independent \n",
    "### 2. Samples must be normally distributed (Sharpio-wilk test).\n",
    "### 3. Variance of group should be equal (F test). "
   ]
  },
  {
   "cell_type": "markdown",
   "metadata": {
    "slideshow": {
     "slide_type": "slide"
    }
   },
   "source": [
    "## Formula :\n",
    "#### Classic T test\n",
    "\n",
    "\\begin{equation*}\n",
    "t = \\frac{m_A - m_B}{\\sqrt{ \\frac{S^2}{n_A} + \\frac{S^2}{n_B} }}\n",
    "\\end{equation*}\n",
    "\n",
    "* m = mean \n",
    "* n = size of group\n",
    "* S^2 = pooled variance\n",
    "\n",
    "#### Where S^2 can be given by:\n",
    "\\begin{equation*}\n",
    "S^2 = \\frac{\\sum{(x-m_A)^2}+\\sum{(x-m_B)^2}}{n_A+n_B-2}\n",
    "\\end{equation*}\n",
    "\n",
    "\n"
   ]
  },
  {
   "cell_type": "markdown",
   "metadata": {
    "slideshow": {
     "slide_type": "slide"
    }
   },
   "source": [
    "### Code:"
   ]
  },
  {
   "cell_type": "markdown",
   "metadata": {
    "slideshow": {
     "slide_type": "fragment"
    }
   },
   "source": [
    "t.test(x, y, alternative = \"two.sided\", var.equal = FALSE)"
   ]
  },
  {
   "cell_type": "markdown",
   "metadata": {
    "slideshow": {
     "slide_type": "fragment"
    }
   },
   "source": [
    "* <strong>alternative:</strong> Hypothisis -> TwoSided, Greater, Less\n",
    "\n",
    "* <strong> Var.equal :</strong> If variance equal use Classic formula or use welch formula"
   ]
  },
  {
   "cell_type": "markdown",
   "metadata": {
    "slideshow": {
     "slide_type": "slide"
    }
   },
   "source": [
    "## Making DataFrame:"
   ]
  },
  {
   "cell_type": "code",
   "execution_count": 3,
   "metadata": {
    "slideshow": {
     "slide_type": "subslide"
    }
   },
   "outputs": [
    {
     "data": {
      "text/html": [
       "<table>\n",
       "<thead><tr><th scope=col>gender</th><th scope=col>w</th></tr></thead>\n",
       "<tbody>\n",
       "\t<tr><td>Woman</td><td>38.9 </td></tr>\n",
       "\t<tr><td>Woman</td><td>61.2 </td></tr>\n",
       "\t<tr><td>Woman</td><td>73.3 </td></tr>\n",
       "\t<tr><td>Woman</td><td>21.8 </td></tr>\n",
       "\t<tr><td>Woman</td><td>63.4 </td></tr>\n",
       "\t<tr><td>Woman</td><td>64.6 </td></tr>\n",
       "\t<tr><td>Woman</td><td>48.4 </td></tr>\n",
       "\t<tr><td>Woman</td><td>48.8 </td></tr>\n",
       "\t<tr><td>Woman</td><td>48.5 </td></tr>\n",
       "\t<tr><td>Man  </td><td>67.8 </td></tr>\n",
       "\t<tr><td>Man  </td><td>60.0 </td></tr>\n",
       "\t<tr><td>Man  </td><td>63.4 </td></tr>\n",
       "\t<tr><td>Man  </td><td>76.0 </td></tr>\n",
       "\t<tr><td>Man  </td><td>89.4 </td></tr>\n",
       "\t<tr><td>Man  </td><td>73.3 </td></tr>\n",
       "\t<tr><td>Man  </td><td>67.3 </td></tr>\n",
       "\t<tr><td>Man  </td><td>61.3 </td></tr>\n",
       "\t<tr><td>Man  </td><td>62.4 </td></tr>\n",
       "</tbody>\n",
       "</table>\n"
      ],
      "text/latex": [
       "\\begin{tabular}{r|ll}\n",
       " gender & w\\\\\n",
       "\\hline\n",
       "\t Woman & 38.9 \\\\\n",
       "\t Woman & 61.2 \\\\\n",
       "\t Woman & 73.3 \\\\\n",
       "\t Woman & 21.8 \\\\\n",
       "\t Woman & 63.4 \\\\\n",
       "\t Woman & 64.6 \\\\\n",
       "\t Woman & 48.4 \\\\\n",
       "\t Woman & 48.8 \\\\\n",
       "\t Woman & 48.5 \\\\\n",
       "\t Man   & 67.8 \\\\\n",
       "\t Man   & 60.0 \\\\\n",
       "\t Man   & 63.4 \\\\\n",
       "\t Man   & 76.0 \\\\\n",
       "\t Man   & 89.4 \\\\\n",
       "\t Man   & 73.3 \\\\\n",
       "\t Man   & 67.3 \\\\\n",
       "\t Man   & 61.3 \\\\\n",
       "\t Man   & 62.4 \\\\\n",
       "\\end{tabular}\n"
      ],
      "text/markdown": [
       "\n",
       "| gender | w |\n",
       "|---|---|\n",
       "| Woman | 38.9  |\n",
       "| Woman | 61.2  |\n",
       "| Woman | 73.3  |\n",
       "| Woman | 21.8  |\n",
       "| Woman | 63.4  |\n",
       "| Woman | 64.6  |\n",
       "| Woman | 48.4  |\n",
       "| Woman | 48.8  |\n",
       "| Woman | 48.5  |\n",
       "| Man   | 67.8  |\n",
       "| Man   | 60.0  |\n",
       "| Man   | 63.4  |\n",
       "| Man   | 76.0  |\n",
       "| Man   | 89.4  |\n",
       "| Man   | 73.3  |\n",
       "| Man   | 67.3  |\n",
       "| Man   | 61.3  |\n",
       "| Man   | 62.4  |\n",
       "\n"
      ],
      "text/plain": [
       "   gender w   \n",
       "1  Woman  38.9\n",
       "2  Woman  61.2\n",
       "3  Woman  73.3\n",
       "4  Woman  21.8\n",
       "5  Woman  63.4\n",
       "6  Woman  64.6\n",
       "7  Woman  48.4\n",
       "8  Woman  48.8\n",
       "9  Woman  48.5\n",
       "10 Man    67.8\n",
       "11 Man    60.0\n",
       "12 Man    63.4\n",
       "13 Man    76.0\n",
       "14 Man    89.4\n",
       "15 Man    73.3\n",
       "16 Man    67.3\n",
       "17 Man    61.3\n",
       "18 Man    62.4"
      ]
     },
     "metadata": {},
     "output_type": "display_data"
    }
   ],
   "source": [
    "ww = c(38.9, 61.2, 73.3, 21.8, 63.4, 64.6, 48.4, 48.8, 48.5)\n",
    "mw = c(67.8, 60, 63.4, 76, 89.4, 73.3, 67.3, 61.3, 62.4) \n",
    "\n",
    "\n",
    "df = data.frame( \n",
    "                gender = rep(c(\"Woman\", \"Man\"), each = 9),\n",
    "                w = c(ww,  mw)\n",
    "                )\n",
    "df"
   ]
  },
  {
   "cell_type": "markdown",
   "metadata": {
    "slideshow": {
     "slide_type": "slide"
    }
   },
   "source": [
    "## Summary Of Data"
   ]
  },
  {
   "cell_type": "code",
   "execution_count": 4,
   "metadata": {
    "slideshow": {
     "slide_type": "fragment"
    }
   },
   "outputs": [
    {
     "data": {
      "text/html": [
       "<table>\n",
       "<thead><tr><th scope=col>gender</th><th scope=col>count</th><th scope=col>mean</th><th scope=col>sd</th></tr></thead>\n",
       "<tbody>\n",
       "\t<tr><td>Man      </td><td>9        </td><td>68.98889 </td><td> 9.375426</td></tr>\n",
       "\t<tr><td>Woman    </td><td>9        </td><td>52.10000 </td><td>15.596714</td></tr>\n",
       "</tbody>\n",
       "</table>\n"
      ],
      "text/latex": [
       "\\begin{tabular}{r|llll}\n",
       " gender & count & mean & sd\\\\\n",
       "\\hline\n",
       "\t Man       & 9         & 68.98889  &  9.375426\\\\\n",
       "\t Woman     & 9         & 52.10000  & 15.596714\\\\\n",
       "\\end{tabular}\n"
      ],
      "text/markdown": [
       "\n",
       "| gender | count | mean | sd |\n",
       "|---|---|---|---|\n",
       "| Man       | 9         | 68.98889  |  9.375426 |\n",
       "| Woman     | 9         | 52.10000  | 15.596714 |\n",
       "\n"
      ],
      "text/plain": [
       "  gender count mean     sd       \n",
       "1 Man    9     68.98889  9.375426\n",
       "2 Woman  9     52.10000 15.596714"
      ]
     },
     "metadata": {},
     "output_type": "display_data"
    }
   ],
   "source": [
    "## To using infix operator\n",
    "library(dplyr)\n",
    "\n",
    "df %>%\n",
    "    group_by(gender) %>% \n",
    "    summarise(\n",
    "            count=n(),\n",
    "            mean=mean(w),\n",
    "            sd=sd(w)\n",
    "            )"
   ]
  },
  {
   "cell_type": "markdown",
   "metadata": {
    "slideshow": {
     "slide_type": "slide"
    }
   },
   "source": [
    "## Visulaizing Data:"
   ]
  },
  {
   "cell_type": "code",
   "execution_count": 5,
   "metadata": {
    "slideshow": {
     "slide_type": "subslide"
    }
   },
   "outputs": [],
   "source": [
    "library(repr)\n",
    "options(repr.plot.width=4,repr.plot.height=4)"
   ]
  },
  {
   "cell_type": "code",
   "execution_count": 6,
   "metadata": {
    "scrolled": true,
    "slideshow": {
     "slide_type": "subslide"
    }
   },
   "outputs": [
    {
     "data": {
      "image/png": "[encoded data removed]",
      "text/plain": [
       "plot without title"
      ]
     },
     "metadata": {},
     "output_type": "display_data"
    }
   ],
   "source": [
    "boxplot(w~gender, data=df, col=c(\"dodgerblue\", \"pink\"),xlab=\"Gender\",ylab=\"Weights\")"
   ]
  },
  {
   "cell_type": "markdown",
   "metadata": {
    "slideshow": {
     "slide_type": "slide"
    }
   },
   "source": [
    "## Checking assumption before start\n"
   ]
  },
  {
   "cell_type": "markdown",
   "metadata": {
    "slideshow": {
     "slide_type": "subslide"
    }
   },
   "source": [
    "### 1. Sample should be independent"
   ]
  },
  {
   "cell_type": "markdown",
   "metadata": {
    "slideshow": {
     "slide_type": "subslide"
    }
   },
   "source": [
    "### 2. Samples must be normally distributed (Sharpio-wilk test).\n"
   ]
  },
  {
   "cell_type": "markdown",
   "metadata": {
    "slideshow": {
     "slide_type": "fragment"
    }
   },
   "source": [
    "### Null hypothesis: They are same"
   ]
  },
  {
   "cell_type": "code",
   "execution_count": 7,
   "metadata": {
    "slideshow": {
     "slide_type": "fragment"
    }
   },
   "outputs": [
    {
     "data": {
      "text/plain": [
       "\n",
       "\tShapiro-Wilk normality test\n",
       "\n",
       "data:  subset(df, df$gender == \"Man\")[, 2]\n",
       "W = 0.86425, p-value = 0.1066\n"
      ]
     },
     "metadata": {},
     "output_type": "display_data"
    }
   ],
   "source": [
    "shapiro.test(\n",
    "    subset(df, df$gender==\"Man\")[,2] \n",
    "    )"
   ]
  },
  {
   "cell_type": "code",
   "execution_count": 8,
   "metadata": {
    "slideshow": {
     "slide_type": "fragment"
    }
   },
   "outputs": [
    {
     "data": {
      "text/plain": [
       "\n",
       "\tShapiro-Wilk normality test\n",
       "\n",
       "data:  subset(df, df$gender == \"Woman\")[, 2]\n",
       "W = 0.94266, p-value = 0.6101\n"
      ]
     },
     "metadata": {},
     "output_type": "display_data"
    }
   ],
   "source": [
    "shapiro.test(\n",
    "    subset(df, df$gender==\"Woman\")[,2] \n",
    "    )"
   ]
  },
  {
   "cell_type": "markdown",
   "metadata": {
    "slideshow": {
     "slide_type": "fragment"
    }
   },
   "source": [
    "### Results: They are independentt indeed"
   ]
  },
  {
   "cell_type": "markdown",
   "metadata": {
    "slideshow": {
     "slide_type": "slide"
    }
   },
   "source": [
    "### 3. Variance of group should be equal (F test). "
   ]
  },
  {
   "cell_type": "markdown",
   "metadata": {
    "slideshow": {
     "slide_type": "fragment"
    }
   },
   "source": [
    "### Null Hypothis:  variance is diffrent"
   ]
  },
  {
   "cell_type": "code",
   "execution_count": 9,
   "metadata": {
    "slideshow": {
     "slide_type": "fragment"
    }
   },
   "outputs": [
    {
     "data": {
      "text/plain": [
       "\n",
       "\tF test to compare two variances\n",
       "\n",
       "data:  w by gender\n",
       "F = 0.36134, num df = 8, denom df = 8, p-value = 0.1714\n",
       "alternative hypothesis: true ratio of variances is not equal to 1\n",
       "95 percent confidence interval:\n",
       " 0.08150656 1.60191315\n",
       "sample estimates:\n",
       "ratio of variances \n",
       "         0.3613398 \n"
      ]
     },
     "metadata": {},
     "output_type": "display_data"
    }
   ],
   "source": [
    "var.test(w ~ gender, data=df)"
   ]
  },
  {
   "cell_type": "markdown",
   "metadata": {
    "slideshow": {
     "slide_type": "fragment"
    }
   },
   "source": [
    "### Results: variance are actually same"
   ]
  },
  {
   "cell_type": "markdown",
   "metadata": {
    "slideshow": {
     "slide_type": "slide"
    }
   },
   "source": [
    "## Perform actual  T test now: "
   ]
  },
  {
   "cell_type": "markdown",
   "metadata": {
    "slideshow": {
     "slide_type": "subslide"
    }
   },
   "source": [
    "### Null Hypothisis: Men & Woman have diffrent weights"
   ]
  },
  {
   "cell_type": "code",
   "execution_count": 10,
   "metadata": {
    "slideshow": {
     "slide_type": "fragment"
    }
   },
   "outputs": [
    {
     "data": {
      "text/plain": [
       "\n",
       "\tTwo Sample t-test\n",
       "\n",
       "data:  w by gender\n",
       "t = 2.7842, df = 16, p-value = 0.01327\n",
       "alternative hypothesis: true difference in means is not equal to 0\n",
       "95 percent confidence interval:\n",
       "  4.029759 29.748019\n",
       "sample estimates:\n",
       "  mean in group Man mean in group Woman \n",
       "           68.98889            52.10000 \n"
      ]
     },
     "metadata": {},
     "output_type": "display_data"
    }
   ],
   "source": [
    "t.test(w~gender, data =df, var.equal = T)"
   ]
  },
  {
   "cell_type": "markdown",
   "metadata": {
    "slideshow": {
     "slide_type": "fragment"
    }
   },
   "source": [
    "### Result: Women and Men have diffrent  weights"
   ]
  }
 ],
 "metadata": {
  "kernelspec": {
   "display_name": "R",
   "language": "R",
   "name": "ir"
  },
  "language_info": {
   "codemirror_mode": "r",
   "file_extension": ".r",
   "mimetype": "text/x-r-source",
   "name": "R",
   "pygments_lexer": "r",
   "version": "3.5.1"
  }
 },
 "nbformat": 4,
 "nbformat_minor": 2
}
