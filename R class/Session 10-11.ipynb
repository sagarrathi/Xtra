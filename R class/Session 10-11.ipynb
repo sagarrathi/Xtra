{
 "cells": [
  {
   "cell_type": "code",
   "execution_count": 1,
   "metadata": {},
   "outputs": [
    {
     "data": {
      "text/html": [
       "<table>\n",
       "<thead><tr><th scope=col>height</th><th scope=col>weight</th></tr></thead>\n",
       "<tbody>\n",
       "\t<tr><td>58 </td><td>115</td></tr>\n",
       "\t<tr><td>59 </td><td>117</td></tr>\n",
       "\t<tr><td>60 </td><td>120</td></tr>\n",
       "\t<tr><td>61 </td><td>123</td></tr>\n",
       "\t<tr><td>62 </td><td>126</td></tr>\n",
       "\t<tr><td>63 </td><td>129</td></tr>\n",
       "\t<tr><td>64 </td><td>132</td></tr>\n",
       "\t<tr><td>65 </td><td>135</td></tr>\n",
       "\t<tr><td>66 </td><td>139</td></tr>\n",
       "\t<tr><td>67 </td><td>142</td></tr>\n",
       "\t<tr><td>68 </td><td>146</td></tr>\n",
       "\t<tr><td>69 </td><td>150</td></tr>\n",
       "\t<tr><td>70 </td><td>154</td></tr>\n",
       "\t<tr><td>71 </td><td>159</td></tr>\n",
       "\t<tr><td>72 </td><td>164</td></tr>\n",
       "</tbody>\n",
       "</table>\n"
      ],
      "text/latex": [
       "\\begin{tabular}{r|ll}\n",
       " height & weight\\\\\n",
       "\\hline\n",
       "\t 58  & 115\\\\\n",
       "\t 59  & 117\\\\\n",
       "\t 60  & 120\\\\\n",
       "\t 61  & 123\\\\\n",
       "\t 62  & 126\\\\\n",
       "\t 63  & 129\\\\\n",
       "\t 64  & 132\\\\\n",
       "\t 65  & 135\\\\\n",
       "\t 66  & 139\\\\\n",
       "\t 67  & 142\\\\\n",
       "\t 68  & 146\\\\\n",
       "\t 69  & 150\\\\\n",
       "\t 70  & 154\\\\\n",
       "\t 71  & 159\\\\\n",
       "\t 72  & 164\\\\\n",
       "\\end{tabular}\n"
      ],
      "text/markdown": [
       "\n",
       "| height | weight |\n",
       "|---|---|\n",
       "| 58  | 115 |\n",
       "| 59  | 117 |\n",
       "| 60  | 120 |\n",
       "| 61  | 123 |\n",
       "| 62  | 126 |\n",
       "| 63  | 129 |\n",
       "| 64  | 132 |\n",
       "| 65  | 135 |\n",
       "| 66  | 139 |\n",
       "| 67  | 142 |\n",
       "| 68  | 146 |\n",
       "| 69  | 150 |\n",
       "| 70  | 154 |\n",
       "| 71  | 159 |\n",
       "| 72  | 164 |\n",
       "\n"
      ],
      "text/plain": [
       "   height weight\n",
       "1  58     115   \n",
       "2  59     117   \n",
       "3  60     120   \n",
       "4  61     123   \n",
       "5  62     126   \n",
       "6  63     129   \n",
       "7  64     132   \n",
       "8  65     135   \n",
       "9  66     139   \n",
       "10 67     142   \n",
       "11 68     146   \n",
       "12 69     150   \n",
       "13 70     154   \n",
       "14 71     159   \n",
       "15 72     164   "
      ]
     },
     "metadata": {},
     "output_type": "display_data"
    }
   ],
   "source": [
    "################################################################\n",
    "############# Statistical Programming with R ###################\n",
    "################################################################\n",
    "\n",
    "#Session 10\n",
    "###################################################\n",
    "################ Linear Regression ################\n",
    "###################################################\n",
    "data(\"women\")\n",
    "women"
   ]
  },
  {
   "cell_type": "code",
   "execution_count": 2,
   "metadata": {},
   "outputs": [
    {
     "data": {
      "text/html": [
       "0.995494767784216"
      ],
      "text/latex": [
       "0.995494767784216"
      ],
      "text/markdown": [
       "0.995494767784216"
      ],
      "text/plain": [
       "[1] 0.9954948"
      ]
     },
     "metadata": {},
     "output_type": "display_data"
    },
    {
     "data": {
      "image/png": "[encoded data removed]",
      "text/plain": [
       "plot without title"
      ]
     },
     "metadata": {},
     "output_type": "display_data"
    }
   ],
   "source": [
    "##Bivariate Regression\n",
    "attach(women)\n",
    "plot(height, weight)\n",
    "cor(weight,height)"
   ]
  },
  {
   "cell_type": "code",
   "execution_count": 3,
   "metadata": {},
   "outputs": [
    {
     "data": {
      "text/plain": [
       "\n",
       "Call:\n",
       "lm(formula = weight ~ height)\n",
       "\n",
       "Coefficients:\n",
       "(Intercept)       height  \n",
       "     -87.52         3.45  \n"
      ]
     },
     "metadata": {},
     "output_type": "display_data"
    }
   ],
   "source": [
    "#Do Regression\n",
    "lm(weight~height)"
   ]
  },
  {
   "cell_type": "code",
   "execution_count": 4,
   "metadata": {},
   "outputs": [
    {
     "ename": "ERROR",
     "evalue": "Error in int_abline(a = a, b = b, h = h, v = v, untf = untf, ...): plot.new has not been called yet\n",
     "output_type": "error",
     "traceback": [
      "Error in int_abline(a = a, b = b, h = h, v = v, untf = untf, ...): plot.new has not been called yet\nTraceback:\n",
      "1. abline(Model1)",
      "2. int_abline(a = a, b = b, h = h, v = v, untf = untf, ...)"
     ]
    }
   ],
   "source": [
    "Model1=lm(weight~height)\n",
    "#Write Equation\n",
    "abline(Model1)#Add trend line"
   ]
  },
  {
   "cell_type": "code",
   "execution_count": null,
   "metadata": {},
   "outputs": [],
   "source": [
    "#Compute fitted values\n",
    "Model1$fitted.values"
   ]
  },
  {
   "cell_type": "code",
   "execution_count": null,
   "metadata": {},
   "outputs": [],
   "source": [
    "#Compute residuals\n"
   ]
  },
  {
   "cell_type": "code",
   "execution_count": null,
   "metadata": {},
   "outputs": [],
   "source": [
    "Model1$residuals\n",
    "#Add a line for mean of weight (assuming slope is 0, no effect of height)\n",
    "abline(mean(weight),0, col=\"Red\")\n",
    "abline(-87.52,3.45, col=\"Blue\")"
   ]
  },
  {
   "cell_type": "code",
   "execution_count": null,
   "metadata": {},
   "outputs": [],
   "source": [
    "#See the desired outputs (coefficients and p-values)\n",
    "#First, see the output\n",
    "model_summary=summary(Model1)\n",
    "names(model_summary)"
   ]
  },
  {
   "cell_type": "code",
   "execution_count": null,
   "metadata": {},
   "outputs": [],
   "source": [
    "#Now extract\n",
    "model_summary$call #The Model"
   ]
  },
  {
   "cell_type": "code",
   "execution_count": null,
   "metadata": {},
   "outputs": [],
   "source": [
    "model_summary$residuals"
   ]
  },
  {
   "cell_type": "code",
   "execution_count": null,
   "metadata": {},
   "outputs": [],
   "source": [
    "model_summary$coefficients\n"
   ]
  },
  {
   "cell_type": "code",
   "execution_count": null,
   "metadata": {},
   "outputs": [],
   "source": [
    "model_summary$coefficients[1,1]"
   ]
  },
  {
   "cell_type": "code",
   "execution_count": null,
   "metadata": {},
   "outputs": [],
   "source": [
    "#Extract element\n",
    "model_summary$df"
   ]
  },
  {
   "cell_type": "code",
   "execution_count": null,
   "metadata": {},
   "outputs": [],
   "source": [
    "model_summary$r.squared"
   ]
  },
  {
   "cell_type": "code",
   "execution_count": null,
   "metadata": {},
   "outputs": [],
   "source": [
    "model_summary$adj.r.squared#Adjusted R-square"
   ]
  },
  {
   "cell_type": "code",
   "execution_count": null,
   "metadata": {},
   "outputs": [],
   "source": [
    "model_summary$fstatistic"
   ]
  },
  {
   "cell_type": "code",
   "execution_count": null,
   "metadata": {},
   "outputs": [],
   "source": [
    "model_summary$fstatistic[1]\n"
   ]
  },
  {
   "cell_type": "code",
   "execution_count": null,
   "metadata": {},
   "outputs": [],
   "source": [
    "help(pf)"
   ]
  },
  {
   "cell_type": "code",
   "execution_count": null,
   "metadata": {},
   "outputs": [],
   "source": [
    "pf(model_summary$fstatistic[1],model_summary$fstatistic[2],model_summary$fstatistic[3],lower.tail=FALSE)#p-value of F-statistics"
   ]
  },
  {
   "cell_type": "code",
   "execution_count": null,
   "metadata": {},
   "outputs": [],
   "source": []
  },
  {
   "cell_type": "code",
   "execution_count": null,
   "metadata": {},
   "outputs": [],
   "source": []
  },
  {
   "cell_type": "code",
   "execution_count": null,
   "metadata": {},
   "outputs": [],
   "source": []
  },
  {
   "cell_type": "code",
   "execution_count": null,
   "metadata": {},
   "outputs": [],
   "source": []
  },
  {
   "cell_type": "code",
   "execution_count": null,
   "metadata": {},
   "outputs": [],
   "source": [
    "##Alternate ways\n",
    "resid(model_summary)"
   ]
  },
  {
   "cell_type": "code",
   "execution_count": null,
   "metadata": {},
   "outputs": [],
   "source": [
    "coefficients(model_summary)"
   ]
  },
  {
   "cell_type": "code",
   "execution_count": null,
   "metadata": {},
   "outputs": [],
   "source": [
    "#Predict based on known values\n",
    "#Syntax(model name, name of the dependent variable in data.frame)\n",
    "predict(Model1, data.frame(height=60))\n",
    "#119.4833 (-87.516+3.45*60)"
   ]
  },
  {
   "cell_type": "code",
   "execution_count": null,
   "metadata": {},
   "outputs": [],
   "source": [
    "?predict"
   ]
  },
  {
   "cell_type": "code",
   "execution_count": null,
   "metadata": {},
   "outputs": [],
   "source": [
    "#Predict for more than one value\n",
    "predict(Model1, data.frame(height=c(60,70,80)))"
   ]
  },
  {
   "cell_type": "code",
   "execution_count": null,
   "metadata": {},
   "outputs": [],
   "source": [
    "(-87.516+3.45*60)\n",
    "(-87.516+3.45*70)\n",
    "(-87.516+3.45*80)"
   ]
  },
  {
   "cell_type": "code",
   "execution_count": null,
   "metadata": {},
   "outputs": [],
   "source": [
    "###################################################\n",
    "###################################################\n",
    "\n",
    "\n",
    "\n",
    "###################################################\n",
    "#Diagnostics on residuals\n",
    "###################################################\n",
    "#Assumption of normality\n",
    "x=resid(model_summary)"
   ]
  },
  {
   "cell_type": "code",
   "execution_count": null,
   "metadata": {},
   "outputs": [],
   "source": [
    "x"
   ]
  },
  {
   "cell_type": "code",
   "execution_count": null,
   "metadata": {},
   "outputs": [],
   "source": [
    "#Check mean and median\n",
    "mean(x)\n",
    "median(x)"
   ]
  },
  {
   "cell_type": "code",
   "execution_count": null,
   "metadata": {},
   "outputs": [],
   "source": [
    "#A huge difference exist, Hence not normal\n",
    "\n",
    "mean(y)\n",
    "median(y)"
   ]
  },
  {
   "cell_type": "code",
   "execution_count": null,
   "metadata": {},
   "outputs": [],
   "source": []
  },
  {
   "cell_type": "code",
   "execution_count": null,
   "metadata": {},
   "outputs": [],
   "source": [
    "hist(x)\n",
    "boxplot(x)"
   ]
  },
  {
   "cell_type": "code",
   "execution_count": null,
   "metadata": {},
   "outputs": [],
   "source": [
    "shapiro.test(x) #Shapiro-Wilk normality test\n",
    "#Null hypothesis: Data is normal\n",
    "#Works when we have large number of datasets"
   ]
  },
  {
   "cell_type": "code",
   "execution_count": null,
   "metadata": {},
   "outputs": [],
   "source": [
    "#Jarque-Bera test\n",
    "require(mvnormtest)"
   ]
  },
  {
   "cell_type": "code",
   "execution_count": null,
   "metadata": {},
   "outputs": [],
   "source": [
    "jb.norm.test(x)"
   ]
  },
  {
   "cell_type": "code",
   "execution_count": null,
   "metadata": {},
   "outputs": [],
   "source": [
    "#Check by random numbers those are normal\n",
    "set.seed(1)"
   ]
  },
  {
   "cell_type": "code",
   "execution_count": null,
   "metadata": {},
   "outputs": [],
   "source": [
    "y=rnorm(1000)\n",
    "jb.norm.test(y)\n",
    "#Null hypothesis: Data is normal\n",
    "#joint hypothesis of the skewness being zero and the excess kurtosis being zero\n",
    "\n",
    "#Plot QQ plots\n",
    "plot(Model1) #second plot\n",
    "par(mfrow=c(2,2)) #Make 4 windows\n",
    "plot(Model1)"
   ]
  },
  {
   "cell_type": "code",
   "execution_count": null,
   "metadata": {},
   "outputs": [],
   "source": []
  },
  {
   "cell_type": "code",
   "execution_count": null,
   "metadata": {},
   "outputs": [],
   "source": [
    "#######################################################\n",
    "#Assumption of linear relationship\n",
    "#by plotting residuals vs fitted values\n",
    "par(mfrow=c(1,1))\n",
    "plot(Model1$fitted.values,Model1$residuals)\n",
    "\n",
    "#alternatively\n",
    "plot(Model1)\n",
    "#It is not met here\n",
    "#Some information is still left\n",
    "##########################################\n",
    "\n",
    "#Homoscedasticity (The variance of residuals is constant)\n",
    "plot(height, weight)\n",
    "abline(Model1)\n",
    "#The errors are constant around the regression line\n",
    "\n",
    "#Or we can look at residual vs fitted values\n",
    "plot(Model1)\n",
    "###################################\n",
    "\n",
    "\n",
    "#New example\n",
    "###################################\n",
    "data(\"airquality\")\n",
    "airquality\n",
    "help(airquality)\n",
    "#See the characteristics of data by plotting\n",
    "attach(airquality)\n",
    "plot(airquality)\n",
    "\n",
    "\n",
    "#Run the regression, a general model of all possible variables\n",
    "lm(Ozone~Solar.R+Wind+Temp+Month+Day)\n",
    "#Assign to an object\n",
    "model_2=lm(Ozone~Solar.R+Wind+Temp+Month+Day)\n",
    "summary(model_2)\n",
    "\n",
    "\n",
    "#Run new model removing the effect of Days\n",
    "model_3=lm(Ozone~Solar.R+Wind+Temp+Month)\n",
    "summary(model_3)\n",
    "\n",
    "###################################################\n",
    "#Diagnostics on residuals\n",
    "###################################################\n",
    "#Assumption of normality\n",
    "x=resid(model_3)\n",
    "\n",
    "#Check mean and median\n",
    "mean(x)\n",
    "median(x)\n",
    "#A huge difference exist, Hence not normal\n",
    "\n",
    "hist(x)\n",
    "boxplot(x)\n",
    "shapiro.test(x) #Shapiro-Wilk normality test\n",
    "#Null hypothesis: Data is normal\n",
    "#Works when we have large number of datasets\n",
    "\n",
    "#Jarque-Bera test\n",
    "require(normtest)\n",
    "jb.norm.test(x)\n",
    "#Null hypothesis: Data is normal\n",
    "#joint hypothesis of the skewness being zero and the excess kurtosis being zero\n",
    "#######################################################\n",
    "#Assumption of linear relationship\n",
    "#by plotting residuals vs fitted values\n",
    "par(mfrow=c(1,1))\n",
    "plot(model_3$fitted.values,model_3$residuals)\n",
    "\n",
    "#alternatively\n",
    "plot(model_3)\n",
    "#It is not met here\n",
    "#Some information is still left\n",
    "#########################################"
   ]
  },
  {
   "cell_type": "code",
   "execution_count": null,
   "metadata": {},
   "outputs": [],
   "source": []
  }
 ],
 "metadata": {
  "kernelspec": {
   "display_name": "R",
   "language": "R",
   "name": "ir"
  },
  "language_info": {
   "codemirror_mode": "r",
   "file_extension": ".r",
   "mimetype": "text/x-r-source",
   "name": "R",
   "pygments_lexer": "r",
   "version": "3.5.1"
  }
 },
 "nbformat": 4,
 "nbformat_minor": 2
}
