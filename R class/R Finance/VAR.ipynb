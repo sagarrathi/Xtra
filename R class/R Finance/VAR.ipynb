{
 "cells": [
  {
   "cell_type": "code",
   "execution_count": 4,
   "metadata": {},
   "outputs": [],
   "source": [
    "library(xlsx)\n",
    "ACC=read.xlsx(\"../Data/ACC.xlsx\", sheetIndex = 1)"
   ]
  },
  {
   "cell_type": "code",
   "execution_count": 5,
   "metadata": {},
   "outputs": [
    {
     "data": {
      "text/html": [
       "<table>\n",
       "<thead><tr><th scope=col>Date</th><th scope=col>Spot_Ret</th><th scope=col>Futures_Ret</th></tr></thead>\n",
       "<tbody>\n",
       "\t<tr><td>20120103     </td><td> 0.004249639 </td><td> 0.0060496779</td></tr>\n",
       "\t<tr><td>20120104     </td><td>-0.035056971 </td><td>-0.0367694978</td></tr>\n",
       "\t<tr><td>20120105     </td><td> 0.007532907 </td><td> 0.0069533510</td></tr>\n",
       "\t<tr><td>20120106     </td><td>-0.008620159 </td><td>-0.0057836024</td></tr>\n",
       "\t<tr><td>20120107     </td><td>-0.001179192 </td><td>-0.0053198809</td></tr>\n",
       "\t<tr><td>20120109     </td><td>-0.001953259 </td><td>-0.0001808318</td></tr>\n",
       "</tbody>\n",
       "</table>\n"
      ],
      "text/latex": [
       "\\begin{tabular}{r|lll}\n",
       " Date & Spot\\_Ret & Futures\\_Ret\\\\\n",
       "\\hline\n",
       "\t 20120103      &  0.004249639  &  0.0060496779\\\\\n",
       "\t 20120104      & -0.035056971  & -0.0367694978\\\\\n",
       "\t 20120105      &  0.007532907  &  0.0069533510\\\\\n",
       "\t 20120106      & -0.008620159  & -0.0057836024\\\\\n",
       "\t 20120107      & -0.001179192  & -0.0053198809\\\\\n",
       "\t 20120109      & -0.001953259  & -0.0001808318\\\\\n",
       "\\end{tabular}\n"
      ],
      "text/markdown": [
       "\n",
       "| Date | Spot_Ret | Futures_Ret |\n",
       "|---|---|---|\n",
       "| 20120103      |  0.004249639  |  0.0060496779 |\n",
       "| 20120104      | -0.035056971  | -0.0367694978 |\n",
       "| 20120105      |  0.007532907  |  0.0069533510 |\n",
       "| 20120106      | -0.008620159  | -0.0057836024 |\n",
       "| 20120107      | -0.001179192  | -0.0053198809 |\n",
       "| 20120109      | -0.001953259  | -0.0001808318 |\n",
       "\n"
      ],
      "text/plain": [
       "  Date     Spot_Ret     Futures_Ret  \n",
       "1 20120103  0.004249639  0.0060496779\n",
       "2 20120104 -0.035056971 -0.0367694978\n",
       "3 20120105  0.007532907  0.0069533510\n",
       "4 20120106 -0.008620159 -0.0057836024\n",
       "5 20120107 -0.001179192 -0.0053198809\n",
       "6 20120109 -0.001953259 -0.0001808318"
      ]
     },
     "metadata": {},
     "output_type": "display_data"
    }
   ],
   "source": [
    "head(ACC)"
   ]
  },
  {
   "cell_type": "code",
   "execution_count": 6,
   "metadata": {},
   "outputs": [
    {
     "name": "stderr",
     "output_type": "stream",
     "text": [
      "Loading required package: urca\n"
     ]
    }
   ],
   "source": [
    "##Multivariate Time-series modelling\n",
    "#VAR and Granger causality test\n",
    "###############################################\n",
    "\n",
    "\n",
    "##VAR is an extension of AR models, hence, all variables must be stationary\n",
    "##Popularised by Sims (1980)\n",
    "#A VAR is a systems regression model (more than one dependent variable)\n",
    "#Simplest case is a Bivariate-VAR\n",
    "#Can be extentended to n variables\n",
    "\n",
    "##Select file (Import ACC file)\n",
    "##Check stationarity\n",
    "#Do ADF test for both returns\n",
    "require(urca)\n",
    "attach(ACC)"
   ]
  },
  {
   "cell_type": "code",
   "execution_count": 7,
   "metadata": {},
   "outputs": [
    {
     "data": {
      "text/html": [
       "-18.395321410599"
      ],
      "text/latex": [
       "-18.395321410599"
      ],
      "text/markdown": [
       "-18.395321410599"
      ],
      "text/plain": [
       "[1] -18.39532"
      ]
     },
     "metadata": {},
     "output_type": "display_data"
    },
    {
     "data": {
      "text/html": [
       "-2.86"
      ],
      "text/latex": [
       "-2.86"
      ],
      "text/markdown": [
       "-2.86"
      ],
      "text/plain": [
       "[1] -2.86"
      ]
     },
     "metadata": {},
     "output_type": "display_data"
    }
   ],
   "source": [
    "x_adf_prices=ur.df(Spot_Ret, type = \"drift\")\n",
    "x_adf_prices@teststat[1] #will give required output as Eviews 0.3107101\n",
    "x_adf_prices@cval [1,2] #Select 5% value tau2 values here -2.87\n",
    "#Can reject null #Hence, series is stationary\n",
    "#Reject when Test statistic is less than -2.87 (ADF is a left-tail test)"
   ]
  },
  {
   "cell_type": "code",
   "execution_count": null,
   "metadata": {},
   "outputs": [],
   "source": []
  },
  {
   "cell_type": "code",
   "execution_count": 8,
   "metadata": {},
   "outputs": [
    {
     "data": {
      "text/html": [
       "-18.2838388044887"
      ],
      "text/latex": [
       "-18.2838388044887"
      ],
      "text/markdown": [
       "-18.2838388044887"
      ],
      "text/plain": [
       "[1] -18.28384"
      ]
     },
     "metadata": {},
     "output_type": "display_data"
    },
    {
     "data": {
      "text/html": [
       "-2.86"
      ],
      "text/latex": [
       "-2.86"
      ],
      "text/markdown": [
       "-2.86"
      ],
      "text/plain": [
       "[1] -2.86"
      ]
     },
     "metadata": {},
     "output_type": "display_data"
    }
   ],
   "source": [
    "##Similarly for Futures_ret\n",
    "##############################\n",
    "y_adf_prices=ur.df(Futures_Ret, type = \"drift\")\n",
    "y_adf_prices@teststat[1] #will give required output as Eviews 0.3107101\n",
    "y_adf_prices@cval [1,2] #Select 5% value tau2 values here -2.87\n",
    "#Can reject null #Hence, series is stationary"
   ]
  },
  {
   "cell_type": "code",
   "execution_count": 9,
   "metadata": {},
   "outputs": [
    {
     "name": "stderr",
     "output_type": "stream",
     "text": [
      "Loading required package: MASS\n",
      "Loading required package: strucchange\n",
      "Loading required package: zoo\n",
      "\n",
      "Attaching package: ‘zoo’\n",
      "\n",
      "The following objects are masked from ‘package:base’:\n",
      "\n",
      "    as.Date, as.Date.numeric\n",
      "\n",
      "Loading required package: sandwich\n",
      "Loading required package: lmtest\n"
     ]
    },
    {
     "data": {
      "text/html": [
       "<dl>\n",
       "\t<dt>$selection</dt>\n",
       "\t\t<dd><dl class=dl-horizontal>\n",
       "\t<dt>AIC(n)</dt>\n",
       "\t\t<dd>4</dd>\n",
       "\t<dt>HQ(n)</dt>\n",
       "\t\t<dd>1</dd>\n",
       "\t<dt>SC(n)</dt>\n",
       "\t\t<dd>1</dd>\n",
       "\t<dt>FPE(n)</dt>\n",
       "\t\t<dd>4</dd>\n",
       "</dl>\n",
       "</dd>\n",
       "\t<dt>$criteria</dt>\n",
       "\t\t<dd><table>\n",
       "<thead><tr><th></th><th scope=col>1</th><th scope=col>2</th><th scope=col>3</th><th scope=col>4</th><th scope=col>5</th><th scope=col>6</th><th scope=col>7</th><th scope=col>8</th><th scope=col>9</th><th scope=col>10</th></tr></thead>\n",
       "<tbody>\n",
       "\t<tr><th scope=row>AIC(n)</th><td>-1.981979e+01</td><td>-1.981845e+01</td><td>-1.981796e+01</td><td>-1.982260e+01</td><td>-1.981427e+01</td><td>-1.980980e+01</td><td>-1.981844e+01</td><td>-1.982003e+01</td><td>-1.981012e+01</td><td>-1.980164e+01</td></tr>\n",
       "\t<tr><th scope=row>HQ(n)</th><td>-1.980529e+01</td><td>-1.979429e+01</td><td>-1.978413e+01</td><td>-1.977911e+01</td><td>-1.976110e+01</td><td>-1.974697e+01</td><td>-1.974595e+01</td><td>-1.973787e+01</td><td>-1.971829e+01</td><td>-1.970015e+01</td></tr>\n",
       "\t<tr><th scope=row>SC(n)</th><td>-1.978220e+01</td><td>-1.975580e+01</td><td>-1.973025e+01</td><td>-1.970983e+01</td><td>-1.967644e+01</td><td>-1.964691e+01</td><td>-1.963049e+01</td><td>-1.960702e+01</td><td>-1.957205e+01</td><td>-1.953851e+01</td></tr>\n",
       "\t<tr><th scope=row>FPE(n)</th><td> 2.468159e-09</td><td> 2.471474e-09</td><td> 2.472695e-09</td><td> 2.461241e-09</td><td> 2.481850e-09</td><td> 2.492967e-09</td><td> 2.471524e-09</td><td> 2.467609e-09</td><td> 2.492217e-09</td><td> 2.513457e-09</td></tr>\n",
       "</tbody>\n",
       "</table>\n",
       "</dd>\n",
       "</dl>\n"
      ],
      "text/latex": [
       "\\begin{description}\n",
       "\\item[\\$selection] \\begin{description*}\n",
       "\\item[AIC(n)] 4\n",
       "\\item[HQ(n)] 1\n",
       "\\item[SC(n)] 1\n",
       "\\item[FPE(n)] 4\n",
       "\\end{description*}\n",
       "\n",
       "\\item[\\$criteria] \\begin{tabular}{r|llllllllll}\n",
       "  & 1 & 2 & 3 & 4 & 5 & 6 & 7 & 8 & 9 & 10\\\\\n",
       "\\hline\n",
       "\tAIC(n) & -1.981979e+01 & -1.981845e+01 & -1.981796e+01 & -1.982260e+01 & -1.981427e+01 & -1.980980e+01 & -1.981844e+01 & -1.982003e+01 & -1.981012e+01 & -1.980164e+01\\\\\n",
       "\tHQ(n) & -1.980529e+01 & -1.979429e+01 & -1.978413e+01 & -1.977911e+01 & -1.976110e+01 & -1.974697e+01 & -1.974595e+01 & -1.973787e+01 & -1.971829e+01 & -1.970015e+01\\\\\n",
       "\tSC(n) & -1.978220e+01 & -1.975580e+01 & -1.973025e+01 & -1.970983e+01 & -1.967644e+01 & -1.964691e+01 & -1.963049e+01 & -1.960702e+01 & -1.957205e+01 & -1.953851e+01\\\\\n",
       "\tFPE(n) &  2.468159e-09 &  2.471474e-09 &  2.472695e-09 &  2.461241e-09 &  2.481850e-09 &  2.492967e-09 &  2.471524e-09 &  2.467609e-09 &  2.492217e-09 &  2.513457e-09\\\\\n",
       "\\end{tabular}\n",
       "\n",
       "\\end{description}\n"
      ],
      "text/markdown": [
       "$selection\n",
       ":   AIC(n)\n",
       ":   4HQ(n)\n",
       ":   1SC(n)\n",
       ":   1FPE(n)\n",
       ":   4\n",
       "\n",
       "\n",
       "$criteria\n",
       ":   \n",
       "| <!--/--> | 1 | 2 | 3 | 4 | 5 | 6 | 7 | 8 | 9 | 10 |\n",
       "|---|---|---|---|---|---|---|---|---|---|---|\n",
       "| AIC(n) | -1.981979e+01 | -1.981845e+01 | -1.981796e+01 | -1.982260e+01 | -1.981427e+01 | -1.980980e+01 | -1.981844e+01 | -1.982003e+01 | -1.981012e+01 | -1.980164e+01 |\n",
       "| HQ(n) | -1.980529e+01 | -1.979429e+01 | -1.978413e+01 | -1.977911e+01 | -1.976110e+01 | -1.974697e+01 | -1.974595e+01 | -1.973787e+01 | -1.971829e+01 | -1.970015e+01 |\n",
       "| SC(n) | -1.978220e+01 | -1.975580e+01 | -1.973025e+01 | -1.970983e+01 | -1.967644e+01 | -1.964691e+01 | -1.963049e+01 | -1.960702e+01 | -1.957205e+01 | -1.953851e+01 |\n",
       "| FPE(n) |  2.468159e-09 |  2.471474e-09 |  2.472695e-09 |  2.461241e-09 |  2.481850e-09 |  2.492967e-09 |  2.471524e-09 |  2.467609e-09 |  2.492217e-09 |  2.513457e-09 |\n",
       "\n",
       "\n",
       "\n",
       "\n"
      ],
      "text/plain": [
       "$selection\n",
       "AIC(n)  HQ(n)  SC(n) FPE(n) \n",
       "     4      1      1      4 \n",
       "\n",
       "$criteria\n",
       "                   1             2             3             4             5\n",
       "AIC(n) -1.981979e+01 -1.981845e+01 -1.981796e+01 -1.982260e+01 -1.981427e+01\n",
       "HQ(n)  -1.980529e+01 -1.979429e+01 -1.978413e+01 -1.977911e+01 -1.976110e+01\n",
       "SC(n)  -1.978220e+01 -1.975580e+01 -1.973025e+01 -1.970983e+01 -1.967644e+01\n",
       "FPE(n)  2.468159e-09  2.471474e-09  2.472695e-09  2.461241e-09  2.481850e-09\n",
       "                   6             7             8             9            10\n",
       "AIC(n) -1.980980e+01 -1.981844e+01 -1.982003e+01 -1.981012e+01 -1.980164e+01\n",
       "HQ(n)  -1.974697e+01 -1.974595e+01 -1.973787e+01 -1.971829e+01 -1.970015e+01\n",
       "SC(n)  -1.964691e+01 -1.963049e+01 -1.960702e+01 -1.957205e+01 -1.953851e+01\n",
       "FPE(n)  2.492967e-09  2.471524e-09  2.467609e-09  2.492217e-09  2.513457e-09\n"
      ]
     },
     "metadata": {},
     "output_type": "display_data"
    }
   ],
   "source": [
    "#Both series are stationary, hence we can apply VAR\n",
    "######################################################\n",
    "\n",
    "\n",
    "##Choosing the right lag for the model, using Information criteria\n",
    "#Install \"vars\" package\n",
    "library(vars)\n",
    "y2=VARselect(ACC[,2:3], lag.max = 10, type = \"const\")#Gives lag selection criterias for a VAR with constant only\n",
    "y2"
   ]
  },
  {
   "cell_type": "code",
   "execution_count": 10,
   "metadata": {},
   "outputs": [
    {
     "data": {
      "text/html": [
       "<strong>SC(n):</strong> 1"
      ],
      "text/latex": [
       "\\textbf{SC(n):} 1"
      ],
      "text/markdown": [
       "**SC(n):** 1"
      ],
      "text/plain": [
       "SC(n) \n",
       "    1 "
      ]
     },
     "metadata": {},
     "output_type": "display_data"
    }
   ],
   "source": [
    "#SIC lag selection\n",
    "y2$selection[3]#lags as per SC (Schwartz Criterion)"
   ]
  },
  {
   "cell_type": "code",
   "execution_count": 11,
   "metadata": {},
   "outputs": [
    {
     "data": {
      "text/plain": [
       "\n",
       "VAR Estimation Results:\n",
       "======================= \n",
       "\n",
       "Estimated coefficients for equation Spot_Ret: \n",
       "============================================= \n",
       "Call:\n",
       "Spot_Ret = Spot_Ret.l1 + Futures_Ret.l1 + const \n",
       "\n",
       "   Spot_Ret.l1 Futures_Ret.l1          const \n",
       " -0.2232168302   0.2924321603   0.0002511874 \n",
       "\n",
       "\n",
       "Estimated coefficients for equation Futures_Ret: \n",
       "================================================ \n",
       "Call:\n",
       "Futures_Ret = Spot_Ret.l1 + Futures_Ret.l1 + const \n",
       "\n",
       "   Spot_Ret.l1 Futures_Ret.l1          const \n",
       "  0.0556873438  -0.0057986813   0.0002607756 \n",
       "\n"
      ]
     },
     "metadata": {},
     "output_type": "display_data"
    },
    {
     "data": {
      "text/plain": [
       "\n",
       "VAR Estimation Results:\n",
       "========================= \n",
       "Endogenous variables: Spot_Ret, Futures_Ret \n",
       "Deterministic variables: const \n",
       "Sample size: 743 \n",
       "Log Likelihood: 5263.079 \n",
       "Roots of the characteristic polynomial:\n",
       "0.2821 0.05313\n",
       "Call:\n",
       "VAR(y = ACC[, 2:3], p = 1, type = \"const\")\n",
       "\n",
       "\n",
       "Estimation results for equation Spot_Ret: \n",
       "========================================= \n",
       "Spot_Ret = Spot_Ret.l1 + Futures_Ret.l1 + const \n",
       "\n",
       "                 Estimate Std. Error t value Pr(>|t|)\n",
       "Spot_Ret.l1    -0.2232168  0.1859274  -1.201    0.230\n",
       "Futures_Ret.l1  0.2924322  0.1887947   1.549    0.122\n",
       "const           0.0002512  0.0005970   0.421    0.674\n",
       "\n",
       "\n",
       "Residual standard error: 0.01627 on 740 degrees of freedom\n",
       "Multiple R-Squared: 0.006717,\tAdjusted R-squared: 0.004032 \n",
       "F-statistic: 2.502 on 2 and 740 DF,  p-value: 0.08261 \n",
       "\n",
       "\n",
       "Estimation results for equation Futures_Ret: \n",
       "============================================ \n",
       "Futures_Ret = Spot_Ret.l1 + Futures_Ret.l1 + const \n",
       "\n",
       "                 Estimate Std. Error t value Pr(>|t|)\n",
       "Spot_Ret.l1     0.0556873  0.1834744   0.304    0.762\n",
       "Futures_Ret.l1 -0.0057987  0.1863039  -0.031    0.975\n",
       "const           0.0002608  0.0005891   0.443    0.658\n",
       "\n",
       "\n",
       "Residual standard error: 0.01606 on 740 degrees of freedom\n",
       "Multiple R-Squared: 0.002589,\tAdjusted R-squared: -0.0001071 \n",
       "F-statistic: 0.9603 on 2 and 740 DF,  p-value: 0.3833 \n",
       "\n",
       "\n",
       "\n",
       "Covariance matrix of residuals:\n",
       "             Spot_Ret Futures_Ret\n",
       "Spot_Ret    0.0002647   0.0002565\n",
       "Futures_Ret 0.0002565   0.0002578\n",
       "\n",
       "Correlation matrix of residuals:\n",
       "            Spot_Ret Futures_Ret\n",
       "Spot_Ret       1.000       0.982\n",
       "Futures_Ret    0.982       1.000\n",
       "\n"
      ]
     },
     "metadata": {},
     "output_type": "display_data"
    }
   ],
   "source": [
    "#We will run VAR with lag 1\n",
    "####################################################\n",
    "#Run the VAR model with appropriate lag length\n",
    "var_model=VAR(ACC[,2:3],p=1, type= \"const\")\n",
    "var_model\n",
    "summary(var_model)#All details\n",
    "########################################"
   ]
  },
  {
   "cell_type": "code",
   "execution_count": 12,
   "metadata": {},
   "outputs": [
    {
     "data": {
      "text/plain": [
       "\n",
       "VAR Estimation Results:\n",
       "======================= \n",
       "\n",
       "Estimated coefficients for equation Spot_Ret: \n",
       "============================================= \n",
       "Call:\n",
       "Spot_Ret = Spot_Ret.l1 + Futures_Ret.l1 + const \n",
       "\n",
       "   Spot_Ret.l1 Futures_Ret.l1          const \n",
       " -0.2232168302   0.2924321603   0.0002511874 \n",
       "\n",
       "\n",
       "Estimated coefficients for equation Futures_Ret: \n",
       "================================================ \n",
       "Call:\n",
       "Futures_Ret = Spot_Ret.l1 + Futures_Ret.l1 + const \n",
       "\n",
       "   Spot_Ret.l1 Futures_Ret.l1          const \n",
       "  0.0556873438  -0.0057986813   0.0002607756 \n",
       "\n"
      ]
     },
     "metadata": {},
     "output_type": "display_data"
    },
    {
     "data": {
      "text/plain": [
       "\n",
       "VAR Estimation Results:\n",
       "========================= \n",
       "Endogenous variables: Spot_Ret, Futures_Ret \n",
       "Deterministic variables: const \n",
       "Sample size: 743 \n",
       "Log Likelihood: 5263.079 \n",
       "Roots of the characteristic polynomial:\n",
       "0.2821 0.05313\n",
       "Call:\n",
       "VAR(y = ACC[, 2:3], type = \"const\", lag.max = 10, ic = \"SC\")\n",
       "\n",
       "\n",
       "Estimation results for equation Spot_Ret: \n",
       "========================================= \n",
       "Spot_Ret = Spot_Ret.l1 + Futures_Ret.l1 + const \n",
       "\n",
       "                 Estimate Std. Error t value Pr(>|t|)\n",
       "Spot_Ret.l1    -0.2232168  0.1859274  -1.201    0.230\n",
       "Futures_Ret.l1  0.2924322  0.1887947   1.549    0.122\n",
       "const           0.0002512  0.0005970   0.421    0.674\n",
       "\n",
       "\n",
       "Residual standard error: 0.01627 on 740 degrees of freedom\n",
       "Multiple R-Squared: 0.006717,\tAdjusted R-squared: 0.004032 \n",
       "F-statistic: 2.502 on 2 and 740 DF,  p-value: 0.08261 \n",
       "\n",
       "\n",
       "Estimation results for equation Futures_Ret: \n",
       "============================================ \n",
       "Futures_Ret = Spot_Ret.l1 + Futures_Ret.l1 + const \n",
       "\n",
       "                 Estimate Std. Error t value Pr(>|t|)\n",
       "Spot_Ret.l1     0.0556873  0.1834744   0.304    0.762\n",
       "Futures_Ret.l1 -0.0057987  0.1863039  -0.031    0.975\n",
       "const           0.0002608  0.0005891   0.443    0.658\n",
       "\n",
       "\n",
       "Residual standard error: 0.01606 on 740 degrees of freedom\n",
       "Multiple R-Squared: 0.002589,\tAdjusted R-squared: -0.0001071 \n",
       "F-statistic: 0.9603 on 2 and 740 DF,  p-value: 0.3833 \n",
       "\n",
       "\n",
       "\n",
       "Covariance matrix of residuals:\n",
       "             Spot_Ret Futures_Ret\n",
       "Spot_Ret    0.0002647   0.0002565\n",
       "Futures_Ret 0.0002565   0.0002578\n",
       "\n",
       "Correlation matrix of residuals:\n",
       "            Spot_Ret Futures_Ret\n",
       "Spot_Ret       1.000       0.982\n",
       "Futures_Ret    0.982       1.000\n",
       "\n"
      ]
     },
     "metadata": {},
     "output_type": "display_data"
    }
   ],
   "source": [
    "#Run appropriate model directly with SIC lags\n",
    "var_model=VAR(ACC[,2:3], type= \"const\", lag.max = 10, ic=\"SC\")\n",
    "var_model\n",
    "summary(var_model)#All details\n",
    "###############################################\n",
    "##Block significance and causality tests\n",
    "#Granger's causality test can be used to test the direction of causal relationship \n",
    "#We can use the results of VAR model in var object \"var_model\""
   ]
  },
  {
   "cell_type": "code",
   "execution_count": 13,
   "metadata": {},
   "outputs": [
    {
     "data": {
      "text/plain": [
       "\n",
       "\tGranger causality H0: Spot_Ret do not Granger-cause Futures_Ret\n",
       "\n",
       "data:  VAR object var_model\n",
       "F-Test = 0.092122, df1 = 1, df2 = 1480, p-value = 0.7615\n"
      ]
     },
     "metadata": {},
     "output_type": "display_data"
    }
   ],
   "source": [
    "##Testing for granger causality\n",
    "#Null Hypothesis: spot_ret does not Granger cause futures_ret\n",
    "causality(var_model, cause = \"Spot_Ret\")$Granger"
   ]
  },
  {
   "cell_type": "code",
   "execution_count": 14,
   "metadata": {},
   "outputs": [
    {
     "data": {
      "text/plain": [
       "\n",
       "\tGranger causality H0: Futures_Ret do not Granger-cause Spot_Ret\n",
       "\n",
       "data:  VAR object var_model\n",
       "F-Test = 2.3992, df1 = 1, df2 = 1480, p-value = 0.1216\n"
      ]
     },
     "metadata": {},
     "output_type": "display_data"
    }
   ],
   "source": [
    "#Infer the results\n",
    "#Since p-value is not less than 0.05, we can not reject the null\n",
    "#And, conclude that spot_ret does not Granger cause futures_ret\n",
    "###################################################\n",
    "\n",
    "##Similarly, conduct Granger test for reverse causality\n",
    "#Null Hypothesis: futures_ret does not Granger cause spot_ret\n",
    "causality(var_model, cause = \"Futures_Ret\")$Granger"
   ]
  },
  {
   "cell_type": "code",
   "execution_count": 15,
   "metadata": {},
   "outputs": [],
   "source": [
    "#Infer the results\n",
    "#Since p-value is not less than 0.05, we can not reject the null\n",
    "#And, conclude that futures_ret does not Granger cause spot_ret\n",
    "\n",
    "##Overall, there is no causality in these two variables\n",
    "##Both markets are efficient and no arbitrage opprtunity exists.\n",
    "################################################################"
   ]
  }
 ],
 "metadata": {
  "kernelspec": {
   "display_name": "R",
   "language": "R",
   "name": "ir"
  },
  "language_info": {
   "codemirror_mode": "r",
   "file_extension": ".r",
   "mimetype": "text/x-r-source",
   "name": "R",
   "pygments_lexer": "r",
   "version": "3.5.1"
  }
 },
 "nbformat": 4,
 "nbformat_minor": 2
}
