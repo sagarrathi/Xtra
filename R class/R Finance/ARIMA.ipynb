{
 "cells": [
  {
   "cell_type": "code",
   "execution_count": 108,
   "metadata": {},
   "outputs": [
    {
     "data": {
      "text/html": [
       "<ol class=list-inline>\n",
       "\t<li>'ACC_matched.xlsx'</li>\n",
       "\t<li>'acc.csv'</li>\n",
       "\t<li>'agri'</li>\n",
       "\t<li>'Autos.xlsx'</li>\n",
       "\t<li>'Crude_Futures.csv'</li>\n",
       "\t<li>'Crude_spot.csv'</li>\n",
       "\t<li>'Data File.csv'</li>\n",
       "\t<li>'Data File.xlsx'</li>\n",
       "\t<li>'Data_for_Agri.zip'</li>\n",
       "\t<li>'Data_for_mid-term.zip'</li>\n",
       "\t<li>'Data.csv'</li>\n",
       "\t<li>'Data.xlsx'</li>\n",
       "\t<li>'Lung Cap_Random_csv.csv'</li>\n",
       "\t<li>'Lung Cap_Random.csv'</li>\n",
       "\t<li>'Lung Cap_Random2.csv'</li>\n",
       "\t<li>'mid_term'</li>\n",
       "\t<li>'New Microsoft Excel Worksheet.xlsx'</li>\n",
       "\t<li>'Regression_TCS.csv'</li>\n",
       "\t<li>'RELIANCE_Bhavcopy_xls.xls'</li>\n",
       "\t<li>'RELIANCE_Bhavcopy_xlsx.xlsx'</li>\n",
       "\t<li>'RELIANCE_close price.csv'</li>\n",
       "\t<li>'RELIANCE_number of trades.csv'</li>\n",
       "\t<li>'RELIANCE_trade quantity.csv'</li>\n",
       "\t<li>'sddg.xlsx'</li>\n",
       "\t<li>'TCS.csv'</li>\n",
       "</ol>\n"
      ],
      "text/latex": [
       "\\begin{enumerate*}\n",
       "\\item 'ACC\\_matched.xlsx'\n",
       "\\item 'acc.csv'\n",
       "\\item 'agri'\n",
       "\\item 'Autos.xlsx'\n",
       "\\item 'Crude\\_Futures.csv'\n",
       "\\item 'Crude\\_spot.csv'\n",
       "\\item 'Data File.csv'\n",
       "\\item 'Data File.xlsx'\n",
       "\\item 'Data\\_for\\_Agri.zip'\n",
       "\\item 'Data\\_for\\_mid-term.zip'\n",
       "\\item 'Data.csv'\n",
       "\\item 'Data.xlsx'\n",
       "\\item 'Lung Cap\\_Random\\_csv.csv'\n",
       "\\item 'Lung Cap\\_Random.csv'\n",
       "\\item 'Lung Cap\\_Random2.csv'\n",
       "\\item 'mid\\_term'\n",
       "\\item 'New Microsoft Excel Worksheet.xlsx'\n",
       "\\item 'Regression\\_TCS.csv'\n",
       "\\item 'RELIANCE\\_Bhavcopy\\_xls.xls'\n",
       "\\item 'RELIANCE\\_Bhavcopy\\_xlsx.xlsx'\n",
       "\\item 'RELIANCE\\_close price.csv'\n",
       "\\item 'RELIANCE\\_number of trades.csv'\n",
       "\\item 'RELIANCE\\_trade quantity.csv'\n",
       "\\item 'sddg.xlsx'\n",
       "\\item 'TCS.csv'\n",
       "\\end{enumerate*}\n"
      ],
      "text/markdown": [
       "1. 'ACC_matched.xlsx'\n",
       "2. 'acc.csv'\n",
       "3. 'agri'\n",
       "4. 'Autos.xlsx'\n",
       "5. 'Crude_Futures.csv'\n",
       "6. 'Crude_spot.csv'\n",
       "7. 'Data File.csv'\n",
       "8. 'Data File.xlsx'\n",
       "9. 'Data_for_Agri.zip'\n",
       "10. 'Data_for_mid-term.zip'\n",
       "11. 'Data.csv'\n",
       "12. 'Data.xlsx'\n",
       "13. 'Lung Cap_Random_csv.csv'\n",
       "14. 'Lung Cap_Random.csv'\n",
       "15. 'Lung Cap_Random2.csv'\n",
       "16. 'mid_term'\n",
       "17. 'New Microsoft Excel Worksheet.xlsx'\n",
       "18. 'Regression_TCS.csv'\n",
       "19. 'RELIANCE_Bhavcopy_xls.xls'\n",
       "20. 'RELIANCE_Bhavcopy_xlsx.xlsx'\n",
       "21. 'RELIANCE_close price.csv'\n",
       "22. 'RELIANCE_number of trades.csv'\n",
       "23. 'RELIANCE_trade quantity.csv'\n",
       "24. 'sddg.xlsx'\n",
       "25. 'TCS.csv'\n",
       "\n",
       "\n"
      ],
      "text/plain": [
       " [1] \"ACC_matched.xlsx\"                   \"acc.csv\"                           \n",
       " [3] \"agri\"                               \"Autos.xlsx\"                        \n",
       " [5] \"Crude_Futures.csv\"                  \"Crude_spot.csv\"                    \n",
       " [7] \"Data File.csv\"                      \"Data File.xlsx\"                    \n",
       " [9] \"Data_for_Agri.zip\"                  \"Data_for_mid-term.zip\"             \n",
       "[11] \"Data.csv\"                           \"Data.xlsx\"                         \n",
       "[13] \"Lung Cap_Random_csv.csv\"            \"Lung Cap_Random.csv\"               \n",
       "[15] \"Lung Cap_Random2.csv\"               \"mid_term\"                          \n",
       "[17] \"New Microsoft Excel Worksheet.xlsx\" \"Regression_TCS.csv\"                \n",
       "[19] \"RELIANCE_Bhavcopy_xls.xls\"          \"RELIANCE_Bhavcopy_xlsx.xlsx\"       \n",
       "[21] \"RELIANCE_close price.csv\"           \"RELIANCE_number of trades.csv\"     \n",
       "[23] \"RELIANCE_trade quantity.csv\"        \"sddg.xlsx\"                         \n",
       "[25] \"TCS.csv\"                           "
      ]
     },
     "metadata": {},
     "output_type": "display_data"
    }
   ],
   "source": [
    "list.files(\"../Data\")"
   ]
  },
  {
   "cell_type": "code",
   "execution_count": 109,
   "metadata": {},
   "outputs": [
    {
     "data": {
      "text/html": [
       "<table>\n",
       "<thead><tr><th scope=col>Symbol</th><th scope=col>Series</th><th scope=col>Date</th><th scope=col>Prev.Close</th><th scope=col>Open.Price</th><th scope=col>High.Price</th><th scope=col>Low.Price</th><th scope=col>Last.Price</th><th scope=col>Close.Price</th><th scope=col>Average.Price</th><th scope=col>Total.Traded.Quantity</th><th scope=col>Turnover</th><th scope=col>No..of.Trades</th></tr></thead>\n",
       "<tbody>\n",
       "\t<tr><td>ACC        </td><td>EQ         </td><td>24-Apr-2017</td><td>1495.45    </td><td>1518.00    </td><td>1615.60    </td><td>1513.55    </td><td>1608.0     </td><td>1607.00    </td><td>1585.52    </td><td>2098030    </td><td>3326465258 </td><td>67863      </td></tr>\n",
       "\t<tr><td>ACC        </td><td>EQ         </td><td>25-Apr-2017</td><td>1607.00    </td><td>1610.05    </td><td>1613.90    </td><td>1587.65    </td><td>1608.0     </td><td>1607.30    </td><td>1602.68    </td><td> 539573    </td><td> 864764442 </td><td>31970      </td></tr>\n",
       "\t<tr><td>ACC        </td><td>EQ         </td><td>26-Apr-2017</td><td>1607.30    </td><td>1607.30    </td><td>1626.80    </td><td>1591.10    </td><td>1604.3     </td><td>1601.60    </td><td>1610.28    </td><td> 526758    </td><td> 848230324 </td><td>23232      </td></tr>\n",
       "\t<tr><td>ACC        </td><td>EQ         </td><td>27-Apr-2017</td><td>1601.60    </td><td>1603.00    </td><td>1644.85    </td><td>1589.05    </td><td>1637.0     </td><td>1636.00    </td><td>1615.43    </td><td> 481629    </td><td> 778039859 </td><td>23001      </td></tr>\n",
       "\t<tr><td>ACC        </td><td>EQ         </td><td>28-Apr-2017</td><td>1636.00    </td><td>1626.65    </td><td>1635.00    </td><td>1606.05    </td><td>1625.0     </td><td>1626.55    </td><td>1622.32    </td><td> 373117    </td><td> 605316304 </td><td>15581      </td></tr>\n",
       "\t<tr><td>ACC        </td><td>EQ         </td><td>02-May-2017</td><td>1626.55    </td><td>1625.00    </td><td>1625.00    </td><td>1570.00    </td><td>1592.0     </td><td>1593.05    </td><td>1586.82    </td><td> 357316    </td><td> 566995646 </td><td>15394      </td></tr>\n",
       "</tbody>\n",
       "</table>\n"
      ],
      "text/latex": [
       "\\begin{tabular}{r|lllllllllllll}\n",
       " Symbol & Series & Date & Prev.Close & Open.Price & High.Price & Low.Price & Last.Price & Close.Price & Average.Price & Total.Traded.Quantity & Turnover & No..of.Trades\\\\\n",
       "\\hline\n",
       "\t ACC         & EQ          & 24-Apr-2017 & 1495.45     & 1518.00     & 1615.60     & 1513.55     & 1608.0      & 1607.00     & 1585.52     & 2098030     & 3326465258  & 67863      \\\\\n",
       "\t ACC         & EQ          & 25-Apr-2017 & 1607.00     & 1610.05     & 1613.90     & 1587.65     & 1608.0      & 1607.30     & 1602.68     &  539573     &  864764442  & 31970      \\\\\n",
       "\t ACC         & EQ          & 26-Apr-2017 & 1607.30     & 1607.30     & 1626.80     & 1591.10     & 1604.3      & 1601.60     & 1610.28     &  526758     &  848230324  & 23232      \\\\\n",
       "\t ACC         & EQ          & 27-Apr-2017 & 1601.60     & 1603.00     & 1644.85     & 1589.05     & 1637.0      & 1636.00     & 1615.43     &  481629     &  778039859  & 23001      \\\\\n",
       "\t ACC         & EQ          & 28-Apr-2017 & 1636.00     & 1626.65     & 1635.00     & 1606.05     & 1625.0      & 1626.55     & 1622.32     &  373117     &  605316304  & 15581      \\\\\n",
       "\t ACC         & EQ          & 02-May-2017 & 1626.55     & 1625.00     & 1625.00     & 1570.00     & 1592.0      & 1593.05     & 1586.82     &  357316     &  566995646  & 15394      \\\\\n",
       "\\end{tabular}\n"
      ],
      "text/markdown": [
       "\n",
       "| Symbol | Series | Date | Prev.Close | Open.Price | High.Price | Low.Price | Last.Price | Close.Price | Average.Price | Total.Traded.Quantity | Turnover | No..of.Trades |\n",
       "|---|---|---|---|---|---|---|---|---|---|---|---|---|\n",
       "| ACC         | EQ          | 24-Apr-2017 | 1495.45     | 1518.00     | 1615.60     | 1513.55     | 1608.0      | 1607.00     | 1585.52     | 2098030     | 3326465258  | 67863       |\n",
       "| ACC         | EQ          | 25-Apr-2017 | 1607.00     | 1610.05     | 1613.90     | 1587.65     | 1608.0      | 1607.30     | 1602.68     |  539573     |  864764442  | 31970       |\n",
       "| ACC         | EQ          | 26-Apr-2017 | 1607.30     | 1607.30     | 1626.80     | 1591.10     | 1604.3      | 1601.60     | 1610.28     |  526758     |  848230324  | 23232       |\n",
       "| ACC         | EQ          | 27-Apr-2017 | 1601.60     | 1603.00     | 1644.85     | 1589.05     | 1637.0      | 1636.00     | 1615.43     |  481629     |  778039859  | 23001       |\n",
       "| ACC         | EQ          | 28-Apr-2017 | 1636.00     | 1626.65     | 1635.00     | 1606.05     | 1625.0      | 1626.55     | 1622.32     |  373117     |  605316304  | 15581       |\n",
       "| ACC         | EQ          | 02-May-2017 | 1626.55     | 1625.00     | 1625.00     | 1570.00     | 1592.0      | 1593.05     | 1586.82     |  357316     |  566995646  | 15394       |\n",
       "\n"
      ],
      "text/plain": [
       "  Symbol Series Date        Prev.Close Open.Price High.Price Low.Price\n",
       "1 ACC    EQ     24-Apr-2017 1495.45    1518.00    1615.60    1513.55  \n",
       "2 ACC    EQ     25-Apr-2017 1607.00    1610.05    1613.90    1587.65  \n",
       "3 ACC    EQ     26-Apr-2017 1607.30    1607.30    1626.80    1591.10  \n",
       "4 ACC    EQ     27-Apr-2017 1601.60    1603.00    1644.85    1589.05  \n",
       "5 ACC    EQ     28-Apr-2017 1636.00    1626.65    1635.00    1606.05  \n",
       "6 ACC    EQ     02-May-2017 1626.55    1625.00    1625.00    1570.00  \n",
       "  Last.Price Close.Price Average.Price Total.Traded.Quantity Turnover  \n",
       "1 1608.0     1607.00     1585.52       2098030               3326465258\n",
       "2 1608.0     1607.30     1602.68        539573                864764442\n",
       "3 1604.3     1601.60     1610.28        526758                848230324\n",
       "4 1637.0     1636.00     1615.43        481629                778039859\n",
       "5 1625.0     1626.55     1622.32        373117                605316304\n",
       "6 1592.0     1593.05     1586.82        357316                566995646\n",
       "  No..of.Trades\n",
       "1 67863        \n",
       "2 31970        \n",
       "3 23232        \n",
       "4 23001        \n",
       "5 15581        \n",
       "6 15394        "
      ]
     },
     "metadata": {},
     "output_type": "display_data"
    }
   ],
   "source": [
    "x=read.csv(file=\"../Data/acc.csv\")\n",
    "head(x)"
   ]
  },
  {
   "cell_type": "code",
   "execution_count": 110,
   "metadata": {},
   "outputs": [
    {
     "data": {
      "text/html": [
       "<table>\n",
       "<thead><tr><th scope=col>Date</th><th scope=col>Close.Price</th></tr></thead>\n",
       "<tbody>\n",
       "\t<tr><td>24-Apr-2017</td><td>1607.00    </td></tr>\n",
       "\t<tr><td>25-Apr-2017</td><td>1607.30    </td></tr>\n",
       "\t<tr><td>26-Apr-2017</td><td>1601.60    </td></tr>\n",
       "\t<tr><td>27-Apr-2017</td><td>1636.00    </td></tr>\n",
       "\t<tr><td>28-Apr-2017</td><td>1626.55    </td></tr>\n",
       "\t<tr><td>02-May-2017</td><td>1593.05    </td></tr>\n",
       "</tbody>\n",
       "</table>\n"
      ],
      "text/latex": [
       "\\begin{tabular}{r|ll}\n",
       " Date & Close.Price\\\\\n",
       "\\hline\n",
       "\t 24-Apr-2017 & 1607.00    \\\\\n",
       "\t 25-Apr-2017 & 1607.30    \\\\\n",
       "\t 26-Apr-2017 & 1601.60    \\\\\n",
       "\t 27-Apr-2017 & 1636.00    \\\\\n",
       "\t 28-Apr-2017 & 1626.55    \\\\\n",
       "\t 02-May-2017 & 1593.05    \\\\\n",
       "\\end{tabular}\n"
      ],
      "text/markdown": [
       "\n",
       "| Date | Close.Price |\n",
       "|---|---|\n",
       "| 24-Apr-2017 | 1607.00     |\n",
       "| 25-Apr-2017 | 1607.30     |\n",
       "| 26-Apr-2017 | 1601.60     |\n",
       "| 27-Apr-2017 | 1636.00     |\n",
       "| 28-Apr-2017 | 1626.55     |\n",
       "| 02-May-2017 | 1593.05     |\n",
       "\n"
      ],
      "text/plain": [
       "  Date        Close.Price\n",
       "1 24-Apr-2017 1607.00    \n",
       "2 25-Apr-2017 1607.30    \n",
       "3 26-Apr-2017 1601.60    \n",
       "4 27-Apr-2017 1636.00    \n",
       "5 28-Apr-2017 1626.55    \n",
       "6 02-May-2017 1593.05    "
      ]
     },
     "metadata": {},
     "output_type": "display_data"
    }
   ],
   "source": [
    "x1=x[, c(3,9)]\n",
    "head(x1)"
   ]
  },
  {
   "cell_type": "code",
   "execution_count": 111,
   "metadata": {},
   "outputs": [
    {
     "data": {
      "text/html": [
       "<table>\n",
       "<thead><tr><th scope=col>Date</th><th scope=col>Close.Price</th><th scope=col>Returns</th></tr></thead>\n",
       "<tbody>\n",
       "\t<tr><td>24-Apr-2017  </td><td>1607.00      </td><td>           NA</td></tr>\n",
       "\t<tr><td>25-Apr-2017  </td><td>1607.30      </td><td> 0.0001866658</td></tr>\n",
       "\t<tr><td>26-Apr-2017  </td><td>1601.60      </td><td>-0.0035526230</td></tr>\n",
       "\t<tr><td>27-Apr-2017  </td><td>1636.00      </td><td> 0.0212511086</td></tr>\n",
       "\t<tr><td>28-Apr-2017  </td><td>1626.55      </td><td>-0.0057930309</td></tr>\n",
       "\t<tr><td>02-May-2017  </td><td>1593.05      </td><td>-0.0208107896</td></tr>\n",
       "</tbody>\n",
       "</table>\n"
      ],
      "text/latex": [
       "\\begin{tabular}{r|lll}\n",
       " Date & Close.Price & Returns\\\\\n",
       "\\hline\n",
       "\t 24-Apr-2017   & 1607.00       &            NA\\\\\n",
       "\t 25-Apr-2017   & 1607.30       &  0.0001866658\\\\\n",
       "\t 26-Apr-2017   & 1601.60       & -0.0035526230\\\\\n",
       "\t 27-Apr-2017   & 1636.00       &  0.0212511086\\\\\n",
       "\t 28-Apr-2017   & 1626.55       & -0.0057930309\\\\\n",
       "\t 02-May-2017   & 1593.05       & -0.0208107896\\\\\n",
       "\\end{tabular}\n"
      ],
      "text/markdown": [
       "\n",
       "| Date | Close.Price | Returns |\n",
       "|---|---|---|\n",
       "| 24-Apr-2017   | 1607.00       |            NA |\n",
       "| 25-Apr-2017   | 1607.30       |  0.0001866658 |\n",
       "| 26-Apr-2017   | 1601.60       | -0.0035526230 |\n",
       "| 27-Apr-2017   | 1636.00       |  0.0212511086 |\n",
       "| 28-Apr-2017   | 1626.55       | -0.0057930309 |\n",
       "| 02-May-2017   | 1593.05       | -0.0208107896 |\n",
       "\n"
      ],
      "text/plain": [
       "  Date        Close.Price Returns      \n",
       "1 24-Apr-2017 1607.00                NA\n",
       "2 25-Apr-2017 1607.30      0.0001866658\n",
       "3 26-Apr-2017 1601.60     -0.0035526230\n",
       "4 27-Apr-2017 1636.00      0.0212511086\n",
       "5 28-Apr-2017 1626.55     -0.0057930309\n",
       "6 02-May-2017 1593.05     -0.0208107896"
      ]
     },
     "metadata": {},
     "output_type": "display_data"
    }
   ],
   "source": [
    "x1$Returns=c(NA, diff(log(Close.Price)))\n",
    "head(x1)"
   ]
  },
  {
   "cell_type": "code",
   "execution_count": 112,
   "metadata": {},
   "outputs": [
    {
     "name": "stderr",
     "output_type": "stream",
     "text": [
      "The following objects are masked from x1 (pos = 3):\n",
      "\n",
      "    Close.Price, Date, Returns\n",
      "\n",
      "The following objects are masked from x1 (pos = 4):\n",
      "\n",
      "    Close.Price, Date, Returns\n",
      "\n",
      "The following objects are masked from x1 (pos = 5):\n",
      "\n",
      "    Close.Price, Date\n",
      "\n",
      "The following objects are masked from x1 (pos = 6):\n",
      "\n",
      "    Close.Price, Date\n",
      "\n",
      "The following objects are masked from x1 (pos = 8):\n",
      "\n",
      "    Close.Price, Date\n",
      "\n"
     ]
    }
   ],
   "source": [
    "attach(x1)"
   ]
  },
  {
   "cell_type": "code",
   "execution_count": 147,
   "metadata": {},
   "outputs": [
    {
     "data": {
      "image/png": "[encoded data removed]",
      "text/plain": [
       "Plot with title “Returns PACF”"
      ]
     },
     "metadata": {},
     "output_type": "display_data"
    }
   ],
   "source": [
    "par(mfrow=c(3,2))\n",
    "plot(Close.Price, col=\"Red\" , cex = .4, pch=1, main=\"Close Price Plot\")\n",
    "plot(Returns, col=\"Green\", cex = .4, pch=1, main=\"Returns Plot\")\n",
    "acf(Close.Price, 100,    col=\"Red\", main=\"Close Price ACF\")\n",
    "acf(Returns[2:490],   col=\"Green\", main=\" Returns ACF\")\n",
    "pacf(Close.Price,100,    col=\"Red\", main=\"Close Price PACF\")\n",
    "pacf(Returns[2:490],  col=\"Green\", main=\"Returns PACF\")"
   ]
  },
  {
   "cell_type": "code",
   "execution_count": 126,
   "metadata": {},
   "outputs": [],
   "source": [
    "library(urca)"
   ]
  },
  {
   "cell_type": "code",
   "execution_count": 130,
   "metadata": {},
   "outputs": [
    {
     "data": {
      "text/html": [
       "<table>\n",
       "<thead><tr><th></th><th scope=col>1pct</th><th scope=col>5pct</th><th scope=col>10pct</th></tr></thead>\n",
       "<tbody>\n",
       "\t<tr><th scope=row>tau2</th><td>-3.44</td><td>-2.87</td><td>-2.57</td></tr>\n",
       "\t<tr><th scope=row>phi1</th><td> 6.47</td><td> 4.61</td><td> 3.79</td></tr>\n",
       "</tbody>\n",
       "</table>\n"
      ],
      "text/latex": [
       "\\begin{tabular}{r|lll}\n",
       "  & 1pct & 5pct & 10pct\\\\\n",
       "\\hline\n",
       "\ttau2 & -3.44 & -2.87 & -2.57\\\\\n",
       "\tphi1 &  6.47 &  4.61 &  3.79\\\\\n",
       "\\end{tabular}\n"
      ],
      "text/markdown": [
       "\n",
       "| <!--/--> | 1pct | 5pct | 10pct |\n",
       "|---|---|---|---|\n",
       "| tau2 | -3.44 | -2.87 | -2.57 |\n",
       "| phi1 |  6.47 |  4.61 |  3.79 |\n",
       "\n"
      ],
      "text/plain": [
       "     1pct  5pct  10pct\n",
       "tau2 -3.44 -2.87 -2.57\n",
       "phi1  6.47  4.61  3.79"
      ]
     },
     "metadata": {},
     "output_type": "display_data"
    }
   ],
   "source": [
    "x_adf=ur.df(x1$Close.Price, type = \"drift\")\n",
    "x1_adf@cval"
   ]
  },
  {
   "cell_type": "code",
   "execution_count": 131,
   "metadata": {},
   "outputs": [
    {
     "data": {
      "text/html": [
       "-2.87"
      ],
      "text/latex": [
       "-2.87"
      ],
      "text/markdown": [
       "-2.87"
      ],
      "text/plain": [
       "[1] -2.87"
      ]
     },
     "metadata": {},
     "output_type": "display_data"
    }
   ],
   "source": [
    "x_adf@cval[1,2]"
   ]
  },
  {
   "cell_type": "code",
   "execution_count": 132,
   "metadata": {},
   "outputs": [
    {
     "data": {
      "text/html": [
       "-1.96333098891576"
      ],
      "text/latex": [
       "-1.96333098891576"
      ],
      "text/markdown": [
       "-1.96333098891576"
      ],
      "text/plain": [
       "[1] -1.963331"
      ]
     },
     "metadata": {},
     "output_type": "display_data"
    }
   ],
   "source": [
    "x_adf@teststat[1]"
   ]
  },
  {
   "cell_type": "code",
   "execution_count": 135,
   "metadata": {},
   "outputs": [
    {
     "data": {
      "text/plain": [
       "\n",
       "############################################### \n",
       "# Augmented Dickey-Fuller Test Unit Root Test # \n",
       "############################################### \n",
       "\n",
       "Test regression drift \n",
       "\n",
       "\n",
       "Call:\n",
       "lm(formula = z.diff ~ z.lag.1 + 1 + z.diff.lag)\n",
       "\n",
       "Residuals:\n",
       "     Min       1Q   Median       3Q      Max \n",
       "-115.357  -15.273   -1.567   15.374  159.588 \n",
       "\n",
       "Coefficients:\n",
       "             Estimate Std. Error t value Pr(>|t|)  \n",
       "(Intercept) 24.145770  12.298659   1.963   0.0502 .\n",
       "z.lag.1     -0.015200   0.007742  -1.963   0.0502 .\n",
       "z.diff.lag   0.050014   0.045233   1.106   0.2694  \n",
       "---\n",
       "Signif. codes:  0 ‘***’ 0.001 ‘**’ 0.01 ‘*’ 0.05 ‘.’ 0.1 ‘ ’ 1\n",
       "\n",
       "Residual standard error: 25.52 on 490 degrees of freedom\n",
       "Multiple R-squared:  0.009557,\tAdjusted R-squared:  0.005514 \n",
       "F-statistic: 2.364 on 2 and 490 DF,  p-value: 0.09512\n",
       "\n",
       "\n",
       "Value of test-statistic is: -1.9633 1.9315 \n",
       "\n",
       "Critical values for test statistics: \n",
       "      1pct  5pct 10pct\n",
       "tau2 -3.44 -2.87 -2.57\n",
       "phi1  6.47  4.61  3.79\n"
      ]
     },
     "metadata": {},
     "output_type": "display_data"
    }
   ],
   "source": [
    "summary(x_adf)\n",
    "# H0: Non-Stationary\n",
    "# H1: Stationary"
   ]
  },
  {
   "cell_type": "code",
   "execution_count": 144,
   "metadata": {},
   "outputs": [],
   "source": [
    "require(forecast)"
   ]
  },
  {
   "cell_type": "code",
   "execution_count": 138,
   "metadata": {},
   "outputs": [
    {
     "data": {
      "text/plain": [
       "Series: Returns[2:486] \n",
       "ARIMA(0,0,0) with zero mean \n",
       "\n",
       "sigma^2 estimated as 0.0002757:  log likelihood=1299.38\n",
       "AIC=-2596.76   AICc=-2596.76   BIC=-2592.58"
      ]
     },
     "metadata": {},
     "output_type": "display_data"
    }
   ],
   "source": [
    "auto.arima(Returns[2:486])"
   ]
  },
  {
   "cell_type": "code",
   "execution_count": 143,
   "metadata": {},
   "outputs": [],
   "source": [
    "model_x1=arima(Returns[2:486], order=c(0,0,0))\n",
    "model_x1_residual=model_x1$residuals"
   ]
  },
  {
   "cell_type": "code",
   "execution_count": null,
   "metadata": {},
   "outputs": [],
   "source": [
    "forecast_arima"
   ]
  }
 ],
 "metadata": {
  "kernelspec": {
   "display_name": "R",
   "language": "R",
   "name": "ir"
  },
  "language_info": {
   "codemirror_mode": "r",
   "file_extension": ".r",
   "mimetype": "text/x-r-source",
   "name": "R",
   "pygments_lexer": "r",
   "version": "3.5.1"
  }
 },
 "nbformat": 4,
 "nbformat_minor": 2
}
