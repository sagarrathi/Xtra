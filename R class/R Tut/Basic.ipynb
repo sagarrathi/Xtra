{
 "cells": [
  {
   "cell_type": "code",
   "execution_count": 1,
   "metadata": {},
   "outputs": [],
   "source": [
    "x <- 28"
   ]
  },
  {
   "cell_type": "code",
   "execution_count": 2,
   "metadata": {},
   "outputs": [
    {
     "data": {
      "text/html": [
       "'numeric'"
      ],
      "text/latex": [
       "'numeric'"
      ],
      "text/markdown": [
       "'numeric'"
      ],
      "text/plain": [
       "[1] \"numeric\""
      ]
     },
     "metadata": {},
     "output_type": "display_data"
    }
   ],
   "source": [
    "class(x)"
   ]
  },
  {
   "cell_type": "code",
   "execution_count": 3,
   "metadata": {},
   "outputs": [],
   "source": [
    "x <- \"R is ok\""
   ]
  },
  {
   "cell_type": "code",
   "execution_count": 4,
   "metadata": {},
   "outputs": [
    {
     "data": {
      "text/html": [
       "'character'"
      ],
      "text/latex": [
       "'character'"
      ],
      "text/markdown": [
       "'character'"
      ],
      "text/plain": [
       "[1] \"character\""
      ]
     },
     "metadata": {},
     "output_type": "display_data"
    }
   ],
   "source": [
    "class(x)"
   ]
  },
  {
   "cell_type": "code",
   "execution_count": 5,
   "metadata": {},
   "outputs": [],
   "source": [
    "x <- TRUE"
   ]
  },
  {
   "cell_type": "code",
   "execution_count": 6,
   "metadata": {},
   "outputs": [
    {
     "data": {
      "text/html": [
       "'logical'"
      ],
      "text/latex": [
       "'logical'"
      ],
      "text/markdown": [
       "'logical'"
      ],
      "text/plain": [
       "[1] \"logical\""
      ]
     },
     "metadata": {},
     "output_type": "display_data"
    }
   ],
   "source": [
    "class(x)"
   ]
  },
  {
   "cell_type": "code",
   "execution_count": 7,
   "metadata": {},
   "outputs": [],
   "source": [
    "x =\"NUMMERIC\""
   ]
  },
  {
   "cell_type": "code",
   "execution_count": 8,
   "metadata": {},
   "outputs": [
    {
     "data": {
      "text/html": [
       "'character'"
      ],
      "text/latex": [
       "'character'"
      ],
      "text/markdown": [
       "'character'"
      ],
      "text/plain": [
       "[1] \"character\""
      ]
     },
     "metadata": {},
     "output_type": "display_data"
    }
   ],
   "source": [
    "class(x)"
   ]
  },
  {
   "cell_type": "code",
   "execution_count": 9,
   "metadata": {},
   "outputs": [],
   "source": [
    "x =28 \n",
    "y=6"
   ]
  },
  {
   "cell_type": "code",
   "execution_count": 10,
   "metadata": {},
   "outputs": [
    {
     "data": {
      "text/html": [
       "22"
      ],
      "text/latex": [
       "22"
      ],
      "text/markdown": [
       "22"
      ],
      "text/plain": [
       "[1] 22"
      ]
     },
     "metadata": {},
     "output_type": "display_data"
    }
   ],
   "source": [
    "x-y"
   ]
  },
  {
   "cell_type": "code",
   "execution_count": 11,
   "metadata": {},
   "outputs": [],
   "source": [
    "vect_a= c(1, 10,49)"
   ]
  },
  {
   "cell_type": "code",
   "execution_count": 12,
   "metadata": {},
   "outputs": [
    {
     "data": {
      "text/html": [
       "<ol class=list-inline>\n",
       "\t<li>1</li>\n",
       "\t<li>10</li>\n",
       "\t<li>49</li>\n",
       "</ol>\n"
      ],
      "text/latex": [
       "\\begin{enumerate*}\n",
       "\\item 1\n",
       "\\item 10\n",
       "\\item 49\n",
       "\\end{enumerate*}\n"
      ],
      "text/markdown": [
       "1. 1\n",
       "2. 10\n",
       "3. 49\n",
       "\n",
       "\n"
      ],
      "text/plain": [
       "[1]  1 10 49"
      ]
     },
     "metadata": {},
     "output_type": "display_data"
    }
   ],
   "source": [
    "vect_a"
   ]
  },
  {
   "cell_type": "code",
   "execution_count": 13,
   "metadata": {},
   "outputs": [],
   "source": [
    "vect_a <- c(10,20,30)"
   ]
  },
  {
   "cell_type": "code",
   "execution_count": 14,
   "metadata": {},
   "outputs": [
    {
     "data": {
      "text/html": [
       "<ol class=list-inline>\n",
       "\t<li>10</li>\n",
       "\t<li>20</li>\n",
       "\t<li>30</li>\n",
       "</ol>\n"
      ],
      "text/latex": [
       "\\begin{enumerate*}\n",
       "\\item 10\n",
       "\\item 20\n",
       "\\item 30\n",
       "\\end{enumerate*}\n"
      ],
      "text/markdown": [
       "1. 10\n",
       "2. 20\n",
       "3. 30\n",
       "\n",
       "\n"
      ],
      "text/plain": [
       "[1] 10 20 30"
      ]
     },
     "metadata": {},
     "output_type": "display_data"
    }
   ],
   "source": [
    "vect_a"
   ]
  },
  {
   "cell_type": "code",
   "execution_count": 15,
   "metadata": {},
   "outputs": [],
   "source": [
    "vect_b = c(20,30,40)"
   ]
  },
  {
   "cell_type": "code",
   "execution_count": 16,
   "metadata": {},
   "outputs": [
    {
     "data": {
      "text/html": [
       "<ol class=list-inline>\n",
       "\t<li>-10</li>\n",
       "\t<li>-10</li>\n",
       "\t<li>-10</li>\n",
       "</ol>\n"
      ],
      "text/latex": [
       "\\begin{enumerate*}\n",
       "\\item -10\n",
       "\\item -10\n",
       "\\item -10\n",
       "\\end{enumerate*}\n"
      ],
      "text/markdown": [
       "1. -10\n",
       "2. -10\n",
       "3. -10\n",
       "\n",
       "\n"
      ],
      "text/plain": [
       "[1] -10 -10 -10"
      ]
     },
     "metadata": {},
     "output_type": "display_data"
    }
   ],
   "source": [
    "vect_a-vect_b"
   ]
  },
  {
   "cell_type": "code",
   "execution_count": 17,
   "metadata": {},
   "outputs": [],
   "source": [
    "sl=vect_a[1:2]"
   ]
  },
  {
   "cell_type": "code",
   "execution_count": 18,
   "metadata": {},
   "outputs": [
    {
     "data": {
      "text/html": [
       "<ol class=list-inline>\n",
       "\t<li>10</li>\n",
       "\t<li>20</li>\n",
       "</ol>\n"
      ],
      "text/latex": [
       "\\begin{enumerate*}\n",
       "\\item 10\n",
       "\\item 20\n",
       "\\end{enumerate*}\n"
      ],
      "text/markdown": [
       "1. 10\n",
       "2. 20\n",
       "\n",
       "\n"
      ],
      "text/plain": [
       "[1] 10 20"
      ]
     },
     "metadata": {},
     "output_type": "display_data"
    }
   ],
   "source": [
    "sl"
   ]
  },
  {
   "cell_type": "code",
   "execution_count": 19,
   "metadata": {},
   "outputs": [],
   "source": [
    "z=c(1:10)"
   ]
  },
  {
   "cell_type": "code",
   "execution_count": 20,
   "metadata": {},
   "outputs": [
    {
     "data": {
      "text/html": [
       "<ol class=list-inline>\n",
       "\t<li>1</li>\n",
       "\t<li>2</li>\n",
       "\t<li>3</li>\n",
       "\t<li>4</li>\n",
       "\t<li>5</li>\n",
       "\t<li>6</li>\n",
       "\t<li>7</li>\n",
       "\t<li>8</li>\n",
       "\t<li>9</li>\n",
       "\t<li>10</li>\n",
       "</ol>\n"
      ],
      "text/latex": [
       "\\begin{enumerate*}\n",
       "\\item 1\n",
       "\\item 2\n",
       "\\item 3\n",
       "\\item 4\n",
       "\\item 5\n",
       "\\item 6\n",
       "\\item 7\n",
       "\\item 8\n",
       "\\item 9\n",
       "\\item 10\n",
       "\\end{enumerate*}\n"
      ],
      "text/markdown": [
       "1. 1\n",
       "2. 2\n",
       "3. 3\n",
       "4. 4\n",
       "5. 5\n",
       "6. 6\n",
       "7. 7\n",
       "8. 8\n",
       "9. 9\n",
       "10. 10\n",
       "\n",
       "\n"
      ],
      "text/plain": [
       " [1]  1  2  3  4  5  6  7  8  9 10"
      ]
     },
     "metadata": {},
     "output_type": "display_data"
    }
   ],
   "source": [
    "z"
   ]
  },
  {
   "cell_type": "code",
   "execution_count": 21,
   "metadata": {},
   "outputs": [
    {
     "data": {
      "text/html": [
       "18"
      ],
      "text/latex": [
       "18"
      ],
      "text/markdown": [
       "18"
      ],
      "text/plain": [
       "[1] 18"
      ]
     },
     "metadata": {},
     "output_type": "display_data"
    }
   ],
   "source": [
    "3*6"
   ]
  },
  {
   "cell_type": "code",
   "execution_count": null,
   "metadata": {},
   "outputs": [],
   "source": []
  },
  {
   "cell_type": "code",
   "execution_count": 22,
   "metadata": {},
   "outputs": [
    {
     "data": {
      "text/html": [
       "64"
      ],
      "text/latex": [
       "64"
      ],
      "text/markdown": [
       "64"
      ],
      "text/plain": [
       "[1] 64"
      ]
     },
     "metadata": {},
     "output_type": "display_data"
    }
   ],
   "source": [
    "2^6"
   ]
  },
  {
   "cell_type": "code",
   "execution_count": 23,
   "metadata": {},
   "outputs": [
    {
     "data": {
      "text/html": [
       "6"
      ],
      "text/latex": [
       "6"
      ],
      "text/markdown": [
       "6"
      ],
      "text/plain": [
       "[1] 6"
      ]
     },
     "metadata": {},
     "output_type": "display_data"
    }
   ],
   "source": [
    "60%%9"
   ]
  },
  {
   "cell_type": "code",
   "execution_count": 24,
   "metadata": {},
   "outputs": [],
   "source": [
    "a=c(10,20,30)\n",
    "b=c(5,12,36)"
   ]
  },
  {
   "cell_type": "code",
   "execution_count": 25,
   "metadata": {},
   "outputs": [
    {
     "data": {
      "text/html": [
       "<ol class=list-inline>\n",
       "\t<li>TRUE</li>\n",
       "\t<li>TRUE</li>\n",
       "\t<li>TRUE</li>\n",
       "</ol>\n"
      ],
      "text/latex": [
       "\\begin{enumerate*}\n",
       "\\item TRUE\n",
       "\\item TRUE\n",
       "\\item TRUE\n",
       "\\end{enumerate*}\n"
      ],
      "text/markdown": [
       "1. TRUE\n",
       "2. TRUE\n",
       "3. TRUE\n",
       "\n",
       "\n"
      ],
      "text/plain": [
       "[1] TRUE TRUE TRUE"
      ]
     },
     "metadata": {},
     "output_type": "display_data"
    }
   ],
   "source": [
    "a&b"
   ]
  },
  {
   "cell_type": "code",
   "execution_count": 26,
   "metadata": {},
   "outputs": [
    {
     "data": {
      "text/html": [
       "30"
      ],
      "text/latex": [
       "30"
      ],
      "text/markdown": [
       "30"
      ],
      "text/plain": [
       "[1] 30"
      ]
     },
     "metadata": {},
     "output_type": "display_data"
    }
   ],
   "source": [
    "a[a>20 & a<=30]"
   ]
  },
  {
   "cell_type": "code",
   "execution_count": 27,
   "metadata": {},
   "outputs": [
    {
     "data": {
      "text/html": [
       "<table>\n",
       "<thead><tr><th scope=col>a</th><th scope=col>b</th></tr></thead>\n",
       "<tbody>\n",
       "\t<tr><td>10</td><td> 5</td></tr>\n",
       "\t<tr><td>20</td><td>12</td></tr>\n",
       "\t<tr><td>30</td><td>36</td></tr>\n",
       "</tbody>\n",
       "</table>\n"
      ],
      "text/latex": [
       "\\begin{tabular}{ll}\n",
       " a & b\\\\\n",
       "\\hline\n",
       "\t 10 &  5\\\\\n",
       "\t 20 & 12\\\\\n",
       "\t 30 & 36\\\\\n",
       "\\end{tabular}\n"
      ],
      "text/markdown": [
       "\n",
       "a | b | \n",
       "|---|---|---|\n",
       "| 10 |  5 | \n",
       "| 20 | 12 | \n",
       "| 30 | 36 | \n",
       "\n",
       "\n"
      ],
      "text/plain": [
       "     a  b \n",
       "[1,] 10  5\n",
       "[2,] 20 12\n",
       "[3,] 30 36"
      ]
     },
     "metadata": {},
     "output_type": "display_data"
    },
    {
     "data": {
      "text/html": [
       "'matrix'"
      ],
      "text/latex": [
       "'matrix'"
      ],
      "text/markdown": [
       "'matrix'"
      ],
      "text/plain": [
       "[1] \"matrix\""
      ]
     },
     "metadata": {},
     "output_type": "display_data"
    }
   ],
   "source": [
    "#matrix\n",
    "c=cbind(a,b)\n",
    "c\n",
    "class(c)"
   ]
  },
  {
   "cell_type": "code",
   "execution_count": null,
   "metadata": {},
   "outputs": [],
   "source": []
  },
  {
   "cell_type": "code",
   "execution_count": 28,
   "metadata": {},
   "outputs": [
    {
     "data": {
      "text/html": [
       "<table>\n",
       "<thead><tr><th scope=col>a</th><th scope=col>b</th></tr></thead>\n",
       "<tbody>\n",
       "\t<tr><td>10</td><td> 5</td></tr>\n",
       "\t<tr><td>20</td><td>12</td></tr>\n",
       "\t<tr><td>30</td><td>36</td></tr>\n",
       "</tbody>\n",
       "</table>\n"
      ],
      "text/latex": [
       "\\begin{tabular}{r|ll}\n",
       " a & b\\\\\n",
       "\\hline\n",
       "\t 10 &  5\\\\\n",
       "\t 20 & 12\\\\\n",
       "\t 30 & 36\\\\\n",
       "\\end{tabular}\n"
      ],
      "text/markdown": [
       "\n",
       "a | b | \n",
       "|---|---|---|\n",
       "| 10 |  5 | \n",
       "| 20 | 12 | \n",
       "| 30 | 36 | \n",
       "\n",
       "\n"
      ],
      "text/plain": [
       "  a  b \n",
       "1 10  5\n",
       "2 20 12\n",
       "3 30 36"
      ]
     },
     "metadata": {},
     "output_type": "display_data"
    }
   ],
   "source": [
    "#dataframe\n",
    "e=data.frame(a,b)\n",
    "e"
   ]
  },
  {
   "cell_type": "code",
   "execution_count": 29,
   "metadata": {},
   "outputs": [],
   "source": [
    "f=(8:10)"
   ]
  },
  {
   "cell_type": "code",
   "execution_count": 30,
   "metadata": {},
   "outputs": [
    {
     "data": {
      "text/html": [
       "<table>\n",
       "<thead><tr><th scope=col>a</th><th scope=col>b</th><th scope=col>f</th></tr></thead>\n",
       "<tbody>\n",
       "\t<tr><td>10</td><td> 5</td><td> 8</td></tr>\n",
       "\t<tr><td>20</td><td>12</td><td> 9</td></tr>\n",
       "\t<tr><td>30</td><td>36</td><td>10</td></tr>\n",
       "</tbody>\n",
       "</table>\n"
      ],
      "text/latex": [
       "\\begin{tabular}{lll}\n",
       " a & b & f\\\\\n",
       "\\hline\n",
       "\t 10 &  5 &  8\\\\\n",
       "\t 20 & 12 &  9\\\\\n",
       "\t 30 & 36 & 10\\\\\n",
       "\\end{tabular}\n"
      ],
      "text/markdown": [
       "\n",
       "a | b | f | \n",
       "|---|---|---|\n",
       "| 10 |  5 |  8 | \n",
       "| 20 | 12 |  9 | \n",
       "| 30 | 36 | 10 | \n",
       "\n",
       "\n"
      ],
      "text/plain": [
       "     a  b  f \n",
       "[1,] 10  5  8\n",
       "[2,] 20 12  9\n",
       "[3,] 30 36 10"
      ]
     },
     "metadata": {},
     "output_type": "display_data"
    }
   ],
   "source": [
    "z1=cbind(c,f)\n",
    "z1"
   ]
  },
  {
   "cell_type": "code",
   "execution_count": 31,
   "metadata": {},
   "outputs": [
    {
     "data": {
      "text/html": [
       "<table>\n",
       "<thead><tr><th scope=col>a</th><th scope=col>b</th><th scope=col>f</th></tr></thead>\n",
       "<tbody>\n",
       "\t<tr><td>10</td><td> 5</td><td> 8</td></tr>\n",
       "\t<tr><td>20</td><td>12</td><td> 9</td></tr>\n",
       "\t<tr><td>30</td><td>36</td><td>10</td></tr>\n",
       "</tbody>\n",
       "</table>\n"
      ],
      "text/latex": [
       "\\begin{tabular}{r|lll}\n",
       " a & b & f\\\\\n",
       "\\hline\n",
       "\t 10 &  5 &  8\\\\\n",
       "\t 20 & 12 &  9\\\\\n",
       "\t 30 & 36 & 10\\\\\n",
       "\\end{tabular}\n"
      ],
      "text/markdown": [
       "\n",
       "a | b | f | \n",
       "|---|---|---|\n",
       "| 10 |  5 |  8 | \n",
       "| 20 | 12 |  9 | \n",
       "| 30 | 36 | 10 | \n",
       "\n",
       "\n"
      ],
      "text/plain": [
       "  a  b  f \n",
       "1 10  5  8\n",
       "2 20 12  9\n",
       "3 30 36 10"
      ]
     },
     "metadata": {},
     "output_type": "display_data"
    }
   ],
   "source": [
    "z2=cbind(e,f)\n",
    "z2"
   ]
  },
  {
   "cell_type": "code",
   "execution_count": 32,
   "metadata": {},
   "outputs": [
    {
     "name": "stdout",
     "output_type": "stream",
     "text": [
      " num [1:3, 1:3] 10 20 30 5 12 36 8 9 10\n",
      " - attr(*, \"dimnames\")=List of 2\n",
      "  ..$ : NULL\n",
      "  ..$ : chr [1:3] \"a\" \"b\" \"f\"\n",
      "'data.frame':\t3 obs. of  3 variables:\n",
      " $ a: num  10 20 30\n",
      " $ b: num  5 12 36\n",
      " $ f: int  8 9 10\n"
     ]
    }
   ],
   "source": [
    "str(z1)\n",
    "str(z2)"
   ]
  },
  {
   "cell_type": "code",
   "execution_count": 33,
   "metadata": {},
   "outputs": [
    {
     "data": {
      "text/html": [
       "<table>\n",
       "<thead><tr><th scope=col>a</th><th scope=col>b</th><th scope=col>f</th></tr></thead>\n",
       "<tbody>\n",
       "\t<tr><td>10</td><td> 5</td><td> 8</td></tr>\n",
       "\t<tr><td>20</td><td>12</td><td> 9</td></tr>\n",
       "\t<tr><td>30</td><td>36</td><td>10</td></tr>\n",
       "</tbody>\n",
       "</table>\n"
      ],
      "text/latex": [
       "\\begin{tabular}{r|lll}\n",
       " a & b & f\\\\\n",
       "\\hline\n",
       "\t 10 &  5 &  8\\\\\n",
       "\t 20 & 12 &  9\\\\\n",
       "\t 30 & 36 & 10\\\\\n",
       "\\end{tabular}\n"
      ],
      "text/markdown": [
       "\n",
       "a | b | f | \n",
       "|---|---|---|\n",
       "| 10 |  5 |  8 | \n",
       "| 20 | 12 |  9 | \n",
       "| 30 | 36 | 10 | \n",
       "\n",
       "\n"
      ],
      "text/plain": [
       "  a  b  f \n",
       "1 10  5  8\n",
       "2 20 12  9\n",
       "3 30 36 10"
      ]
     },
     "metadata": {},
     "output_type": "display_data"
    }
   ],
   "source": [
    "z2"
   ]
  },
  {
   "cell_type": "markdown",
   "metadata": {},
   "source": [
    "z2[1:1]"
   ]
  },
  {
   "cell_type": "code",
   "execution_count": 34,
   "metadata": {},
   "outputs": [
    {
     "data": {
      "text/html": [
       "<table>\n",
       "<thead><tr><th></th><th scope=col>a</th><th scope=col>b</th></tr></thead>\n",
       "<tbody>\n",
       "\t<tr><th scope=row>2</th><td>20</td><td>12</td></tr>\n",
       "\t<tr><th scope=row>3</th><td>30</td><td>36</td></tr>\n",
       "</tbody>\n",
       "</table>\n"
      ],
      "text/latex": [
       "\\begin{tabular}{r|ll}\n",
       "  & a & b\\\\\n",
       "\\hline\n",
       "\t2 & 20 & 12\\\\\n",
       "\t3 & 30 & 36\\\\\n",
       "\\end{tabular}\n"
      ],
      "text/markdown": [
       "\n",
       "| <!--/--> | a | b | \n",
       "|---|---|\n",
       "| 2 | 20 | 12 | \n",
       "| 3 | 30 | 36 | \n",
       "\n",
       "\n"
      ],
      "text/plain": [
       "  a  b \n",
       "2 20 12\n",
       "3 30 36"
      ]
     },
     "metadata": {},
     "output_type": "display_data"
    }
   ],
   "source": [
    "z2[2:3, 1:2]"
   ]
  },
  {
   "cell_type": "code",
   "execution_count": 35,
   "metadata": {},
   "outputs": [
    {
     "data": {
      "text/html": [
       "<ol class=list-inline>\n",
       "\t<li>10</li>\n",
       "\t<li>20</li>\n",
       "\t<li>30</li>\n",
       "</ol>\n"
      ],
      "text/latex": [
       "\\begin{enumerate*}\n",
       "\\item 10\n",
       "\\item 20\n",
       "\\item 30\n",
       "\\end{enumerate*}\n"
      ],
      "text/markdown": [
       "1. 10\n",
       "2. 20\n",
       "3. 30\n",
       "\n",
       "\n"
      ],
      "text/plain": [
       "[1] 10 20 30"
      ]
     },
     "metadata": {},
     "output_type": "display_data"
    }
   ],
   "source": [
    "z2[,1]"
   ]
  },
  {
   "cell_type": "code",
   "execution_count": 36,
   "metadata": {},
   "outputs": [
    {
     "data": {
      "text/html": [
       "<table>\n",
       "<thead><tr><th scope=col>a</th><th scope=col>b</th><th scope=col>f</th></tr></thead>\n",
       "<tbody>\n",
       "\t<tr><td>10</td><td>5 </td><td>8 </td></tr>\n",
       "</tbody>\n",
       "</table>\n"
      ],
      "text/latex": [
       "\\begin{tabular}{r|lll}\n",
       " a & b & f\\\\\n",
       "\\hline\n",
       "\t 10 & 5  & 8 \\\\\n",
       "\\end{tabular}\n"
      ],
      "text/markdown": [
       "\n",
       "a | b | f | \n",
       "|---|\n",
       "| 10 | 5  | 8  | \n",
       "\n",
       "\n"
      ],
      "text/plain": [
       "  a  b f\n",
       "1 10 5 8"
      ]
     },
     "metadata": {},
     "output_type": "display_data"
    }
   ],
   "source": [
    "z2[1,]"
   ]
  },
  {
   "cell_type": "code",
   "execution_count": 37,
   "metadata": {},
   "outputs": [
    {
     "data": {
      "text/html": [
       "<ol class=list-inline>\n",
       "\t<li>'a'</li>\n",
       "\t<li>'b'</li>\n",
       "\t<li>'b'</li>\n",
       "\t<li>'b'</li>\n",
       "\t<li>'a'</li>\n",
       "</ol>\n"
      ],
      "text/latex": [
       "\\begin{enumerate*}\n",
       "\\item 'a'\n",
       "\\item 'b'\n",
       "\\item 'b'\n",
       "\\item 'b'\n",
       "\\item 'a'\n",
       "\\end{enumerate*}\n"
      ],
      "text/markdown": [
       "1. 'a'\n",
       "2. 'b'\n",
       "3. 'b'\n",
       "4. 'b'\n",
       "5. 'a'\n",
       "\n",
       "\n"
      ],
      "text/plain": [
       "[1] \"a\" \"b\" \"b\" \"b\" \"a\""
      ]
     },
     "metadata": {},
     "output_type": "display_data"
    },
    {
     "data": {
      "text/html": [
       "'character'"
      ],
      "text/latex": [
       "'character'"
      ],
      "text/markdown": [
       "'character'"
      ],
      "text/plain": [
       "[1] \"character\""
      ]
     },
     "metadata": {},
     "output_type": "display_data"
    },
    {
     "data": {
      "text/html": [
       "<ol class=list-inline>\n",
       "\t<li>a</li>\n",
       "\t<li>b</li>\n",
       "\t<li>b</li>\n",
       "\t<li>b</li>\n",
       "\t<li>a</li>\n",
       "</ol>\n",
       "\n",
       "<details>\n",
       "\t<summary style=display:list-item;cursor:pointer>\n",
       "\t\t<strong>Levels</strong>:\n",
       "\t</summary>\n",
       "\t<ol class=list-inline>\n",
       "\t\t<li>'a'</li>\n",
       "\t\t<li>'b'</li>\n",
       "\t</ol>\n",
       "</details>"
      ],
      "text/latex": [
       "\\begin{enumerate*}\n",
       "\\item a\n",
       "\\item b\n",
       "\\item b\n",
       "\\item b\n",
       "\\item a\n",
       "\\end{enumerate*}\n",
       "\n",
       "\\emph{Levels}: \\begin{enumerate*}\n",
       "\\item 'a'\n",
       "\\item 'b'\n",
       "\\end{enumerate*}\n"
      ],
      "text/markdown": [
       "1. a\n",
       "2. b\n",
       "3. b\n",
       "4. b\n",
       "5. a\n",
       "\n",
       "\n",
       "\n",
       "**Levels**: 1. 'a'\n",
       "2. 'b'\n",
       "\n",
       "\n"
      ],
      "text/plain": [
       "[1] a b b b a\n",
       "Levels: a b"
      ]
     },
     "metadata": {},
     "output_type": "display_data"
    },
    {
     "data": {
      "text/html": [
       "'factor'"
      ],
      "text/latex": [
       "'factor'"
      ],
      "text/markdown": [
       "'factor'"
      ],
      "text/plain": [
       "[1] \"factor\""
      ]
     },
     "metadata": {},
     "output_type": "display_data"
    }
   ],
   "source": [
    "g=c(\"a\",\"b\",\"b\",\"b\",\"a\")\n",
    "g\n",
    "class(g)\n",
    "g=factor(g)\n",
    "g\n",
    "class(g)"
   ]
  },
  {
   "cell_type": "code",
   "execution_count": 38,
   "metadata": {},
   "outputs": [],
   "source": [
    "g=factor(g, order=TRUE, level=c(\"a\",\"b\"))"
   ]
  },
  {
   "cell_type": "code",
   "execution_count": 39,
   "metadata": {},
   "outputs": [
    {
     "data": {
      "text/html": [
       "<dl class=dl-horizontal>\n",
       "\t<dt>a</dt>\n",
       "\t\t<dd>2</dd>\n",
       "\t<dt>b</dt>\n",
       "\t\t<dd>3</dd>\n",
       "</dl>\n"
      ],
      "text/latex": [
       "\\begin{description*}\n",
       "\\item[a] 2\n",
       "\\item[b] 3\n",
       "\\end{description*}\n"
      ],
      "text/markdown": [
       "a\n",
       ":   2b\n",
       ":   3\n",
       "\n"
      ],
      "text/plain": [
       "a b \n",
       "2 3 "
      ]
     },
     "metadata": {},
     "output_type": "display_data"
    }
   ],
   "source": [
    "summary(g)"
   ]
  },
  {
   "cell_type": "code",
   "execution_count": 40,
   "metadata": {},
   "outputs": [
    {
     "data": {
      "text/html": [
       "<table>\n",
       "<thead><tr><th scope=col>a</th><th scope=col>b</th><th scope=col>f</th></tr></thead>\n",
       "<tbody>\n",
       "\t<tr><td>10</td><td> 5</td><td> 8</td></tr>\n",
       "\t<tr><td>20</td><td>12</td><td> 9</td></tr>\n",
       "\t<tr><td>30</td><td>36</td><td>10</td></tr>\n",
       "</tbody>\n",
       "</table>\n"
      ],
      "text/latex": [
       "\\begin{tabular}{lll}\n",
       " a & b & f\\\\\n",
       "\\hline\n",
       "\t 10 &  5 &  8\\\\\n",
       "\t 20 & 12 &  9\\\\\n",
       "\t 30 & 36 & 10\\\\\n",
       "\\end{tabular}\n"
      ],
      "text/markdown": [
       "\n",
       "a | b | f | \n",
       "|---|---|---|\n",
       "| 10 |  5 |  8 | \n",
       "| 20 | 12 |  9 | \n",
       "| 30 | 36 | 10 | \n",
       "\n",
       "\n"
      ],
      "text/plain": [
       "     a  b  f \n",
       "[1,] 10  5  8\n",
       "[2,] 20 12  9\n",
       "[3,] 30 36 10"
      ]
     },
     "metadata": {},
     "output_type": "display_data"
    },
    {
     "data": {
      "text/html": [
       "<table>\n",
       "<thead><tr><th scope=col>a</th><th scope=col>b</th><th scope=col>f</th></tr></thead>\n",
       "<tbody>\n",
       "\t<tr><td>10</td><td> 5</td><td> 8</td></tr>\n",
       "\t<tr><td>20</td><td>12</td><td> 9</td></tr>\n",
       "\t<tr><td>30</td><td>36</td><td>10</td></tr>\n",
       "</tbody>\n",
       "</table>\n"
      ],
      "text/latex": [
       "\\begin{tabular}{lll}\n",
       " a & b & f\\\\\n",
       "\\hline\n",
       "\t 10 &  5 &  8\\\\\n",
       "\t 20 & 12 &  9\\\\\n",
       "\t 30 & 36 & 10\\\\\n",
       "\\end{tabular}\n"
      ],
      "text/markdown": [
       "\n",
       "a | b | f | \n",
       "|---|---|---|\n",
       "| 10 |  5 |  8 | \n",
       "| 20 | 12 |  9 | \n",
       "| 30 | 36 | 10 | \n",
       "\n",
       "\n"
      ],
      "text/plain": [
       "     a  b  f \n",
       "[1,] 10  5  8\n",
       "[2,] 20 12  9\n",
       "[3,] 30 36 10"
      ]
     },
     "metadata": {},
     "output_type": "display_data"
    },
    {
     "data": {
      "text/html": [
       "<table>\n",
       "<thead><tr><th scope=col>a</th><th scope=col>b</th><th scope=col>f</th></tr></thead>\n",
       "<tbody>\n",
       "\t<tr><td>1.000000 </td><td>0.698970 </td><td>0.9030900</td></tr>\n",
       "\t<tr><td>1.301030 </td><td>1.079181 </td><td>0.9542425</td></tr>\n",
       "\t<tr><td>1.477121 </td><td>1.556303 </td><td>1.0000000</td></tr>\n",
       "</tbody>\n",
       "</table>\n"
      ],
      "text/latex": [
       "\\begin{tabular}{lll}\n",
       " a & b & f\\\\\n",
       "\\hline\n",
       "\t 1.000000  & 0.698970  & 0.9030900\\\\\n",
       "\t 1.301030  & 1.079181  & 0.9542425\\\\\n",
       "\t 1.477121  & 1.556303  & 1.0000000\\\\\n",
       "\\end{tabular}\n"
      ],
      "text/markdown": [
       "\n",
       "a | b | f | \n",
       "|---|---|---|\n",
       "| 1.000000  | 0.698970  | 0.9030900 | \n",
       "| 1.301030  | 1.079181  | 0.9542425 | \n",
       "| 1.477121  | 1.556303  | 1.0000000 | \n",
       "\n",
       "\n"
      ],
      "text/plain": [
       "     a        b        f        \n",
       "[1,] 1.000000 0.698970 0.9030900\n",
       "[2,] 1.301030 1.079181 0.9542425\n",
       "[3,] 1.477121 1.556303 1.0000000"
      ]
     },
     "metadata": {},
     "output_type": "display_data"
    }
   ],
   "source": [
    "z1\n",
    "x1=log10(z1)\n",
    "z1\n",
    "x1\n"
   ]
  },
  {
   "cell_type": "code",
   "execution_count": 41,
   "metadata": {},
   "outputs": [
    {
     "data": {
      "text/html": [
       "<table>\n",
       "<thead><tr><th scope=col>a</th><th scope=col>b</th><th scope=col>f</th></tr></thead>\n",
       "<tbody>\n",
       "\t<tr><td>1e+10</td><td>1e+05</td><td>1e+08</td></tr>\n",
       "\t<tr><td>1e+20</td><td>1e+12</td><td>1e+09</td></tr>\n",
       "\t<tr><td>1e+30</td><td>1e+36</td><td>1e+10</td></tr>\n",
       "</tbody>\n",
       "</table>\n"
      ],
      "text/latex": [
       "\\begin{tabular}{lll}\n",
       " a & b & f\\\\\n",
       "\\hline\n",
       "\t 1e+10 & 1e+05 & 1e+08\\\\\n",
       "\t 1e+20 & 1e+12 & 1e+09\\\\\n",
       "\t 1e+30 & 1e+36 & 1e+10\\\\\n",
       "\\end{tabular}\n"
      ],
      "text/markdown": [
       "\n",
       "a | b | f | \n",
       "|---|---|---|\n",
       "| 1e+10 | 1e+05 | 1e+08 | \n",
       "| 1e+20 | 1e+12 | 1e+09 | \n",
       "| 1e+30 | 1e+36 | 1e+10 | \n",
       "\n",
       "\n"
      ],
      "text/plain": [
       "     a     b     f    \n",
       "[1,] 1e+10 1e+05 1e+08\n",
       "[2,] 1e+20 1e+12 1e+09\n",
       "[3,] 1e+30 1e+36 1e+10"
      ]
     },
     "metadata": {},
     "output_type": "display_data"
    }
   ],
   "source": [
    "10^z1"
   ]
  },
  {
   "cell_type": "code",
   "execution_count": 42,
   "metadata": {},
   "outputs": [],
   "source": [
    "# antilog.pred(z1, base=10)"
   ]
  },
  {
   "cell_type": "code",
   "execution_count": 43,
   "metadata": {},
   "outputs": [
    {
     "data": {
      "text/html": [
       "<table>\n",
       "<tbody>\n",
       "\t<tr><td> 1</td><td> 2</td></tr>\n",
       "\t<tr><td> 3</td><td> 4</td></tr>\n",
       "\t<tr><td> 5</td><td> 6</td></tr>\n",
       "\t<tr><td> 7</td><td> 8</td></tr>\n",
       "\t<tr><td> 9</td><td>10</td></tr>\n",
       "\t<tr><td>11</td><td>12</td></tr>\n",
       "</tbody>\n",
       "</table>\n"
      ],
      "text/latex": [
       "\\begin{tabular}{ll}\n",
       "\t  1 &  2\\\\\n",
       "\t  3 &  4\\\\\n",
       "\t  5 &  6\\\\\n",
       "\t  7 &  8\\\\\n",
       "\t  9 & 10\\\\\n",
       "\t 11 & 12\\\\\n",
       "\\end{tabular}\n"
      ],
      "text/markdown": [
       "\n",
       "|  1 |  2 | \n",
       "|  3 |  4 | \n",
       "|  5 |  6 | \n",
       "|  7 |  8 | \n",
       "|  9 | 10 | \n",
       "| 11 | 12 | \n",
       "\n",
       "\n"
      ],
      "text/plain": [
       "     [,1] [,2]\n",
       "[1,]  1    2  \n",
       "[2,]  3    4  \n",
       "[3,]  5    6  \n",
       "[4,]  7    8  \n",
       "[5,]  9   10  \n",
       "[6,] 11   12  "
      ]
     },
     "metadata": {},
     "output_type": "display_data"
    }
   ],
   "source": [
    "matrix(1:12, byrow=TRUE, nrow=6 )"
   ]
  },
  {
   "cell_type": "code",
   "execution_count": 44,
   "metadata": {},
   "outputs": [
    {
     "data": {
      "text/html": [
       "TRUE"
      ],
      "text/latex": [
       "TRUE"
      ],
      "text/markdown": [
       "TRUE"
      ],
      "text/plain": [
       "[1] TRUE"
      ]
     },
     "metadata": {},
     "output_type": "display_data"
    },
    {
     "data": {
      "text/html": [
       "FALSE"
      ],
      "text/latex": [
       "FALSE"
      ],
      "text/markdown": [
       "FALSE"
      ],
      "text/plain": [
       "[1] FALSE"
      ]
     },
     "metadata": {},
     "output_type": "display_data"
    },
    {
     "data": {
      "text/html": [
       "FALSE"
      ],
      "text/latex": [
       "FALSE"
      ],
      "text/markdown": [
       "FALSE"
      ],
      "text/plain": [
       "[1] FALSE"
      ]
     },
     "metadata": {},
     "output_type": "display_data"
    },
    {
     "data": {
      "text/html": [
       "TRUE"
      ],
      "text/latex": [
       "TRUE"
      ],
      "text/markdown": [
       "TRUE"
      ],
      "text/plain": [
       "[1] TRUE"
      ]
     },
     "metadata": {},
     "output_type": "display_data"
    }
   ],
   "source": [
    "is.matrix(c)\n",
    "is.matrix(e)\n",
    "is.data.frame(c)\n",
    "is.data.frame(e)"
   ]
  },
  {
   "cell_type": "code",
   "execution_count": 45,
   "metadata": {},
   "outputs": [],
   "source": [
    "matrix_a= matrix(1:10, byrow = TRUE, nrow = 5)\n"
   ]
  },
  {
   "cell_type": "code",
   "execution_count": 46,
   "metadata": {},
   "outputs": [
    {
     "data": {
      "text/html": [
       "<table>\n",
       "<tbody>\n",
       "\t<tr><td>1 </td><td> 2</td></tr>\n",
       "\t<tr><td>3 </td><td> 4</td></tr>\n",
       "\t<tr><td>5 </td><td> 6</td></tr>\n",
       "\t<tr><td>7 </td><td> 8</td></tr>\n",
       "\t<tr><td>9 </td><td>10</td></tr>\n",
       "</tbody>\n",
       "</table>\n"
      ],
      "text/latex": [
       "\\begin{tabular}{ll}\n",
       "\t 1  &  2\\\\\n",
       "\t 3  &  4\\\\\n",
       "\t 5  &  6\\\\\n",
       "\t 7  &  8\\\\\n",
       "\t 9  & 10\\\\\n",
       "\\end{tabular}\n"
      ],
      "text/markdown": [
       "\n",
       "| 1  |  2 | \n",
       "| 3  |  4 | \n",
       "| 5  |  6 | \n",
       "| 7  |  8 | \n",
       "| 9  | 10 | \n",
       "\n",
       "\n"
      ],
      "text/plain": [
       "     [,1] [,2]\n",
       "[1,] 1     2  \n",
       "[2,] 3     4  \n",
       "[3,] 5     6  \n",
       "[4,] 7     8  \n",
       "[5,] 9    10  "
      ]
     },
     "metadata": {},
     "output_type": "display_data"
    }
   ],
   "source": [
    "matrix_a"
   ]
  },
  {
   "cell_type": "code",
   "execution_count": 47,
   "metadata": {},
   "outputs": [
    {
     "data": {
      "text/html": [
       "<ol class=list-inline>\n",
       "\t<li>5</li>\n",
       "\t<li>2</li>\n",
       "</ol>\n"
      ],
      "text/latex": [
       "\\begin{enumerate*}\n",
       "\\item 5\n",
       "\\item 2\n",
       "\\end{enumerate*}\n"
      ],
      "text/markdown": [
       "1. 5\n",
       "2. 2\n",
       "\n",
       "\n"
      ],
      "text/plain": [
       "[1] 5 2"
      ]
     },
     "metadata": {},
     "output_type": "display_data"
    }
   ],
   "source": [
    "dim(matrix_a)"
   ]
  },
  {
   "cell_type": "code",
   "execution_count": 48,
   "metadata": {},
   "outputs": [],
   "source": [
    "vik1=1:100"
   ]
  },
  {
   "cell_type": "code",
   "execution_count": 49,
   "metadata": {},
   "outputs": [
    {
     "data": {
      "text/html": [
       "<ol class=list-inline>\n",
       "\t<li>1</li>\n",
       "\t<li>2</li>\n",
       "\t<li>3</li>\n",
       "\t<li>4</li>\n",
       "\t<li>5</li>\n",
       "\t<li>6</li>\n",
       "\t<li>7</li>\n",
       "\t<li>8</li>\n",
       "\t<li>9</li>\n",
       "\t<li>10</li>\n",
       "\t<li>11</li>\n",
       "\t<li>12</li>\n",
       "\t<li>13</li>\n",
       "\t<li>14</li>\n",
       "\t<li>15</li>\n",
       "\t<li>16</li>\n",
       "\t<li>17</li>\n",
       "\t<li>18</li>\n",
       "\t<li>19</li>\n",
       "\t<li>20</li>\n",
       "\t<li>21</li>\n",
       "\t<li>22</li>\n",
       "\t<li>23</li>\n",
       "\t<li>24</li>\n",
       "\t<li>25</li>\n",
       "\t<li>26</li>\n",
       "\t<li>27</li>\n",
       "\t<li>28</li>\n",
       "\t<li>29</li>\n",
       "\t<li>30</li>\n",
       "\t<li>31</li>\n",
       "\t<li>32</li>\n",
       "\t<li>33</li>\n",
       "\t<li>34</li>\n",
       "\t<li>35</li>\n",
       "\t<li>36</li>\n",
       "\t<li>37</li>\n",
       "\t<li>38</li>\n",
       "\t<li>39</li>\n",
       "\t<li>40</li>\n",
       "\t<li>41</li>\n",
       "\t<li>42</li>\n",
       "\t<li>43</li>\n",
       "\t<li>44</li>\n",
       "\t<li>45</li>\n",
       "\t<li>46</li>\n",
       "\t<li>47</li>\n",
       "\t<li>48</li>\n",
       "\t<li>49</li>\n",
       "\t<li>50</li>\n",
       "\t<li>51</li>\n",
       "\t<li>52</li>\n",
       "\t<li>53</li>\n",
       "\t<li>54</li>\n",
       "\t<li>55</li>\n",
       "\t<li>56</li>\n",
       "\t<li>57</li>\n",
       "\t<li>58</li>\n",
       "\t<li>59</li>\n",
       "\t<li>60</li>\n",
       "\t<li>61</li>\n",
       "\t<li>62</li>\n",
       "\t<li>63</li>\n",
       "\t<li>64</li>\n",
       "\t<li>65</li>\n",
       "\t<li>66</li>\n",
       "\t<li>67</li>\n",
       "\t<li>68</li>\n",
       "\t<li>69</li>\n",
       "\t<li>70</li>\n",
       "\t<li>71</li>\n",
       "\t<li>72</li>\n",
       "\t<li>73</li>\n",
       "\t<li>74</li>\n",
       "\t<li>75</li>\n",
       "\t<li>76</li>\n",
       "\t<li>77</li>\n",
       "\t<li>78</li>\n",
       "\t<li>79</li>\n",
       "\t<li>80</li>\n",
       "\t<li>81</li>\n",
       "\t<li>82</li>\n",
       "\t<li>83</li>\n",
       "\t<li>84</li>\n",
       "\t<li>85</li>\n",
       "\t<li>86</li>\n",
       "\t<li>87</li>\n",
       "\t<li>88</li>\n",
       "\t<li>89</li>\n",
       "\t<li>90</li>\n",
       "\t<li>91</li>\n",
       "\t<li>92</li>\n",
       "\t<li>93</li>\n",
       "\t<li>94</li>\n",
       "\t<li>95</li>\n",
       "\t<li>96</li>\n",
       "\t<li>97</li>\n",
       "\t<li>98</li>\n",
       "\t<li>99</li>\n",
       "\t<li>100</li>\n",
       "</ol>\n"
      ],
      "text/latex": [
       "\\begin{enumerate*}\n",
       "\\item 1\n",
       "\\item 2\n",
       "\\item 3\n",
       "\\item 4\n",
       "\\item 5\n",
       "\\item 6\n",
       "\\item 7\n",
       "\\item 8\n",
       "\\item 9\n",
       "\\item 10\n",
       "\\item 11\n",
       "\\item 12\n",
       "\\item 13\n",
       "\\item 14\n",
       "\\item 15\n",
       "\\item 16\n",
       "\\item 17\n",
       "\\item 18\n",
       "\\item 19\n",
       "\\item 20\n",
       "\\item 21\n",
       "\\item 22\n",
       "\\item 23\n",
       "\\item 24\n",
       "\\item 25\n",
       "\\item 26\n",
       "\\item 27\n",
       "\\item 28\n",
       "\\item 29\n",
       "\\item 30\n",
       "\\item 31\n",
       "\\item 32\n",
       "\\item 33\n",
       "\\item 34\n",
       "\\item 35\n",
       "\\item 36\n",
       "\\item 37\n",
       "\\item 38\n",
       "\\item 39\n",
       "\\item 40\n",
       "\\item 41\n",
       "\\item 42\n",
       "\\item 43\n",
       "\\item 44\n",
       "\\item 45\n",
       "\\item 46\n",
       "\\item 47\n",
       "\\item 48\n",
       "\\item 49\n",
       "\\item 50\n",
       "\\item 51\n",
       "\\item 52\n",
       "\\item 53\n",
       "\\item 54\n",
       "\\item 55\n",
       "\\item 56\n",
       "\\item 57\n",
       "\\item 58\n",
       "\\item 59\n",
       "\\item 60\n",
       "\\item 61\n",
       "\\item 62\n",
       "\\item 63\n",
       "\\item 64\n",
       "\\item 65\n",
       "\\item 66\n",
       "\\item 67\n",
       "\\item 68\n",
       "\\item 69\n",
       "\\item 70\n",
       "\\item 71\n",
       "\\item 72\n",
       "\\item 73\n",
       "\\item 74\n",
       "\\item 75\n",
       "\\item 76\n",
       "\\item 77\n",
       "\\item 78\n",
       "\\item 79\n",
       "\\item 80\n",
       "\\item 81\n",
       "\\item 82\n",
       "\\item 83\n",
       "\\item 84\n",
       "\\item 85\n",
       "\\item 86\n",
       "\\item 87\n",
       "\\item 88\n",
       "\\item 89\n",
       "\\item 90\n",
       "\\item 91\n",
       "\\item 92\n",
       "\\item 93\n",
       "\\item 94\n",
       "\\item 95\n",
       "\\item 96\n",
       "\\item 97\n",
       "\\item 98\n",
       "\\item 99\n",
       "\\item 100\n",
       "\\end{enumerate*}\n"
      ],
      "text/markdown": [
       "1. 1\n",
       "2. 2\n",
       "3. 3\n",
       "4. 4\n",
       "5. 5\n",
       "6. 6\n",
       "7. 7\n",
       "8. 8\n",
       "9. 9\n",
       "10. 10\n",
       "11. 11\n",
       "12. 12\n",
       "13. 13\n",
       "14. 14\n",
       "15. 15\n",
       "16. 16\n",
       "17. 17\n",
       "18. 18\n",
       "19. 19\n",
       "20. 20\n",
       "21. 21\n",
       "22. 22\n",
       "23. 23\n",
       "24. 24\n",
       "25. 25\n",
       "26. 26\n",
       "27. 27\n",
       "28. 28\n",
       "29. 29\n",
       "30. 30\n",
       "31. 31\n",
       "32. 32\n",
       "33. 33\n",
       "34. 34\n",
       "35. 35\n",
       "36. 36\n",
       "37. 37\n",
       "38. 38\n",
       "39. 39\n",
       "40. 40\n",
       "41. 41\n",
       "42. 42\n",
       "43. 43\n",
       "44. 44\n",
       "45. 45\n",
       "46. 46\n",
       "47. 47\n",
       "48. 48\n",
       "49. 49\n",
       "50. 50\n",
       "51. 51\n",
       "52. 52\n",
       "53. 53\n",
       "54. 54\n",
       "55. 55\n",
       "56. 56\n",
       "57. 57\n",
       "58. 58\n",
       "59. 59\n",
       "60. 60\n",
       "61. 61\n",
       "62. 62\n",
       "63. 63\n",
       "64. 64\n",
       "65. 65\n",
       "66. 66\n",
       "67. 67\n",
       "68. 68\n",
       "69. 69\n",
       "70. 70\n",
       "71. 71\n",
       "72. 72\n",
       "73. 73\n",
       "74. 74\n",
       "75. 75\n",
       "76. 76\n",
       "77. 77\n",
       "78. 78\n",
       "79. 79\n",
       "80. 80\n",
       "81. 81\n",
       "82. 82\n",
       "83. 83\n",
       "84. 84\n",
       "85. 85\n",
       "86. 86\n",
       "87. 87\n",
       "88. 88\n",
       "89. 89\n",
       "90. 90\n",
       "91. 91\n",
       "92. 92\n",
       "93. 93\n",
       "94. 94\n",
       "95. 95\n",
       "96. 96\n",
       "97. 97\n",
       "98. 98\n",
       "99. 99\n",
       "100. 100\n",
       "\n",
       "\n"
      ],
      "text/plain": [
       "  [1]   1   2   3   4   5   6   7   8   9  10  11  12  13  14  15  16  17  18\n",
       " [19]  19  20  21  22  23  24  25  26  27  28  29  30  31  32  33  34  35  36\n",
       " [37]  37  38  39  40  41  42  43  44  45  46  47  48  49  50  51  52  53  54\n",
       " [55]  55  56  57  58  59  60  61  62  63  64  65  66  67  68  69  70  71  72\n",
       " [73]  73  74  75  76  77  78  79  80  81  82  83  84  85  86  87  88  89  90\n",
       " [91]  91  92  93  94  95  96  97  98  99 100"
      ]
     },
     "metadata": {},
     "output_type": "display_data"
    }
   ],
   "source": [
    "vik1"
   ]
  },
  {
   "cell_type": "code",
   "execution_count": 50,
   "metadata": {},
   "outputs": [],
   "source": [
    "d=matrix( 1:10 , nrow= 5, byrow=TRUE)"
   ]
  },
  {
   "cell_type": "code",
   "execution_count": 51,
   "metadata": {},
   "outputs": [
    {
     "data": {
      "text/html": [
       "<table>\n",
       "<tbody>\n",
       "\t<tr><td>1 </td><td> 2</td></tr>\n",
       "\t<tr><td>3 </td><td> 4</td></tr>\n",
       "\t<tr><td>5 </td><td> 6</td></tr>\n",
       "\t<tr><td>7 </td><td> 8</td></tr>\n",
       "\t<tr><td>9 </td><td>10</td></tr>\n",
       "</tbody>\n",
       "</table>\n"
      ],
      "text/latex": [
       "\\begin{tabular}{ll}\n",
       "\t 1  &  2\\\\\n",
       "\t 3  &  4\\\\\n",
       "\t 5  &  6\\\\\n",
       "\t 7  &  8\\\\\n",
       "\t 9  & 10\\\\\n",
       "\\end{tabular}\n"
      ],
      "text/markdown": [
       "\n",
       "| 1  |  2 | \n",
       "| 3  |  4 | \n",
       "| 5  |  6 | \n",
       "| 7  |  8 | \n",
       "| 9  | 10 | \n",
       "\n",
       "\n"
      ],
      "text/plain": [
       "     [,1] [,2]\n",
       "[1,] 1     2  \n",
       "[2,] 3     4  \n",
       "[3,] 5     6  \n",
       "[4,] 7     8  \n",
       "[5,] 9    10  "
      ]
     },
     "metadata": {},
     "output_type": "display_data"
    }
   ],
   "source": [
    "d"
   ]
  },
  {
   "cell_type": "code",
   "execution_count": 52,
   "metadata": {},
   "outputs": [],
   "source": [
    "y1=8:12"
   ]
  },
  {
   "cell_type": "code",
   "execution_count": 53,
   "metadata": {},
   "outputs": [
    {
     "data": {
      "text/html": [
       "<ol class=list-inline>\n",
       "\t<li>8</li>\n",
       "\t<li>9</li>\n",
       "\t<li>10</li>\n",
       "\t<li>11</li>\n",
       "\t<li>12</li>\n",
       "</ol>\n"
      ],
      "text/latex": [
       "\\begin{enumerate*}\n",
       "\\item 8\n",
       "\\item 9\n",
       "\\item 10\n",
       "\\item 11\n",
       "\\item 12\n",
       "\\end{enumerate*}\n"
      ],
      "text/markdown": [
       "1. 8\n",
       "2. 9\n",
       "3. 10\n",
       "4. 11\n",
       "5. 12\n",
       "\n",
       "\n"
      ],
      "text/plain": [
       "[1]  8  9 10 11 12"
      ]
     },
     "metadata": {},
     "output_type": "display_data"
    }
   ],
   "source": [
    "y1"
   ]
  },
  {
   "cell_type": "code",
   "execution_count": 54,
   "metadata": {},
   "outputs": [],
   "source": [
    "a=c(10,20,30)\n",
    "b=c(\"m\",\"t\",\"w\")\n",
    "c=c(1.1, 2.2, 3.3)"
   ]
  },
  {
   "cell_type": "code",
   "execution_count": 55,
   "metadata": {},
   "outputs": [
    {
     "data": {
      "text/html": [
       "<table>\n",
       "<thead><tr><th scope=col>a</th><th scope=col>b</th><th scope=col>c</th></tr></thead>\n",
       "<tbody>\n",
       "\t<tr><td>10 </td><td>m  </td><td>1.1</td></tr>\n",
       "\t<tr><td>20 </td><td>t  </td><td>2.2</td></tr>\n",
       "\t<tr><td>30 </td><td>w  </td><td>3.3</td></tr>\n",
       "</tbody>\n",
       "</table>\n"
      ],
      "text/latex": [
       "\\begin{tabular}{r|lll}\n",
       " a & b & c\\\\\n",
       "\\hline\n",
       "\t 10  & m   & 1.1\\\\\n",
       "\t 20  & t   & 2.2\\\\\n",
       "\t 30  & w   & 3.3\\\\\n",
       "\\end{tabular}\n"
      ],
      "text/markdown": [
       "\n",
       "a | b | c | \n",
       "|---|---|---|\n",
       "| 10  | m   | 1.1 | \n",
       "| 20  | t   | 2.2 | \n",
       "| 30  | w   | 3.3 | \n",
       "\n",
       "\n"
      ],
      "text/plain": [
       "  a  b c  \n",
       "1 10 m 1.1\n",
       "2 20 t 2.2\n",
       "3 30 w 3.3"
      ]
     },
     "metadata": {},
     "output_type": "display_data"
    }
   ],
   "source": [
    "d=data.frame(a,b,c) \n",
    "d"
   ]
  },
  {
   "cell_type": "code",
   "execution_count": 56,
   "metadata": {},
   "outputs": [
    {
     "data": {
      "text/html": [
       "<ol class=list-inline>\n",
       "\t<li>10</li>\n",
       "\t<li>20</li>\n",
       "\t<li>30</li>\n",
       "</ol>\n"
      ],
      "text/latex": [
       "\\begin{enumerate*}\n",
       "\\item 10\n",
       "\\item 20\n",
       "\\item 30\n",
       "\\end{enumerate*}\n"
      ],
      "text/markdown": [
       "1. 10\n",
       "2. 20\n",
       "3. 30\n",
       "\n",
       "\n"
      ],
      "text/plain": [
       "[1] 10 20 30"
      ]
     },
     "metadata": {},
     "output_type": "display_data"
    }
   ],
   "source": [
    "e=c(9,10,10.1)\n",
    "d=cbind(d,e)\n",
    "d$a"
   ]
  },
  {
   "cell_type": "code",
   "execution_count": 57,
   "metadata": {},
   "outputs": [
    {
     "data": {
      "text/html": [
       "<ol class=list-inline>\n",
       "\t<li>9</li>\n",
       "\t<li>10</li>\n",
       "\t<li>10.1</li>\n",
       "</ol>\n"
      ],
      "text/latex": [
       "\\begin{enumerate*}\n",
       "\\item 9\n",
       "\\item 10\n",
       "\\item 10.1\n",
       "\\end{enumerate*}\n"
      ],
      "text/markdown": [
       "1. 9\n",
       "2. 10\n",
       "3. 10.1\n",
       "\n",
       "\n"
      ],
      "text/plain": [
       "[1]  9.0 10.0 10.1"
      ]
     },
     "metadata": {},
     "output_type": "display_data"
    }
   ],
   "source": [
    "d$e"
   ]
  },
  {
   "cell_type": "code",
   "execution_count": 58,
   "metadata": {},
   "outputs": [
    {
     "data": {
      "text/html": [
       "<table>\n",
       "<tbody>\n",
       "\t<tr><td>1</td><td>0</td><td>0</td><td>0</td></tr>\n",
       "\t<tr><td>0</td><td>1</td><td>0</td><td>0</td></tr>\n",
       "\t<tr><td>0</td><td>0</td><td>1</td><td>0</td></tr>\n",
       "\t<tr><td>0</td><td>0</td><td>0</td><td>1</td></tr>\n",
       "</tbody>\n",
       "</table>\n"
      ],
      "text/latex": [
       "\\begin{tabular}{llll}\n",
       "\t 1 & 0 & 0 & 0\\\\\n",
       "\t 0 & 1 & 0 & 0\\\\\n",
       "\t 0 & 0 & 1 & 0\\\\\n",
       "\t 0 & 0 & 0 & 1\\\\\n",
       "\\end{tabular}\n"
      ],
      "text/markdown": [
       "\n",
       "| 1 | 0 | 0 | 0 | \n",
       "| 0 | 1 | 0 | 0 | \n",
       "| 0 | 0 | 1 | 0 | \n",
       "| 0 | 0 | 0 | 1 | \n",
       "\n",
       "\n"
      ],
      "text/plain": [
       "     [,1] [,2] [,3] [,4]\n",
       "[1,] 1    0    0    0   \n",
       "[2,] 0    1    0    0   \n",
       "[3,] 0    0    1    0   \n",
       "[4,] 0    0    0    1   "
      ]
     },
     "metadata": {},
     "output_type": "display_data"
    }
   ],
   "source": [
    "diag(4)"
   ]
  },
  {
   "cell_type": "code",
   "execution_count": 59,
   "metadata": {},
   "outputs": [
    {
     "data": {
      "text/html": [
       "<table>\n",
       "<tbody>\n",
       "\t<tr><td>7 </td><td> 0</td><td>0 </td><td> 0</td></tr>\n",
       "\t<tr><td>0 </td><td>45</td><td>0 </td><td> 0</td></tr>\n",
       "\t<tr><td>0 </td><td> 0</td><td>5 </td><td> 0</td></tr>\n",
       "\t<tr><td>0 </td><td> 0</td><td>0 </td><td>60</td></tr>\n",
       "</tbody>\n",
       "</table>\n"
      ],
      "text/latex": [
       "\\begin{tabular}{llll}\n",
       "\t 7  &  0 & 0  &  0\\\\\n",
       "\t 0  & 45 & 0  &  0\\\\\n",
       "\t 0  &  0 & 5  &  0\\\\\n",
       "\t 0  &  0 & 0  & 60\\\\\n",
       "\\end{tabular}\n"
      ],
      "text/markdown": [
       "\n",
       "| 7  |  0 | 0  |  0 | \n",
       "| 0  | 45 | 0  |  0 | \n",
       "| 0  |  0 | 5  |  0 | \n",
       "| 0  |  0 | 0  | 60 | \n",
       "\n",
       "\n"
      ],
      "text/plain": [
       "     [,1] [,2] [,3] [,4]\n",
       "[1,] 7     0   0     0  \n",
       "[2,] 0    45   0     0  \n",
       "[3,] 0     0   5     0  \n",
       "[4,] 0     0   0    60  "
      ]
     },
     "metadata": {},
     "output_type": "display_data"
    }
   ],
   "source": [
    "dia=diag(c(7,45,5,60))\n",
    "dia"
   ]
  },
  {
   "cell_type": "code",
   "execution_count": 60,
   "metadata": {},
   "outputs": [
    {
     "data": {
      "text/html": [
       "<table>\n",
       "<tbody>\n",
       "\t<tr><td>7 </td><td> 0</td><td>0 </td><td> 0</td></tr>\n",
       "\t<tr><td>0 </td><td>45</td><td>0 </td><td> 0</td></tr>\n",
       "\t<tr><td>0 </td><td> 0</td><td>5 </td><td> 0</td></tr>\n",
       "\t<tr><td>0 </td><td> 0</td><td>0 </td><td>60</td></tr>\n",
       "</tbody>\n",
       "</table>\n"
      ],
      "text/latex": [
       "\\begin{tabular}{llll}\n",
       "\t 7  &  0 & 0  &  0\\\\\n",
       "\t 0  & 45 & 0  &  0\\\\\n",
       "\t 0  &  0 & 5  &  0\\\\\n",
       "\t 0  &  0 & 0  & 60\\\\\n",
       "\\end{tabular}\n"
      ],
      "text/markdown": [
       "\n",
       "| 7  |  0 | 0  |  0 | \n",
       "| 0  | 45 | 0  |  0 | \n",
       "| 0  |  0 | 5  |  0 | \n",
       "| 0  |  0 | 0  | 60 | \n",
       "\n",
       "\n"
      ],
      "text/plain": [
       "     [,1] [,2] [,3] [,4]\n",
       "[1,] 7     0   0     0  \n",
       "[2,] 0    45   0     0  \n",
       "[3,] 0     0   5     0  \n",
       "[4,] 0     0   0    60  "
      ]
     },
     "metadata": {},
     "output_type": "display_data"
    }
   ],
   "source": [
    "t(dia)"
   ]
  },
  {
   "cell_type": "code",
   "execution_count": 61,
   "metadata": {},
   "outputs": [
    {
     "data": {
      "text/html": [
       "<table>\n",
       "<thead><tr><th scope=col>a</th><th scope=col>b</th><th scope=col>c</th><th scope=col>e</th></tr></thead>\n",
       "<tbody>\n",
       "\t<tr><td>10  </td><td>m   </td><td>1.1 </td><td> 9.0</td></tr>\n",
       "\t<tr><td>20  </td><td>t   </td><td>2.2 </td><td>10.0</td></tr>\n",
       "\t<tr><td>30  </td><td>w   </td><td>3.3 </td><td>10.1</td></tr>\n",
       "</tbody>\n",
       "</table>\n"
      ],
      "text/latex": [
       "\\begin{tabular}{r|llll}\n",
       " a & b & c & e\\\\\n",
       "\\hline\n",
       "\t 10   & m    & 1.1  &  9.0\\\\\n",
       "\t 20   & t    & 2.2  & 10.0\\\\\n",
       "\t 30   & w    & 3.3  & 10.1\\\\\n",
       "\\end{tabular}\n"
      ],
      "text/markdown": [
       "\n",
       "a | b | c | e | \n",
       "|---|---|---|\n",
       "| 10   | m    | 1.1  |  9.0 | \n",
       "| 20   | t    | 2.2  | 10.0 | \n",
       "| 30   | w    | 3.3  | 10.1 | \n",
       "\n",
       "\n"
      ],
      "text/plain": [
       "  a  b c   e   \n",
       "1 10 m 1.1  9.0\n",
       "2 20 t 2.2 10.0\n",
       "3 30 w 3.3 10.1"
      ]
     },
     "metadata": {},
     "output_type": "display_data"
    }
   ],
   "source": [
    "subset(d, subset = )"
   ]
  },
  {
   "cell_type": "code",
   "execution_count": 62,
   "metadata": {},
   "outputs": [],
   "source": [
    "# t(doia)"
   ]
  },
  {
   "cell_type": "code",
   "execution_count": 63,
   "metadata": {},
   "outputs": [],
   "source": [
    "bul=c(\"a\",\"a\",\"a\",\"a\",\"a\",\"b\",\"b\",\"b\",\"b\",\"g\",\"g\",\"g\",\"g\",\"g\")"
   ]
  },
  {
   "cell_type": "code",
   "execution_count": 64,
   "metadata": {},
   "outputs": [
    {
     "data": {
      "text/html": [
       "<ol class=list-inline>\n",
       "\t<li>a</li>\n",
       "\t<li>a</li>\n",
       "\t<li>a</li>\n",
       "\t<li>a</li>\n",
       "\t<li>a</li>\n",
       "\t<li>b</li>\n",
       "\t<li>b</li>\n",
       "\t<li>b</li>\n",
       "\t<li>b</li>\n",
       "\t<li>g</li>\n",
       "\t<li>g</li>\n",
       "\t<li>g</li>\n",
       "\t<li>g</li>\n",
       "\t<li>g</li>\n",
       "</ol>\n",
       "\n",
       "<details>\n",
       "\t<summary style=display:list-item;cursor:pointer>\n",
       "\t\t<strong>Levels</strong>:\n",
       "\t</summary>\n",
       "\t<ol class=list-inline>\n",
       "\t\t<li>'a'</li>\n",
       "\t\t<li>'b'</li>\n",
       "\t\t<li>'g'</li>\n",
       "\t</ol>\n",
       "</details>"
      ],
      "text/latex": [
       "\\begin{enumerate*}\n",
       "\\item a\n",
       "\\item a\n",
       "\\item a\n",
       "\\item a\n",
       "\\item a\n",
       "\\item b\n",
       "\\item b\n",
       "\\item b\n",
       "\\item b\n",
       "\\item g\n",
       "\\item g\n",
       "\\item g\n",
       "\\item g\n",
       "\\item g\n",
       "\\end{enumerate*}\n",
       "\n",
       "\\emph{Levels}: \\begin{enumerate*}\n",
       "\\item 'a'\n",
       "\\item 'b'\n",
       "\\item 'g'\n",
       "\\end{enumerate*}\n"
      ],
      "text/markdown": [
       "1. a\n",
       "2. a\n",
       "3. a\n",
       "4. a\n",
       "5. a\n",
       "6. b\n",
       "7. b\n",
       "8. b\n",
       "9. b\n",
       "10. g\n",
       "11. g\n",
       "12. g\n",
       "13. g\n",
       "14. g\n",
       "\n",
       "\n",
       "\n",
       "**Levels**: 1. 'a'\n",
       "2. 'b'\n",
       "3. 'g'\n",
       "\n",
       "\n"
      ],
      "text/plain": [
       " [1] a a a a a b b b b g g g g g\n",
       "Levels: a b g"
      ]
     },
     "metadata": {},
     "output_type": "display_data"
    }
   ],
   "source": [
    "factor(bul)"
   ]
  },
  {
   "cell_type": "code",
   "execution_count": 65,
   "metadata": {},
   "outputs": [
    {
     "data": {
      "text/html": [
       "20"
      ],
      "text/latex": [
       "20"
      ],
      "text/markdown": [
       "20"
      ],
      "text/plain": [
       "[1] 20"
      ]
     },
     "metadata": {},
     "output_type": "display_data"
    }
   ],
   "source": [
    "a[2]"
   ]
  },
  {
   "cell_type": "code",
   "execution_count": 66,
   "metadata": {},
   "outputs": [
    {
     "data": {
      "text/html": [
       "<table>\n",
       "<thead><tr><th scope=col>a</th><th scope=col>b</th><th scope=col>c</th><th scope=col>e</th></tr></thead>\n",
       "<tbody>\n",
       "\t<tr><td>10  </td><td>m   </td><td>1.1 </td><td> 9.0</td></tr>\n",
       "\t<tr><td>20  </td><td>t   </td><td>2.2 </td><td>10.0</td></tr>\n",
       "\t<tr><td>30  </td><td>w   </td><td>3.3 </td><td>10.1</td></tr>\n",
       "</tbody>\n",
       "</table>\n"
      ],
      "text/latex": [
       "\\begin{tabular}{r|llll}\n",
       " a & b & c & e\\\\\n",
       "\\hline\n",
       "\t 10   & m    & 1.1  &  9.0\\\\\n",
       "\t 20   & t    & 2.2  & 10.0\\\\\n",
       "\t 30   & w    & 3.3  & 10.1\\\\\n",
       "\\end{tabular}\n"
      ],
      "text/markdown": [
       "\n",
       "a | b | c | e | \n",
       "|---|---|---|\n",
       "| 10   | m    | 1.1  |  9.0 | \n",
       "| 20   | t    | 2.2  | 10.0 | \n",
       "| 30   | w    | 3.3  | 10.1 | \n",
       "\n",
       "\n"
      ],
      "text/plain": [
       "  a  b c   e   \n",
       "1 10 m 1.1  9.0\n",
       "2 20 t 2.2 10.0\n",
       "3 30 w 3.3 10.1"
      ]
     },
     "metadata": {},
     "output_type": "display_data"
    }
   ],
   "source": [
    "d"
   ]
  },
  {
   "cell_type": "code",
   "execution_count": 67,
   "metadata": {},
   "outputs": [
    {
     "name": "stdout",
     "output_type": "stream",
     "text": [
      "'data.frame':\t3 obs. of  4 variables:\n",
      " $ a: num  10 20 30\n",
      " $ b: Factor w/ 3 levels \"m\",\"t\",\"w\": 1 2 3\n",
      " $ c: num  1.1 2.2 3.3\n",
      " $ e: num  9 10 10.1\n"
     ]
    }
   ],
   "source": [
    "str(d)"
   ]
  },
  {
   "cell_type": "code",
   "execution_count": 68,
   "metadata": {},
   "outputs": [
    {
     "data": {
      "text/html": [
       "<table>\n",
       "<thead><tr><th scope=col>a</th><th scope=col>c</th></tr></thead>\n",
       "<tbody>\n",
       "\t<tr><td>10 </td><td>1.1</td></tr>\n",
       "\t<tr><td>20 </td><td>2.2</td></tr>\n",
       "\t<tr><td>30 </td><td>3.3</td></tr>\n",
       "</tbody>\n",
       "</table>\n"
      ],
      "text/latex": [
       "\\begin{tabular}{r|ll}\n",
       " a & c\\\\\n",
       "\\hline\n",
       "\t 10  & 1.1\\\\\n",
       "\t 20  & 2.2\\\\\n",
       "\t 30  & 3.3\\\\\n",
       "\\end{tabular}\n"
      ],
      "text/markdown": [
       "\n",
       "a | c | \n",
       "|---|---|---|\n",
       "| 10  | 1.1 | \n",
       "| 20  | 2.2 | \n",
       "| 30  | 3.3 | \n",
       "\n",
       "\n"
      ],
      "text/plain": [
       "  a  c  \n",
       "1 10 1.1\n",
       "2 20 2.2\n",
       "3 30 3.3"
      ]
     },
     "metadata": {},
     "output_type": "display_data"
    }
   ],
   "source": [
    "d[, c(\"a\",\"c\")]"
   ]
  },
  {
   "cell_type": "code",
   "execution_count": 69,
   "metadata": {},
   "outputs": [
    {
     "data": {
      "text/html": [
       "<ol class=list-inline>\n",
       "\t<li>-1.02320344761319</li>\n",
       "\t<li>-0.417093819873152</li>\n",
       "\t<li>-0.425785907941278</li>\n",
       "\t<li>-0.31349366635692</li>\n",
       "\t<li>0.739665515655959</li>\n",
       "\t<li>-1.07489168780995</li>\n",
       "\t<li>-0.126078807024143</li>\n",
       "\t<li>0.678126191982188</li>\n",
       "\t<li>-0.884673067292724</li>\n",
       "\t<li>-0.835829008742826</li>\n",
       "\t<li>0.554959911151562</li>\n",
       "\t<li>-2.32373743094984</li>\n",
       "\t<li>0.140518285363961</li>\n",
       "\t<li>-0.512517157888658</li>\n",
       "\t<li>0.0911278837819133</li>\n",
       "\t<li>-0.236580585026967</li>\n",
       "\t<li>0.34346823595419</li>\n",
       "\t<li>0.507067585505406</li>\n",
       "\t<li>-2.21351842249263</li>\n",
       "\t<li>0.961497145156642</li>\n",
       "\t<li>1.56555358925544</li>\n",
       "\t<li>0.372378230871615</li>\n",
       "\t<li>0.0653792846610574</li>\n",
       "\t<li>-0.68028942197559</li>\n",
       "\t<li>-0.116731772081725</li>\n",
       "\t<li>-0.533330995857045</li>\n",
       "\t<li>0.0353382655585425</li>\n",
       "\t<li>-0.671047644799437</li>\n",
       "\t<li>-0.669806247826681</li>\n",
       "\t<li>-0.596099922648082</li>\n",
       "\t<li>0.886091285437765</li>\n",
       "\t<li>1.3097642128368</li>\n",
       "\t<li>0.844432054114481</li>\n",
       "\t<li>-1.69698553059633</li>\n",
       "\t<li>0.004317736692889</li>\n",
       "\t<li>1.25750818889138</li>\n",
       "\t<li>-0.547699396899019</li>\n",
       "\t<li>0.868230223029839</li>\n",
       "\t<li>0.346497974805787</li>\n",
       "\t<li>1.25825277569426</li>\n",
       "\t<li>-1.60146135197118</li>\n",
       "\t<li>-0.950565103680294</li>\n",
       "\t<li>0.575685189460296</li>\n",
       "\t<li>0.794564957594597</li>\n",
       "\t<li>1.11767696040713</li>\n",
       "\t<li>1.04161258220544</li>\n",
       "\t<li>-0.892909459043439</li>\n",
       "\t<li>-1.01851114059423</li>\n",
       "\t<li>0.366320372823278</li>\n",
       "\t<li>-1.32169311463774</li>\n",
       "\t<li>0.833469069559427</li>\n",
       "\t<li>0.102416416987931</li>\n",
       "\t<li>0.967218315754288</li>\n",
       "\t<li>0.27505662972951</li>\n",
       "\t<li>-0.0973810475274766</li>\n",
       "\t<li>-0.794831866270281</li>\n",
       "\t<li>-0.979390992565458</li>\n",
       "\t<li>1.01901087644558</li>\n",
       "\t<li>1.64082212677158</li>\n",
       "\t<li>0.90841756753988</li>\n",
       "\t<li>-1.1071527733939</li>\n",
       "\t<li>-0.302921548992921</li>\n",
       "\t<li>0.958938013372201</li>\n",
       "\t<li>-0.60107287535066</li>\n",
       "\t<li>0.349512564153092</li>\n",
       "\t<li>-1.22957612021973</li>\n",
       "\t<li>0.81136853791092</li>\n",
       "\t<li>1.17610913953726</li>\n",
       "\t<li>-0.800085543317932</li>\n",
       "\t<li>1.24527095993451</li>\n",
       "\t<li>0.423942070848631</li>\n",
       "\t<li>2.31340417107852</li>\n",
       "\t<li>1.10002446002845</li>\n",
       "\t<li>0.33892747816713</li>\n",
       "\t<li>-0.327449955240363</li>\n",
       "\t<li>0.264258579371116</li>\n",
       "\t<li>-1.99905752468112</li>\n",
       "\t<li>1.97823667351791</li>\n",
       "</ol>\n"
      ],
      "text/latex": [
       "\\begin{enumerate*}\n",
       "\\item -1.02320344761319\n",
       "\\item -0.417093819873152\n",
       "\\item -0.425785907941278\n",
       "\\item -0.31349366635692\n",
       "\\item 0.739665515655959\n",
       "\\item -1.07489168780995\n",
       "\\item -0.126078807024143\n",
       "\\item 0.678126191982188\n",
       "\\item -0.884673067292724\n",
       "\\item -0.835829008742826\n",
       "\\item 0.554959911151562\n",
       "\\item -2.32373743094984\n",
       "\\item 0.140518285363961\n",
       "\\item -0.512517157888658\n",
       "\\item 0.0911278837819133\n",
       "\\item -0.236580585026967\n",
       "\\item 0.34346823595419\n",
       "\\item 0.507067585505406\n",
       "\\item -2.21351842249263\n",
       "\\item 0.961497145156642\n",
       "\\item 1.56555358925544\n",
       "\\item 0.372378230871615\n",
       "\\item 0.0653792846610574\n",
       "\\item -0.68028942197559\n",
       "\\item -0.116731772081725\n",
       "\\item -0.533330995857045\n",
       "\\item 0.0353382655585425\n",
       "\\item -0.671047644799437\n",
       "\\item -0.669806247826681\n",
       "\\item -0.596099922648082\n",
       "\\item 0.886091285437765\n",
       "\\item 1.3097642128368\n",
       "\\item 0.844432054114481\n",
       "\\item -1.69698553059633\n",
       "\\item 0.004317736692889\n",
       "\\item 1.25750818889138\n",
       "\\item -0.547699396899019\n",
       "\\item 0.868230223029839\n",
       "\\item 0.346497974805787\n",
       "\\item 1.25825277569426\n",
       "\\item -1.60146135197118\n",
       "\\item -0.950565103680294\n",
       "\\item 0.575685189460296\n",
       "\\item 0.794564957594597\n",
       "\\item 1.11767696040713\n",
       "\\item 1.04161258220544\n",
       "\\item -0.892909459043439\n",
       "\\item -1.01851114059423\n",
       "\\item 0.366320372823278\n",
       "\\item -1.32169311463774\n",
       "\\item 0.833469069559427\n",
       "\\item 0.102416416987931\n",
       "\\item 0.967218315754288\n",
       "\\item 0.27505662972951\n",
       "\\item -0.0973810475274766\n",
       "\\item -0.794831866270281\n",
       "\\item -0.979390992565458\n",
       "\\item 1.01901087644558\n",
       "\\item 1.64082212677158\n",
       "\\item 0.90841756753988\n",
       "\\item -1.1071527733939\n",
       "\\item -0.302921548992921\n",
       "\\item 0.958938013372201\n",
       "\\item -0.60107287535066\n",
       "\\item 0.349512564153092\n",
       "\\item -1.22957612021973\n",
       "\\item 0.81136853791092\n",
       "\\item 1.17610913953726\n",
       "\\item -0.800085543317932\n",
       "\\item 1.24527095993451\n",
       "\\item 0.423942070848631\n",
       "\\item 2.31340417107852\n",
       "\\item 1.10002446002845\n",
       "\\item 0.33892747816713\n",
       "\\item -0.327449955240363\n",
       "\\item 0.264258579371116\n",
       "\\item -1.99905752468112\n",
       "\\item 1.97823667351791\n",
       "\\end{enumerate*}\n"
      ],
      "text/markdown": [
       "1. -1.02320344761319\n",
       "2. -0.417093819873152\n",
       "3. -0.425785907941278\n",
       "4. -0.31349366635692\n",
       "5. 0.739665515655959\n",
       "6. -1.07489168780995\n",
       "7. -0.126078807024143\n",
       "8. 0.678126191982188\n",
       "9. -0.884673067292724\n",
       "10. -0.835829008742826\n",
       "11. 0.554959911151562\n",
       "12. -2.32373743094984\n",
       "13. 0.140518285363961\n",
       "14. -0.512517157888658\n",
       "15. 0.0911278837819133\n",
       "16. -0.236580585026967\n",
       "17. 0.34346823595419\n",
       "18. 0.507067585505406\n",
       "19. -2.21351842249263\n",
       "20. 0.961497145156642\n",
       "21. 1.56555358925544\n",
       "22. 0.372378230871615\n",
       "23. 0.0653792846610574\n",
       "24. -0.68028942197559\n",
       "25. -0.116731772081725\n",
       "26. -0.533330995857045\n",
       "27. 0.0353382655585425\n",
       "28. -0.671047644799437\n",
       "29. -0.669806247826681\n",
       "30. -0.596099922648082\n",
       "31. 0.886091285437765\n",
       "32. 1.3097642128368\n",
       "33. 0.844432054114481\n",
       "34. -1.69698553059633\n",
       "35. 0.004317736692889\n",
       "36. 1.25750818889138\n",
       "37. -0.547699396899019\n",
       "38. 0.868230223029839\n",
       "39. 0.346497974805787\n",
       "40. 1.25825277569426\n",
       "41. -1.60146135197118\n",
       "42. -0.950565103680294\n",
       "43. 0.575685189460296\n",
       "44. 0.794564957594597\n",
       "45. 1.11767696040713\n",
       "46. 1.04161258220544\n",
       "47. -0.892909459043439\n",
       "48. -1.01851114059423\n",
       "49. 0.366320372823278\n",
       "50. -1.32169311463774\n",
       "51. 0.833469069559427\n",
       "52. 0.102416416987931\n",
       "53. 0.967218315754288\n",
       "54. 0.27505662972951\n",
       "55. -0.0973810475274766\n",
       "56. -0.794831866270281\n",
       "57. -0.979390992565458\n",
       "58. 1.01901087644558\n",
       "59. 1.64082212677158\n",
       "60. 0.90841756753988\n",
       "61. -1.1071527733939\n",
       "62. -0.302921548992921\n",
       "63. 0.958938013372201\n",
       "64. -0.60107287535066\n",
       "65. 0.349512564153092\n",
       "66. -1.22957612021973\n",
       "67. 0.81136853791092\n",
       "68. 1.17610913953726\n",
       "69. -0.800085543317932\n",
       "70. 1.24527095993451\n",
       "71. 0.423942070848631\n",
       "72. 2.31340417107852\n",
       "73. 1.10002446002845\n",
       "74. 0.33892747816713\n",
       "75. -0.327449955240363\n",
       "76. 0.264258579371116\n",
       "77. -1.99905752468112\n",
       "78. 1.97823667351791\n",
       "\n",
       "\n"
      ],
      "text/plain": [
       " [1] -1.023203448 -0.417093820 -0.425785908 -0.313493666  0.739665516\n",
       " [6] -1.074891688 -0.126078807  0.678126192 -0.884673067 -0.835829009\n",
       "[11]  0.554959911 -2.323737431  0.140518285 -0.512517158  0.091127884\n",
       "[16] -0.236580585  0.343468236  0.507067586 -2.213518422  0.961497145\n",
       "[21]  1.565553589  0.372378231  0.065379285 -0.680289422 -0.116731772\n",
       "[26] -0.533330996  0.035338266 -0.671047645 -0.669806248 -0.596099923\n",
       "[31]  0.886091285  1.309764213  0.844432054 -1.696985531  0.004317737\n",
       "[36]  1.257508189 -0.547699397  0.868230223  0.346497975  1.258252776\n",
       "[41] -1.601461352 -0.950565104  0.575685189  0.794564958  1.117676960\n",
       "[46]  1.041612582 -0.892909459 -1.018511141  0.366320373 -1.321693115\n",
       "[51]  0.833469070  0.102416417  0.967218316  0.275056630 -0.097381048\n",
       "[56] -0.794831866 -0.979390993  1.019010876  1.640822127  0.908417568\n",
       "[61] -1.107152773 -0.302921549  0.958938013 -0.601072875  0.349512564\n",
       "[66] -1.229576120  0.811368538  1.176109140 -0.800085543  1.245270960\n",
       "[71]  0.423942071  2.313404171  1.100024460  0.338927478 -0.327449955\n",
       "[76]  0.264258579 -1.999057525  1.978236674"
      ]
     },
     "metadata": {},
     "output_type": "display_data"
    }
   ],
   "source": [
    "rnorm(78)"
   ]
  },
  {
   "cell_type": "code",
   "execution_count": 70,
   "metadata": {},
   "outputs": [],
   "source": [
    "x=round(rnorm(100, mean=10, sd=3))"
   ]
  },
  {
   "cell_type": "code",
   "execution_count": 71,
   "metadata": {},
   "outputs": [
    {
     "data": {
      "text/html": [
       "<ol class=list-inline>\n",
       "\t<li>8</li>\n",
       "\t<li>9</li>\n",
       "\t<li>10</li>\n",
       "\t<li>11</li>\n",
       "\t<li>10</li>\n",
       "\t<li>10</li>\n",
       "\t<li>13</li>\n",
       "\t<li>10</li>\n",
       "\t<li>15</li>\n",
       "\t<li>12</li>\n",
       "\t<li>9</li>\n",
       "\t<li>11</li>\n",
       "\t<li>11</li>\n",
       "\t<li>8</li>\n",
       "\t<li>8</li>\n",
       "\t<li>6</li>\n",
       "\t<li>6</li>\n",
       "\t<li>8</li>\n",
       "\t<li>7</li>\n",
       "\t<li>15</li>\n",
       "\t<li>12</li>\n",
       "\t<li>11</li>\n",
       "\t<li>11</li>\n",
       "\t<li>9</li>\n",
       "\t<li>7</li>\n",
       "\t<li>15</li>\n",
       "\t<li>8</li>\n",
       "\t<li>5</li>\n",
       "\t<li>9</li>\n",
       "\t<li>11</li>\n",
       "\t<li>10</li>\n",
       "\t<li>6</li>\n",
       "\t<li>10</li>\n",
       "\t<li>10</li>\n",
       "\t<li>17</li>\n",
       "\t<li>9</li>\n",
       "\t<li>7</li>\n",
       "\t<li>13</li>\n",
       "\t<li>13</li>\n",
       "\t<li>7</li>\n",
       "\t<li>6</li>\n",
       "\t<li>11</li>\n",
       "\t<li>4</li>\n",
       "\t<li>14</li>\n",
       "\t<li>10</li>\n",
       "\t<li>18</li>\n",
       "\t<li>13</li>\n",
       "\t<li>8</li>\n",
       "\t<li>14</li>\n",
       "\t<li>11</li>\n",
       "\t<li>11</li>\n",
       "\t<li>10</li>\n",
       "\t<li>9</li>\n",
       "\t<li>3</li>\n",
       "\t<li>10</li>\n",
       "\t<li>11</li>\n",
       "\t<li>8</li>\n",
       "\t<li>13</li>\n",
       "\t<li>16</li>\n",
       "\t<li>11</li>\n",
       "\t<li>10</li>\n",
       "\t<li>12</li>\n",
       "\t<li>10</li>\n",
       "\t<li>7</li>\n",
       "\t<li>14</li>\n",
       "\t<li>11</li>\n",
       "\t<li>8</li>\n",
       "\t<li>8</li>\n",
       "\t<li>7</li>\n",
       "\t<li>6</li>\n",
       "\t<li>12</li>\n",
       "\t<li>12</li>\n",
       "\t<li>11</li>\n",
       "\t<li>7</li>\n",
       "\t<li>14</li>\n",
       "\t<li>11</li>\n",
       "\t<li>14</li>\n",
       "\t<li>12</li>\n",
       "\t<li>11</li>\n",
       "\t<li>5</li>\n",
       "\t<li>8</li>\n",
       "\t<li>14</li>\n",
       "\t<li>14</li>\n",
       "\t<li>5</li>\n",
       "\t<li>7</li>\n",
       "\t<li>11</li>\n",
       "\t<li>7</li>\n",
       "\t<li>11</li>\n",
       "\t<li>5</li>\n",
       "\t<li>6</li>\n",
       "\t<li>11</li>\n",
       "\t<li>3</li>\n",
       "\t<li>8</li>\n",
       "\t<li>6</li>\n",
       "\t<li>9</li>\n",
       "\t<li>6</li>\n",
       "\t<li>10</li>\n",
       "\t<li>6</li>\n",
       "\t<li>13</li>\n",
       "\t<li>13</li>\n",
       "</ol>\n"
      ],
      "text/latex": [
       "\\begin{enumerate*}\n",
       "\\item 8\n",
       "\\item 9\n",
       "\\item 10\n",
       "\\item 11\n",
       "\\item 10\n",
       "\\item 10\n",
       "\\item 13\n",
       "\\item 10\n",
       "\\item 15\n",
       "\\item 12\n",
       "\\item 9\n",
       "\\item 11\n",
       "\\item 11\n",
       "\\item 8\n",
       "\\item 8\n",
       "\\item 6\n",
       "\\item 6\n",
       "\\item 8\n",
       "\\item 7\n",
       "\\item 15\n",
       "\\item 12\n",
       "\\item 11\n",
       "\\item 11\n",
       "\\item 9\n",
       "\\item 7\n",
       "\\item 15\n",
       "\\item 8\n",
       "\\item 5\n",
       "\\item 9\n",
       "\\item 11\n",
       "\\item 10\n",
       "\\item 6\n",
       "\\item 10\n",
       "\\item 10\n",
       "\\item 17\n",
       "\\item 9\n",
       "\\item 7\n",
       "\\item 13\n",
       "\\item 13\n",
       "\\item 7\n",
       "\\item 6\n",
       "\\item 11\n",
       "\\item 4\n",
       "\\item 14\n",
       "\\item 10\n",
       "\\item 18\n",
       "\\item 13\n",
       "\\item 8\n",
       "\\item 14\n",
       "\\item 11\n",
       "\\item 11\n",
       "\\item 10\n",
       "\\item 9\n",
       "\\item 3\n",
       "\\item 10\n",
       "\\item 11\n",
       "\\item 8\n",
       "\\item 13\n",
       "\\item 16\n",
       "\\item 11\n",
       "\\item 10\n",
       "\\item 12\n",
       "\\item 10\n",
       "\\item 7\n",
       "\\item 14\n",
       "\\item 11\n",
       "\\item 8\n",
       "\\item 8\n",
       "\\item 7\n",
       "\\item 6\n",
       "\\item 12\n",
       "\\item 12\n",
       "\\item 11\n",
       "\\item 7\n",
       "\\item 14\n",
       "\\item 11\n",
       "\\item 14\n",
       "\\item 12\n",
       "\\item 11\n",
       "\\item 5\n",
       "\\item 8\n",
       "\\item 14\n",
       "\\item 14\n",
       "\\item 5\n",
       "\\item 7\n",
       "\\item 11\n",
       "\\item 7\n",
       "\\item 11\n",
       "\\item 5\n",
       "\\item 6\n",
       "\\item 11\n",
       "\\item 3\n",
       "\\item 8\n",
       "\\item 6\n",
       "\\item 9\n",
       "\\item 6\n",
       "\\item 10\n",
       "\\item 6\n",
       "\\item 13\n",
       "\\item 13\n",
       "\\end{enumerate*}\n"
      ],
      "text/markdown": [
       "1. 8\n",
       "2. 9\n",
       "3. 10\n",
       "4. 11\n",
       "5. 10\n",
       "6. 10\n",
       "7. 13\n",
       "8. 10\n",
       "9. 15\n",
       "10. 12\n",
       "11. 9\n",
       "12. 11\n",
       "13. 11\n",
       "14. 8\n",
       "15. 8\n",
       "16. 6\n",
       "17. 6\n",
       "18. 8\n",
       "19. 7\n",
       "20. 15\n",
       "21. 12\n",
       "22. 11\n",
       "23. 11\n",
       "24. 9\n",
       "25. 7\n",
       "26. 15\n",
       "27. 8\n",
       "28. 5\n",
       "29. 9\n",
       "30. 11\n",
       "31. 10\n",
       "32. 6\n",
       "33. 10\n",
       "34. 10\n",
       "35. 17\n",
       "36. 9\n",
       "37. 7\n",
       "38. 13\n",
       "39. 13\n",
       "40. 7\n",
       "41. 6\n",
       "42. 11\n",
       "43. 4\n",
       "44. 14\n",
       "45. 10\n",
       "46. 18\n",
       "47. 13\n",
       "48. 8\n",
       "49. 14\n",
       "50. 11\n",
       "51. 11\n",
       "52. 10\n",
       "53. 9\n",
       "54. 3\n",
       "55. 10\n",
       "56. 11\n",
       "57. 8\n",
       "58. 13\n",
       "59. 16\n",
       "60. 11\n",
       "61. 10\n",
       "62. 12\n",
       "63. 10\n",
       "64. 7\n",
       "65. 14\n",
       "66. 11\n",
       "67. 8\n",
       "68. 8\n",
       "69. 7\n",
       "70. 6\n",
       "71. 12\n",
       "72. 12\n",
       "73. 11\n",
       "74. 7\n",
       "75. 14\n",
       "76. 11\n",
       "77. 14\n",
       "78. 12\n",
       "79. 11\n",
       "80. 5\n",
       "81. 8\n",
       "82. 14\n",
       "83. 14\n",
       "84. 5\n",
       "85. 7\n",
       "86. 11\n",
       "87. 7\n",
       "88. 11\n",
       "89. 5\n",
       "90. 6\n",
       "91. 11\n",
       "92. 3\n",
       "93. 8\n",
       "94. 6\n",
       "95. 9\n",
       "96. 6\n",
       "97. 10\n",
       "98. 6\n",
       "99. 13\n",
       "100. 13\n",
       "\n",
       "\n"
      ],
      "text/plain": [
       "  [1]  8  9 10 11 10 10 13 10 15 12  9 11 11  8  8  6  6  8  7 15 12 11 11  9  7\n",
       " [26] 15  8  5  9 11 10  6 10 10 17  9  7 13 13  7  6 11  4 14 10 18 13  8 14 11\n",
       " [51] 11 10  9  3 10 11  8 13 16 11 10 12 10  7 14 11  8  8  7  6 12 12 11  7 14\n",
       " [76] 11 14 12 11  5  8 14 14  5  7 11  7 11  5  6 11  3  8  6  9  6 10  6 13 13"
      ]
     },
     "metadata": {},
     "output_type": "display_data"
    }
   ],
   "source": [
    "x"
   ]
  },
  {
   "cell_type": "code",
   "execution_count": 72,
   "metadata": {},
   "outputs": [
    {
     "data": {
      "text/html": [
       "3.09465162609116"
      ],
      "text/latex": [
       "3.09465162609116"
      ],
      "text/markdown": [
       "3.09465162609116"
      ],
      "text/plain": [
       "[1] 3.094652"
      ]
     },
     "metadata": {},
     "output_type": "display_data"
    }
   ],
   "source": [
    "sd(x)"
   ]
  },
  {
   "cell_type": "markdown",
   "metadata": {},
   "source": [
    "# Degree of freedom \n",
    "## for standarad deviation"
   ]
  },
  {
   "cell_type": "code",
   "execution_count": 73,
   "metadata": {},
   "outputs": [
    {
     "data": {
      "image/png": "[encoded data removed]",
      "text/plain": [
       "Plot with title “Histogram of x”"
      ]
     },
     "metadata": {},
     "output_type": "display_data"
    }
   ],
   "source": [
    "hist(x)"
   ]
  },
  {
   "cell_type": "code",
   "execution_count": 74,
   "metadata": {},
   "outputs": [
    {
     "data": {
      "text/html": [
       "0.108594719565366"
      ],
      "text/latex": [
       "0.108594719565366"
      ],
      "text/markdown": [
       "0.108594719565366"
      ],
      "text/plain": [
       "[1] 0.1085947"
      ]
     },
     "metadata": {},
     "output_type": "display_data"
    }
   ],
   "source": [
    "library(\"moments\")\n",
    "skewness(x)"
   ]
  },
  {
   "cell_type": "code",
   "execution_count": 75,
   "metadata": {},
   "outputs": [
    {
     "data": {
      "text/html": [
       "2.67057037381489"
      ],
      "text/latex": [
       "2.67057037381489"
      ],
      "text/markdown": [
       "2.67057037381489"
      ],
      "text/plain": [
       "[1] 2.67057"
      ]
     },
     "metadata": {},
     "output_type": "display_data"
    }
   ],
   "source": [
    "kurtosis(x)"
   ]
  },
  {
   "cell_type": "code",
   "execution_count": 76,
   "metadata": {},
   "outputs": [],
   "source": [
    "m=round(mean(x))"
   ]
  },
  {
   "cell_type": "code",
   "execution_count": 77,
   "metadata": {},
   "outputs": [
    {
     "data": {
      "text/html": [
       "10"
      ],
      "text/latex": [
       "10"
      ],
      "text/markdown": [
       "10"
      ],
      "text/plain": [
       "[1] 10"
      ]
     },
     "metadata": {},
     "output_type": "display_data"
    }
   ],
   "source": [
    "m"
   ]
  },
  {
   "cell_type": "code",
   "execution_count": 78,
   "metadata": {},
   "outputs": [
    {
     "data": {
      "text/html": [
       "-17"
      ],
      "text/latex": [
       "-17"
      ],
      "text/markdown": [
       "-17"
      ],
      "text/plain": [
       "[1] -17"
      ]
     },
     "metadata": {},
     "output_type": "display_data"
    }
   ],
   "source": [
    "sum(x-m)"
   ]
  },
  {
   "cell_type": "code",
   "execution_count": 79,
   "metadata": {},
   "outputs": [
    {
     "data": {
      "text/html": [
       "<table>\n",
       "<thead><tr><th scope=col>year</th><th scope=col>X1</th><th scope=col>X2</th><th scope=col>X3</th><th scope=col>PE</th></tr></thead>\n",
       "<tbody>\n",
       "\t<tr><td>2006      </td><td>6.646842  </td><td>0.09567215</td><td>13.026677 </td><td>0.529859  </td></tr>\n",
       "\t<tr><td>2007      </td><td>3.767512  </td><td>0.10882080</td><td>11.699428 </td><td>1.000000  </td></tr>\n",
       "\t<tr><td>2008      </td><td>5.067625  </td><td>0.11118043</td><td>12.833963 </td><td>0.482779  </td></tr>\n",
       "\t<tr><td>2009      </td><td>4.097241  </td><td>0.06748442</td><td>12.369041 </td><td>0.528774  </td></tr>\n",
       "\t<tr><td>2010      </td><td>7.070189  </td><td>0.08191892</td><td>10.519008 </td><td>1.000000  </td></tr>\n",
       "\t<tr><td>2011      </td><td>3.276125  </td><td>0.13298433</td><td>10.527667 </td><td>0.326643  </td></tr>\n",
       "\t<tr><td>2012      </td><td>4.666789  </td><td>0.38317143</td><td> 9.838226 </td><td>1.000000  </td></tr>\n",
       "\t<tr><td>2013      </td><td>6.322753  </td><td>0.09926333</td><td>13.037995 </td><td>0.414698  </td></tr>\n",
       "\t<tr><td>2014      </td><td>3.521866  </td><td>0.06580575</td><td>13.222968 </td><td>0.302132  </td></tr>\n",
       "\t<tr><td>2015      </td><td>3.301776  </td><td>0.07115781</td><td>12.915815 </td><td>0.394941  </td></tr>\n",
       "\t<tr><td>2016      </td><td>3.053739  </td><td>0.06917947</td><td>13.941196 </td><td>0.288329  </td></tr>\n",
       "\t<tr><td>2017      </td><td>3.063147  </td><td>0.04439030</td><td>13.931285 </td><td>0.268688  </td></tr>\n",
       "\t<tr><td>2018      </td><td>2.598659  </td><td>0.05036580</td><td>12.651224 </td><td>0.450456  </td></tr>\n",
       "</tbody>\n",
       "</table>\n"
      ],
      "text/latex": [
       "\\begin{tabular}{r|lllll}\n",
       " year & X1 & X2 & X3 & PE\\\\\n",
       "\\hline\n",
       "\t 2006       & 6.646842   & 0.09567215 & 13.026677  & 0.529859  \\\\\n",
       "\t 2007       & 3.767512   & 0.10882080 & 11.699428  & 1.000000  \\\\\n",
       "\t 2008       & 5.067625   & 0.11118043 & 12.833963  & 0.482779  \\\\\n",
       "\t 2009       & 4.097241   & 0.06748442 & 12.369041  & 0.528774  \\\\\n",
       "\t 2010       & 7.070189   & 0.08191892 & 10.519008  & 1.000000  \\\\\n",
       "\t 2011       & 3.276125   & 0.13298433 & 10.527667  & 0.326643  \\\\\n",
       "\t 2012       & 4.666789   & 0.38317143 &  9.838226  & 1.000000  \\\\\n",
       "\t 2013       & 6.322753   & 0.09926333 & 13.037995  & 0.414698  \\\\\n",
       "\t 2014       & 3.521866   & 0.06580575 & 13.222968  & 0.302132  \\\\\n",
       "\t 2015       & 3.301776   & 0.07115781 & 12.915815  & 0.394941  \\\\\n",
       "\t 2016       & 3.053739   & 0.06917947 & 13.941196  & 0.288329  \\\\\n",
       "\t 2017       & 3.063147   & 0.04439030 & 13.931285  & 0.268688  \\\\\n",
       "\t 2018       & 2.598659   & 0.05036580 & 12.651224  & 0.450456  \\\\\n",
       "\\end{tabular}\n"
      ],
      "text/markdown": [
       "\n",
       "year | X1 | X2 | X3 | PE | \n",
       "|---|---|---|---|---|---|---|---|---|---|---|---|---|\n",
       "| 2006       | 6.646842   | 0.09567215 | 13.026677  | 0.529859   | \n",
       "| 2007       | 3.767512   | 0.10882080 | 11.699428  | 1.000000   | \n",
       "| 2008       | 5.067625   | 0.11118043 | 12.833963  | 0.482779   | \n",
       "| 2009       | 4.097241   | 0.06748442 | 12.369041  | 0.528774   | \n",
       "| 2010       | 7.070189   | 0.08191892 | 10.519008  | 1.000000   | \n",
       "| 2011       | 3.276125   | 0.13298433 | 10.527667  | 0.326643   | \n",
       "| 2012       | 4.666789   | 0.38317143 |  9.838226  | 1.000000   | \n",
       "| 2013       | 6.322753   | 0.09926333 | 13.037995  | 0.414698   | \n",
       "| 2014       | 3.521866   | 0.06580575 | 13.222968  | 0.302132   | \n",
       "| 2015       | 3.301776   | 0.07115781 | 12.915815  | 0.394941   | \n",
       "| 2016       | 3.053739   | 0.06917947 | 13.941196  | 0.288329   | \n",
       "| 2017       | 3.063147   | 0.04439030 | 13.931285  | 0.268688   | \n",
       "| 2018       | 2.598659   | 0.05036580 | 12.651224  | 0.450456   | \n",
       "\n",
       "\n"
      ],
      "text/plain": [
       "   year X1       X2         X3        PE      \n",
       "1  2006 6.646842 0.09567215 13.026677 0.529859\n",
       "2  2007 3.767512 0.10882080 11.699428 1.000000\n",
       "3  2008 5.067625 0.11118043 12.833963 0.482779\n",
       "4  2009 4.097241 0.06748442 12.369041 0.528774\n",
       "5  2010 7.070189 0.08191892 10.519008 1.000000\n",
       "6  2011 3.276125 0.13298433 10.527667 0.326643\n",
       "7  2012 4.666789 0.38317143  9.838226 1.000000\n",
       "8  2013 6.322753 0.09926333 13.037995 0.414698\n",
       "9  2014 3.521866 0.06580575 13.222968 0.302132\n",
       "10 2015 3.301776 0.07115781 12.915815 0.394941\n",
       "11 2016 3.053739 0.06917947 13.941196 0.288329\n",
       "12 2017 3.063147 0.04439030 13.931285 0.268688\n",
       "13 2018 2.598659 0.05036580 12.651224 0.450456"
      ]
     },
     "metadata": {},
     "output_type": "display_data"
    }
   ],
   "source": [
    "y=read.csv(file=\"Data.csv\")\n",
    "y"
   ]
  },
  {
   "cell_type": "code",
   "execution_count": 80,
   "metadata": {},
   "outputs": [
    {
     "data": {
      "text/html": [
       "0.0768360473974359"
      ],
      "text/latex": [
       "0.0768360473974359"
      ],
      "text/markdown": [
       "0.0768360473974359"
      ],
      "text/plain": [
       "[1] 0.07683605"
      ]
     },
     "metadata": {},
     "output_type": "display_data"
    }
   ],
   "source": [
    "var(y$PE)"
   ]
  },
  {
   "cell_type": "code",
   "execution_count": 81,
   "metadata": {},
   "outputs": [
    {
     "data": {
      "text/html": [
       "0.537484538461538"
      ],
      "text/latex": [
       "0.537484538461538"
      ],
      "text/markdown": [
       "0.537484538461538"
      ],
      "text/plain": [
       "[1] 0.5374845"
      ]
     },
     "metadata": {},
     "output_type": "display_data"
    }
   ],
   "source": [
    "mean(y$PE[])"
   ]
  },
  {
   "cell_type": "code",
   "execution_count": 82,
   "metadata": {},
   "outputs": [
    {
     "data": {
      "text/html": [
       "0.450456"
      ],
      "text/latex": [
       "0.450456"
      ],
      "text/markdown": [
       "0.450456"
      ],
      "text/plain": [
       "[1] 0.450456"
      ]
     },
     "metadata": {},
     "output_type": "display_data"
    }
   ],
   "source": [
    "median(y$PE)"
   ]
  },
  {
   "cell_type": "code",
   "execution_count": 83,
   "metadata": {},
   "outputs": [
    {
     "data": {
      "text/plain": [
       "   Min. 1st Qu.  Median    Mean 3rd Qu.    Max. \n",
       " 0.2687  0.3266  0.4505  0.5375  0.5299  1.0000 "
      ]
     },
     "metadata": {},
     "output_type": "display_data"
    }
   ],
   "source": [
    "summary(y$PE)"
   ]
  },
  {
   "cell_type": "code",
   "execution_count": 84,
   "metadata": {},
   "outputs": [
    {
     "data": {
      "text/plain": [
       "\n",
       "Call:\n",
       "lm(formula = PE ~ X1 + X2 + X3, data = y)\n",
       "\n",
       "Coefficients:\n",
       "(Intercept)           X1           X2           X3  \n",
       "    1.79596      0.05171      0.32434     -0.12290  \n"
      ]
     },
     "metadata": {},
     "output_type": "display_data"
    }
   ],
   "source": [
    "lm(PE ~ X1 + X2 + X3, data = y )"
   ]
  },
  {
   "cell_type": "code",
   "execution_count": 85,
   "metadata": {},
   "outputs": [
    {
     "data": {
      "text/plain": [
       "      year            X1              X2                X3        \n",
       " Min.   :2006   Min.   :2.599   Min.   :0.04439   Min.   : 9.838  \n",
       " 1st Qu.:2009   1st Qu.:3.276   1st Qu.:0.06748   1st Qu.:11.699  \n",
       " Median :2012   Median :3.768   Median :0.08192   Median :12.834  \n",
       " Mean   :2012   Mean   :4.343   Mean   :0.10626   Mean   :12.347  \n",
       " 3rd Qu.:2015   3rd Qu.:5.068   3rd Qu.:0.10882   3rd Qu.:13.038  \n",
       " Max.   :2018   Max.   :7.070   Max.   :0.38317   Max.   :13.941  \n",
       "       PE        \n",
       " Min.   :0.2687  \n",
       " 1st Qu.:0.3266  \n",
       " Median :0.4505  \n",
       " Mean   :0.5375  \n",
       " 3rd Qu.:0.5299  \n",
       " Max.   :1.0000  "
      ]
     },
     "metadata": {},
     "output_type": "display_data"
    }
   ],
   "source": [
    "summary(y)"
   ]
  },
  {
   "cell_type": "code",
   "execution_count": 86,
   "metadata": {},
   "outputs": [
    {
     "data": {
      "text/html": [
       "<table>\n",
       "<thead><tr><th></th><th scope=col>year</th><th scope=col>X1</th><th scope=col>X2</th><th scope=col>X3</th><th scope=col>PE</th></tr></thead>\n",
       "<tbody>\n",
       "\t<tr><th scope=row>year</th><td> 1.0000000</td><td>-0.5641026</td><td>-0.4102564</td><td> 0.2564103</td><td>-0.5099020</td></tr>\n",
       "\t<tr><th scope=row>X1</th><td>-0.5641026</td><td> 1.0000000</td><td> 0.2820513</td><td>-0.2307692</td><td> 0.4837531</td></tr>\n",
       "\t<tr><th scope=row>X2</th><td>-0.4102564</td><td> 0.2820513</td><td> 1.0000000</td><td>-0.4358974</td><td> 0.3791579</td></tr>\n",
       "\t<tr><th scope=row>X3</th><td> 0.2564103</td><td>-0.2307692</td><td>-0.4358974</td><td> 1.0000000</td><td>-0.6144972</td></tr>\n",
       "\t<tr><th scope=row>PE</th><td>-0.5099020</td><td> 0.4837531</td><td> 0.3791579</td><td>-0.6144972</td><td> 1.0000000</td></tr>\n",
       "</tbody>\n",
       "</table>\n"
      ],
      "text/latex": [
       "\\begin{tabular}{r|lllll}\n",
       "  & year & X1 & X2 & X3 & PE\\\\\n",
       "\\hline\n",
       "\tyear &  1.0000000 & -0.5641026 & -0.4102564 &  0.2564103 & -0.5099020\\\\\n",
       "\tX1 & -0.5641026 &  1.0000000 &  0.2820513 & -0.2307692 &  0.4837531\\\\\n",
       "\tX2 & -0.4102564 &  0.2820513 &  1.0000000 & -0.4358974 &  0.3791579\\\\\n",
       "\tX3 &  0.2564103 & -0.2307692 & -0.4358974 &  1.0000000 & -0.6144972\\\\\n",
       "\tPE & -0.5099020 &  0.4837531 &  0.3791579 & -0.6144972 &  1.0000000\\\\\n",
       "\\end{tabular}\n"
      ],
      "text/markdown": [
       "\n",
       "| <!--/--> | year | X1 | X2 | X3 | PE | \n",
       "|---|---|---|---|---|\n",
       "| year |  1.0000000 | -0.5641026 | -0.4102564 |  0.2564103 | -0.5099020 | \n",
       "| X1 | -0.5641026 |  1.0000000 |  0.2820513 | -0.2307692 |  0.4837531 | \n",
       "| X2 | -0.4102564 |  0.2820513 |  1.0000000 | -0.4358974 |  0.3791579 | \n",
       "| X3 |  0.2564103 | -0.2307692 | -0.4358974 |  1.0000000 | -0.6144972 | \n",
       "| PE | -0.5099020 |  0.4837531 |  0.3791579 | -0.6144972 |  1.0000000 | \n",
       "\n",
       "\n"
      ],
      "text/plain": [
       "     year       X1         X2         X3         PE        \n",
       "year  1.0000000 -0.5641026 -0.4102564  0.2564103 -0.5099020\n",
       "X1   -0.5641026  1.0000000  0.2820513 -0.2307692  0.4837531\n",
       "X2   -0.4102564  0.2820513  1.0000000 -0.4358974  0.3791579\n",
       "X3    0.2564103 -0.2307692 -0.4358974  1.0000000 -0.6144972\n",
       "PE   -0.5099020  0.4837531  0.3791579 -0.6144972  1.0000000"
      ]
     },
     "metadata": {},
     "output_type": "display_data"
    }
   ],
   "source": [
    "cor(y, use=\"complete.obs\", method=\"kendall\") "
   ]
  },
  {
   "cell_type": "code",
   "execution_count": 87,
   "metadata": {},
   "outputs": [
    {
     "data": {
      "text/html": [
       "<table>\n",
       "<thead><tr><th scope=col>year</th><th scope=col>X1</th><th scope=col>X2</th><th scope=col>X3</th><th scope=col>PE</th></tr></thead>\n",
       "<tbody>\n",
       "\t<tr><td>2006      </td><td>6.646842  </td><td>0.09567215</td><td>13.026677 </td><td>0.529859  </td></tr>\n",
       "\t<tr><td>2007      </td><td>3.767512  </td><td>0.10882080</td><td>11.699428 </td><td>1.000000  </td></tr>\n",
       "\t<tr><td>2008      </td><td>5.067625  </td><td>0.11118043</td><td>12.833963 </td><td>0.482779  </td></tr>\n",
       "\t<tr><td>2009      </td><td>4.097241  </td><td>0.06748442</td><td>12.369041 </td><td>0.528774  </td></tr>\n",
       "\t<tr><td>2010      </td><td>7.070189  </td><td>0.08191892</td><td>10.519008 </td><td>1.000000  </td></tr>\n",
       "\t<tr><td>2011      </td><td>3.276125  </td><td>0.13298433</td><td>10.527667 </td><td>0.326643  </td></tr>\n",
       "\t<tr><td>2012      </td><td>4.666789  </td><td>0.38317143</td><td> 9.838226 </td><td>1.000000  </td></tr>\n",
       "\t<tr><td>2013      </td><td>6.322753  </td><td>0.09926333</td><td>13.037995 </td><td>0.414698  </td></tr>\n",
       "\t<tr><td>2014      </td><td>3.521866  </td><td>0.06580575</td><td>13.222968 </td><td>0.302132  </td></tr>\n",
       "\t<tr><td>2015      </td><td>3.301776  </td><td>0.07115781</td><td>12.915815 </td><td>0.394941  </td></tr>\n",
       "\t<tr><td>2016      </td><td>3.053739  </td><td>0.06917947</td><td>13.941196 </td><td>0.288329  </td></tr>\n",
       "\t<tr><td>2017      </td><td>3.063147  </td><td>0.04439030</td><td>13.931285 </td><td>0.268688  </td></tr>\n",
       "\t<tr><td>2018      </td><td>2.598659  </td><td>0.05036580</td><td>12.651224 </td><td>0.450456  </td></tr>\n",
       "</tbody>\n",
       "</table>\n"
      ],
      "text/latex": [
       "\\begin{tabular}{r|lllll}\n",
       " year & X1 & X2 & X3 & PE\\\\\n",
       "\\hline\n",
       "\t 2006       & 6.646842   & 0.09567215 & 13.026677  & 0.529859  \\\\\n",
       "\t 2007       & 3.767512   & 0.10882080 & 11.699428  & 1.000000  \\\\\n",
       "\t 2008       & 5.067625   & 0.11118043 & 12.833963  & 0.482779  \\\\\n",
       "\t 2009       & 4.097241   & 0.06748442 & 12.369041  & 0.528774  \\\\\n",
       "\t 2010       & 7.070189   & 0.08191892 & 10.519008  & 1.000000  \\\\\n",
       "\t 2011       & 3.276125   & 0.13298433 & 10.527667  & 0.326643  \\\\\n",
       "\t 2012       & 4.666789   & 0.38317143 &  9.838226  & 1.000000  \\\\\n",
       "\t 2013       & 6.322753   & 0.09926333 & 13.037995  & 0.414698  \\\\\n",
       "\t 2014       & 3.521866   & 0.06580575 & 13.222968  & 0.302132  \\\\\n",
       "\t 2015       & 3.301776   & 0.07115781 & 12.915815  & 0.394941  \\\\\n",
       "\t 2016       & 3.053739   & 0.06917947 & 13.941196  & 0.288329  \\\\\n",
       "\t 2017       & 3.063147   & 0.04439030 & 13.931285  & 0.268688  \\\\\n",
       "\t 2018       & 2.598659   & 0.05036580 & 12.651224  & 0.450456  \\\\\n",
       "\\end{tabular}\n"
      ],
      "text/markdown": [
       "\n",
       "year | X1 | X2 | X3 | PE | \n",
       "|---|---|---|---|---|---|---|---|---|---|---|---|---|\n",
       "| 2006       | 6.646842   | 0.09567215 | 13.026677  | 0.529859   | \n",
       "| 2007       | 3.767512   | 0.10882080 | 11.699428  | 1.000000   | \n",
       "| 2008       | 5.067625   | 0.11118043 | 12.833963  | 0.482779   | \n",
       "| 2009       | 4.097241   | 0.06748442 | 12.369041  | 0.528774   | \n",
       "| 2010       | 7.070189   | 0.08191892 | 10.519008  | 1.000000   | \n",
       "| 2011       | 3.276125   | 0.13298433 | 10.527667  | 0.326643   | \n",
       "| 2012       | 4.666789   | 0.38317143 |  9.838226  | 1.000000   | \n",
       "| 2013       | 6.322753   | 0.09926333 | 13.037995  | 0.414698   | \n",
       "| 2014       | 3.521866   | 0.06580575 | 13.222968  | 0.302132   | \n",
       "| 2015       | 3.301776   | 0.07115781 | 12.915815  | 0.394941   | \n",
       "| 2016       | 3.053739   | 0.06917947 | 13.941196  | 0.288329   | \n",
       "| 2017       | 3.063147   | 0.04439030 | 13.931285  | 0.268688   | \n",
       "| 2018       | 2.598659   | 0.05036580 | 12.651224  | 0.450456   | \n",
       "\n",
       "\n"
      ],
      "text/plain": [
       "   year X1       X2         X3        PE      \n",
       "1  2006 6.646842 0.09567215 13.026677 0.529859\n",
       "2  2007 3.767512 0.10882080 11.699428 1.000000\n",
       "3  2008 5.067625 0.11118043 12.833963 0.482779\n",
       "4  2009 4.097241 0.06748442 12.369041 0.528774\n",
       "5  2010 7.070189 0.08191892 10.519008 1.000000\n",
       "6  2011 3.276125 0.13298433 10.527667 0.326643\n",
       "7  2012 4.666789 0.38317143  9.838226 1.000000\n",
       "8  2013 6.322753 0.09926333 13.037995 0.414698\n",
       "9  2014 3.521866 0.06580575 13.222968 0.302132\n",
       "10 2015 3.301776 0.07115781 12.915815 0.394941\n",
       "11 2016 3.053739 0.06917947 13.941196 0.288329\n",
       "12 2017 3.063147 0.04439030 13.931285 0.268688\n",
       "13 2018 2.598659 0.05036580 12.651224 0.450456"
      ]
     },
     "metadata": {},
     "output_type": "display_data"
    }
   ],
   "source": [
    "y"
   ]
  },
  {
   "cell_type": "code",
   "execution_count": 88,
   "metadata": {},
   "outputs": [
    {
     "data": {
      "text/html": [
       "<table>\n",
       "<thead><tr><th></th><th scope=col>year</th><th scope=col>X1</th><th scope=col>X2</th><th scope=col>X3</th><th scope=col>PE</th></tr></thead>\n",
       "<tbody>\n",
       "\t<tr><th scope=row>1</th><td>2006      </td><td>6.646842  </td><td>0.09567215</td><td>13.02668  </td><td>0.529859  </td></tr>\n",
       "\t<tr><th scope=row>5</th><td>2010      </td><td>7.070189  </td><td>0.08191892</td><td>10.51901  </td><td>1.000000  </td></tr>\n",
       "\t<tr><th scope=row>8</th><td>2013      </td><td>6.322753  </td><td>0.09926333</td><td>13.03799  </td><td>0.414698  </td></tr>\n",
       "</tbody>\n",
       "</table>\n"
      ],
      "text/latex": [
       "\\begin{tabular}{r|lllll}\n",
       "  & year & X1 & X2 & X3 & PE\\\\\n",
       "\\hline\n",
       "\t1 & 2006       & 6.646842   & 0.09567215 & 13.02668   & 0.529859  \\\\\n",
       "\t5 & 2010       & 7.070189   & 0.08191892 & 10.51901   & 1.000000  \\\\\n",
       "\t8 & 2013       & 6.322753   & 0.09926333 & 13.03799   & 0.414698  \\\\\n",
       "\\end{tabular}\n"
      ],
      "text/markdown": [
       "\n",
       "| <!--/--> | year | X1 | X2 | X3 | PE | \n",
       "|---|---|---|\n",
       "| 1 | 2006       | 6.646842   | 0.09567215 | 13.02668   | 0.529859   | \n",
       "| 5 | 2010       | 7.070189   | 0.08191892 | 10.51901   | 1.000000   | \n",
       "| 8 | 2013       | 6.322753   | 0.09926333 | 13.03799   | 0.414698   | \n",
       "\n",
       "\n"
      ],
      "text/plain": [
       "  year X1       X2         X3       PE      \n",
       "1 2006 6.646842 0.09567215 13.02668 0.529859\n",
       "5 2010 7.070189 0.08191892 10.51901 1.000000\n",
       "8 2013 6.322753 0.09926333 13.03799 0.414698"
      ]
     },
     "metadata": {},
     "output_type": "display_data"
    }
   ],
   "source": [
    "subset(y, y$X1>6)"
   ]
  },
  {
   "cell_type": "code",
   "execution_count": 89,
   "metadata": {},
   "outputs": [
    {
     "name": "stdout",
     "output_type": "stream",
     "text": [
      " chr [1:2] \"a\" \"b\"\n"
     ]
    }
   ],
   "source": [
    "y=c(\"a\",\"b\")\n",
    "str(y)"
   ]
  },
  {
   "cell_type": "code",
   "execution_count": 90,
   "metadata": {},
   "outputs": [
    {
     "name": "stdout",
     "output_type": "stream",
     "text": [
      " chr [1:2] \"asas\" \"Adgfhfhg\"\n"
     ]
    }
   ],
   "source": [
    "df=c(\"asas\",\"Adgfhfhg\")\n",
    "str(df)"
   ]
  },
  {
   "cell_type": "code",
   "execution_count": 91,
   "metadata": {},
   "outputs": [
    {
     "data": {
      "text/html": [
       "'asdsfdb'"
      ],
      "text/latex": [
       "'asdsfdb'"
      ],
      "text/markdown": [
       "'asdsfdb'"
      ],
      "text/plain": [
       "[1] \"asdsfdb\""
      ]
     },
     "metadata": {},
     "output_type": "display_data"
    }
   ],
   "source": [
    "temp=paste(y[1],y[2], sep = \"sdsfd\")\n",
    "temp"
   ]
  },
  {
   "cell_type": "code",
   "execution_count": 92,
   "metadata": {},
   "outputs": [],
   "source": [
    "lung=read.csv(file=\"Lung Cap_Random.csv\", header=TRUE, sep=\",\", )"
   ]
  },
  {
   "cell_type": "code",
   "execution_count": 93,
   "metadata": {},
   "outputs": [
    {
     "data": {
      "text/html": [
       "<table>\n",
       "<thead><tr><th scope=col>S.No.</th><th scope=col>Lung.Capacity</th><th scope=col>Smoke</th><th scope=col>Gender</th></tr></thead>\n",
       "<tbody>\n",
       "\t<tr><td>1     </td><td>13    </td><td>No    </td><td>Male  </td></tr>\n",
       "\t<tr><td>2     </td><td> 8    </td><td>Yes   </td><td>Male  </td></tr>\n",
       "\t<tr><td>3     </td><td> 1    </td><td>No    </td><td>Female</td></tr>\n",
       "\t<tr><td>4     </td><td> 4    </td><td>Yes   </td><td>Female</td></tr>\n",
       "\t<tr><td>5     </td><td> 7    </td><td>No    </td><td>Male  </td></tr>\n",
       "\t<tr><td>6     </td><td> 2    </td><td>Yes   </td><td>Male  </td></tr>\n",
       "</tbody>\n",
       "</table>\n"
      ],
      "text/latex": [
       "\\begin{tabular}{r|llll}\n",
       " S.No. & Lung.Capacity & Smoke & Gender\\\\\n",
       "\\hline\n",
       "\t 1      & 13     & No     & Male  \\\\\n",
       "\t 2      &  8     & Yes    & Male  \\\\\n",
       "\t 3      &  1     & No     & Female\\\\\n",
       "\t 4      &  4     & Yes    & Female\\\\\n",
       "\t 5      &  7     & No     & Male  \\\\\n",
       "\t 6      &  2     & Yes    & Male  \\\\\n",
       "\\end{tabular}\n"
      ],
      "text/markdown": [
       "\n",
       "S.No. | Lung.Capacity | Smoke | Gender | \n",
       "|---|---|---|---|---|---|\n",
       "| 1      | 13     | No     | Male   | \n",
       "| 2      |  8     | Yes    | Male   | \n",
       "| 3      |  1     | No     | Female | \n",
       "| 4      |  4     | Yes    | Female | \n",
       "| 5      |  7     | No     | Male   | \n",
       "| 6      |  2     | Yes    | Male   | \n",
       "\n",
       "\n"
      ],
      "text/plain": [
       "  S.No. Lung.Capacity Smoke Gender\n",
       "1 1     13            No    Male  \n",
       "2 2      8            Yes   Male  \n",
       "3 3      1            No    Female\n",
       "4 4      4            Yes   Female\n",
       "5 5      7            No    Male  \n",
       "6 6      2            Yes   Male  "
      ]
     },
     "metadata": {},
     "output_type": "display_data"
    }
   ],
   "source": [
    "head(lung)"
   ]
  },
  {
   "cell_type": "code",
   "execution_count": 94,
   "metadata": {},
   "outputs": [
    {
     "data": {
      "text/html": [
       "'data.frame'"
      ],
      "text/latex": [
       "'data.frame'"
      ],
      "text/markdown": [
       "'data.frame'"
      ],
      "text/plain": [
       "[1] \"data.frame\""
      ]
     },
     "metadata": {},
     "output_type": "display_data"
    }
   ],
   "source": [
    "class(lung)"
   ]
  },
  {
   "cell_type": "code",
   "execution_count": 95,
   "metadata": {
    "scrolled": true
   },
   "outputs": [
    {
     "name": "stdout",
     "output_type": "stream",
     "text": [
      "'data.frame':\t50 obs. of  4 variables:\n",
      " $ S.No.        : int  1 2 3 4 5 6 7 8 9 10 ...\n",
      " $ Lung.Capacity: int  13 8 1 4 7 2 6 4 7 12 ...\n",
      " $ Smoke        : Factor w/ 2 levels \"No\",\"Yes\": 1 2 1 2 1 2 2 1 2 2 ...\n",
      " $ Gender       : Factor w/ 2 levels \"Female\",\"Male\": 2 2 1 1 2 2 1 2 1 1 ...\n"
     ]
    }
   ],
   "source": [
    "str(lung)"
   ]
  },
  {
   "cell_type": "code",
   "execution_count": 96,
   "metadata": {},
   "outputs": [],
   "source": [
    "# fg=read.csv(file.choose())"
   ]
  },
  {
   "cell_type": "code",
   "execution_count": 97,
   "metadata": {},
   "outputs": [],
   "source": [
    "library(openxlsx)"
   ]
  },
  {
   "cell_type": "code",
   "execution_count": 98,
   "metadata": {},
   "outputs": [],
   "source": [
    "xls=read.xlsx(\"Data.xlsx\")"
   ]
  },
  {
   "cell_type": "code",
   "execution_count": 99,
   "metadata": {},
   "outputs": [
    {
     "data": {
      "text/html": [
       "<table>\n",
       "<thead><tr><th scope=col>V1</th><th scope=col>V2</th><th scope=col>V3</th><th scope=col>V4</th><th scope=col>V5</th><th scope=col>V6</th><th scope=col>V7</th><th scope=col>V8</th><th scope=col>V9</th><th scope=col>V10</th><th scope=col>⋯</th><th scope=col>V69</th><th scope=col>V70</th><th scope=col>V71</th><th scope=col>V72</th><th scope=col>V73</th><th scope=col>V74</th><th scope=col>V75</th><th scope=col>V76</th><th scope=col>V77</th><th scope=col>V78</th></tr></thead>\n",
       "<tbody>\n",
       "\t<tr><td>Orange  </td><td>is      </td><td>an      </td><td>open    </td><td>source  </td><td>tool    </td><td>that    </td><td>allows  </td><td>for     </td><td>complex </td><td>⋯       </td><td>very    </td><td>complex </td><td>data    </td><td>mining  </td><td>/       </td><td>modeling</td><td>vs      </td><td>what    </td><td>Tableau </td><td>offers. </td></tr>\n",
       "</tbody>\n",
       "</table>\n"
      ],
      "text/latex": [
       "\\begin{tabular}{r|llllllllllllllllllllllllllllllllllllllllllllllllllllllllllllllllllllllllllllll}\n",
       " V1 & V2 & V3 & V4 & V5 & V6 & V7 & V8 & V9 & V10 & ⋯ & V69 & V70 & V71 & V72 & V73 & V74 & V75 & V76 & V77 & V78\\\\\n",
       "\\hline\n",
       "\t Orange   & is       & an       & open     & source   & tool     & that     & allows   & for      & complex  & ⋯        & very     & complex  & data     & mining   & /        & modeling & vs       & what     & Tableau  & offers. \\\\\n",
       "\\end{tabular}\n"
      ],
      "text/markdown": [
       "\n",
       "V1 | V2 | V3 | V4 | V5 | V6 | V7 | V8 | V9 | V10 | ⋯ | V69 | V70 | V71 | V72 | V73 | V74 | V75 | V76 | V77 | V78 | \n",
       "|---|\n",
       "| Orange   | is       | an       | open     | source   | tool     | that     | allows   | for      | complex  | ⋯        | very     | complex  | data     | mining   | /        | modeling | vs       | what     | Tableau  | offers.  | \n",
       "\n",
       "\n"
      ],
      "text/plain": [
       "  V1     V2 V3 V4   V5     V6   V7   V8     V9  V10     ⋯ V69  V70     V71 \n",
       "1 Orange is an open source tool that allows for complex ⋯ very complex data\n",
       "  V72    V73 V74      V75 V76  V77     V78    \n",
       "1 mining /   modeling vs  what Tableau offers."
      ]
     },
     "metadata": {},
     "output_type": "display_data"
    }
   ],
   "source": [
    "read.table(file=\"clipboard\")"
   ]
  },
  {
   "cell_type": "code",
   "execution_count": 100,
   "metadata": {},
   "outputs": [
    {
     "data": {
      "text/html": [
       "<table>\n",
       "<thead><tr><th scope=col>Date</th><th scope=col>Close</th></tr></thead>\n",
       "<tbody>\n",
       "\t<tr><td>20120102</td><td>706.55  </td></tr>\n",
       "\t<tr><td>20120103</td><td>724.65  </td></tr>\n",
       "\t<tr><td>20120104</td><td>716.15  </td></tr>\n",
       "\t<tr><td>20120105</td><td>699.50  </td></tr>\n",
       "\t<tr><td>20120106</td><td>717.55  </td></tr>\n",
       "\t<tr><td>20120107</td><td>714.75  </td></tr>\n",
       "</tbody>\n",
       "</table>\n"
      ],
      "text/latex": [
       "\\begin{tabular}{r|ll}\n",
       " Date & Close\\\\\n",
       "\\hline\n",
       "\t 20120102 & 706.55  \\\\\n",
       "\t 20120103 & 724.65  \\\\\n",
       "\t 20120104 & 716.15  \\\\\n",
       "\t 20120105 & 699.50  \\\\\n",
       "\t 20120106 & 717.55  \\\\\n",
       "\t 20120107 & 714.75  \\\\\n",
       "\\end{tabular}\n"
      ],
      "text/markdown": [
       "\n",
       "Date | Close | \n",
       "|---|---|---|---|---|---|\n",
       "| 20120102 | 706.55   | \n",
       "| 20120103 | 724.65   | \n",
       "| 20120104 | 716.15   | \n",
       "| 20120105 | 699.50   | \n",
       "| 20120106 | 717.55   | \n",
       "| 20120107 | 714.75   | \n",
       "\n",
       "\n"
      ],
      "text/plain": [
       "  Date     Close \n",
       "1 20120102 706.55\n",
       "2 20120103 724.65\n",
       "3 20120104 716.15\n",
       "4 20120105 699.50\n",
       "5 20120106 717.55\n",
       "6 20120107 714.75"
      ]
     },
     "metadata": {},
     "output_type": "display_data"
    }
   ],
   "source": [
    "rel_cls=read.csv(\"Resources/Session 3/RELIANCE_close price.csv\")\n",
    "head(rel_cls)"
   ]
  },
  {
   "cell_type": "code",
   "execution_count": 101,
   "metadata": {},
   "outputs": [
    {
     "data": {
      "text/html": [
       "<table>\n",
       "<thead><tr><th scope=col>Date</th><th scope=col>Number_trades</th></tr></thead>\n",
       "<tbody>\n",
       "\t<tr><td>20120102</td><td>107910  </td></tr>\n",
       "\t<tr><td>20120103</td><td>116827  </td></tr>\n",
       "\t<tr><td>20120104</td><td>103487  </td></tr>\n",
       "\t<tr><td>20120105</td><td>153163  </td></tr>\n",
       "\t<tr><td>20120106</td><td>132079  </td></tr>\n",
       "\t<tr><td>20120107</td><td> 11413  </td></tr>\n",
       "</tbody>\n",
       "</table>\n"
      ],
      "text/latex": [
       "\\begin{tabular}{r|ll}\n",
       " Date & Number\\_trades\\\\\n",
       "\\hline\n",
       "\t 20120102 & 107910  \\\\\n",
       "\t 20120103 & 116827  \\\\\n",
       "\t 20120104 & 103487  \\\\\n",
       "\t 20120105 & 153163  \\\\\n",
       "\t 20120106 & 132079  \\\\\n",
       "\t 20120107 &  11413  \\\\\n",
       "\\end{tabular}\n"
      ],
      "text/markdown": [
       "\n",
       "Date | Number_trades | \n",
       "|---|---|---|---|---|---|\n",
       "| 20120102 | 107910   | \n",
       "| 20120103 | 116827   | \n",
       "| 20120104 | 103487   | \n",
       "| 20120105 | 153163   | \n",
       "| 20120106 | 132079   | \n",
       "| 20120107 |  11413   | \n",
       "\n",
       "\n"
      ],
      "text/plain": [
       "  Date     Number_trades\n",
       "1 20120102 107910       \n",
       "2 20120103 116827       \n",
       "3 20120104 103487       \n",
       "4 20120105 153163       \n",
       "5 20120106 132079       \n",
       "6 20120107  11413       "
      ]
     },
     "metadata": {},
     "output_type": "display_data"
    }
   ],
   "source": [
    "rel_n_trade=read.csv(\"Resources/Session 3/RELIANCE_number of trades.csv\")\n",
    "head(rel_n_trade)"
   ]
  },
  {
   "cell_type": "code",
   "execution_count": 102,
   "metadata": {},
   "outputs": [
    {
     "data": {
      "text/html": [
       "<table>\n",
       "<thead><tr><th scope=col>Date</th><th scope=col>Trdqty</th></tr></thead>\n",
       "<tbody>\n",
       "\t<tr><td>20120102</td><td>4299217 </td></tr>\n",
       "\t<tr><td>20120103</td><td>4683491 </td></tr>\n",
       "\t<tr><td>20120104</td><td>4238367 </td></tr>\n",
       "\t<tr><td>20120105</td><td>6619586 </td></tr>\n",
       "\t<tr><td>20120106</td><td>4703147 </td></tr>\n",
       "\t<tr><td>20120107</td><td> 460231 </td></tr>\n",
       "</tbody>\n",
       "</table>\n"
      ],
      "text/latex": [
       "\\begin{tabular}{r|ll}\n",
       " Date & Trdqty\\\\\n",
       "\\hline\n",
       "\t 20120102 & 4299217 \\\\\n",
       "\t 20120103 & 4683491 \\\\\n",
       "\t 20120104 & 4238367 \\\\\n",
       "\t 20120105 & 6619586 \\\\\n",
       "\t 20120106 & 4703147 \\\\\n",
       "\t 20120107 &  460231 \\\\\n",
       "\\end{tabular}\n"
      ],
      "text/markdown": [
       "\n",
       "Date | Trdqty | \n",
       "|---|---|---|---|---|---|\n",
       "| 20120102 | 4299217  | \n",
       "| 20120103 | 4683491  | \n",
       "| 20120104 | 4238367  | \n",
       "| 20120105 | 6619586  | \n",
       "| 20120106 | 4703147  | \n",
       "| 20120107 |  460231  | \n",
       "\n",
       "\n"
      ],
      "text/plain": [
       "  Date     Trdqty \n",
       "1 20120102 4299217\n",
       "2 20120103 4683491\n",
       "3 20120104 4238367\n",
       "4 20120105 6619586\n",
       "5 20120106 4703147\n",
       "6 20120107  460231"
      ]
     },
     "metadata": {},
     "output_type": "display_data"
    }
   ],
   "source": [
    "rel_trade_q= read.csv(\"Resources/Session 3/RELIANCE_trade quantity.csv\")\n",
    "head(rel_trade_q)"
   ]
  },
  {
   "cell_type": "raw",
   "metadata": {},
   "source": [
    "# read_csv()\n",
    "# Mac Import \n",
    "#data <- read.table(pipe(\"pbpaste\"), sep=\"\\t\", header=T)\n",
    "l=read.table(pipe(\"xclip -selection clipboard -o\",open=\"r\"))\n",
    "# l=read.table(\"X11_clipboard\")'/;k  +'"
   ]
  },
  {
   "cell_type": "code",
   "execution_count": 107,
   "metadata": {},
   "outputs": [],
   "source": [
    "write.xlsx(rel_trade_q, file=\"sddg.xlsx\")"
   ]
  },
  {
   "cell_type": "code",
   "execution_count": 120,
   "metadata": {},
   "outputs": [
    {
     "data": {
      "text/html": [
       "<table>\n",
       "<thead><tr><th></th><th scope=col>Date</th><th scope=col>Trdqty</th></tr></thead>\n",
       "<tbody>\n",
       "\t<tr><th scope=row>4</th><td>20120105</td><td>6619586 </td></tr>\n",
       "\t<tr><th scope=row>13</th><td>20120117</td><td>5197636 </td></tr>\n",
       "\t<tr><th scope=row>14</th><td>20120118</td><td>9248756 </td></tr>\n",
       "\t<tr><th scope=row>15</th><td>20120119</td><td>5483508 </td></tr>\n",
       "\t<tr><th scope=row>16</th><td>20120120</td><td>7251864 </td></tr>\n",
       "\t<tr><th scope=row>17</th><td>20120123</td><td>6457585 </td></tr>\n",
       "\t<tr><th scope=row>18</th><td>20120124</td><td>5095499 </td></tr>\n",
       "\t<tr><th scope=row>20</th><td>20120127</td><td>5565491 </td></tr>\n",
       "\t<tr><th scope=row>22</th><td>20120131</td><td>6264462 </td></tr>\n",
       "\t<tr><th scope=row>33</th><td>20120215</td><td>7182317 </td></tr>\n",
       "\t<tr><th scope=row>34</th><td>20120216</td><td>6342577 </td></tr>\n",
       "\t<tr><th scope=row>35</th><td>20120217</td><td>8211325 </td></tr>\n",
       "\t<tr><th scope=row>36</th><td>20120221</td><td>8333665 </td></tr>\n",
       "\t<tr><th scope=row>37</th><td>20120222</td><td>5748129 </td></tr>\n",
       "\t<tr><th scope=row>40</th><td>20120227</td><td>6348215 </td></tr>\n",
       "\t<tr><th scope=row>41</th><td>20120228</td><td>5289418 </td></tr>\n",
       "\t<tr><th scope=row>42</th><td>20120229</td><td>6365349 </td></tr>\n",
       "\t<tr><th scope=row>47</th><td>20120306</td><td>8029991 </td></tr>\n",
       "\t<tr><th scope=row>48</th><td>20120307</td><td>6446729 </td></tr>\n",
       "\t<tr><th scope=row>54</th><td>20120316</td><td>5753096 </td></tr>\n",
       "\t<tr><th scope=row>58</th><td>20120322</td><td>6684658 </td></tr>\n",
       "\t<tr><th scope=row>59</th><td>20120323</td><td>6161836 </td></tr>\n",
       "\t<tr><th scope=row>60</th><td>20120326</td><td>5288348 </td></tr>\n",
       "\t<tr><th scope=row>61</th><td>20120327</td><td>6216251 </td></tr>\n",
       "\t<tr><th scope=row>63</th><td>20120329</td><td>5480717 </td></tr>\n",
       "\t<tr><th scope=row>78</th><td>20120423</td><td>5053199 </td></tr>\n",
       "\t<tr><th scope=row>106</th><td>20120531</td><td>9024961 </td></tr>\n",
       "\t<tr><th scope=row>110</th><td>20120606</td><td>5315222 </td></tr>\n",
       "\t<tr><th scope=row>111</th><td>20120607</td><td>6387716 </td></tr>\n",
       "\t<tr><th scope=row>121</th><td>20120621</td><td>5168092 </td></tr>\n",
       "\t<tr><th scope=row>⋮</th><td>⋮</td><td>⋮</td></tr>\n",
       "\t<tr><th scope=row>417</th><td>20130828</td><td> 5900451</td></tr>\n",
       "\t<tr><th scope=row>418</th><td>20130829</td><td> 7049010</td></tr>\n",
       "\t<tr><th scope=row>449</th><td>20131015</td><td> 5266950</td></tr>\n",
       "\t<tr><th scope=row>451</th><td>20131018</td><td> 5069374</td></tr>\n",
       "\t<tr><th scope=row>548</th><td>20140307</td><td> 7679752</td></tr>\n",
       "\t<tr><th scope=row>549</th><td>20140310</td><td> 7513409</td></tr>\n",
       "\t<tr><th scope=row>556</th><td>20140320</td><td> 6791651</td></tr>\n",
       "\t<tr><th scope=row>557</th><td>20140321</td><td> 5040481</td></tr>\n",
       "\t<tr><th scope=row>559</th><td>20140324</td><td> 6586731</td></tr>\n",
       "\t<tr><th scope=row>560</th><td>20140325</td><td> 7154556</td></tr>\n",
       "\t<tr><th scope=row>562</th><td>20140327</td><td>12665322</td></tr>\n",
       "\t<tr><th scope=row>566</th><td>20140402</td><td> 6121499</td></tr>\n",
       "\t<tr><th scope=row>567</th><td>20140403</td><td> 6069088</td></tr>\n",
       "\t<tr><th scope=row>589</th><td>20140512</td><td> 7051280</td></tr>\n",
       "\t<tr><th scope=row>590</th><td>20140513</td><td> 6140492</td></tr>\n",
       "\t<tr><th scope=row>593</th><td>20140516</td><td>12031151</td></tr>\n",
       "\t<tr><th scope=row>594</th><td>20140519</td><td> 5439813</td></tr>\n",
       "\t<tr><th scope=row>595</th><td>20140520</td><td> 5145199</td></tr>\n",
       "\t<tr><th scope=row>596</th><td>20140521</td><td> 5026907</td></tr>\n",
       "\t<tr><th scope=row>602</th><td>20140529</td><td> 6322422</td></tr>\n",
       "\t<tr><th scope=row>608</th><td>20140606</td><td> 6701908</td></tr>\n",
       "\t<tr><th scope=row>617</th><td>20140619</td><td> 5286280</td></tr>\n",
       "\t<tr><th scope=row>622</th><td>20140626</td><td> 5595871</td></tr>\n",
       "\t<tr><th scope=row>640</th><td>20140722</td><td> 6512321</td></tr>\n",
       "\t<tr><th scope=row>668</th><td>20140903</td><td> 5011067</td></tr>\n",
       "\t<tr><th scope=row>684</th><td>20140925</td><td> 7564288</td></tr>\n",
       "\t<tr><th scope=row>702</th><td>20141028</td><td> 5034195</td></tr>\n",
       "\t<tr><th scope=row>704</th><td>20141030</td><td> 7484984</td></tr>\n",
       "\t<tr><th scope=row>732</th><td>20141211</td><td> 5170702</td></tr>\n",
       "\t<tr><th scope=row>741</th><td>20141224</td><td> 5138493</td></tr>\n",
       "</tbody>\n",
       "</table>\n"
      ],
      "text/latex": [
       "\\begin{tabular}{r|ll}\n",
       "  & Date & Trdqty\\\\\n",
       "\\hline\n",
       "\t4 & 20120105 & 6619586 \\\\\n",
       "\t13 & 20120117 & 5197636 \\\\\n",
       "\t14 & 20120118 & 9248756 \\\\\n",
       "\t15 & 20120119 & 5483508 \\\\\n",
       "\t16 & 20120120 & 7251864 \\\\\n",
       "\t17 & 20120123 & 6457585 \\\\\n",
       "\t18 & 20120124 & 5095499 \\\\\n",
       "\t20 & 20120127 & 5565491 \\\\\n",
       "\t22 & 20120131 & 6264462 \\\\\n",
       "\t33 & 20120215 & 7182317 \\\\\n",
       "\t34 & 20120216 & 6342577 \\\\\n",
       "\t35 & 20120217 & 8211325 \\\\\n",
       "\t36 & 20120221 & 8333665 \\\\\n",
       "\t37 & 20120222 & 5748129 \\\\\n",
       "\t40 & 20120227 & 6348215 \\\\\n",
       "\t41 & 20120228 & 5289418 \\\\\n",
       "\t42 & 20120229 & 6365349 \\\\\n",
       "\t47 & 20120306 & 8029991 \\\\\n",
       "\t48 & 20120307 & 6446729 \\\\\n",
       "\t54 & 20120316 & 5753096 \\\\\n",
       "\t58 & 20120322 & 6684658 \\\\\n",
       "\t59 & 20120323 & 6161836 \\\\\n",
       "\t60 & 20120326 & 5288348 \\\\\n",
       "\t61 & 20120327 & 6216251 \\\\\n",
       "\t63 & 20120329 & 5480717 \\\\\n",
       "\t78 & 20120423 & 5053199 \\\\\n",
       "\t106 & 20120531 & 9024961 \\\\\n",
       "\t110 & 20120606 & 5315222 \\\\\n",
       "\t111 & 20120607 & 6387716 \\\\\n",
       "\t121 & 20120621 & 5168092 \\\\\n",
       "\t⋮ & ⋮ & ⋮\\\\\n",
       "\t417 & 20130828 &  5900451\\\\\n",
       "\t418 & 20130829 &  7049010\\\\\n",
       "\t449 & 20131015 &  5266950\\\\\n",
       "\t451 & 20131018 &  5069374\\\\\n",
       "\t548 & 20140307 &  7679752\\\\\n",
       "\t549 & 20140310 &  7513409\\\\\n",
       "\t556 & 20140320 &  6791651\\\\\n",
       "\t557 & 20140321 &  5040481\\\\\n",
       "\t559 & 20140324 &  6586731\\\\\n",
       "\t560 & 20140325 &  7154556\\\\\n",
       "\t562 & 20140327 & 12665322\\\\\n",
       "\t566 & 20140402 &  6121499\\\\\n",
       "\t567 & 20140403 &  6069088\\\\\n",
       "\t589 & 20140512 &  7051280\\\\\n",
       "\t590 & 20140513 &  6140492\\\\\n",
       "\t593 & 20140516 & 12031151\\\\\n",
       "\t594 & 20140519 &  5439813\\\\\n",
       "\t595 & 20140520 &  5145199\\\\\n",
       "\t596 & 20140521 &  5026907\\\\\n",
       "\t602 & 20140529 &  6322422\\\\\n",
       "\t608 & 20140606 &  6701908\\\\\n",
       "\t617 & 20140619 &  5286280\\\\\n",
       "\t622 & 20140626 &  5595871\\\\\n",
       "\t640 & 20140722 &  6512321\\\\\n",
       "\t668 & 20140903 &  5011067\\\\\n",
       "\t684 & 20140925 &  7564288\\\\\n",
       "\t702 & 20141028 &  5034195\\\\\n",
       "\t704 & 20141030 &  7484984\\\\\n",
       "\t732 & 20141211 &  5170702\\\\\n",
       "\t741 & 20141224 &  5138493\\\\\n",
       "\\end{tabular}\n"
      ],
      "text/markdown": [
       "\n",
       "| <!--/--> | Date | Trdqty | \n",
       "|---|---|---|---|---|---|---|---|---|---|---|---|---|---|---|---|---|---|---|---|---|---|---|---|---|---|---|---|---|---|---|---|---|---|---|---|---|---|---|---|---|---|---|---|---|---|---|---|---|---|---|---|---|---|---|---|---|---|---|---|---|\n",
       "| 4 | 20120105 | 6619586  | \n",
       "| 13 | 20120117 | 5197636  | \n",
       "| 14 | 20120118 | 9248756  | \n",
       "| 15 | 20120119 | 5483508  | \n",
       "| 16 | 20120120 | 7251864  | \n",
       "| 17 | 20120123 | 6457585  | \n",
       "| 18 | 20120124 | 5095499  | \n",
       "| 20 | 20120127 | 5565491  | \n",
       "| 22 | 20120131 | 6264462  | \n",
       "| 33 | 20120215 | 7182317  | \n",
       "| 34 | 20120216 | 6342577  | \n",
       "| 35 | 20120217 | 8211325  | \n",
       "| 36 | 20120221 | 8333665  | \n",
       "| 37 | 20120222 | 5748129  | \n",
       "| 40 | 20120227 | 6348215  | \n",
       "| 41 | 20120228 | 5289418  | \n",
       "| 42 | 20120229 | 6365349  | \n",
       "| 47 | 20120306 | 8029991  | \n",
       "| 48 | 20120307 | 6446729  | \n",
       "| 54 | 20120316 | 5753096  | \n",
       "| 58 | 20120322 | 6684658  | \n",
       "| 59 | 20120323 | 6161836  | \n",
       "| 60 | 20120326 | 5288348  | \n",
       "| 61 | 20120327 | 6216251  | \n",
       "| 63 | 20120329 | 5480717  | \n",
       "| 78 | 20120423 | 5053199  | \n",
       "| 106 | 20120531 | 9024961  | \n",
       "| 110 | 20120606 | 5315222  | \n",
       "| 111 | 20120607 | 6387716  | \n",
       "| 121 | 20120621 | 5168092  | \n",
       "| ⋮ | ⋮ | ⋮ | \n",
       "| 417 | 20130828 |  5900451 | \n",
       "| 418 | 20130829 |  7049010 | \n",
       "| 449 | 20131015 |  5266950 | \n",
       "| 451 | 20131018 |  5069374 | \n",
       "| 548 | 20140307 |  7679752 | \n",
       "| 549 | 20140310 |  7513409 | \n",
       "| 556 | 20140320 |  6791651 | \n",
       "| 557 | 20140321 |  5040481 | \n",
       "| 559 | 20140324 |  6586731 | \n",
       "| 560 | 20140325 |  7154556 | \n",
       "| 562 | 20140327 | 12665322 | \n",
       "| 566 | 20140402 |  6121499 | \n",
       "| 567 | 20140403 |  6069088 | \n",
       "| 589 | 20140512 |  7051280 | \n",
       "| 590 | 20140513 |  6140492 | \n",
       "| 593 | 20140516 | 12031151 | \n",
       "| 594 | 20140519 |  5439813 | \n",
       "| 595 | 20140520 |  5145199 | \n",
       "| 596 | 20140521 |  5026907 | \n",
       "| 602 | 20140529 |  6322422 | \n",
       "| 608 | 20140606 |  6701908 | \n",
       "| 617 | 20140619 |  5286280 | \n",
       "| 622 | 20140626 |  5595871 | \n",
       "| 640 | 20140722 |  6512321 | \n",
       "| 668 | 20140903 |  5011067 | \n",
       "| 684 | 20140925 |  7564288 | \n",
       "| 702 | 20141028 |  5034195 | \n",
       "| 704 | 20141030 |  7484984 | \n",
       "| 732 | 20141211 |  5170702 | \n",
       "| 741 | 20141224 |  5138493 | \n",
       "\n",
       "\n"
      ],
      "text/plain": [
       "    Date     Trdqty  \n",
       "4   20120105 6619586 \n",
       "13  20120117 5197636 \n",
       "14  20120118 9248756 \n",
       "15  20120119 5483508 \n",
       "16  20120120 7251864 \n",
       "17  20120123 6457585 \n",
       "18  20120124 5095499 \n",
       "20  20120127 5565491 \n",
       "22  20120131 6264462 \n",
       "33  20120215 7182317 \n",
       "34  20120216 6342577 \n",
       "35  20120217 8211325 \n",
       "36  20120221 8333665 \n",
       "37  20120222 5748129 \n",
       "40  20120227 6348215 \n",
       "41  20120228 5289418 \n",
       "42  20120229 6365349 \n",
       "47  20120306 8029991 \n",
       "48  20120307 6446729 \n",
       "54  20120316 5753096 \n",
       "58  20120322 6684658 \n",
       "59  20120323 6161836 \n",
       "60  20120326 5288348 \n",
       "61  20120327 6216251 \n",
       "63  20120329 5480717 \n",
       "78  20120423 5053199 \n",
       "106 20120531 9024961 \n",
       "110 20120606 5315222 \n",
       "111 20120607 6387716 \n",
       "121 20120621 5168092 \n",
       "⋮   ⋮        ⋮       \n",
       "417 20130828  5900451\n",
       "418 20130829  7049010\n",
       "449 20131015  5266950\n",
       "451 20131018  5069374\n",
       "548 20140307  7679752\n",
       "549 20140310  7513409\n",
       "556 20140320  6791651\n",
       "557 20140321  5040481\n",
       "559 20140324  6586731\n",
       "560 20140325  7154556\n",
       "562 20140327 12665322\n",
       "566 20140402  6121499\n",
       "567 20140403  6069088\n",
       "589 20140512  7051280\n",
       "590 20140513  6140492\n",
       "593 20140516 12031151\n",
       "594 20140519  5439813\n",
       "595 20140520  5145199\n",
       "596 20140521  5026907\n",
       "602 20140529  6322422\n",
       "608 20140606  6701908\n",
       "617 20140619  5286280\n",
       "622 20140626  5595871\n",
       "640 20140722  6512321\n",
       "668 20140903  5011067\n",
       "684 20140925  7564288\n",
       "702 20141028  5034195\n",
       "704 20141030  7484984\n",
       "732 20141211  5170702\n",
       "741 20141224  5138493"
      ]
     },
     "metadata": {},
     "output_type": "display_data"
    }
   ],
   "source": [
    "subset(rel_trade_q, subset = Trdqty> 4983491)"
   ]
  },
  {
   "cell_type": "code",
   "execution_count": 123,
   "metadata": {},
   "outputs": [],
   "source": [
    "sho=list(rel_trade_q, rel_cls, y1)"
   ]
  },
  {
   "cell_type": "code",
   "execution_count": 129,
   "metadata": {},
   "outputs": [
    {
     "data": {
      "text/html": [
       "3"
      ],
      "text/latex": [
       "3"
      ],
      "text/markdown": [
       "3"
      ],
      "text/plain": [
       "[1] 3"
      ]
     },
     "metadata": {},
     "output_type": "display_data"
    }
   ],
   "source": [
    "length(sho)"
   ]
  },
  {
   "cell_type": "code",
   "execution_count": 130,
   "metadata": {},
   "outputs": [],
   "source": [
    "data(\"women\")"
   ]
  },
  {
   "cell_type": "code",
   "execution_count": 135,
   "metadata": {},
   "outputs": [
    {
     "data": {
      "text/html": [
       "<table>\n",
       "<thead><tr><th scope=col>height</th><th scope=col>weight</th></tr></thead>\n",
       "<tbody>\n",
       "\t<tr><td>58 </td><td>115</td></tr>\n",
       "\t<tr><td>59 </td><td>117</td></tr>\n",
       "\t<tr><td>60 </td><td>120</td></tr>\n",
       "\t<tr><td>61 </td><td>123</td></tr>\n",
       "\t<tr><td>62 </td><td>126</td></tr>\n",
       "\t<tr><td>63 </td><td>129</td></tr>\n",
       "\t<tr><td>64 </td><td>132</td></tr>\n",
       "\t<tr><td>65 </td><td>135</td></tr>\n",
       "\t<tr><td>66 </td><td>139</td></tr>\n",
       "\t<tr><td>67 </td><td>142</td></tr>\n",
       "\t<tr><td>68 </td><td>146</td></tr>\n",
       "\t<tr><td>69 </td><td>150</td></tr>\n",
       "\t<tr><td>70 </td><td>154</td></tr>\n",
       "\t<tr><td>71 </td><td>159</td></tr>\n",
       "\t<tr><td>72 </td><td>164</td></tr>\n",
       "</tbody>\n",
       "</table>\n"
      ],
      "text/latex": [
       "\\begin{tabular}{r|ll}\n",
       " height & weight\\\\\n",
       "\\hline\n",
       "\t 58  & 115\\\\\n",
       "\t 59  & 117\\\\\n",
       "\t 60  & 120\\\\\n",
       "\t 61  & 123\\\\\n",
       "\t 62  & 126\\\\\n",
       "\t 63  & 129\\\\\n",
       "\t 64  & 132\\\\\n",
       "\t 65  & 135\\\\\n",
       "\t 66  & 139\\\\\n",
       "\t 67  & 142\\\\\n",
       "\t 68  & 146\\\\\n",
       "\t 69  & 150\\\\\n",
       "\t 70  & 154\\\\\n",
       "\t 71  & 159\\\\\n",
       "\t 72  & 164\\\\\n",
       "\\end{tabular}\n"
      ],
      "text/markdown": [
       "\n",
       "height | weight | \n",
       "|---|---|---|---|---|---|---|---|---|---|---|---|---|---|---|\n",
       "| 58  | 115 | \n",
       "| 59  | 117 | \n",
       "| 60  | 120 | \n",
       "| 61  | 123 | \n",
       "| 62  | 126 | \n",
       "| 63  | 129 | \n",
       "| 64  | 132 | \n",
       "| 65  | 135 | \n",
       "| 66  | 139 | \n",
       "| 67  | 142 | \n",
       "| 68  | 146 | \n",
       "| 69  | 150 | \n",
       "| 70  | 154 | \n",
       "| 71  | 159 | \n",
       "| 72  | 164 | \n",
       "\n",
       "\n"
      ],
      "text/plain": [
       "   height weight\n",
       "1  58     115   \n",
       "2  59     117   \n",
       "3  60     120   \n",
       "4  61     123   \n",
       "5  62     126   \n",
       "6  63     129   \n",
       "7  64     132   \n",
       "8  65     135   \n",
       "9  66     139   \n",
       "10 67     142   \n",
       "11 68     146   \n",
       "12 69     150   \n",
       "13 70     154   \n",
       "14 71     159   \n",
       "15 72     164   "
      ]
     },
     "metadata": {},
     "output_type": "display_data"
    }
   ],
   "source": [
    "women"
   ]
  },
  {
   "cell_type": "code",
   "execution_count": 137,
   "metadata": {},
   "outputs": [
    {
     "name": "stderr",
     "output_type": "stream",
     "text": [
      "The following objects are masked from women (pos = 3):\n",
      "\n",
      "    height, weight\n",
      "\n"
     ]
    }
   ],
   "source": [
    "attach(women)"
   ]
  },
  {
   "cell_type": "code",
   "execution_count": 140,
   "metadata": {},
   "outputs": [
    {
     "data": {
      "image/png": "[encoded data removed]",
      "text/plain": [
       "plot without title"
      ]
     },
     "metadata": {},
     "output_type": "display_data"
    }
   ],
   "source": [
    "plot(height, weight)"
   ]
  },
  {
   "cell_type": "code",
   "execution_count": 141,
   "metadata": {},
   "outputs": [
    {
     "data": {
      "text/html": [
       "0.995494767784216"
      ],
      "text/latex": [
       "0.995494767784216"
      ],
      "text/markdown": [
       "0.995494767784216"
      ],
      "text/plain": [
       "[1] 0.9954948"
      ]
     },
     "metadata": {},
     "output_type": "display_data"
    }
   ],
   "source": [
    "cor(weight, height)"
   ]
  },
  {
   "cell_type": "code",
   "execution_count": 143,
   "metadata": {},
   "outputs": [
    {
     "data": {
      "text/plain": [
       "\n",
       "Call:\n",
       "lm(formula = weight ~ height)\n",
       "\n",
       "Coefficients:\n",
       "(Intercept)       height  \n",
       "     -87.52         3.45  \n"
      ]
     },
     "metadata": {},
     "output_type": "display_data"
    }
   ],
   "source": [
    "lm(weight~height)"
   ]
  },
  {
   "cell_type": "code",
   "execution_count": 147,
   "metadata": {},
   "outputs": [],
   "source": [
    "Model1=lm(weight~height)"
   ]
  },
  {
   "cell_type": "code",
   "execution_count": 149,
   "metadata": {},
   "outputs": [
    {
     "data": {
      "image/png": "[encoded data removed]",
      "text/plain": [
       "plot without title"
      ]
     },
     "metadata": {},
     "output_type": "display_data"
    }
   ],
   "source": [
    "plot(height, weight)\n",
    "abline(Model1)"
   ]
  },
  {
   "cell_type": "code",
   "execution_count": 150,
   "metadata": {},
   "outputs": [
    {
     "data": {
      "text/html": [
       "<dl class=dl-horizontal>\n",
       "\t<dt>1</dt>\n",
       "\t\t<dd>112.583333333333</dd>\n",
       "\t<dt>2</dt>\n",
       "\t\t<dd>116.033333333333</dd>\n",
       "\t<dt>3</dt>\n",
       "\t\t<dd>119.483333333333</dd>\n",
       "\t<dt>4</dt>\n",
       "\t\t<dd>122.933333333333</dd>\n",
       "\t<dt>5</dt>\n",
       "\t\t<dd>126.383333333333</dd>\n",
       "\t<dt>6</dt>\n",
       "\t\t<dd>129.833333333333</dd>\n",
       "\t<dt>7</dt>\n",
       "\t\t<dd>133.283333333333</dd>\n",
       "\t<dt>8</dt>\n",
       "\t\t<dd>136.733333333333</dd>\n",
       "\t<dt>9</dt>\n",
       "\t\t<dd>140.183333333333</dd>\n",
       "\t<dt>10</dt>\n",
       "\t\t<dd>143.633333333333</dd>\n",
       "\t<dt>11</dt>\n",
       "\t\t<dd>147.083333333333</dd>\n",
       "\t<dt>12</dt>\n",
       "\t\t<dd>150.533333333333</dd>\n",
       "\t<dt>13</dt>\n",
       "\t\t<dd>153.983333333333</dd>\n",
       "\t<dt>14</dt>\n",
       "\t\t<dd>157.433333333333</dd>\n",
       "\t<dt>15</dt>\n",
       "\t\t<dd>160.883333333333</dd>\n",
       "</dl>\n"
      ],
      "text/latex": [
       "\\begin{description*}\n",
       "\\item[1] 112.583333333333\n",
       "\\item[2] 116.033333333333\n",
       "\\item[3] 119.483333333333\n",
       "\\item[4] 122.933333333333\n",
       "\\item[5] 126.383333333333\n",
       "\\item[6] 129.833333333333\n",
       "\\item[7] 133.283333333333\n",
       "\\item[8] 136.733333333333\n",
       "\\item[9] 140.183333333333\n",
       "\\item[10] 143.633333333333\n",
       "\\item[11] 147.083333333333\n",
       "\\item[12] 150.533333333333\n",
       "\\item[13] 153.983333333333\n",
       "\\item[14] 157.433333333333\n",
       "\\item[15] 160.883333333333\n",
       "\\end{description*}\n"
      ],
      "text/markdown": [
       "1\n",
       ":   112.5833333333332\n",
       ":   116.0333333333333\n",
       ":   119.4833333333334\n",
       ":   122.9333333333335\n",
       ":   126.3833333333336\n",
       ":   129.8333333333337\n",
       ":   133.2833333333338\n",
       ":   136.7333333333339\n",
       ":   140.18333333333310\n",
       ":   143.63333333333311\n",
       ":   147.08333333333312\n",
       ":   150.53333333333313\n",
       ":   153.98333333333314\n",
       ":   157.43333333333315\n",
       ":   160.883333333333\n",
       "\n"
      ],
      "text/plain": [
       "       1        2        3        4        5        6        7        8 \n",
       "112.5833 116.0333 119.4833 122.9333 126.3833 129.8333 133.2833 136.7333 \n",
       "       9       10       11       12       13       14       15 \n",
       "140.1833 143.6333 147.0833 150.5333 153.9833 157.4333 160.8833 "
      ]
     },
     "metadata": {},
     "output_type": "display_data"
    }
   ],
   "source": [
    "Model1$fitted.values"
   ]
  },
  {
   "cell_type": "code",
   "execution_count": 152,
   "metadata": {},
   "outputs": [
    {
     "name": "stderr",
     "output_type": "stream",
     "text": [
      "Warning message in matrix(1:5, ncol = 2):\n",
      "“data length [5] is not a sub-multiple or multiple of the number of rows [3]”"
     ]
    },
    {
     "data": {
      "text/html": [
       "<table>\n",
       "<tbody>\n",
       "\t<tr><td>1</td><td>4</td></tr>\n",
       "\t<tr><td>2</td><td>5</td></tr>\n",
       "\t<tr><td>3</td><td>1</td></tr>\n",
       "</tbody>\n",
       "</table>\n"
      ],
      "text/latex": [
       "\\begin{tabular}{ll}\n",
       "\t 1 & 4\\\\\n",
       "\t 2 & 5\\\\\n",
       "\t 3 & 1\\\\\n",
       "\\end{tabular}\n"
      ],
      "text/markdown": [
       "\n",
       "| 1 | 4 | \n",
       "| 2 | 5 | \n",
       "| 3 | 1 | \n",
       "\n",
       "\n"
      ],
      "text/plain": [
       "     [,1] [,2]\n",
       "[1,] 1    4   \n",
       "[2,] 2    5   \n",
       "[3,] 3    1   "
      ]
     },
     "metadata": {},
     "output_type": "display_data"
    }
   ],
   "source": [
    "matrix(1:5, ncol=2)"
   ]
  },
  {
   "cell_type": "code",
   "execution_count": 161,
   "metadata": {},
   "outputs": [
    {
     "data": {
      "text/html": [
       "<table>\n",
       "<thead><tr><th scope=col>Date</th><th scope=col>Trdqty</th></tr></thead>\n",
       "<tbody>\n",
       "\t<tr><td>20120102</td><td>4299217 </td></tr>\n",
       "\t<tr><td>20120103</td><td>4683491 </td></tr>\n",
       "\t<tr><td>20120104</td><td>4238367 </td></tr>\n",
       "\t<tr><td>20120105</td><td>6619586 </td></tr>\n",
       "\t<tr><td>20120106</td><td>4703147 </td></tr>\n",
       "\t<tr><td>20120107</td><td> 460231 </td></tr>\n",
       "\t<tr><td>20120109</td><td>4202878 </td></tr>\n",
       "\t<tr><td>20120110</td><td>4507724 </td></tr>\n",
       "\t<tr><td>20120111</td><td>4842143 </td></tr>\n",
       "\t<tr><td>20120112</td><td>3251624 </td></tr>\n",
       "\t<tr><td>20120113</td><td>4692930 </td></tr>\n",
       "\t<tr><td>20120116</td><td>4067488 </td></tr>\n",
       "\t<tr><td>20120117</td><td>5197636 </td></tr>\n",
       "\t<tr><td>20120118</td><td>9248756 </td></tr>\n",
       "\t<tr><td>20120119</td><td>5483508 </td></tr>\n",
       "\t<tr><td>20120120</td><td>7251864 </td></tr>\n",
       "\t<tr><td>20120123</td><td>6457585 </td></tr>\n",
       "\t<tr><td>20120124</td><td>5095499 </td></tr>\n",
       "\t<tr><td>20120125</td><td>3837205 </td></tr>\n",
       "\t<tr><td>20120127</td><td>5565491 </td></tr>\n",
       "\t<tr><td>20120130</td><td>4829091 </td></tr>\n",
       "\t<tr><td>20120131</td><td>6264462 </td></tr>\n",
       "\t<tr><td>20120201</td><td>3776806 </td></tr>\n",
       "\t<tr><td>20120202</td><td>4901979 </td></tr>\n",
       "\t<tr><td>20120203</td><td>4569209 </td></tr>\n",
       "\t<tr><td>20120206</td><td>3984412 </td></tr>\n",
       "\t<tr><td>20120207</td><td>4815977 </td></tr>\n",
       "\t<tr><td>20120208</td><td>3647626 </td></tr>\n",
       "\t<tr><td>20120209</td><td>4309191 </td></tr>\n",
       "\t<tr><td>20120210</td><td>3417975 </td></tr>\n",
       "\t<tr><td>⋮</td><td>⋮</td></tr>\n",
       "\t<tr><td>20141119</td><td>1851368 </td></tr>\n",
       "\t<tr><td>20141120</td><td>2592595 </td></tr>\n",
       "\t<tr><td>20141121</td><td>2683538 </td></tr>\n",
       "\t<tr><td>20141124</td><td>2840424 </td></tr>\n",
       "\t<tr><td>20141125</td><td>3338732 </td></tr>\n",
       "\t<tr><td>20141126</td><td>3007076 </td></tr>\n",
       "\t<tr><td>20141127</td><td>2806993 </td></tr>\n",
       "\t<tr><td>20141128</td><td>4773085 </td></tr>\n",
       "\t<tr><td>20141201</td><td>3973275 </td></tr>\n",
       "\t<tr><td>20141202</td><td>2160807 </td></tr>\n",
       "\t<tr><td>20141203</td><td>2237796 </td></tr>\n",
       "\t<tr><td>20141204</td><td>2463051 </td></tr>\n",
       "\t<tr><td>20141205</td><td>2296865 </td></tr>\n",
       "\t<tr><td>20141208</td><td>2340414 </td></tr>\n",
       "\t<tr><td>20141209</td><td>2422696 </td></tr>\n",
       "\t<tr><td>20141210</td><td>3027071 </td></tr>\n",
       "\t<tr><td>20141211</td><td>5170702 </td></tr>\n",
       "\t<tr><td>20141212</td><td>4085890 </td></tr>\n",
       "\t<tr><td>20141215</td><td>2891112 </td></tr>\n",
       "\t<tr><td>20141216</td><td>4774252 </td></tr>\n",
       "\t<tr><td>20141217</td><td>4749947 </td></tr>\n",
       "\t<tr><td>20141218</td><td>3422050 </td></tr>\n",
       "\t<tr><td>20141219</td><td>4588473 </td></tr>\n",
       "\t<tr><td>20141222</td><td>1898416 </td></tr>\n",
       "\t<tr><td>20141223</td><td>2419143 </td></tr>\n",
       "\t<tr><td>20141224</td><td>5138493 </td></tr>\n",
       "\t<tr><td>20141226</td><td>1117804 </td></tr>\n",
       "\t<tr><td>20141229</td><td>1584461 </td></tr>\n",
       "\t<tr><td>20141230</td><td>2657831 </td></tr>\n",
       "\t<tr><td>20141231</td><td>1934955 </td></tr>\n",
       "</tbody>\n",
       "</table>\n"
      ],
      "text/latex": [
       "\\begin{tabular}{r|ll}\n",
       " Date & Trdqty\\\\\n",
       "\\hline\n",
       "\t 20120102 & 4299217 \\\\\n",
       "\t 20120103 & 4683491 \\\\\n",
       "\t 20120104 & 4238367 \\\\\n",
       "\t 20120105 & 6619586 \\\\\n",
       "\t 20120106 & 4703147 \\\\\n",
       "\t 20120107 &  460231 \\\\\n",
       "\t 20120109 & 4202878 \\\\\n",
       "\t 20120110 & 4507724 \\\\\n",
       "\t 20120111 & 4842143 \\\\\n",
       "\t 20120112 & 3251624 \\\\\n",
       "\t 20120113 & 4692930 \\\\\n",
       "\t 20120116 & 4067488 \\\\\n",
       "\t 20120117 & 5197636 \\\\\n",
       "\t 20120118 & 9248756 \\\\\n",
       "\t 20120119 & 5483508 \\\\\n",
       "\t 20120120 & 7251864 \\\\\n",
       "\t 20120123 & 6457585 \\\\\n",
       "\t 20120124 & 5095499 \\\\\n",
       "\t 20120125 & 3837205 \\\\\n",
       "\t 20120127 & 5565491 \\\\\n",
       "\t 20120130 & 4829091 \\\\\n",
       "\t 20120131 & 6264462 \\\\\n",
       "\t 20120201 & 3776806 \\\\\n",
       "\t 20120202 & 4901979 \\\\\n",
       "\t 20120203 & 4569209 \\\\\n",
       "\t 20120206 & 3984412 \\\\\n",
       "\t 20120207 & 4815977 \\\\\n",
       "\t 20120208 & 3647626 \\\\\n",
       "\t 20120209 & 4309191 \\\\\n",
       "\t 20120210 & 3417975 \\\\\n",
       "\t ⋮ & ⋮\\\\\n",
       "\t 20141119 & 1851368 \\\\\n",
       "\t 20141120 & 2592595 \\\\\n",
       "\t 20141121 & 2683538 \\\\\n",
       "\t 20141124 & 2840424 \\\\\n",
       "\t 20141125 & 3338732 \\\\\n",
       "\t 20141126 & 3007076 \\\\\n",
       "\t 20141127 & 2806993 \\\\\n",
       "\t 20141128 & 4773085 \\\\\n",
       "\t 20141201 & 3973275 \\\\\n",
       "\t 20141202 & 2160807 \\\\\n",
       "\t 20141203 & 2237796 \\\\\n",
       "\t 20141204 & 2463051 \\\\\n",
       "\t 20141205 & 2296865 \\\\\n",
       "\t 20141208 & 2340414 \\\\\n",
       "\t 20141209 & 2422696 \\\\\n",
       "\t 20141210 & 3027071 \\\\\n",
       "\t 20141211 & 5170702 \\\\\n",
       "\t 20141212 & 4085890 \\\\\n",
       "\t 20141215 & 2891112 \\\\\n",
       "\t 20141216 & 4774252 \\\\\n",
       "\t 20141217 & 4749947 \\\\\n",
       "\t 20141218 & 3422050 \\\\\n",
       "\t 20141219 & 4588473 \\\\\n",
       "\t 20141222 & 1898416 \\\\\n",
       "\t 20141223 & 2419143 \\\\\n",
       "\t 20141224 & 5138493 \\\\\n",
       "\t 20141226 & 1117804 \\\\\n",
       "\t 20141229 & 1584461 \\\\\n",
       "\t 20141230 & 2657831 \\\\\n",
       "\t 20141231 & 1934955 \\\\\n",
       "\\end{tabular}\n"
      ],
      "text/markdown": [
       "\n",
       "Date | Trdqty | \n",
       "|---|---|---|---|---|---|---|---|---|---|---|---|---|---|---|---|---|---|---|---|---|---|---|---|---|---|---|---|---|---|---|---|---|---|---|---|---|---|---|---|---|---|---|---|---|---|---|---|---|---|---|---|---|---|---|---|---|---|---|---|---|\n",
       "| 20120102 | 4299217  | \n",
       "| 20120103 | 4683491  | \n",
       "| 20120104 | 4238367  | \n",
       "| 20120105 | 6619586  | \n",
       "| 20120106 | 4703147  | \n",
       "| 20120107 |  460231  | \n",
       "| 20120109 | 4202878  | \n",
       "| 20120110 | 4507724  | \n",
       "| 20120111 | 4842143  | \n",
       "| 20120112 | 3251624  | \n",
       "| 20120113 | 4692930  | \n",
       "| 20120116 | 4067488  | \n",
       "| 20120117 | 5197636  | \n",
       "| 20120118 | 9248756  | \n",
       "| 20120119 | 5483508  | \n",
       "| 20120120 | 7251864  | \n",
       "| 20120123 | 6457585  | \n",
       "| 20120124 | 5095499  | \n",
       "| 20120125 | 3837205  | \n",
       "| 20120127 | 5565491  | \n",
       "| 20120130 | 4829091  | \n",
       "| 20120131 | 6264462  | \n",
       "| 20120201 | 3776806  | \n",
       "| 20120202 | 4901979  | \n",
       "| 20120203 | 4569209  | \n",
       "| 20120206 | 3984412  | \n",
       "| 20120207 | 4815977  | \n",
       "| 20120208 | 3647626  | \n",
       "| 20120209 | 4309191  | \n",
       "| 20120210 | 3417975  | \n",
       "| ⋮ | ⋮ | \n",
       "| 20141119 | 1851368  | \n",
       "| 20141120 | 2592595  | \n",
       "| 20141121 | 2683538  | \n",
       "| 20141124 | 2840424  | \n",
       "| 20141125 | 3338732  | \n",
       "| 20141126 | 3007076  | \n",
       "| 20141127 | 2806993  | \n",
       "| 20141128 | 4773085  | \n",
       "| 20141201 | 3973275  | \n",
       "| 20141202 | 2160807  | \n",
       "| 20141203 | 2237796  | \n",
       "| 20141204 | 2463051  | \n",
       "| 20141205 | 2296865  | \n",
       "| 20141208 | 2340414  | \n",
       "| 20141209 | 2422696  | \n",
       "| 20141210 | 3027071  | \n",
       "| 20141211 | 5170702  | \n",
       "| 20141212 | 4085890  | \n",
       "| 20141215 | 2891112  | \n",
       "| 20141216 | 4774252  | \n",
       "| 20141217 | 4749947  | \n",
       "| 20141218 | 3422050  | \n",
       "| 20141219 | 4588473  | \n",
       "| 20141222 | 1898416  | \n",
       "| 20141223 | 2419143  | \n",
       "| 20141224 | 5138493  | \n",
       "| 20141226 | 1117804  | \n",
       "| 20141229 | 1584461  | \n",
       "| 20141230 | 2657831  | \n",
       "| 20141231 | 1934955  | \n",
       "\n",
       "\n"
      ],
      "text/plain": [
       "    Date     Trdqty \n",
       "1   20120102 4299217\n",
       "2   20120103 4683491\n",
       "3   20120104 4238367\n",
       "4   20120105 6619586\n",
       "5   20120106 4703147\n",
       "6   20120107  460231\n",
       "7   20120109 4202878\n",
       "8   20120110 4507724\n",
       "9   20120111 4842143\n",
       "10  20120112 3251624\n",
       "11  20120113 4692930\n",
       "12  20120116 4067488\n",
       "13  20120117 5197636\n",
       "14  20120118 9248756\n",
       "15  20120119 5483508\n",
       "16  20120120 7251864\n",
       "17  20120123 6457585\n",
       "18  20120124 5095499\n",
       "19  20120125 3837205\n",
       "20  20120127 5565491\n",
       "21  20120130 4829091\n",
       "22  20120131 6264462\n",
       "23  20120201 3776806\n",
       "24  20120202 4901979\n",
       "25  20120203 4569209\n",
       "26  20120206 3984412\n",
       "27  20120207 4815977\n",
       "28  20120208 3647626\n",
       "29  20120209 4309191\n",
       "30  20120210 3417975\n",
       "⋮   ⋮        ⋮      \n",
       "716 20141119 1851368\n",
       "717 20141120 2592595\n",
       "718 20141121 2683538\n",
       "719 20141124 2840424\n",
       "720 20141125 3338732\n",
       "721 20141126 3007076\n",
       "722 20141127 2806993\n",
       "723 20141128 4773085\n",
       "724 20141201 3973275\n",
       "725 20141202 2160807\n",
       "726 20141203 2237796\n",
       "727 20141204 2463051\n",
       "728 20141205 2296865\n",
       "729 20141208 2340414\n",
       "730 20141209 2422696\n",
       "731 20141210 3027071\n",
       "732 20141211 5170702\n",
       "733 20141212 4085890\n",
       "734 20141215 2891112\n",
       "735 20141216 4774252\n",
       "736 20141217 4749947\n",
       "737 20141218 3422050\n",
       "738 20141219 4588473\n",
       "739 20141222 1898416\n",
       "740 20141223 2419143\n",
       "741 20141224 5138493\n",
       "742 20141226 1117804\n",
       "743 20141229 1584461\n",
       "744 20141230 2657831\n",
       "745 20141231 1934955"
      ]
     },
     "metadata": {},
     "output_type": "display_data"
    }
   ],
   "source": [
    "sho[[1]]\n"
   ]
  },
  {
   "cell_type": "code",
   "execution_count": 163,
   "metadata": {},
   "outputs": [
    {
     "name": "stderr",
     "output_type": "stream",
     "text": [
      "Warning message in data(\"prison\"):\n",
      "“data set ‘prison’ not found”"
     ]
    }
   ],
   "source": [
    "data(\"prison\")"
   ]
  },
  {
   "cell_type": "code",
   "execution_count": 165,
   "metadata": {
    "scrolled": false
   },
   "outputs": [
    {
     "name": "stdout",
     "output_type": "stream",
     "text": [
      "List of 3\n",
      " $ :'data.frame':\t745 obs. of  2 variables:\n",
      "  ..$ Date  : int [1:745] 20120102 20120103 20120104 20120105 20120106 20120107 20120109 20120110 20120111 20120112 ...\n",
      "  ..$ Trdqty: int [1:745] 4299217 4683491 4238367 6619586 4703147 460231 4202878 4507724 4842143 3251624 ...\n",
      " $ :'data.frame':\t745 obs. of  2 variables:\n",
      "  ..$ Date : int [1:745] 20120102 20120103 20120104 20120105 20120106 20120107 20120109 20120110 20120111 20120112 ...\n",
      "  ..$ Close: num [1:745] 707 725 716 700 718 ...\n",
      " $ : int [1:5] 8 9 10 11 12\n"
     ]
    }
   ],
   "source": [
    "str(sho)"
   ]
  }
 ],
 "metadata": {
  "kernelspec": {
   "display_name": "R",
   "language": "R",
   "name": "ir"
  },
  "language_info": {
   "codemirror_mode": "r",
   "file_extension": ".r",
   "mimetype": "text/x-r-source",
   "name": "R",
   "pygments_lexer": "r",
   "version": "3.5.1"
  }
 },
 "nbformat": 4,
 "nbformat_minor": 2
}
