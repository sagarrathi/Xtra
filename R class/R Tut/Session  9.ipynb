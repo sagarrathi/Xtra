{
 "cells": [
  {
   "cell_type": "code",
   "execution_count": 1,
   "metadata": {},
   "outputs": [
    {
     "data": {
      "text/html": [
       "'Jai Jai Bajrang '"
      ],
      "text/latex": [
       "'Jai Jai Bajrang '"
      ],
      "text/markdown": [
       "'Jai Jai Bajrang '"
      ],
      "text/plain": [
       "[1] \"Jai Jai Bajrang \""
      ]
     },
     "metadata": {},
     "output_type": "display_data"
    }
   ],
   "source": [
    "################################################################\n",
    "############# Statistical Programming with R ###################\n",
    "################################################################\n",
    "\n",
    "#Session 9\n",
    "###################################################\n",
    "## Working with string/character data #############\n",
    "###################################################\n",
    "#Start with a single data\n",
    "x=\"Jai Jai Bajrang Bali\"#It could be a vector as well\n",
    "#Extract First name and middle name\n",
    "substr(x,1,16)#Extracting from-to, like left function in Excel (it starts on 1)"
   ]
  },
  {
   "cell_type": "code",
   "execution_count": 2,
   "metadata": {},
   "outputs": [
    {
     "data": {
      "text/html": [
       "' Bali'"
      ],
      "text/latex": [
       "' Bali'"
      ],
      "text/markdown": [
       "' Bali'"
      ],
      "text/plain": [
       "[1] \" Bali\""
      ]
     },
     "metadata": {},
     "output_type": "display_data"
    }
   ],
   "source": [
    "#Extract last name\n",
    "substr(x,16,22)#If you know the number of characters in the word, like right function in R"
   ]
  },
  {
   "cell_type": "code",
   "execution_count": 3,
   "metadata": {},
   "outputs": [
    {
     "data": {
      "text/html": [
       "20"
      ],
      "text/latex": [
       "20"
      ],
      "text/markdown": [
       "20"
      ],
      "text/plain": [
       "[1] 20"
      ]
     },
     "metadata": {},
     "output_type": "display_data"
    }
   ],
   "source": [
    "nchar(x)#Count the characters"
   ]
  },
  {
   "cell_type": "code",
   "execution_count": 4,
   "metadata": {},
   "outputs": [
    {
     "data": {
      "text/html": [
       "' Bali'"
      ],
      "text/latex": [
       "' Bali'"
      ],
      "text/markdown": [
       "' Bali'"
      ],
      "text/plain": [
       "[1] \" Bali\""
      ]
     },
     "metadata": {},
     "output_type": "display_data"
    }
   ],
   "source": [
    "?substr\n",
    "substr(x,nchar(x)-5+1,nchar(x))#Task is done, no need to know the numbers apriori"
   ]
  },
  {
   "cell_type": "code",
   "execution_count": 5,
   "metadata": {},
   "outputs": [
    {
     "data": {
      "text/html": [
       "'I am Vijay'"
      ],
      "text/latex": [
       "'I am Vijay'"
      ],
      "text/markdown": [
       "'I am Vijay'"
      ],
      "text/plain": [
       "[1] \"I am Vijay\""
      ]
     },
     "metadata": {},
     "output_type": "display_data"
    },
    {
     "data": {
      "text/html": [
       "'I am|Vijay'"
      ],
      "text/latex": [
       "'I am\\textbar{}Vijay'"
      ],
      "text/markdown": [
       "'I am|Vijay'"
      ],
      "text/plain": [
       "[1] \"I am|Vijay\""
      ]
     },
     "metadata": {},
     "output_type": "display_data"
    }
   ],
   "source": [
    "#It works on vector of string as well, as same as it works on simple strings\n",
    "###############################################################################\n",
    "\n",
    "###############################################################################\n",
    "############Important character functions in R#################################\n",
    "###############################################################################\n",
    "#1. Concatenate the strings\n",
    "a=\"I am\"\n",
    "b=\"Vijay\"\n",
    "paste(a,b)\n",
    "paste(a,b, sep=\"|\")#Can separate by some delimiter"
   ]
  },
  {
   "cell_type": "code",
   "execution_count": 6,
   "metadata": {},
   "outputs": [
    {
     "data": {
      "text/html": [
       "<ol class=list-inline>\n",
       "\t<li>'Ram1'</li>\n",
       "\t<li>'Ram2'</li>\n",
       "\t<li>'Ram3'</li>\n",
       "\t<li>'Ram4'</li>\n",
       "\t<li>'Ram5'</li>\n",
       "\t<li>'Ram6'</li>\n",
       "\t<li>'Ram7'</li>\n",
       "\t<li>'Ram8'</li>\n",
       "\t<li>'Ram9'</li>\n",
       "\t<li>'Ram10'</li>\n",
       "\t<li>'Ram11'</li>\n",
       "\t<li>'Ram12'</li>\n",
       "\t<li>'Ram13'</li>\n",
       "\t<li>'Ram14'</li>\n",
       "\t<li>'Ram15'</li>\n",
       "\t<li>'Ram16'</li>\n",
       "\t<li>'Ram17'</li>\n",
       "\t<li>'Ram18'</li>\n",
       "\t<li>'Ram19'</li>\n",
       "\t<li>'Ram20'</li>\n",
       "</ol>\n"
      ],
      "text/latex": [
       "\\begin{enumerate*}\n",
       "\\item 'Ram1'\n",
       "\\item 'Ram2'\n",
       "\\item 'Ram3'\n",
       "\\item 'Ram4'\n",
       "\\item 'Ram5'\n",
       "\\item 'Ram6'\n",
       "\\item 'Ram7'\n",
       "\\item 'Ram8'\n",
       "\\item 'Ram9'\n",
       "\\item 'Ram10'\n",
       "\\item 'Ram11'\n",
       "\\item 'Ram12'\n",
       "\\item 'Ram13'\n",
       "\\item 'Ram14'\n",
       "\\item 'Ram15'\n",
       "\\item 'Ram16'\n",
       "\\item 'Ram17'\n",
       "\\item 'Ram18'\n",
       "\\item 'Ram19'\n",
       "\\item 'Ram20'\n",
       "\\end{enumerate*}\n"
      ],
      "text/markdown": [
       "1. 'Ram1'\n",
       "2. 'Ram2'\n",
       "3. 'Ram3'\n",
       "4. 'Ram4'\n",
       "5. 'Ram5'\n",
       "6. 'Ram6'\n",
       "7. 'Ram7'\n",
       "8. 'Ram8'\n",
       "9. 'Ram9'\n",
       "10. 'Ram10'\n",
       "11. 'Ram11'\n",
       "12. 'Ram12'\n",
       "13. 'Ram13'\n",
       "14. 'Ram14'\n",
       "15. 'Ram15'\n",
       "16. 'Ram16'\n",
       "17. 'Ram17'\n",
       "18. 'Ram18'\n",
       "19. 'Ram19'\n",
       "20. 'Ram20'\n",
       "\n",
       "\n"
      ],
      "text/plain": [
       " [1] \"Ram1\"  \"Ram2\"  \"Ram3\"  \"Ram4\"  \"Ram5\"  \"Ram6\"  \"Ram7\"  \"Ram8\"  \"Ram9\" \n",
       "[10] \"Ram10\" \"Ram11\" \"Ram12\" \"Ram13\" \"Ram14\" \"Ram15\" \"Ram16\" \"Ram17\" \"Ram18\"\n",
       "[19] \"Ram19\" \"Ram20\""
      ]
     },
     "metadata": {},
     "output_type": "display_data"
    }
   ],
   "source": [
    "#2. Generage a sequence (Ram1, Ram2, ..., Ram20)\n",
    "paste(\"Ram\", seq(1,20), sep = \"\")"
   ]
  },
  {
   "cell_type": "code",
   "execution_count": 7,
   "metadata": {},
   "outputs": [],
   "source": [
    "p=paste(\"RamRam\", seq(1,20), sep = \"\")"
   ]
  },
  {
   "cell_type": "code",
   "execution_count": 8,
   "metadata": {},
   "outputs": [
    {
     "data": {
      "text/html": [
       "<ol class=list-inline>\n",
       "\t<li>'Ram1'</li>\n",
       "\t<li>'Lakhan1'</li>\n",
       "\t<li>'XYZ1'</li>\n",
       "\t<li>'Ram2'</li>\n",
       "\t<li>'Lakhan2'</li>\n",
       "\t<li>'XYZ2'</li>\n",
       "\t<li>'Ram3'</li>\n",
       "\t<li>'Lakhan3'</li>\n",
       "\t<li>'XYZ3'</li>\n",
       "\t<li>'Ram4'</li>\n",
       "\t<li>'Lakhan4'</li>\n",
       "\t<li>'XYZ4'</li>\n",
       "\t<li>'Ram5'</li>\n",
       "\t<li>'Lakhan5'</li>\n",
       "\t<li>'XYZ5'</li>\n",
       "</ol>\n"
      ],
      "text/latex": [
       "\\begin{enumerate*}\n",
       "\\item 'Ram1'\n",
       "\\item 'Lakhan1'\n",
       "\\item 'XYZ1'\n",
       "\\item 'Ram2'\n",
       "\\item 'Lakhan2'\n",
       "\\item 'XYZ2'\n",
       "\\item 'Ram3'\n",
       "\\item 'Lakhan3'\n",
       "\\item 'XYZ3'\n",
       "\\item 'Ram4'\n",
       "\\item 'Lakhan4'\n",
       "\\item 'XYZ4'\n",
       "\\item 'Ram5'\n",
       "\\item 'Lakhan5'\n",
       "\\item 'XYZ5'\n",
       "\\end{enumerate*}\n"
      ],
      "text/markdown": [
       "1. 'Ram1'\n",
       "2. 'Lakhan1'\n",
       "3. 'XYZ1'\n",
       "4. 'Ram2'\n",
       "5. 'Lakhan2'\n",
       "6. 'XYZ2'\n",
       "7. 'Ram3'\n",
       "8. 'Lakhan3'\n",
       "9. 'XYZ3'\n",
       "10. 'Ram4'\n",
       "11. 'Lakhan4'\n",
       "12. 'XYZ4'\n",
       "13. 'Ram5'\n",
       "14. 'Lakhan5'\n",
       "15. 'XYZ5'\n",
       "\n",
       "\n"
      ],
      "text/plain": [
       " [1] \"Ram1\"    \"Lakhan1\" \"XYZ1\"    \"Ram2\"    \"Lakhan2\" \"XYZ2\"    \"Ram3\"   \n",
       " [8] \"Lakhan3\" \"XYZ3\"    \"Ram4\"    \"Lakhan4\" \"XYZ4\"    \"Ram5\"    \"Lakhan5\"\n",
       "[15] \"XYZ5\"   "
      ]
     },
     "metadata": {},
     "output_type": "display_data"
    },
    {
     "data": {
      "text/html": [
       "<ol class=list-inline>\n",
       "\t<li>'Ram_SPR'</li>\n",
       "\t<li>'Lakhan_SPR'</li>\n",
       "\t<li>'XYZ_SPR'</li>\n",
       "\t<li>'Ram_ADM'</li>\n",
       "\t<li>'Lakhan_ADM'</li>\n",
       "\t<li>'XYZ_ADM'</li>\n",
       "</ol>\n"
      ],
      "text/latex": [
       "\\begin{enumerate*}\n",
       "\\item 'Ram\\_SPR'\n",
       "\\item 'Lakhan\\_SPR'\n",
       "\\item 'XYZ\\_SPR'\n",
       "\\item 'Ram\\_ADM'\n",
       "\\item 'Lakhan\\_ADM'\n",
       "\\item 'XYZ\\_ADM'\n",
       "\\end{enumerate*}\n"
      ],
      "text/markdown": [
       "1. 'Ram_SPR'\n",
       "2. 'Lakhan_SPR'\n",
       "3. 'XYZ_SPR'\n",
       "4. 'Ram_ADM'\n",
       "5. 'Lakhan_ADM'\n",
       "6. 'XYZ_ADM'\n",
       "\n",
       "\n"
      ],
      "text/plain": [
       "[1] \"Ram_SPR\"    \"Lakhan_SPR\" \"XYZ_SPR\"    \"Ram_ADM\"    \"Lakhan_ADM\"\n",
       "[6] \"XYZ_ADM\"   "
      ]
     },
     "metadata": {},
     "output_type": "display_data"
    }
   ],
   "source": [
    "paste(c(\"Ram\",\"Lakhan\",\"XYZ\"), rep(seq(1,5),each=3), sep = \"\")\n",
    "#May be used to repeat students name subject-wise\n",
    "paste(c(\"Ram\",\"Lakhan\",\"XYZ\"), rep(c(\"SPR\",\"ADM\"),each=3), sep = \"_\")"
   ]
  },
  {
   "cell_type": "code",
   "execution_count": 9,
   "metadata": {},
   "outputs": [
    {
     "data": {
      "text/html": [
       "'Jai'"
      ],
      "text/latex": [
       "'Jai'"
      ],
      "text/markdown": [
       "'Jai'"
      ],
      "text/plain": [
       "[1] \"Jai\""
      ]
     },
     "metadata": {},
     "output_type": "display_data"
    },
    {
     "data": {
      "text/html": [
       "'Jai JaiShri Ram Bali'"
      ],
      "text/latex": [
       "'Jai JaiShri Ram Bali'"
      ],
      "text/markdown": [
       "'Jai JaiShri Ram Bali'"
      ],
      "text/plain": [
       "[1] \"Jai JaiShri Ram Bali\""
      ]
     },
     "metadata": {},
     "output_type": "display_data"
    }
   ],
   "source": [
    "#3. Replace some characters\n",
    "x=\"Jai Jai Bajrang Bali\"\n",
    "substr(x, 1, 3)\n",
    "substr(x, 8, 30) = \"Shri Ram\" #Replace the Sar to Kar\n",
    "x"
   ]
  },
  {
   "cell_type": "code",
   "execution_count": 10,
   "metadata": {},
   "outputs": [
    {
     "data": {
      "text/html": [
       "'Jai Jai Shri Ram'"
      ],
      "text/latex": [
       "'Jai Jai Shri Ram'"
      ],
      "text/markdown": [
       "'Jai Jai Shri Ram'"
      ],
      "text/plain": [
       "[1] \"Jai Jai Shri Ram\""
      ]
     },
     "metadata": {},
     "output_type": "display_data"
    }
   ],
   "source": [
    "#4 Replace or substutute some words\n",
    "x=\"Jai Jai Bajrang Bali\"\n",
    "sub(\"Bajrang Bali\", \"Shri Ram\", x) #Like find and replace in Excel"
   ]
  },
  {
   "cell_type": "code",
   "execution_count": 11,
   "metadata": {},
   "outputs": [],
   "source": [
    "#datasets package in R\n",
    "#Not necessary to load for using datasets\n",
    "library(datasets)#Load the package"
   ]
  },
  {
   "cell_type": "code",
   "execution_count": 12,
   "metadata": {},
   "outputs": [
    {
     "data": {
      "text/html": [
       "<table>\n",
       "<thead><tr><th></th><th scope=col>CONT</th><th scope=col>INTG</th><th scope=col>DMNR</th><th scope=col>DILG</th><th scope=col>CFMG</th><th scope=col>DECI</th><th scope=col>PREP</th><th scope=col>FAMI</th><th scope=col>ORAL</th><th scope=col>WRIT</th><th scope=col>PHYS</th><th scope=col>RTEN</th></tr></thead>\n",
       "<tbody>\n",
       "\t<tr><th scope=row>AARONSON,L.H.</th><td> 5.7</td><td>7.9 </td><td>7.7 </td><td>7.3 </td><td>7.1 </td><td>7.4 </td><td>7.1 </td><td>7.1 </td><td>7.1 </td><td>7.0 </td><td>8.3 </td><td>7.8 </td></tr>\n",
       "\t<tr><th scope=row>ALEXANDER,J.M.</th><td> 6.8</td><td>8.9 </td><td>8.8 </td><td>8.5 </td><td>7.8 </td><td>8.1 </td><td>8.0 </td><td>8.0 </td><td>7.8 </td><td>7.9 </td><td>8.5 </td><td>8.7 </td></tr>\n",
       "\t<tr><th scope=row>ARMENTANO,A.J.</th><td> 7.2</td><td>8.1 </td><td>7.8 </td><td>7.8 </td><td>7.5 </td><td>7.6 </td><td>7.5 </td><td>7.5 </td><td>7.3 </td><td>7.4 </td><td>7.9 </td><td>7.8 </td></tr>\n",
       "\t<tr><th scope=row>BERDON,R.I.</th><td> 6.8</td><td>8.8 </td><td>8.5 </td><td>8.8 </td><td>8.3 </td><td>8.5 </td><td>8.7 </td><td>8.7 </td><td>8.4 </td><td>8.5 </td><td>8.8 </td><td>8.7 </td></tr>\n",
       "\t<tr><th scope=row>BRACKEN,J.J.</th><td> 7.3</td><td>6.4 </td><td>4.3 </td><td>6.5 </td><td>6.0 </td><td>6.2 </td><td>5.7 </td><td>5.7 </td><td>5.1 </td><td>5.3 </td><td>5.5 </td><td>4.8 </td></tr>\n",
       "\t<tr><th scope=row>BURNS,E.B.</th><td> 6.2</td><td>8.8 </td><td>8.7 </td><td>8.5 </td><td>7.9 </td><td>8.0 </td><td>8.1 </td><td>8.0 </td><td>8.0 </td><td>8.0 </td><td>8.6 </td><td>8.6 </td></tr>\n",
       "\t<tr><th scope=row>CALLAHAN,R.J.</th><td>10.6</td><td>9.0 </td><td>8.9 </td><td>8.7 </td><td>8.5 </td><td>8.5 </td><td>8.5 </td><td>8.5 </td><td>8.6 </td><td>8.4 </td><td>9.1 </td><td>9.0 </td></tr>\n",
       "\t<tr><th scope=row>COHEN,S.S.</th><td> 7.0</td><td>5.9 </td><td>4.9 </td><td>5.1 </td><td>5.4 </td><td>5.9 </td><td>4.8 </td><td>5.1 </td><td>4.7 </td><td>4.9 </td><td>6.8 </td><td>5.0 </td></tr>\n",
       "\t<tr><th scope=row>DALY,J.J.</th><td> 7.3</td><td>8.9 </td><td>8.9 </td><td>8.7 </td><td>8.6 </td><td>8.5 </td><td>8.4 </td><td>8.4 </td><td>8.4 </td><td>8.5 </td><td>8.8 </td><td>8.8 </td></tr>\n",
       "\t<tr><th scope=row>DANNEHY,J.F.</th><td> 8.2</td><td>7.9 </td><td>6.7 </td><td>8.1 </td><td>7.9 </td><td>8.0 </td><td>7.9 </td><td>8.1 </td><td>7.7 </td><td>7.8 </td><td>8.5 </td><td>7.9 </td></tr>\n",
       "\t<tr><th scope=row>DEAN,H.H.</th><td> 7.0</td><td>8.0 </td><td>7.6 </td><td>7.4 </td><td>7.3 </td><td>7.5 </td><td>7.1 </td><td>7.2 </td><td>7.1 </td><td>7.2 </td><td>8.4 </td><td>7.7 </td></tr>\n",
       "\t<tr><th scope=row>DEVITA,H.J.</th><td> 6.5</td><td>8.0 </td><td>7.6 </td><td>7.2 </td><td>7.0 </td><td>7.1 </td><td>6.9 </td><td>7.0 </td><td>7.0 </td><td>7.1 </td><td>6.9 </td><td>7.2 </td></tr>\n",
       "\t<tr><th scope=row>DRISCOLL,P.J.</th><td> 6.7</td><td>8.6 </td><td>8.2 </td><td>6.8 </td><td>6.9 </td><td>6.6 </td><td>7.1 </td><td>7.3 </td><td>7.2 </td><td>7.2 </td><td>8.1 </td><td>7.7 </td></tr>\n",
       "\t<tr><th scope=row>GRILLO,A.E.</th><td> 7.0</td><td>7.5 </td><td>6.4 </td><td>6.8 </td><td>6.5 </td><td>7.0 </td><td>6.6 </td><td>6.8 </td><td>6.3 </td><td>6.6 </td><td>6.2 </td><td>6.5 </td></tr>\n",
       "\t<tr><th scope=row>HADDEN,W.L.JR.</th><td> 6.5</td><td>8.1 </td><td>8.0 </td><td>8.0 </td><td>7.9 </td><td>8.0 </td><td>7.9 </td><td>7.8 </td><td>7.8 </td><td>7.8 </td><td>8.4 </td><td>8.0 </td></tr>\n",
       "\t<tr><th scope=row>HAMILL,E.C.</th><td> 7.3</td><td>8.0 </td><td>7.4 </td><td>7.7 </td><td>7.3 </td><td>7.3 </td><td>7.3 </td><td>7.2 </td><td>7.1 </td><td>7.2 </td><td>8.0 </td><td>7.6 </td></tr>\n",
       "\t<tr><th scope=row>HEALEY.A.H.</th><td> 8.0</td><td>7.6 </td><td>6.6 </td><td>7.2 </td><td>6.5 </td><td>6.5 </td><td>6.8 </td><td>6.7 </td><td>6.4 </td><td>6.5 </td><td>6.9 </td><td>6.7 </td></tr>\n",
       "\t<tr><th scope=row>HULL,T.C.</th><td> 7.7</td><td>7.7 </td><td>6.7 </td><td>7.5 </td><td>7.4 </td><td>7.5 </td><td>7.1 </td><td>7.3 </td><td>7.1 </td><td>7.3 </td><td>8.1 </td><td>7.4 </td></tr>\n",
       "\t<tr><th scope=row>LEVINE,I.</th><td> 8.3</td><td>8.2 </td><td>7.4 </td><td>7.8 </td><td>7.7 </td><td>7.7 </td><td>7.7 </td><td>7.8 </td><td>7.5 </td><td>7.6 </td><td>8.0 </td><td>8.0 </td></tr>\n",
       "\t<tr><th scope=row>LEVISTER,R.L.</th><td> 9.6</td><td>6.9 </td><td>5.7 </td><td>6.6 </td><td>6.9 </td><td>6.6 </td><td>6.2 </td><td>6.0 </td><td>5.8 </td><td>5.8 </td><td>7.2 </td><td>6.0 </td></tr>\n",
       "\t<tr><th scope=row>MARTIN,L.F.</th><td> 7.1</td><td>8.2 </td><td>7.7 </td><td>7.1 </td><td>6.6 </td><td>6.6 </td><td>6.7 </td><td>6.7 </td><td>6.8 </td><td>6.8 </td><td>7.5 </td><td>7.3 </td></tr>\n",
       "\t<tr><th scope=row>MCGRATH,J.F.</th><td> 7.6</td><td>7.3 </td><td>6.9 </td><td>6.8 </td><td>6.7 </td><td>6.8 </td><td>6.4 </td><td>6.3 </td><td>6.3 </td><td>6.3 </td><td>7.4 </td><td>6.6 </td></tr>\n",
       "\t<tr><th scope=row>MIGNONE,A.F.</th><td> 6.6</td><td>7.4 </td><td>6.2 </td><td>6.2 </td><td>5.4 </td><td>5.7 </td><td>5.8 </td><td>5.9 </td><td>5.2 </td><td>5.8 </td><td>4.7 </td><td>5.2 </td></tr>\n",
       "\t<tr><th scope=row>MISSAL,H.M.</th><td> 6.2</td><td>8.3 </td><td>8.1 </td><td>7.7 </td><td>7.4 </td><td>7.3 </td><td>7.3 </td><td>7.3 </td><td>7.2 </td><td>7.3 </td><td>7.8 </td><td>7.6 </td></tr>\n",
       "\t<tr><th scope=row>MULVEY,H.M.</th><td> 7.5</td><td>8.7 </td><td>8.5 </td><td>8.6 </td><td>8.5 </td><td>8.4 </td><td>8.5 </td><td>8.5 </td><td>8.4 </td><td>8.4 </td><td>8.7 </td><td>8.7 </td></tr>\n",
       "\t<tr><th scope=row>NARUK,H.J.</th><td> 7.8</td><td>8.9 </td><td>8.7 </td><td>8.9 </td><td>8.7 </td><td>8.8 </td><td>8.9 </td><td>9.0 </td><td>8.8 </td><td>8.9 </td><td>9.0 </td><td>9.0 </td></tr>\n",
       "\t<tr><th scope=row>O'BRIEN,F.J.</th><td> 7.1</td><td>8.5 </td><td>8.3 </td><td>8.0 </td><td>7.9 </td><td>7.9 </td><td>7.8 </td><td>7.8 </td><td>7.8 </td><td>7.7 </td><td>8.3 </td><td>8.2 </td></tr>\n",
       "\t<tr><th scope=row>O'SULLIVAN,T.J.</th><td> 7.5</td><td>9.0 </td><td>8.9 </td><td>8.7 </td><td>8.4 </td><td>8.5 </td><td>8.4 </td><td>8.3 </td><td>8.3 </td><td>8.3 </td><td>8.8 </td><td>8.7 </td></tr>\n",
       "\t<tr><th scope=row>PASKEY,L.</th><td> 7.5</td><td>8.1 </td><td>7.7 </td><td>8.2 </td><td>8.0 </td><td>8.1 </td><td>8.2 </td><td>8.4 </td><td>8.0 </td><td>8.1 </td><td>8.4 </td><td>8.1 </td></tr>\n",
       "\t<tr><th scope=row>RUBINOW,J.E.</th><td> 7.1</td><td>9.2 </td><td>9.0 </td><td>9.0 </td><td>8.4 </td><td>8.6 </td><td>9.1 </td><td>9.1 </td><td>8.9 </td><td>9.0 </td><td>8.9 </td><td>9.2 </td></tr>\n",
       "\t<tr><th scope=row>SADEN.G.A.</th><td> 6.6</td><td>7.4 </td><td>6.9 </td><td>8.4 </td><td>8.0 </td><td>7.9 </td><td>8.2 </td><td>8.4 </td><td>7.7 </td><td>7.9 </td><td>8.4 </td><td>7.5 </td></tr>\n",
       "\t<tr><th scope=row>SATANIELLO,A.G.</th><td> 8.4</td><td>8.0 </td><td>7.9 </td><td>7.9 </td><td>7.8 </td><td>7.8 </td><td>7.6 </td><td>7.4 </td><td>7.4 </td><td>7.4 </td><td>8.1 </td><td>7.9 </td></tr>\n",
       "\t<tr><th scope=row>SHEA,D.M.</th><td> 6.9</td><td>8.5 </td><td>7.8 </td><td>8.5 </td><td>8.1 </td><td>8.2 </td><td>8.4 </td><td>8.5 </td><td>8.1 </td><td>8.3 </td><td>8.7 </td><td>8.3 </td></tr>\n",
       "\t<tr><th scope=row>SHEA,J.F.JR.</th><td> 7.3</td><td>8.9 </td><td>8.8 </td><td>8.7 </td><td>8.4 </td><td>8.5 </td><td>8.5 </td><td>8.5 </td><td>8.4 </td><td>8.4 </td><td>8.8 </td><td>8.8 </td></tr>\n",
       "\t<tr><th scope=row>SIDOR,W.J.</th><td> 7.7</td><td>6.2 </td><td>5.1 </td><td>5.6 </td><td>5.6 </td><td>5.9 </td><td>5.6 </td><td>5.6 </td><td>5.3 </td><td>5.5 </td><td>6.3 </td><td>5.3 </td></tr>\n",
       "\t<tr><th scope=row>SPEZIALE,J.A.</th><td> 8.5</td><td>8.3 </td><td>8.1 </td><td>8.3 </td><td>8.4 </td><td>8.2 </td><td>8.2 </td><td>8.1 </td><td>7.9 </td><td>8.0 </td><td>8.0 </td><td>8.2 </td></tr>\n",
       "\t<tr><th scope=row>SPONZO,M.J.</th><td> 6.9</td><td>8.3 </td><td>8.0 </td><td>8.1 </td><td>7.9 </td><td>7.9 </td><td>7.9 </td><td>7.7 </td><td>7.6 </td><td>7.7 </td><td>8.1 </td><td>8.0 </td></tr>\n",
       "\t<tr><th scope=row>STAPLETON,J.F.</th><td> 6.5</td><td>8.2 </td><td>7.7 </td><td>7.8 </td><td>7.6 </td><td>7.7 </td><td>7.7 </td><td>7.7 </td><td>7.5 </td><td>7.6 </td><td>8.5 </td><td>7.7 </td></tr>\n",
       "\t<tr><th scope=row>TESTO,R.J.</th><td> 8.3</td><td>7.3 </td><td>7.0 </td><td>6.8 </td><td>7.0 </td><td>7.1 </td><td>6.7 </td><td>6.7 </td><td>6.7 </td><td>6.7 </td><td>8.0 </td><td>7.0 </td></tr>\n",
       "\t<tr><th scope=row>TIERNEY,W.L.JR.</th><td> 8.3</td><td>8.2 </td><td>7.8 </td><td>8.3 </td><td>8.4 </td><td>8.3 </td><td>7.7 </td><td>7.6 </td><td>7.5 </td><td>7.7 </td><td>8.1 </td><td>7.9 </td></tr>\n",
       "\t<tr><th scope=row>WALL,R.A.</th><td> 9.0</td><td>7.0 </td><td>5.9 </td><td>7.0 </td><td>7.0 </td><td>7.2 </td><td>6.9 </td><td>6.9 </td><td>6.5 </td><td>6.6 </td><td>7.6 </td><td>6.6 </td></tr>\n",
       "\t<tr><th scope=row>WRIGHT,D.B.</th><td> 7.1</td><td>8.4 </td><td>8.4 </td><td>7.7 </td><td>7.5 </td><td>7.7 </td><td>7.8 </td><td>8.2 </td><td>8.0 </td><td>8.1 </td><td>8.3 </td><td>8.1 </td></tr>\n",
       "\t<tr><th scope=row>ZARRILLI,K.J.</th><td> 8.6</td><td>7.4 </td><td>7.0 </td><td>7.5 </td><td>7.5 </td><td>7.7 </td><td>7.4 </td><td>7.2 </td><td>6.9 </td><td>7.0 </td><td>7.8 </td><td>7.1 </td></tr>\n",
       "</tbody>\n",
       "</table>\n"
      ],
      "text/latex": [
       "\\begin{tabular}{r|llllllllllll}\n",
       "  & CONT & INTG & DMNR & DILG & CFMG & DECI & PREP & FAMI & ORAL & WRIT & PHYS & RTEN\\\\\n",
       "\\hline\n",
       "\tAARONSON,L.H. &  5.7 & 7.9  & 7.7  & 7.3  & 7.1  & 7.4  & 7.1  & 7.1  & 7.1  & 7.0  & 8.3  & 7.8 \\\\\n",
       "\tALEXANDER,J.M. &  6.8 & 8.9  & 8.8  & 8.5  & 7.8  & 8.1  & 8.0  & 8.0  & 7.8  & 7.9  & 8.5  & 8.7 \\\\\n",
       "\tARMENTANO,A.J. &  7.2 & 8.1  & 7.8  & 7.8  & 7.5  & 7.6  & 7.5  & 7.5  & 7.3  & 7.4  & 7.9  & 7.8 \\\\\n",
       "\tBERDON,R.I. &  6.8 & 8.8  & 8.5  & 8.8  & 8.3  & 8.5  & 8.7  & 8.7  & 8.4  & 8.5  & 8.8  & 8.7 \\\\\n",
       "\tBRACKEN,J.J. &  7.3 & 6.4  & 4.3  & 6.5  & 6.0  & 6.2  & 5.7  & 5.7  & 5.1  & 5.3  & 5.5  & 4.8 \\\\\n",
       "\tBURNS,E.B. &  6.2 & 8.8  & 8.7  & 8.5  & 7.9  & 8.0  & 8.1  & 8.0  & 8.0  & 8.0  & 8.6  & 8.6 \\\\\n",
       "\tCALLAHAN,R.J. & 10.6 & 9.0  & 8.9  & 8.7  & 8.5  & 8.5  & 8.5  & 8.5  & 8.6  & 8.4  & 9.1  & 9.0 \\\\\n",
       "\tCOHEN,S.S. &  7.0 & 5.9  & 4.9  & 5.1  & 5.4  & 5.9  & 4.8  & 5.1  & 4.7  & 4.9  & 6.8  & 5.0 \\\\\n",
       "\tDALY,J.J. &  7.3 & 8.9  & 8.9  & 8.7  & 8.6  & 8.5  & 8.4  & 8.4  & 8.4  & 8.5  & 8.8  & 8.8 \\\\\n",
       "\tDANNEHY,J.F. &  8.2 & 7.9  & 6.7  & 8.1  & 7.9  & 8.0  & 7.9  & 8.1  & 7.7  & 7.8  & 8.5  & 7.9 \\\\\n",
       "\tDEAN,H.H. &  7.0 & 8.0  & 7.6  & 7.4  & 7.3  & 7.5  & 7.1  & 7.2  & 7.1  & 7.2  & 8.4  & 7.7 \\\\\n",
       "\tDEVITA,H.J. &  6.5 & 8.0  & 7.6  & 7.2  & 7.0  & 7.1  & 6.9  & 7.0  & 7.0  & 7.1  & 6.9  & 7.2 \\\\\n",
       "\tDRISCOLL,P.J. &  6.7 & 8.6  & 8.2  & 6.8  & 6.9  & 6.6  & 7.1  & 7.3  & 7.2  & 7.2  & 8.1  & 7.7 \\\\\n",
       "\tGRILLO,A.E. &  7.0 & 7.5  & 6.4  & 6.8  & 6.5  & 7.0  & 6.6  & 6.8  & 6.3  & 6.6  & 6.2  & 6.5 \\\\\n",
       "\tHADDEN,W.L.JR. &  6.5 & 8.1  & 8.0  & 8.0  & 7.9  & 8.0  & 7.9  & 7.8  & 7.8  & 7.8  & 8.4  & 8.0 \\\\\n",
       "\tHAMILL,E.C. &  7.3 & 8.0  & 7.4  & 7.7  & 7.3  & 7.3  & 7.3  & 7.2  & 7.1  & 7.2  & 8.0  & 7.6 \\\\\n",
       "\tHEALEY.A.H. &  8.0 & 7.6  & 6.6  & 7.2  & 6.5  & 6.5  & 6.8  & 6.7  & 6.4  & 6.5  & 6.9  & 6.7 \\\\\n",
       "\tHULL,T.C. &  7.7 & 7.7  & 6.7  & 7.5  & 7.4  & 7.5  & 7.1  & 7.3  & 7.1  & 7.3  & 8.1  & 7.4 \\\\\n",
       "\tLEVINE,I. &  8.3 & 8.2  & 7.4  & 7.8  & 7.7  & 7.7  & 7.7  & 7.8  & 7.5  & 7.6  & 8.0  & 8.0 \\\\\n",
       "\tLEVISTER,R.L. &  9.6 & 6.9  & 5.7  & 6.6  & 6.9  & 6.6  & 6.2  & 6.0  & 5.8  & 5.8  & 7.2  & 6.0 \\\\\n",
       "\tMARTIN,L.F. &  7.1 & 8.2  & 7.7  & 7.1  & 6.6  & 6.6  & 6.7  & 6.7  & 6.8  & 6.8  & 7.5  & 7.3 \\\\\n",
       "\tMCGRATH,J.F. &  7.6 & 7.3  & 6.9  & 6.8  & 6.7  & 6.8  & 6.4  & 6.3  & 6.3  & 6.3  & 7.4  & 6.6 \\\\\n",
       "\tMIGNONE,A.F. &  6.6 & 7.4  & 6.2  & 6.2  & 5.4  & 5.7  & 5.8  & 5.9  & 5.2  & 5.8  & 4.7  & 5.2 \\\\\n",
       "\tMISSAL,H.M. &  6.2 & 8.3  & 8.1  & 7.7  & 7.4  & 7.3  & 7.3  & 7.3  & 7.2  & 7.3  & 7.8  & 7.6 \\\\\n",
       "\tMULVEY,H.M. &  7.5 & 8.7  & 8.5  & 8.6  & 8.5  & 8.4  & 8.5  & 8.5  & 8.4  & 8.4  & 8.7  & 8.7 \\\\\n",
       "\tNARUK,H.J. &  7.8 & 8.9  & 8.7  & 8.9  & 8.7  & 8.8  & 8.9  & 9.0  & 8.8  & 8.9  & 9.0  & 9.0 \\\\\n",
       "\tO'BRIEN,F.J. &  7.1 & 8.5  & 8.3  & 8.0  & 7.9  & 7.9  & 7.8  & 7.8  & 7.8  & 7.7  & 8.3  & 8.2 \\\\\n",
       "\tO'SULLIVAN,T.J. &  7.5 & 9.0  & 8.9  & 8.7  & 8.4  & 8.5  & 8.4  & 8.3  & 8.3  & 8.3  & 8.8  & 8.7 \\\\\n",
       "\tPASKEY,L. &  7.5 & 8.1  & 7.7  & 8.2  & 8.0  & 8.1  & 8.2  & 8.4  & 8.0  & 8.1  & 8.4  & 8.1 \\\\\n",
       "\tRUBINOW,J.E. &  7.1 & 9.2  & 9.0  & 9.0  & 8.4  & 8.6  & 9.1  & 9.1  & 8.9  & 9.0  & 8.9  & 9.2 \\\\\n",
       "\tSADEN.G.A. &  6.6 & 7.4  & 6.9  & 8.4  & 8.0  & 7.9  & 8.2  & 8.4  & 7.7  & 7.9  & 8.4  & 7.5 \\\\\n",
       "\tSATANIELLO,A.G. &  8.4 & 8.0  & 7.9  & 7.9  & 7.8  & 7.8  & 7.6  & 7.4  & 7.4  & 7.4  & 8.1  & 7.9 \\\\\n",
       "\tSHEA,D.M. &  6.9 & 8.5  & 7.8  & 8.5  & 8.1  & 8.2  & 8.4  & 8.5  & 8.1  & 8.3  & 8.7  & 8.3 \\\\\n",
       "\tSHEA,J.F.JR. &  7.3 & 8.9  & 8.8  & 8.7  & 8.4  & 8.5  & 8.5  & 8.5  & 8.4  & 8.4  & 8.8  & 8.8 \\\\\n",
       "\tSIDOR,W.J. &  7.7 & 6.2  & 5.1  & 5.6  & 5.6  & 5.9  & 5.6  & 5.6  & 5.3  & 5.5  & 6.3  & 5.3 \\\\\n",
       "\tSPEZIALE,J.A. &  8.5 & 8.3  & 8.1  & 8.3  & 8.4  & 8.2  & 8.2  & 8.1  & 7.9  & 8.0  & 8.0  & 8.2 \\\\\n",
       "\tSPONZO,M.J. &  6.9 & 8.3  & 8.0  & 8.1  & 7.9  & 7.9  & 7.9  & 7.7  & 7.6  & 7.7  & 8.1  & 8.0 \\\\\n",
       "\tSTAPLETON,J.F. &  6.5 & 8.2  & 7.7  & 7.8  & 7.6  & 7.7  & 7.7  & 7.7  & 7.5  & 7.6  & 8.5  & 7.7 \\\\\n",
       "\tTESTO,R.J. &  8.3 & 7.3  & 7.0  & 6.8  & 7.0  & 7.1  & 6.7  & 6.7  & 6.7  & 6.7  & 8.0  & 7.0 \\\\\n",
       "\tTIERNEY,W.L.JR. &  8.3 & 8.2  & 7.8  & 8.3  & 8.4  & 8.3  & 7.7  & 7.6  & 7.5  & 7.7  & 8.1  & 7.9 \\\\\n",
       "\tWALL,R.A. &  9.0 & 7.0  & 5.9  & 7.0  & 7.0  & 7.2  & 6.9  & 6.9  & 6.5  & 6.6  & 7.6  & 6.6 \\\\\n",
       "\tWRIGHT,D.B. &  7.1 & 8.4  & 8.4  & 7.7  & 7.5  & 7.7  & 7.8  & 8.2  & 8.0  & 8.1  & 8.3  & 8.1 \\\\\n",
       "\tZARRILLI,K.J. &  8.6 & 7.4  & 7.0  & 7.5  & 7.5  & 7.7  & 7.4  & 7.2  & 6.9  & 7.0  & 7.8  & 7.1 \\\\\n",
       "\\end{tabular}\n"
      ],
      "text/markdown": [
       "\n",
       "| <!--/--> | CONT | INTG | DMNR | DILG | CFMG | DECI | PREP | FAMI | ORAL | WRIT | PHYS | RTEN |\n",
       "|---|---|---|---|---|---|---|---|---|---|---|---|---|\n",
       "| AARONSON,L.H. |  5.7 | 7.9  | 7.7  | 7.3  | 7.1  | 7.4  | 7.1  | 7.1  | 7.1  | 7.0  | 8.3  | 7.8  |\n",
       "| ALEXANDER,J.M. |  6.8 | 8.9  | 8.8  | 8.5  | 7.8  | 8.1  | 8.0  | 8.0  | 7.8  | 7.9  | 8.5  | 8.7  |\n",
       "| ARMENTANO,A.J. |  7.2 | 8.1  | 7.8  | 7.8  | 7.5  | 7.6  | 7.5  | 7.5  | 7.3  | 7.4  | 7.9  | 7.8  |\n",
       "| BERDON,R.I. |  6.8 | 8.8  | 8.5  | 8.8  | 8.3  | 8.5  | 8.7  | 8.7  | 8.4  | 8.5  | 8.8  | 8.7  |\n",
       "| BRACKEN,J.J. |  7.3 | 6.4  | 4.3  | 6.5  | 6.0  | 6.2  | 5.7  | 5.7  | 5.1  | 5.3  | 5.5  | 4.8  |\n",
       "| BURNS,E.B. |  6.2 | 8.8  | 8.7  | 8.5  | 7.9  | 8.0  | 8.1  | 8.0  | 8.0  | 8.0  | 8.6  | 8.6  |\n",
       "| CALLAHAN,R.J. | 10.6 | 9.0  | 8.9  | 8.7  | 8.5  | 8.5  | 8.5  | 8.5  | 8.6  | 8.4  | 9.1  | 9.0  |\n",
       "| COHEN,S.S. |  7.0 | 5.9  | 4.9  | 5.1  | 5.4  | 5.9  | 4.8  | 5.1  | 4.7  | 4.9  | 6.8  | 5.0  |\n",
       "| DALY,J.J. |  7.3 | 8.9  | 8.9  | 8.7  | 8.6  | 8.5  | 8.4  | 8.4  | 8.4  | 8.5  | 8.8  | 8.8  |\n",
       "| DANNEHY,J.F. |  8.2 | 7.9  | 6.7  | 8.1  | 7.9  | 8.0  | 7.9  | 8.1  | 7.7  | 7.8  | 8.5  | 7.9  |\n",
       "| DEAN,H.H. |  7.0 | 8.0  | 7.6  | 7.4  | 7.3  | 7.5  | 7.1  | 7.2  | 7.1  | 7.2  | 8.4  | 7.7  |\n",
       "| DEVITA,H.J. |  6.5 | 8.0  | 7.6  | 7.2  | 7.0  | 7.1  | 6.9  | 7.0  | 7.0  | 7.1  | 6.9  | 7.2  |\n",
       "| DRISCOLL,P.J. |  6.7 | 8.6  | 8.2  | 6.8  | 6.9  | 6.6  | 7.1  | 7.3  | 7.2  | 7.2  | 8.1  | 7.7  |\n",
       "| GRILLO,A.E. |  7.0 | 7.5  | 6.4  | 6.8  | 6.5  | 7.0  | 6.6  | 6.8  | 6.3  | 6.6  | 6.2  | 6.5  |\n",
       "| HADDEN,W.L.JR. |  6.5 | 8.1  | 8.0  | 8.0  | 7.9  | 8.0  | 7.9  | 7.8  | 7.8  | 7.8  | 8.4  | 8.0  |\n",
       "| HAMILL,E.C. |  7.3 | 8.0  | 7.4  | 7.7  | 7.3  | 7.3  | 7.3  | 7.2  | 7.1  | 7.2  | 8.0  | 7.6  |\n",
       "| HEALEY.A.H. |  8.0 | 7.6  | 6.6  | 7.2  | 6.5  | 6.5  | 6.8  | 6.7  | 6.4  | 6.5  | 6.9  | 6.7  |\n",
       "| HULL,T.C. |  7.7 | 7.7  | 6.7  | 7.5  | 7.4  | 7.5  | 7.1  | 7.3  | 7.1  | 7.3  | 8.1  | 7.4  |\n",
       "| LEVINE,I. |  8.3 | 8.2  | 7.4  | 7.8  | 7.7  | 7.7  | 7.7  | 7.8  | 7.5  | 7.6  | 8.0  | 8.0  |\n",
       "| LEVISTER,R.L. |  9.6 | 6.9  | 5.7  | 6.6  | 6.9  | 6.6  | 6.2  | 6.0  | 5.8  | 5.8  | 7.2  | 6.0  |\n",
       "| MARTIN,L.F. |  7.1 | 8.2  | 7.7  | 7.1  | 6.6  | 6.6  | 6.7  | 6.7  | 6.8  | 6.8  | 7.5  | 7.3  |\n",
       "| MCGRATH,J.F. |  7.6 | 7.3  | 6.9  | 6.8  | 6.7  | 6.8  | 6.4  | 6.3  | 6.3  | 6.3  | 7.4  | 6.6  |\n",
       "| MIGNONE,A.F. |  6.6 | 7.4  | 6.2  | 6.2  | 5.4  | 5.7  | 5.8  | 5.9  | 5.2  | 5.8  | 4.7  | 5.2  |\n",
       "| MISSAL,H.M. |  6.2 | 8.3  | 8.1  | 7.7  | 7.4  | 7.3  | 7.3  | 7.3  | 7.2  | 7.3  | 7.8  | 7.6  |\n",
       "| MULVEY,H.M. |  7.5 | 8.7  | 8.5  | 8.6  | 8.5  | 8.4  | 8.5  | 8.5  | 8.4  | 8.4  | 8.7  | 8.7  |\n",
       "| NARUK,H.J. |  7.8 | 8.9  | 8.7  | 8.9  | 8.7  | 8.8  | 8.9  | 9.0  | 8.8  | 8.9  | 9.0  | 9.0  |\n",
       "| O'BRIEN,F.J. |  7.1 | 8.5  | 8.3  | 8.0  | 7.9  | 7.9  | 7.8  | 7.8  | 7.8  | 7.7  | 8.3  | 8.2  |\n",
       "| O'SULLIVAN,T.J. |  7.5 | 9.0  | 8.9  | 8.7  | 8.4  | 8.5  | 8.4  | 8.3  | 8.3  | 8.3  | 8.8  | 8.7  |\n",
       "| PASKEY,L. |  7.5 | 8.1  | 7.7  | 8.2  | 8.0  | 8.1  | 8.2  | 8.4  | 8.0  | 8.1  | 8.4  | 8.1  |\n",
       "| RUBINOW,J.E. |  7.1 | 9.2  | 9.0  | 9.0  | 8.4  | 8.6  | 9.1  | 9.1  | 8.9  | 9.0  | 8.9  | 9.2  |\n",
       "| SADEN.G.A. |  6.6 | 7.4  | 6.9  | 8.4  | 8.0  | 7.9  | 8.2  | 8.4  | 7.7  | 7.9  | 8.4  | 7.5  |\n",
       "| SATANIELLO,A.G. |  8.4 | 8.0  | 7.9  | 7.9  | 7.8  | 7.8  | 7.6  | 7.4  | 7.4  | 7.4  | 8.1  | 7.9  |\n",
       "| SHEA,D.M. |  6.9 | 8.5  | 7.8  | 8.5  | 8.1  | 8.2  | 8.4  | 8.5  | 8.1  | 8.3  | 8.7  | 8.3  |\n",
       "| SHEA,J.F.JR. |  7.3 | 8.9  | 8.8  | 8.7  | 8.4  | 8.5  | 8.5  | 8.5  | 8.4  | 8.4  | 8.8  | 8.8  |\n",
       "| SIDOR,W.J. |  7.7 | 6.2  | 5.1  | 5.6  | 5.6  | 5.9  | 5.6  | 5.6  | 5.3  | 5.5  | 6.3  | 5.3  |\n",
       "| SPEZIALE,J.A. |  8.5 | 8.3  | 8.1  | 8.3  | 8.4  | 8.2  | 8.2  | 8.1  | 7.9  | 8.0  | 8.0  | 8.2  |\n",
       "| SPONZO,M.J. |  6.9 | 8.3  | 8.0  | 8.1  | 7.9  | 7.9  | 7.9  | 7.7  | 7.6  | 7.7  | 8.1  | 8.0  |\n",
       "| STAPLETON,J.F. |  6.5 | 8.2  | 7.7  | 7.8  | 7.6  | 7.7  | 7.7  | 7.7  | 7.5  | 7.6  | 8.5  | 7.7  |\n",
       "| TESTO,R.J. |  8.3 | 7.3  | 7.0  | 6.8  | 7.0  | 7.1  | 6.7  | 6.7  | 6.7  | 6.7  | 8.0  | 7.0  |\n",
       "| TIERNEY,W.L.JR. |  8.3 | 8.2  | 7.8  | 8.3  | 8.4  | 8.3  | 7.7  | 7.6  | 7.5  | 7.7  | 8.1  | 7.9  |\n",
       "| WALL,R.A. |  9.0 | 7.0  | 5.9  | 7.0  | 7.0  | 7.2  | 6.9  | 6.9  | 6.5  | 6.6  | 7.6  | 6.6  |\n",
       "| WRIGHT,D.B. |  7.1 | 8.4  | 8.4  | 7.7  | 7.5  | 7.7  | 7.8  | 8.2  | 8.0  | 8.1  | 8.3  | 8.1  |\n",
       "| ZARRILLI,K.J. |  8.6 | 7.4  | 7.0  | 7.5  | 7.5  | 7.7  | 7.4  | 7.2  | 6.9  | 7.0  | 7.8  | 7.1  |\n",
       "\n"
      ],
      "text/plain": [
       "                CONT INTG DMNR DILG CFMG DECI PREP FAMI ORAL WRIT PHYS RTEN\n",
       "AARONSON,L.H.    5.7 7.9  7.7  7.3  7.1  7.4  7.1  7.1  7.1  7.0  8.3  7.8 \n",
       "ALEXANDER,J.M.   6.8 8.9  8.8  8.5  7.8  8.1  8.0  8.0  7.8  7.9  8.5  8.7 \n",
       "ARMENTANO,A.J.   7.2 8.1  7.8  7.8  7.5  7.6  7.5  7.5  7.3  7.4  7.9  7.8 \n",
       "BERDON,R.I.      6.8 8.8  8.5  8.8  8.3  8.5  8.7  8.7  8.4  8.5  8.8  8.7 \n",
       "BRACKEN,J.J.     7.3 6.4  4.3  6.5  6.0  6.2  5.7  5.7  5.1  5.3  5.5  4.8 \n",
       "BURNS,E.B.       6.2 8.8  8.7  8.5  7.9  8.0  8.1  8.0  8.0  8.0  8.6  8.6 \n",
       "CALLAHAN,R.J.   10.6 9.0  8.9  8.7  8.5  8.5  8.5  8.5  8.6  8.4  9.1  9.0 \n",
       "COHEN,S.S.       7.0 5.9  4.9  5.1  5.4  5.9  4.8  5.1  4.7  4.9  6.8  5.0 \n",
       "DALY,J.J.        7.3 8.9  8.9  8.7  8.6  8.5  8.4  8.4  8.4  8.5  8.8  8.8 \n",
       "DANNEHY,J.F.     8.2 7.9  6.7  8.1  7.9  8.0  7.9  8.1  7.7  7.8  8.5  7.9 \n",
       "DEAN,H.H.        7.0 8.0  7.6  7.4  7.3  7.5  7.1  7.2  7.1  7.2  8.4  7.7 \n",
       "DEVITA,H.J.      6.5 8.0  7.6  7.2  7.0  7.1  6.9  7.0  7.0  7.1  6.9  7.2 \n",
       "DRISCOLL,P.J.    6.7 8.6  8.2  6.8  6.9  6.6  7.1  7.3  7.2  7.2  8.1  7.7 \n",
       "GRILLO,A.E.      7.0 7.5  6.4  6.8  6.5  7.0  6.6  6.8  6.3  6.6  6.2  6.5 \n",
       "HADDEN,W.L.JR.   6.5 8.1  8.0  8.0  7.9  8.0  7.9  7.8  7.8  7.8  8.4  8.0 \n",
       "HAMILL,E.C.      7.3 8.0  7.4  7.7  7.3  7.3  7.3  7.2  7.1  7.2  8.0  7.6 \n",
       "HEALEY.A.H.      8.0 7.6  6.6  7.2  6.5  6.5  6.8  6.7  6.4  6.5  6.9  6.7 \n",
       "HULL,T.C.        7.7 7.7  6.7  7.5  7.4  7.5  7.1  7.3  7.1  7.3  8.1  7.4 \n",
       "LEVINE,I.        8.3 8.2  7.4  7.8  7.7  7.7  7.7  7.8  7.5  7.6  8.0  8.0 \n",
       "LEVISTER,R.L.    9.6 6.9  5.7  6.6  6.9  6.6  6.2  6.0  5.8  5.8  7.2  6.0 \n",
       "MARTIN,L.F.      7.1 8.2  7.7  7.1  6.6  6.6  6.7  6.7  6.8  6.8  7.5  7.3 \n",
       "MCGRATH,J.F.     7.6 7.3  6.9  6.8  6.7  6.8  6.4  6.3  6.3  6.3  7.4  6.6 \n",
       "MIGNONE,A.F.     6.6 7.4  6.2  6.2  5.4  5.7  5.8  5.9  5.2  5.8  4.7  5.2 \n",
       "MISSAL,H.M.      6.2 8.3  8.1  7.7  7.4  7.3  7.3  7.3  7.2  7.3  7.8  7.6 \n",
       "MULVEY,H.M.      7.5 8.7  8.5  8.6  8.5  8.4  8.5  8.5  8.4  8.4  8.7  8.7 \n",
       "NARUK,H.J.       7.8 8.9  8.7  8.9  8.7  8.8  8.9  9.0  8.8  8.9  9.0  9.0 \n",
       "O'BRIEN,F.J.     7.1 8.5  8.3  8.0  7.9  7.9  7.8  7.8  7.8  7.7  8.3  8.2 \n",
       "O'SULLIVAN,T.J.  7.5 9.0  8.9  8.7  8.4  8.5  8.4  8.3  8.3  8.3  8.8  8.7 \n",
       "PASKEY,L.        7.5 8.1  7.7  8.2  8.0  8.1  8.2  8.4  8.0  8.1  8.4  8.1 \n",
       "RUBINOW,J.E.     7.1 9.2  9.0  9.0  8.4  8.6  9.1  9.1  8.9  9.0  8.9  9.2 \n",
       "SADEN.G.A.       6.6 7.4  6.9  8.4  8.0  7.9  8.2  8.4  7.7  7.9  8.4  7.5 \n",
       "SATANIELLO,A.G.  8.4 8.0  7.9  7.9  7.8  7.8  7.6  7.4  7.4  7.4  8.1  7.9 \n",
       "SHEA,D.M.        6.9 8.5  7.8  8.5  8.1  8.2  8.4  8.5  8.1  8.3  8.7  8.3 \n",
       "SHEA,J.F.JR.     7.3 8.9  8.8  8.7  8.4  8.5  8.5  8.5  8.4  8.4  8.8  8.8 \n",
       "SIDOR,W.J.       7.7 6.2  5.1  5.6  5.6  5.9  5.6  5.6  5.3  5.5  6.3  5.3 \n",
       "SPEZIALE,J.A.    8.5 8.3  8.1  8.3  8.4  8.2  8.2  8.1  7.9  8.0  8.0  8.2 \n",
       "SPONZO,M.J.      6.9 8.3  8.0  8.1  7.9  7.9  7.9  7.7  7.6  7.7  8.1  8.0 \n",
       "STAPLETON,J.F.   6.5 8.2  7.7  7.8  7.6  7.7  7.7  7.7  7.5  7.6  8.5  7.7 \n",
       "TESTO,R.J.       8.3 7.3  7.0  6.8  7.0  7.1  6.7  6.7  6.7  6.7  8.0  7.0 \n",
       "TIERNEY,W.L.JR.  8.3 8.2  7.8  8.3  8.4  8.3  7.7  7.6  7.5  7.7  8.1  7.9 \n",
       "WALL,R.A.        9.0 7.0  5.9  7.0  7.0  7.2  6.9  6.9  6.5  6.6  7.6  6.6 \n",
       "WRIGHT,D.B.      7.1 8.4  8.4  7.7  7.5  7.7  7.8  8.2  8.0  8.1  8.3  8.1 \n",
       "ZARRILLI,K.J.    8.6 7.4  7.0  7.5  7.5  7.7  7.4  7.2  6.9  7.0  7.8  7.1 "
      ]
     },
     "metadata": {},
     "output_type": "display_data"
    }
   ],
   "source": [
    "#Use/load datasets\n",
    "data(\"USJudgeRatings\")\n",
    "USJudgeRatings"
   ]
  },
  {
   "cell_type": "code",
   "execution_count": 13,
   "metadata": {},
   "outputs": [],
   "source": [
    "help(\"USJudgeRatings\")#Mention name of dataset\n",
    "#Lawyers' ratings of state judges in the US Superior Court."
   ]
  },
  {
   "cell_type": "code",
   "execution_count": 14,
   "metadata": {},
   "outputs": [
    {
     "name": "stdout",
     "output_type": "stream",
     "text": [
      "'data.frame':\t43 obs. of  12 variables:\n",
      " $ CONT: num  5.7 6.8 7.2 6.8 7.3 6.2 10.6 7 7.3 8.2 ...\n",
      " $ INTG: num  7.9 8.9 8.1 8.8 6.4 8.8 9 5.9 8.9 7.9 ...\n",
      " $ DMNR: num  7.7 8.8 7.8 8.5 4.3 8.7 8.9 4.9 8.9 6.7 ...\n",
      " $ DILG: num  7.3 8.5 7.8 8.8 6.5 8.5 8.7 5.1 8.7 8.1 ...\n",
      " $ CFMG: num  7.1 7.8 7.5 8.3 6 7.9 8.5 5.4 8.6 7.9 ...\n",
      " $ DECI: num  7.4 8.1 7.6 8.5 6.2 8 8.5 5.9 8.5 8 ...\n",
      " $ PREP: num  7.1 8 7.5 8.7 5.7 8.1 8.5 4.8 8.4 7.9 ...\n",
      " $ FAMI: num  7.1 8 7.5 8.7 5.7 8 8.5 5.1 8.4 8.1 ...\n",
      " $ ORAL: num  7.1 7.8 7.3 8.4 5.1 8 8.6 4.7 8.4 7.7 ...\n",
      " $ WRIT: num  7 7.9 7.4 8.5 5.3 8 8.4 4.9 8.5 7.8 ...\n",
      " $ PHYS: num  8.3 8.5 7.9 8.8 5.5 8.6 9.1 6.8 8.8 8.5 ...\n",
      " $ RTEN: num  7.8 8.7 7.8 8.7 4.8 8.6 9 5 8.8 7.9 ...\n"
     ]
    },
    {
     "data": {
      "text/html": [
       "<ol class=list-inline>\n",
       "\t<li>'AARONSON,L.H.'</li>\n",
       "\t<li>'ALEXANDER,J.M.'</li>\n",
       "\t<li>'ARMENTANO,A.J.'</li>\n",
       "\t<li>'BERDON,R.I.'</li>\n",
       "\t<li>'BRACKEN,J.J.'</li>\n",
       "\t<li>'BURNS,E.B.'</li>\n",
       "\t<li>'CALLAHAN,R.J.'</li>\n",
       "\t<li>'COHEN,S.S.'</li>\n",
       "\t<li>'DALY,J.J.'</li>\n",
       "\t<li>'DANNEHY,J.F.'</li>\n",
       "\t<li>'DEAN,H.H.'</li>\n",
       "\t<li>'DEVITA,H.J.'</li>\n",
       "\t<li>'DRISCOLL,P.J.'</li>\n",
       "\t<li>'GRILLO,A.E.'</li>\n",
       "\t<li>'HADDEN,W.L.JR.'</li>\n",
       "\t<li>'HAMILL,E.C.'</li>\n",
       "\t<li>'HEALEY.A.H.'</li>\n",
       "\t<li>'HULL,T.C.'</li>\n",
       "\t<li>'LEVINE,I.'</li>\n",
       "\t<li>'LEVISTER,R.L.'</li>\n",
       "\t<li>'MARTIN,L.F.'</li>\n",
       "\t<li>'MCGRATH,J.F.'</li>\n",
       "\t<li>'MIGNONE,A.F.'</li>\n",
       "\t<li>'MISSAL,H.M.'</li>\n",
       "\t<li>'MULVEY,H.M.'</li>\n",
       "\t<li>'NARUK,H.J.'</li>\n",
       "\t<li>'O\\'BRIEN,F.J.'</li>\n",
       "\t<li>'O\\'SULLIVAN,T.J.'</li>\n",
       "\t<li>'PASKEY,L.'</li>\n",
       "\t<li>'RUBINOW,J.E.'</li>\n",
       "\t<li>'SADEN.G.A.'</li>\n",
       "\t<li>'SATANIELLO,A.G.'</li>\n",
       "\t<li>'SHEA,D.M.'</li>\n",
       "\t<li>'SHEA,J.F.JR.'</li>\n",
       "\t<li>'SIDOR,W.J.'</li>\n",
       "\t<li>'SPEZIALE,J.A.'</li>\n",
       "\t<li>'SPONZO,M.J.'</li>\n",
       "\t<li>'STAPLETON,J.F.'</li>\n",
       "\t<li>'TESTO,R.J.'</li>\n",
       "\t<li>'TIERNEY,W.L.JR.'</li>\n",
       "\t<li>'WALL,R.A.'</li>\n",
       "\t<li>'WRIGHT,D.B.'</li>\n",
       "\t<li>'ZARRILLI,K.J.'</li>\n",
       "</ol>\n"
      ],
      "text/latex": [
       "\\begin{enumerate*}\n",
       "\\item 'AARONSON,L.H.'\n",
       "\\item 'ALEXANDER,J.M.'\n",
       "\\item 'ARMENTANO,A.J.'\n",
       "\\item 'BERDON,R.I.'\n",
       "\\item 'BRACKEN,J.J.'\n",
       "\\item 'BURNS,E.B.'\n",
       "\\item 'CALLAHAN,R.J.'\n",
       "\\item 'COHEN,S.S.'\n",
       "\\item 'DALY,J.J.'\n",
       "\\item 'DANNEHY,J.F.'\n",
       "\\item 'DEAN,H.H.'\n",
       "\\item 'DEVITA,H.J.'\n",
       "\\item 'DRISCOLL,P.J.'\n",
       "\\item 'GRILLO,A.E.'\n",
       "\\item 'HADDEN,W.L.JR.'\n",
       "\\item 'HAMILL,E.C.'\n",
       "\\item 'HEALEY.A.H.'\n",
       "\\item 'HULL,T.C.'\n",
       "\\item 'LEVINE,I.'\n",
       "\\item 'LEVISTER,R.L.'\n",
       "\\item 'MARTIN,L.F.'\n",
       "\\item 'MCGRATH,J.F.'\n",
       "\\item 'MIGNONE,A.F.'\n",
       "\\item 'MISSAL,H.M.'\n",
       "\\item 'MULVEY,H.M.'\n",
       "\\item 'NARUK,H.J.'\n",
       "\\item 'O\\textbackslash{}'BRIEN,F.J.'\n",
       "\\item 'O\\textbackslash{}'SULLIVAN,T.J.'\n",
       "\\item 'PASKEY,L.'\n",
       "\\item 'RUBINOW,J.E.'\n",
       "\\item 'SADEN.G.A.'\n",
       "\\item 'SATANIELLO,A.G.'\n",
       "\\item 'SHEA,D.M.'\n",
       "\\item 'SHEA,J.F.JR.'\n",
       "\\item 'SIDOR,W.J.'\n",
       "\\item 'SPEZIALE,J.A.'\n",
       "\\item 'SPONZO,M.J.'\n",
       "\\item 'STAPLETON,J.F.'\n",
       "\\item 'TESTO,R.J.'\n",
       "\\item 'TIERNEY,W.L.JR.'\n",
       "\\item 'WALL,R.A.'\n",
       "\\item 'WRIGHT,D.B.'\n",
       "\\item 'ZARRILLI,K.J.'\n",
       "\\end{enumerate*}\n"
      ],
      "text/markdown": [
       "1. 'AARONSON,L.H.'\n",
       "2. 'ALEXANDER,J.M.'\n",
       "3. 'ARMENTANO,A.J.'\n",
       "4. 'BERDON,R.I.'\n",
       "5. 'BRACKEN,J.J.'\n",
       "6. 'BURNS,E.B.'\n",
       "7. 'CALLAHAN,R.J.'\n",
       "8. 'COHEN,S.S.'\n",
       "9. 'DALY,J.J.'\n",
       "10. 'DANNEHY,J.F.'\n",
       "11. 'DEAN,H.H.'\n",
       "12. 'DEVITA,H.J.'\n",
       "13. 'DRISCOLL,P.J.'\n",
       "14. 'GRILLO,A.E.'\n",
       "15. 'HADDEN,W.L.JR.'\n",
       "16. 'HAMILL,E.C.'\n",
       "17. 'HEALEY.A.H.'\n",
       "18. 'HULL,T.C.'\n",
       "19. 'LEVINE,I.'\n",
       "20. 'LEVISTER,R.L.'\n",
       "21. 'MARTIN,L.F.'\n",
       "22. 'MCGRATH,J.F.'\n",
       "23. 'MIGNONE,A.F.'\n",
       "24. 'MISSAL,H.M.'\n",
       "25. 'MULVEY,H.M.'\n",
       "26. 'NARUK,H.J.'\n",
       "27. 'O\\'BRIEN,F.J.'\n",
       "28. 'O\\'SULLIVAN,T.J.'\n",
       "29. 'PASKEY,L.'\n",
       "30. 'RUBINOW,J.E.'\n",
       "31. 'SADEN.G.A.'\n",
       "32. 'SATANIELLO,A.G.'\n",
       "33. 'SHEA,D.M.'\n",
       "34. 'SHEA,J.F.JR.'\n",
       "35. 'SIDOR,W.J.'\n",
       "36. 'SPEZIALE,J.A.'\n",
       "37. 'SPONZO,M.J.'\n",
       "38. 'STAPLETON,J.F.'\n",
       "39. 'TESTO,R.J.'\n",
       "40. 'TIERNEY,W.L.JR.'\n",
       "41. 'WALL,R.A.'\n",
       "42. 'WRIGHT,D.B.'\n",
       "43. 'ZARRILLI,K.J.'\n",
       "\n",
       "\n"
      ],
      "text/plain": [
       " [1] \"AARONSON,L.H.\"   \"ALEXANDER,J.M.\"  \"ARMENTANO,A.J.\"  \"BERDON,R.I.\"    \n",
       " [5] \"BRACKEN,J.J.\"    \"BURNS,E.B.\"      \"CALLAHAN,R.J.\"   \"COHEN,S.S.\"     \n",
       " [9] \"DALY,J.J.\"       \"DANNEHY,J.F.\"    \"DEAN,H.H.\"       \"DEVITA,H.J.\"    \n",
       "[13] \"DRISCOLL,P.J.\"   \"GRILLO,A.E.\"     \"HADDEN,W.L.JR.\"  \"HAMILL,E.C.\"    \n",
       "[17] \"HEALEY.A.H.\"     \"HULL,T.C.\"       \"LEVINE,I.\"       \"LEVISTER,R.L.\"  \n",
       "[21] \"MARTIN,L.F.\"     \"MCGRATH,J.F.\"    \"MIGNONE,A.F.\"    \"MISSAL,H.M.\"    \n",
       "[25] \"MULVEY,H.M.\"     \"NARUK,H.J.\"      \"O'BRIEN,F.J.\"    \"O'SULLIVAN,T.J.\"\n",
       "[29] \"PASKEY,L.\"       \"RUBINOW,J.E.\"    \"SADEN.G.A.\"      \"SATANIELLO,A.G.\"\n",
       "[33] \"SHEA,D.M.\"       \"SHEA,J.F.JR.\"    \"SIDOR,W.J.\"      \"SPEZIALE,J.A.\"  \n",
       "[37] \"SPONZO,M.J.\"     \"STAPLETON,J.F.\"  \"TESTO,R.J.\"      \"TIERNEY,W.L.JR.\"\n",
       "[41] \"WALL,R.A.\"       \"WRIGHT,D.B.\"     \"ZARRILLI,K.J.\"  "
      ]
     },
     "metadata": {},
     "output_type": "display_data"
    }
   ],
   "source": [
    "str(USJudgeRatings)\n",
    "row.names(USJudgeRatings)"
   ]
  },
  {
   "cell_type": "code",
   "execution_count": 15,
   "metadata": {},
   "outputs": [],
   "source": [
    "x=USJudgeRatings#Rename to save time"
   ]
  },
  {
   "cell_type": "code",
   "execution_count": 16,
   "metadata": {},
   "outputs": [
    {
     "data": {
      "text/html": [
       "<table>\n",
       "<thead><tr><th></th><th scope=col>CONT</th><th scope=col>INTG</th><th scope=col>DMNR</th><th scope=col>DILG</th><th scope=col>CFMG</th><th scope=col>DECI</th><th scope=col>PREP</th><th scope=col>FAMI</th><th scope=col>ORAL</th><th scope=col>WRIT</th><th scope=col>PHYS</th><th scope=col>RTEN</th><th scope=col>names</th></tr></thead>\n",
       "<tbody>\n",
       "\t<tr><th scope=row>AARONSON,L.H.</th><td> 5.7       </td><td>7.9        </td><td>7.7        </td><td>7.3        </td><td>7.1        </td><td>7.4        </td><td>7.1        </td><td>7.1        </td><td>7.1        </td><td>7.0        </td><td>8.3        </td><td>7.8        </td><td>AARONSON   </td></tr>\n",
       "\t<tr><th scope=row>ALEXANDER,J.M.</th><td> 6.8       </td><td>8.9        </td><td>8.8        </td><td>8.5        </td><td>7.8        </td><td>8.1        </td><td>8.0        </td><td>8.0        </td><td>7.8        </td><td>7.9        </td><td>8.5        </td><td>8.7        </td><td>ALEXANDER  </td></tr>\n",
       "\t<tr><th scope=row>ARMENTANO,A.J.</th><td> 7.2       </td><td>8.1        </td><td>7.8        </td><td>7.8        </td><td>7.5        </td><td>7.6        </td><td>7.5        </td><td>7.5        </td><td>7.3        </td><td>7.4        </td><td>7.9        </td><td>7.8        </td><td>ARMENTANO  </td></tr>\n",
       "\t<tr><th scope=row>BERDON,R.I.</th><td> 6.8       </td><td>8.8        </td><td>8.5        </td><td>8.8        </td><td>8.3        </td><td>8.5        </td><td>8.7        </td><td>8.7        </td><td>8.4        </td><td>8.5        </td><td>8.8        </td><td>8.7        </td><td>BERDON     </td></tr>\n",
       "\t<tr><th scope=row>BRACKEN,J.J.</th><td> 7.3       </td><td>6.4        </td><td>4.3        </td><td>6.5        </td><td>6.0        </td><td>6.2        </td><td>5.7        </td><td>5.7        </td><td>5.1        </td><td>5.3        </td><td>5.5        </td><td>4.8        </td><td>BRACKEN    </td></tr>\n",
       "\t<tr><th scope=row>BURNS,E.B.</th><td> 6.2       </td><td>8.8        </td><td>8.7        </td><td>8.5        </td><td>7.9        </td><td>8.0        </td><td>8.1        </td><td>8.0        </td><td>8.0        </td><td>8.0        </td><td>8.6        </td><td>8.6        </td><td>BURNS      </td></tr>\n",
       "\t<tr><th scope=row>CALLAHAN,R.J.</th><td>10.6       </td><td>9.0        </td><td>8.9        </td><td>8.7        </td><td>8.5        </td><td>8.5        </td><td>8.5        </td><td>8.5        </td><td>8.6        </td><td>8.4        </td><td>9.1        </td><td>9.0        </td><td>CALLAHAN   </td></tr>\n",
       "\t<tr><th scope=row>COHEN,S.S.</th><td> 7.0       </td><td>5.9        </td><td>4.9        </td><td>5.1        </td><td>5.4        </td><td>5.9        </td><td>4.8        </td><td>5.1        </td><td>4.7        </td><td>4.9        </td><td>6.8        </td><td>5.0        </td><td>COHEN      </td></tr>\n",
       "\t<tr><th scope=row>DALY,J.J.</th><td> 7.3       </td><td>8.9        </td><td>8.9        </td><td>8.7        </td><td>8.6        </td><td>8.5        </td><td>8.4        </td><td>8.4        </td><td>8.4        </td><td>8.5        </td><td>8.8        </td><td>8.8        </td><td>DALY       </td></tr>\n",
       "\t<tr><th scope=row>DANNEHY,J.F.</th><td> 8.2       </td><td>7.9        </td><td>6.7        </td><td>8.1        </td><td>7.9        </td><td>8.0        </td><td>7.9        </td><td>8.1        </td><td>7.7        </td><td>7.8        </td><td>8.5        </td><td>7.9        </td><td>DANNEHY    </td></tr>\n",
       "\t<tr><th scope=row>DEAN,H.H.</th><td> 7.0       </td><td>8.0        </td><td>7.6        </td><td>7.4        </td><td>7.3        </td><td>7.5        </td><td>7.1        </td><td>7.2        </td><td>7.1        </td><td>7.2        </td><td>8.4        </td><td>7.7        </td><td>DEAN       </td></tr>\n",
       "\t<tr><th scope=row>DEVITA,H.J.</th><td> 6.5       </td><td>8.0        </td><td>7.6        </td><td>7.2        </td><td>7.0        </td><td>7.1        </td><td>6.9        </td><td>7.0        </td><td>7.0        </td><td>7.1        </td><td>6.9        </td><td>7.2        </td><td>DEVITA     </td></tr>\n",
       "\t<tr><th scope=row>DRISCOLL,P.J.</th><td> 6.7       </td><td>8.6        </td><td>8.2        </td><td>6.8        </td><td>6.9        </td><td>6.6        </td><td>7.1        </td><td>7.3        </td><td>7.2        </td><td>7.2        </td><td>8.1        </td><td>7.7        </td><td>DRISCOLL   </td></tr>\n",
       "\t<tr><th scope=row>GRILLO,A.E.</th><td> 7.0       </td><td>7.5        </td><td>6.4        </td><td>6.8        </td><td>6.5        </td><td>7.0        </td><td>6.6        </td><td>6.8        </td><td>6.3        </td><td>6.6        </td><td>6.2        </td><td>6.5        </td><td>GRILLO     </td></tr>\n",
       "\t<tr><th scope=row>HADDEN,W.L.JR.</th><td> 6.5       </td><td>8.1        </td><td>8.0        </td><td>8.0        </td><td>7.9        </td><td>8.0        </td><td>7.9        </td><td>7.8        </td><td>7.8        </td><td>7.8        </td><td>8.4        </td><td>8.0        </td><td>HADDEN     </td></tr>\n",
       "\t<tr><th scope=row>HAMILL,E.C.</th><td> 7.3       </td><td>8.0        </td><td>7.4        </td><td>7.7        </td><td>7.3        </td><td>7.3        </td><td>7.3        </td><td>7.2        </td><td>7.1        </td><td>7.2        </td><td>8.0        </td><td>7.6        </td><td>HAMILL     </td></tr>\n",
       "\t<tr><th scope=row>HEALEY.A.H.</th><td> 8.0       </td><td>7.6        </td><td>6.6        </td><td>7.2        </td><td>6.5        </td><td>6.5        </td><td>6.8        </td><td>6.7        </td><td>6.4        </td><td>6.5        </td><td>6.9        </td><td>6.7        </td><td>HEALEY.A.H.</td></tr>\n",
       "\t<tr><th scope=row>HULL,T.C.</th><td> 7.7       </td><td>7.7        </td><td>6.7        </td><td>7.5        </td><td>7.4        </td><td>7.5        </td><td>7.1        </td><td>7.3        </td><td>7.1        </td><td>7.3        </td><td>8.1        </td><td>7.4        </td><td>HULL       </td></tr>\n",
       "\t<tr><th scope=row>LEVINE,I.</th><td> 8.3       </td><td>8.2        </td><td>7.4        </td><td>7.8        </td><td>7.7        </td><td>7.7        </td><td>7.7        </td><td>7.8        </td><td>7.5        </td><td>7.6        </td><td>8.0        </td><td>8.0        </td><td>LEVINE     </td></tr>\n",
       "\t<tr><th scope=row>LEVISTER,R.L.</th><td> 9.6       </td><td>6.9        </td><td>5.7        </td><td>6.6        </td><td>6.9        </td><td>6.6        </td><td>6.2        </td><td>6.0        </td><td>5.8        </td><td>5.8        </td><td>7.2        </td><td>6.0        </td><td>LEVISTER   </td></tr>\n",
       "\t<tr><th scope=row>MARTIN,L.F.</th><td> 7.1       </td><td>8.2        </td><td>7.7        </td><td>7.1        </td><td>6.6        </td><td>6.6        </td><td>6.7        </td><td>6.7        </td><td>6.8        </td><td>6.8        </td><td>7.5        </td><td>7.3        </td><td>MARTIN     </td></tr>\n",
       "\t<tr><th scope=row>MCGRATH,J.F.</th><td> 7.6       </td><td>7.3        </td><td>6.9        </td><td>6.8        </td><td>6.7        </td><td>6.8        </td><td>6.4        </td><td>6.3        </td><td>6.3        </td><td>6.3        </td><td>7.4        </td><td>6.6        </td><td>MCGRATH    </td></tr>\n",
       "\t<tr><th scope=row>MIGNONE,A.F.</th><td> 6.6       </td><td>7.4        </td><td>6.2        </td><td>6.2        </td><td>5.4        </td><td>5.7        </td><td>5.8        </td><td>5.9        </td><td>5.2        </td><td>5.8        </td><td>4.7        </td><td>5.2        </td><td>MIGNONE    </td></tr>\n",
       "\t<tr><th scope=row>MISSAL,H.M.</th><td> 6.2       </td><td>8.3        </td><td>8.1        </td><td>7.7        </td><td>7.4        </td><td>7.3        </td><td>7.3        </td><td>7.3        </td><td>7.2        </td><td>7.3        </td><td>7.8        </td><td>7.6        </td><td>MISSAL     </td></tr>\n",
       "\t<tr><th scope=row>MULVEY,H.M.</th><td> 7.5       </td><td>8.7        </td><td>8.5        </td><td>8.6        </td><td>8.5        </td><td>8.4        </td><td>8.5        </td><td>8.5        </td><td>8.4        </td><td>8.4        </td><td>8.7        </td><td>8.7        </td><td>MULVEY     </td></tr>\n",
       "\t<tr><th scope=row>NARUK,H.J.</th><td> 7.8       </td><td>8.9        </td><td>8.7        </td><td>8.9        </td><td>8.7        </td><td>8.8        </td><td>8.9        </td><td>9.0        </td><td>8.8        </td><td>8.9        </td><td>9.0        </td><td>9.0        </td><td>NARUK      </td></tr>\n",
       "\t<tr><th scope=row>O'BRIEN,F.J.</th><td> 7.1       </td><td>8.5        </td><td>8.3        </td><td>8.0        </td><td>7.9        </td><td>7.9        </td><td>7.8        </td><td>7.8        </td><td>7.8        </td><td>7.7        </td><td>8.3        </td><td>8.2        </td><td>O'BRIEN    </td></tr>\n",
       "\t<tr><th scope=row>O'SULLIVAN,T.J.</th><td> 7.5       </td><td>9.0        </td><td>8.9        </td><td>8.7        </td><td>8.4        </td><td>8.5        </td><td>8.4        </td><td>8.3        </td><td>8.3        </td><td>8.3        </td><td>8.8        </td><td>8.7        </td><td>O'SULLIVAN </td></tr>\n",
       "\t<tr><th scope=row>PASKEY,L.</th><td> 7.5       </td><td>8.1        </td><td>7.7        </td><td>8.2        </td><td>8.0        </td><td>8.1        </td><td>8.2        </td><td>8.4        </td><td>8.0        </td><td>8.1        </td><td>8.4        </td><td>8.1        </td><td>PASKEY     </td></tr>\n",
       "\t<tr><th scope=row>RUBINOW,J.E.</th><td> 7.1       </td><td>9.2        </td><td>9.0        </td><td>9.0        </td><td>8.4        </td><td>8.6        </td><td>9.1        </td><td>9.1        </td><td>8.9        </td><td>9.0        </td><td>8.9        </td><td>9.2        </td><td>RUBINOW    </td></tr>\n",
       "\t<tr><th scope=row>SADEN.G.A.</th><td> 6.6       </td><td>7.4        </td><td>6.9        </td><td>8.4        </td><td>8.0        </td><td>7.9        </td><td>8.2        </td><td>8.4        </td><td>7.7        </td><td>7.9        </td><td>8.4        </td><td>7.5        </td><td>SADEN.G.A. </td></tr>\n",
       "\t<tr><th scope=row>SATANIELLO,A.G.</th><td> 8.4       </td><td>8.0        </td><td>7.9        </td><td>7.9        </td><td>7.8        </td><td>7.8        </td><td>7.6        </td><td>7.4        </td><td>7.4        </td><td>7.4        </td><td>8.1        </td><td>7.9        </td><td>SATANIELLO </td></tr>\n",
       "\t<tr><th scope=row>SHEA,D.M.</th><td> 6.9       </td><td>8.5        </td><td>7.8        </td><td>8.5        </td><td>8.1        </td><td>8.2        </td><td>8.4        </td><td>8.5        </td><td>8.1        </td><td>8.3        </td><td>8.7        </td><td>8.3        </td><td>SHEA       </td></tr>\n",
       "\t<tr><th scope=row>SHEA,J.F.JR.</th><td> 7.3       </td><td>8.9        </td><td>8.8        </td><td>8.7        </td><td>8.4        </td><td>8.5        </td><td>8.5        </td><td>8.5        </td><td>8.4        </td><td>8.4        </td><td>8.8        </td><td>8.8        </td><td>SHEA       </td></tr>\n",
       "\t<tr><th scope=row>SIDOR,W.J.</th><td> 7.7       </td><td>6.2        </td><td>5.1        </td><td>5.6        </td><td>5.6        </td><td>5.9        </td><td>5.6        </td><td>5.6        </td><td>5.3        </td><td>5.5        </td><td>6.3        </td><td>5.3        </td><td>SIDOR      </td></tr>\n",
       "\t<tr><th scope=row>SPEZIALE,J.A.</th><td> 8.5       </td><td>8.3        </td><td>8.1        </td><td>8.3        </td><td>8.4        </td><td>8.2        </td><td>8.2        </td><td>8.1        </td><td>7.9        </td><td>8.0        </td><td>8.0        </td><td>8.2        </td><td>SPEZIALE   </td></tr>\n",
       "\t<tr><th scope=row>SPONZO,M.J.</th><td> 6.9       </td><td>8.3        </td><td>8.0        </td><td>8.1        </td><td>7.9        </td><td>7.9        </td><td>7.9        </td><td>7.7        </td><td>7.6        </td><td>7.7        </td><td>8.1        </td><td>8.0        </td><td>SPONZO     </td></tr>\n",
       "\t<tr><th scope=row>STAPLETON,J.F.</th><td> 6.5       </td><td>8.2        </td><td>7.7        </td><td>7.8        </td><td>7.6        </td><td>7.7        </td><td>7.7        </td><td>7.7        </td><td>7.5        </td><td>7.6        </td><td>8.5        </td><td>7.7        </td><td>STAPLETON  </td></tr>\n",
       "\t<tr><th scope=row>TESTO,R.J.</th><td> 8.3       </td><td>7.3        </td><td>7.0        </td><td>6.8        </td><td>7.0        </td><td>7.1        </td><td>6.7        </td><td>6.7        </td><td>6.7        </td><td>6.7        </td><td>8.0        </td><td>7.0        </td><td>TESTO      </td></tr>\n",
       "\t<tr><th scope=row>TIERNEY,W.L.JR.</th><td> 8.3       </td><td>8.2        </td><td>7.8        </td><td>8.3        </td><td>8.4        </td><td>8.3        </td><td>7.7        </td><td>7.6        </td><td>7.5        </td><td>7.7        </td><td>8.1        </td><td>7.9        </td><td>TIERNEY    </td></tr>\n",
       "\t<tr><th scope=row>WALL,R.A.</th><td> 9.0       </td><td>7.0        </td><td>5.9        </td><td>7.0        </td><td>7.0        </td><td>7.2        </td><td>6.9        </td><td>6.9        </td><td>6.5        </td><td>6.6        </td><td>7.6        </td><td>6.6        </td><td>WALL       </td></tr>\n",
       "\t<tr><th scope=row>WRIGHT,D.B.</th><td> 7.1       </td><td>8.4        </td><td>8.4        </td><td>7.7        </td><td>7.5        </td><td>7.7        </td><td>7.8        </td><td>8.2        </td><td>8.0        </td><td>8.1        </td><td>8.3        </td><td>8.1        </td><td>WRIGHT     </td></tr>\n",
       "\t<tr><th scope=row>ZARRILLI,K.J.</th><td> 8.6       </td><td>7.4        </td><td>7.0        </td><td>7.5        </td><td>7.5        </td><td>7.7        </td><td>7.4        </td><td>7.2        </td><td>6.9        </td><td>7.0        </td><td>7.8        </td><td>7.1        </td><td>ZARRILLI   </td></tr>\n",
       "</tbody>\n",
       "</table>\n"
      ],
      "text/latex": [
       "\\begin{tabular}{r|lllllllllllll}\n",
       "  & CONT & INTG & DMNR & DILG & CFMG & DECI & PREP & FAMI & ORAL & WRIT & PHYS & RTEN & names\\\\\n",
       "\\hline\n",
       "\tAARONSON,L.H. &  5.7        & 7.9         & 7.7         & 7.3         & 7.1         & 7.4         & 7.1         & 7.1         & 7.1         & 7.0         & 8.3         & 7.8         & AARONSON   \\\\\n",
       "\tALEXANDER,J.M. &  6.8        & 8.9         & 8.8         & 8.5         & 7.8         & 8.1         & 8.0         & 8.0         & 7.8         & 7.9         & 8.5         & 8.7         & ALEXANDER  \\\\\n",
       "\tARMENTANO,A.J. &  7.2        & 8.1         & 7.8         & 7.8         & 7.5         & 7.6         & 7.5         & 7.5         & 7.3         & 7.4         & 7.9         & 7.8         & ARMENTANO  \\\\\n",
       "\tBERDON,R.I. &  6.8        & 8.8         & 8.5         & 8.8         & 8.3         & 8.5         & 8.7         & 8.7         & 8.4         & 8.5         & 8.8         & 8.7         & BERDON     \\\\\n",
       "\tBRACKEN,J.J. &  7.3        & 6.4         & 4.3         & 6.5         & 6.0         & 6.2         & 5.7         & 5.7         & 5.1         & 5.3         & 5.5         & 4.8         & BRACKEN    \\\\\n",
       "\tBURNS,E.B. &  6.2        & 8.8         & 8.7         & 8.5         & 7.9         & 8.0         & 8.1         & 8.0         & 8.0         & 8.0         & 8.6         & 8.6         & BURNS      \\\\\n",
       "\tCALLAHAN,R.J. & 10.6        & 9.0         & 8.9         & 8.7         & 8.5         & 8.5         & 8.5         & 8.5         & 8.6         & 8.4         & 9.1         & 9.0         & CALLAHAN   \\\\\n",
       "\tCOHEN,S.S. &  7.0        & 5.9         & 4.9         & 5.1         & 5.4         & 5.9         & 4.8         & 5.1         & 4.7         & 4.9         & 6.8         & 5.0         & COHEN      \\\\\n",
       "\tDALY,J.J. &  7.3        & 8.9         & 8.9         & 8.7         & 8.6         & 8.5         & 8.4         & 8.4         & 8.4         & 8.5         & 8.8         & 8.8         & DALY       \\\\\n",
       "\tDANNEHY,J.F. &  8.2        & 7.9         & 6.7         & 8.1         & 7.9         & 8.0         & 7.9         & 8.1         & 7.7         & 7.8         & 8.5         & 7.9         & DANNEHY    \\\\\n",
       "\tDEAN,H.H. &  7.0        & 8.0         & 7.6         & 7.4         & 7.3         & 7.5         & 7.1         & 7.2         & 7.1         & 7.2         & 8.4         & 7.7         & DEAN       \\\\\n",
       "\tDEVITA,H.J. &  6.5        & 8.0         & 7.6         & 7.2         & 7.0         & 7.1         & 6.9         & 7.0         & 7.0         & 7.1         & 6.9         & 7.2         & DEVITA     \\\\\n",
       "\tDRISCOLL,P.J. &  6.7        & 8.6         & 8.2         & 6.8         & 6.9         & 6.6         & 7.1         & 7.3         & 7.2         & 7.2         & 8.1         & 7.7         & DRISCOLL   \\\\\n",
       "\tGRILLO,A.E. &  7.0        & 7.5         & 6.4         & 6.8         & 6.5         & 7.0         & 6.6         & 6.8         & 6.3         & 6.6         & 6.2         & 6.5         & GRILLO     \\\\\n",
       "\tHADDEN,W.L.JR. &  6.5        & 8.1         & 8.0         & 8.0         & 7.9         & 8.0         & 7.9         & 7.8         & 7.8         & 7.8         & 8.4         & 8.0         & HADDEN     \\\\\n",
       "\tHAMILL,E.C. &  7.3        & 8.0         & 7.4         & 7.7         & 7.3         & 7.3         & 7.3         & 7.2         & 7.1         & 7.2         & 8.0         & 7.6         & HAMILL     \\\\\n",
       "\tHEALEY.A.H. &  8.0        & 7.6         & 6.6         & 7.2         & 6.5         & 6.5         & 6.8         & 6.7         & 6.4         & 6.5         & 6.9         & 6.7         & HEALEY.A.H.\\\\\n",
       "\tHULL,T.C. &  7.7        & 7.7         & 6.7         & 7.5         & 7.4         & 7.5         & 7.1         & 7.3         & 7.1         & 7.3         & 8.1         & 7.4         & HULL       \\\\\n",
       "\tLEVINE,I. &  8.3        & 8.2         & 7.4         & 7.8         & 7.7         & 7.7         & 7.7         & 7.8         & 7.5         & 7.6         & 8.0         & 8.0         & LEVINE     \\\\\n",
       "\tLEVISTER,R.L. &  9.6        & 6.9         & 5.7         & 6.6         & 6.9         & 6.6         & 6.2         & 6.0         & 5.8         & 5.8         & 7.2         & 6.0         & LEVISTER   \\\\\n",
       "\tMARTIN,L.F. &  7.1        & 8.2         & 7.7         & 7.1         & 6.6         & 6.6         & 6.7         & 6.7         & 6.8         & 6.8         & 7.5         & 7.3         & MARTIN     \\\\\n",
       "\tMCGRATH,J.F. &  7.6        & 7.3         & 6.9         & 6.8         & 6.7         & 6.8         & 6.4         & 6.3         & 6.3         & 6.3         & 7.4         & 6.6         & MCGRATH    \\\\\n",
       "\tMIGNONE,A.F. &  6.6        & 7.4         & 6.2         & 6.2         & 5.4         & 5.7         & 5.8         & 5.9         & 5.2         & 5.8         & 4.7         & 5.2         & MIGNONE    \\\\\n",
       "\tMISSAL,H.M. &  6.2        & 8.3         & 8.1         & 7.7         & 7.4         & 7.3         & 7.3         & 7.3         & 7.2         & 7.3         & 7.8         & 7.6         & MISSAL     \\\\\n",
       "\tMULVEY,H.M. &  7.5        & 8.7         & 8.5         & 8.6         & 8.5         & 8.4         & 8.5         & 8.5         & 8.4         & 8.4         & 8.7         & 8.7         & MULVEY     \\\\\n",
       "\tNARUK,H.J. &  7.8        & 8.9         & 8.7         & 8.9         & 8.7         & 8.8         & 8.9         & 9.0         & 8.8         & 8.9         & 9.0         & 9.0         & NARUK      \\\\\n",
       "\tO'BRIEN,F.J. &  7.1        & 8.5         & 8.3         & 8.0         & 7.9         & 7.9         & 7.8         & 7.8         & 7.8         & 7.7         & 8.3         & 8.2         & O'BRIEN    \\\\\n",
       "\tO'SULLIVAN,T.J. &  7.5        & 9.0         & 8.9         & 8.7         & 8.4         & 8.5         & 8.4         & 8.3         & 8.3         & 8.3         & 8.8         & 8.7         & O'SULLIVAN \\\\\n",
       "\tPASKEY,L. &  7.5        & 8.1         & 7.7         & 8.2         & 8.0         & 8.1         & 8.2         & 8.4         & 8.0         & 8.1         & 8.4         & 8.1         & PASKEY     \\\\\n",
       "\tRUBINOW,J.E. &  7.1        & 9.2         & 9.0         & 9.0         & 8.4         & 8.6         & 9.1         & 9.1         & 8.9         & 9.0         & 8.9         & 9.2         & RUBINOW    \\\\\n",
       "\tSADEN.G.A. &  6.6        & 7.4         & 6.9         & 8.4         & 8.0         & 7.9         & 8.2         & 8.4         & 7.7         & 7.9         & 8.4         & 7.5         & SADEN.G.A. \\\\\n",
       "\tSATANIELLO,A.G. &  8.4        & 8.0         & 7.9         & 7.9         & 7.8         & 7.8         & 7.6         & 7.4         & 7.4         & 7.4         & 8.1         & 7.9         & SATANIELLO \\\\\n",
       "\tSHEA,D.M. &  6.9        & 8.5         & 7.8         & 8.5         & 8.1         & 8.2         & 8.4         & 8.5         & 8.1         & 8.3         & 8.7         & 8.3         & SHEA       \\\\\n",
       "\tSHEA,J.F.JR. &  7.3        & 8.9         & 8.8         & 8.7         & 8.4         & 8.5         & 8.5         & 8.5         & 8.4         & 8.4         & 8.8         & 8.8         & SHEA       \\\\\n",
       "\tSIDOR,W.J. &  7.7        & 6.2         & 5.1         & 5.6         & 5.6         & 5.9         & 5.6         & 5.6         & 5.3         & 5.5         & 6.3         & 5.3         & SIDOR      \\\\\n",
       "\tSPEZIALE,J.A. &  8.5        & 8.3         & 8.1         & 8.3         & 8.4         & 8.2         & 8.2         & 8.1         & 7.9         & 8.0         & 8.0         & 8.2         & SPEZIALE   \\\\\n",
       "\tSPONZO,M.J. &  6.9        & 8.3         & 8.0         & 8.1         & 7.9         & 7.9         & 7.9         & 7.7         & 7.6         & 7.7         & 8.1         & 8.0         & SPONZO     \\\\\n",
       "\tSTAPLETON,J.F. &  6.5        & 8.2         & 7.7         & 7.8         & 7.6         & 7.7         & 7.7         & 7.7         & 7.5         & 7.6         & 8.5         & 7.7         & STAPLETON  \\\\\n",
       "\tTESTO,R.J. &  8.3        & 7.3         & 7.0         & 6.8         & 7.0         & 7.1         & 6.7         & 6.7         & 6.7         & 6.7         & 8.0         & 7.0         & TESTO      \\\\\n",
       "\tTIERNEY,W.L.JR. &  8.3        & 8.2         & 7.8         & 8.3         & 8.4         & 8.3         & 7.7         & 7.6         & 7.5         & 7.7         & 8.1         & 7.9         & TIERNEY    \\\\\n",
       "\tWALL,R.A. &  9.0        & 7.0         & 5.9         & 7.0         & 7.0         & 7.2         & 6.9         & 6.9         & 6.5         & 6.6         & 7.6         & 6.6         & WALL       \\\\\n",
       "\tWRIGHT,D.B. &  7.1        & 8.4         & 8.4         & 7.7         & 7.5         & 7.7         & 7.8         & 8.2         & 8.0         & 8.1         & 8.3         & 8.1         & WRIGHT     \\\\\n",
       "\tZARRILLI,K.J. &  8.6        & 7.4         & 7.0         & 7.5         & 7.5         & 7.7         & 7.4         & 7.2         & 6.9         & 7.0         & 7.8         & 7.1         & ZARRILLI   \\\\\n",
       "\\end{tabular}\n"
      ],
      "text/markdown": [
       "\n",
       "| <!--/--> | CONT | INTG | DMNR | DILG | CFMG | DECI | PREP | FAMI | ORAL | WRIT | PHYS | RTEN | names |\n",
       "|---|---|---|---|---|---|---|---|---|---|---|---|---|---|\n",
       "| AARONSON,L.H. |  5.7        | 7.9         | 7.7         | 7.3         | 7.1         | 7.4         | 7.1         | 7.1         | 7.1         | 7.0         | 8.3         | 7.8         | AARONSON    |\n",
       "| ALEXANDER,J.M. |  6.8        | 8.9         | 8.8         | 8.5         | 7.8         | 8.1         | 8.0         | 8.0         | 7.8         | 7.9         | 8.5         | 8.7         | ALEXANDER   |\n",
       "| ARMENTANO,A.J. |  7.2        | 8.1         | 7.8         | 7.8         | 7.5         | 7.6         | 7.5         | 7.5         | 7.3         | 7.4         | 7.9         | 7.8         | ARMENTANO   |\n",
       "| BERDON,R.I. |  6.8        | 8.8         | 8.5         | 8.8         | 8.3         | 8.5         | 8.7         | 8.7         | 8.4         | 8.5         | 8.8         | 8.7         | BERDON      |\n",
       "| BRACKEN,J.J. |  7.3        | 6.4         | 4.3         | 6.5         | 6.0         | 6.2         | 5.7         | 5.7         | 5.1         | 5.3         | 5.5         | 4.8         | BRACKEN     |\n",
       "| BURNS,E.B. |  6.2        | 8.8         | 8.7         | 8.5         | 7.9         | 8.0         | 8.1         | 8.0         | 8.0         | 8.0         | 8.6         | 8.6         | BURNS       |\n",
       "| CALLAHAN,R.J. | 10.6        | 9.0         | 8.9         | 8.7         | 8.5         | 8.5         | 8.5         | 8.5         | 8.6         | 8.4         | 9.1         | 9.0         | CALLAHAN    |\n",
       "| COHEN,S.S. |  7.0        | 5.9         | 4.9         | 5.1         | 5.4         | 5.9         | 4.8         | 5.1         | 4.7         | 4.9         | 6.8         | 5.0         | COHEN       |\n",
       "| DALY,J.J. |  7.3        | 8.9         | 8.9         | 8.7         | 8.6         | 8.5         | 8.4         | 8.4         | 8.4         | 8.5         | 8.8         | 8.8         | DALY        |\n",
       "| DANNEHY,J.F. |  8.2        | 7.9         | 6.7         | 8.1         | 7.9         | 8.0         | 7.9         | 8.1         | 7.7         | 7.8         | 8.5         | 7.9         | DANNEHY     |\n",
       "| DEAN,H.H. |  7.0        | 8.0         | 7.6         | 7.4         | 7.3         | 7.5         | 7.1         | 7.2         | 7.1         | 7.2         | 8.4         | 7.7         | DEAN        |\n",
       "| DEVITA,H.J. |  6.5        | 8.0         | 7.6         | 7.2         | 7.0         | 7.1         | 6.9         | 7.0         | 7.0         | 7.1         | 6.9         | 7.2         | DEVITA      |\n",
       "| DRISCOLL,P.J. |  6.7        | 8.6         | 8.2         | 6.8         | 6.9         | 6.6         | 7.1         | 7.3         | 7.2         | 7.2         | 8.1         | 7.7         | DRISCOLL    |\n",
       "| GRILLO,A.E. |  7.0        | 7.5         | 6.4         | 6.8         | 6.5         | 7.0         | 6.6         | 6.8         | 6.3         | 6.6         | 6.2         | 6.5         | GRILLO      |\n",
       "| HADDEN,W.L.JR. |  6.5        | 8.1         | 8.0         | 8.0         | 7.9         | 8.0         | 7.9         | 7.8         | 7.8         | 7.8         | 8.4         | 8.0         | HADDEN      |\n",
       "| HAMILL,E.C. |  7.3        | 8.0         | 7.4         | 7.7         | 7.3         | 7.3         | 7.3         | 7.2         | 7.1         | 7.2         | 8.0         | 7.6         | HAMILL      |\n",
       "| HEALEY.A.H. |  8.0        | 7.6         | 6.6         | 7.2         | 6.5         | 6.5         | 6.8         | 6.7         | 6.4         | 6.5         | 6.9         | 6.7         | HEALEY.A.H. |\n",
       "| HULL,T.C. |  7.7        | 7.7         | 6.7         | 7.5         | 7.4         | 7.5         | 7.1         | 7.3         | 7.1         | 7.3         | 8.1         | 7.4         | HULL        |\n",
       "| LEVINE,I. |  8.3        | 8.2         | 7.4         | 7.8         | 7.7         | 7.7         | 7.7         | 7.8         | 7.5         | 7.6         | 8.0         | 8.0         | LEVINE      |\n",
       "| LEVISTER,R.L. |  9.6        | 6.9         | 5.7         | 6.6         | 6.9         | 6.6         | 6.2         | 6.0         | 5.8         | 5.8         | 7.2         | 6.0         | LEVISTER    |\n",
       "| MARTIN,L.F. |  7.1        | 8.2         | 7.7         | 7.1         | 6.6         | 6.6         | 6.7         | 6.7         | 6.8         | 6.8         | 7.5         | 7.3         | MARTIN      |\n",
       "| MCGRATH,J.F. |  7.6        | 7.3         | 6.9         | 6.8         | 6.7         | 6.8         | 6.4         | 6.3         | 6.3         | 6.3         | 7.4         | 6.6         | MCGRATH     |\n",
       "| MIGNONE,A.F. |  6.6        | 7.4         | 6.2         | 6.2         | 5.4         | 5.7         | 5.8         | 5.9         | 5.2         | 5.8         | 4.7         | 5.2         | MIGNONE     |\n",
       "| MISSAL,H.M. |  6.2        | 8.3         | 8.1         | 7.7         | 7.4         | 7.3         | 7.3         | 7.3         | 7.2         | 7.3         | 7.8         | 7.6         | MISSAL      |\n",
       "| MULVEY,H.M. |  7.5        | 8.7         | 8.5         | 8.6         | 8.5         | 8.4         | 8.5         | 8.5         | 8.4         | 8.4         | 8.7         | 8.7         | MULVEY      |\n",
       "| NARUK,H.J. |  7.8        | 8.9         | 8.7         | 8.9         | 8.7         | 8.8         | 8.9         | 9.0         | 8.8         | 8.9         | 9.0         | 9.0         | NARUK       |\n",
       "| O'BRIEN,F.J. |  7.1        | 8.5         | 8.3         | 8.0         | 7.9         | 7.9         | 7.8         | 7.8         | 7.8         | 7.7         | 8.3         | 8.2         | O'BRIEN     |\n",
       "| O'SULLIVAN,T.J. |  7.5        | 9.0         | 8.9         | 8.7         | 8.4         | 8.5         | 8.4         | 8.3         | 8.3         | 8.3         | 8.8         | 8.7         | O'SULLIVAN  |\n",
       "| PASKEY,L. |  7.5        | 8.1         | 7.7         | 8.2         | 8.0         | 8.1         | 8.2         | 8.4         | 8.0         | 8.1         | 8.4         | 8.1         | PASKEY      |\n",
       "| RUBINOW,J.E. |  7.1        | 9.2         | 9.0         | 9.0         | 8.4         | 8.6         | 9.1         | 9.1         | 8.9         | 9.0         | 8.9         | 9.2         | RUBINOW     |\n",
       "| SADEN.G.A. |  6.6        | 7.4         | 6.9         | 8.4         | 8.0         | 7.9         | 8.2         | 8.4         | 7.7         | 7.9         | 8.4         | 7.5         | SADEN.G.A.  |\n",
       "| SATANIELLO,A.G. |  8.4        | 8.0         | 7.9         | 7.9         | 7.8         | 7.8         | 7.6         | 7.4         | 7.4         | 7.4         | 8.1         | 7.9         | SATANIELLO  |\n",
       "| SHEA,D.M. |  6.9        | 8.5         | 7.8         | 8.5         | 8.1         | 8.2         | 8.4         | 8.5         | 8.1         | 8.3         | 8.7         | 8.3         | SHEA        |\n",
       "| SHEA,J.F.JR. |  7.3        | 8.9         | 8.8         | 8.7         | 8.4         | 8.5         | 8.5         | 8.5         | 8.4         | 8.4         | 8.8         | 8.8         | SHEA        |\n",
       "| SIDOR,W.J. |  7.7        | 6.2         | 5.1         | 5.6         | 5.6         | 5.9         | 5.6         | 5.6         | 5.3         | 5.5         | 6.3         | 5.3         | SIDOR       |\n",
       "| SPEZIALE,J.A. |  8.5        | 8.3         | 8.1         | 8.3         | 8.4         | 8.2         | 8.2         | 8.1         | 7.9         | 8.0         | 8.0         | 8.2         | SPEZIALE    |\n",
       "| SPONZO,M.J. |  6.9        | 8.3         | 8.0         | 8.1         | 7.9         | 7.9         | 7.9         | 7.7         | 7.6         | 7.7         | 8.1         | 8.0         | SPONZO      |\n",
       "| STAPLETON,J.F. |  6.5        | 8.2         | 7.7         | 7.8         | 7.6         | 7.7         | 7.7         | 7.7         | 7.5         | 7.6         | 8.5         | 7.7         | STAPLETON   |\n",
       "| TESTO,R.J. |  8.3        | 7.3         | 7.0         | 6.8         | 7.0         | 7.1         | 6.7         | 6.7         | 6.7         | 6.7         | 8.0         | 7.0         | TESTO       |\n",
       "| TIERNEY,W.L.JR. |  8.3        | 8.2         | 7.8         | 8.3         | 8.4         | 8.3         | 7.7         | 7.6         | 7.5         | 7.7         | 8.1         | 7.9         | TIERNEY     |\n",
       "| WALL,R.A. |  9.0        | 7.0         | 5.9         | 7.0         | 7.0         | 7.2         | 6.9         | 6.9         | 6.5         | 6.6         | 7.6         | 6.6         | WALL        |\n",
       "| WRIGHT,D.B. |  7.1        | 8.4         | 8.4         | 7.7         | 7.5         | 7.7         | 7.8         | 8.2         | 8.0         | 8.1         | 8.3         | 8.1         | WRIGHT      |\n",
       "| ZARRILLI,K.J. |  8.6        | 7.4         | 7.0         | 7.5         | 7.5         | 7.7         | 7.4         | 7.2         | 6.9         | 7.0         | 7.8         | 7.1         | ZARRILLI    |\n",
       "\n"
      ],
      "text/plain": [
       "                CONT INTG DMNR DILG CFMG DECI PREP FAMI ORAL WRIT PHYS RTEN\n",
       "AARONSON,L.H.    5.7 7.9  7.7  7.3  7.1  7.4  7.1  7.1  7.1  7.0  8.3  7.8 \n",
       "ALEXANDER,J.M.   6.8 8.9  8.8  8.5  7.8  8.1  8.0  8.0  7.8  7.9  8.5  8.7 \n",
       "ARMENTANO,A.J.   7.2 8.1  7.8  7.8  7.5  7.6  7.5  7.5  7.3  7.4  7.9  7.8 \n",
       "BERDON,R.I.      6.8 8.8  8.5  8.8  8.3  8.5  8.7  8.7  8.4  8.5  8.8  8.7 \n",
       "BRACKEN,J.J.     7.3 6.4  4.3  6.5  6.0  6.2  5.7  5.7  5.1  5.3  5.5  4.8 \n",
       "BURNS,E.B.       6.2 8.8  8.7  8.5  7.9  8.0  8.1  8.0  8.0  8.0  8.6  8.6 \n",
       "CALLAHAN,R.J.   10.6 9.0  8.9  8.7  8.5  8.5  8.5  8.5  8.6  8.4  9.1  9.0 \n",
       "COHEN,S.S.       7.0 5.9  4.9  5.1  5.4  5.9  4.8  5.1  4.7  4.9  6.8  5.0 \n",
       "DALY,J.J.        7.3 8.9  8.9  8.7  8.6  8.5  8.4  8.4  8.4  8.5  8.8  8.8 \n",
       "DANNEHY,J.F.     8.2 7.9  6.7  8.1  7.9  8.0  7.9  8.1  7.7  7.8  8.5  7.9 \n",
       "DEAN,H.H.        7.0 8.0  7.6  7.4  7.3  7.5  7.1  7.2  7.1  7.2  8.4  7.7 \n",
       "DEVITA,H.J.      6.5 8.0  7.6  7.2  7.0  7.1  6.9  7.0  7.0  7.1  6.9  7.2 \n",
       "DRISCOLL,P.J.    6.7 8.6  8.2  6.8  6.9  6.6  7.1  7.3  7.2  7.2  8.1  7.7 \n",
       "GRILLO,A.E.      7.0 7.5  6.4  6.8  6.5  7.0  6.6  6.8  6.3  6.6  6.2  6.5 \n",
       "HADDEN,W.L.JR.   6.5 8.1  8.0  8.0  7.9  8.0  7.9  7.8  7.8  7.8  8.4  8.0 \n",
       "HAMILL,E.C.      7.3 8.0  7.4  7.7  7.3  7.3  7.3  7.2  7.1  7.2  8.0  7.6 \n",
       "HEALEY.A.H.      8.0 7.6  6.6  7.2  6.5  6.5  6.8  6.7  6.4  6.5  6.9  6.7 \n",
       "HULL,T.C.        7.7 7.7  6.7  7.5  7.4  7.5  7.1  7.3  7.1  7.3  8.1  7.4 \n",
       "LEVINE,I.        8.3 8.2  7.4  7.8  7.7  7.7  7.7  7.8  7.5  7.6  8.0  8.0 \n",
       "LEVISTER,R.L.    9.6 6.9  5.7  6.6  6.9  6.6  6.2  6.0  5.8  5.8  7.2  6.0 \n",
       "MARTIN,L.F.      7.1 8.2  7.7  7.1  6.6  6.6  6.7  6.7  6.8  6.8  7.5  7.3 \n",
       "MCGRATH,J.F.     7.6 7.3  6.9  6.8  6.7  6.8  6.4  6.3  6.3  6.3  7.4  6.6 \n",
       "MIGNONE,A.F.     6.6 7.4  6.2  6.2  5.4  5.7  5.8  5.9  5.2  5.8  4.7  5.2 \n",
       "MISSAL,H.M.      6.2 8.3  8.1  7.7  7.4  7.3  7.3  7.3  7.2  7.3  7.8  7.6 \n",
       "MULVEY,H.M.      7.5 8.7  8.5  8.6  8.5  8.4  8.5  8.5  8.4  8.4  8.7  8.7 \n",
       "NARUK,H.J.       7.8 8.9  8.7  8.9  8.7  8.8  8.9  9.0  8.8  8.9  9.0  9.0 \n",
       "O'BRIEN,F.J.     7.1 8.5  8.3  8.0  7.9  7.9  7.8  7.8  7.8  7.7  8.3  8.2 \n",
       "O'SULLIVAN,T.J.  7.5 9.0  8.9  8.7  8.4  8.5  8.4  8.3  8.3  8.3  8.8  8.7 \n",
       "PASKEY,L.        7.5 8.1  7.7  8.2  8.0  8.1  8.2  8.4  8.0  8.1  8.4  8.1 \n",
       "RUBINOW,J.E.     7.1 9.2  9.0  9.0  8.4  8.6  9.1  9.1  8.9  9.0  8.9  9.2 \n",
       "SADEN.G.A.       6.6 7.4  6.9  8.4  8.0  7.9  8.2  8.4  7.7  7.9  8.4  7.5 \n",
       "SATANIELLO,A.G.  8.4 8.0  7.9  7.9  7.8  7.8  7.6  7.4  7.4  7.4  8.1  7.9 \n",
       "SHEA,D.M.        6.9 8.5  7.8  8.5  8.1  8.2  8.4  8.5  8.1  8.3  8.7  8.3 \n",
       "SHEA,J.F.JR.     7.3 8.9  8.8  8.7  8.4  8.5  8.5  8.5  8.4  8.4  8.8  8.8 \n",
       "SIDOR,W.J.       7.7 6.2  5.1  5.6  5.6  5.9  5.6  5.6  5.3  5.5  6.3  5.3 \n",
       "SPEZIALE,J.A.    8.5 8.3  8.1  8.3  8.4  8.2  8.2  8.1  7.9  8.0  8.0  8.2 \n",
       "SPONZO,M.J.      6.9 8.3  8.0  8.1  7.9  7.9  7.9  7.7  7.6  7.7  8.1  8.0 \n",
       "STAPLETON,J.F.   6.5 8.2  7.7  7.8  7.6  7.7  7.7  7.7  7.5  7.6  8.5  7.7 \n",
       "TESTO,R.J.       8.3 7.3  7.0  6.8  7.0  7.1  6.7  6.7  6.7  6.7  8.0  7.0 \n",
       "TIERNEY,W.L.JR.  8.3 8.2  7.8  8.3  8.4  8.3  7.7  7.6  7.5  7.7  8.1  7.9 \n",
       "WALL,R.A.        9.0 7.0  5.9  7.0  7.0  7.2  6.9  6.9  6.5  6.6  7.6  6.6 \n",
       "WRIGHT,D.B.      7.1 8.4  8.4  7.7  7.5  7.7  7.8  8.2  8.0  8.1  8.3  8.1 \n",
       "ZARRILLI,K.J.    8.6 7.4  7.0  7.5  7.5  7.7  7.4  7.2  6.9  7.0  7.8  7.1 \n",
       "                names      \n",
       "AARONSON,L.H.   AARONSON   \n",
       "ALEXANDER,J.M.  ALEXANDER  \n",
       "ARMENTANO,A.J.  ARMENTANO  \n",
       "BERDON,R.I.     BERDON     \n",
       "BRACKEN,J.J.    BRACKEN    \n",
       "BURNS,E.B.      BURNS      \n",
       "CALLAHAN,R.J.   CALLAHAN   \n",
       "COHEN,S.S.      COHEN      \n",
       "DALY,J.J.       DALY       \n",
       "DANNEHY,J.F.    DANNEHY    \n",
       "DEAN,H.H.       DEAN       \n",
       "DEVITA,H.J.     DEVITA     \n",
       "DRISCOLL,P.J.   DRISCOLL   \n",
       "GRILLO,A.E.     GRILLO     \n",
       "HADDEN,W.L.JR.  HADDEN     \n",
       "HAMILL,E.C.     HAMILL     \n",
       "HEALEY.A.H.     HEALEY.A.H.\n",
       "HULL,T.C.       HULL       \n",
       "LEVINE,I.       LEVINE     \n",
       "LEVISTER,R.L.   LEVISTER   \n",
       "MARTIN,L.F.     MARTIN     \n",
       "MCGRATH,J.F.    MCGRATH    \n",
       "MIGNONE,A.F.    MIGNONE    \n",
       "MISSAL,H.M.     MISSAL     \n",
       "MULVEY,H.M.     MULVEY     \n",
       "NARUK,H.J.      NARUK      \n",
       "O'BRIEN,F.J.    O'BRIEN    \n",
       "O'SULLIVAN,T.J. O'SULLIVAN \n",
       "PASKEY,L.       PASKEY     \n",
       "RUBINOW,J.E.    RUBINOW    \n",
       "SADEN.G.A.      SADEN.G.A. \n",
       "SATANIELLO,A.G. SATANIELLO \n",
       "SHEA,D.M.       SHEA       \n",
       "SHEA,J.F.JR.    SHEA       \n",
       "SIDOR,W.J.      SIDOR      \n",
       "SPEZIALE,J.A.   SPEZIALE   \n",
       "SPONZO,M.J.     SPONZO     \n",
       "STAPLETON,J.F.  STAPLETON  \n",
       "TESTO,R.J.      TESTO      \n",
       "TIERNEY,W.L.JR. TIERNEY    \n",
       "WALL,R.A.       WALL       \n",
       "WRIGHT,D.B.     WRIGHT     \n",
       "ZARRILLI,K.J.   ZARRILLI   "
      ]
     },
     "metadata": {},
     "output_type": "display_data"
    }
   ],
   "source": [
    "x$names=row.names(USJudgeRatings)\n",
    "xr=sub(\",.*\", \" \", x$names) #By 13th column\n",
    "xr=sub(\",\", \" \",xr)\n",
    "x$names=xr\n",
    "x"
   ]
  },
  {
   "cell_type": "code",
   "execution_count": 17,
   "metadata": {},
   "outputs": [],
   "source": [
    "rm(USJudgeRatings)#Remove \"USJudgeRatings\" file"
   ]
  },
  {
   "cell_type": "code",
   "execution_count": 18,
   "metadata": {},
   "outputs": [
    {
     "data": {
      "text/html": [
       "<table>\n",
       "<thead><tr><th></th><th scope=col>CONT</th><th scope=col>INTG</th><th scope=col>DMNR</th><th scope=col>DILG</th><th scope=col>CFMG</th><th scope=col>DECI</th><th scope=col>PREP</th><th scope=col>FAMI</th><th scope=col>ORAL</th><th scope=col>WRIT</th><th scope=col>PHYS</th><th scope=col>RTEN</th><th scope=col>names</th></tr></thead>\n",
       "<tbody>\n",
       "\t<tr><th scope=row>AARONSON,L.H.</th><td> 5.7       </td><td>7.9        </td><td>7.7        </td><td>7.3        </td><td>7.1        </td><td>7.4        </td><td>7.1        </td><td>7.1        </td><td>7.1        </td><td>7.0        </td><td>8.3        </td><td>7.8        </td><td>AARONSON   </td></tr>\n",
       "\t<tr><th scope=row>ALEXANDER,J.M.</th><td> 6.8       </td><td>8.9        </td><td>8.8        </td><td>8.5        </td><td>7.8        </td><td>8.1        </td><td>8.0        </td><td>8.0        </td><td>7.8        </td><td>7.9        </td><td>8.5        </td><td>8.7        </td><td>ALEXANDER  </td></tr>\n",
       "\t<tr><th scope=row>ARMENTANO,A.J.</th><td> 7.2       </td><td>8.1        </td><td>7.8        </td><td>7.8        </td><td>7.5        </td><td>7.6        </td><td>7.5        </td><td>7.5        </td><td>7.3        </td><td>7.4        </td><td>7.9        </td><td>7.8        </td><td>ARMENTANO  </td></tr>\n",
       "\t<tr><th scope=row>BERDON,R.I.</th><td> 6.8       </td><td>8.8        </td><td>8.5        </td><td>8.8        </td><td>8.3        </td><td>8.5        </td><td>8.7        </td><td>8.7        </td><td>8.4        </td><td>8.5        </td><td>8.8        </td><td>8.7        </td><td>BERDON     </td></tr>\n",
       "\t<tr><th scope=row>BRACKEN,J.J.</th><td> 7.3       </td><td>6.4        </td><td>4.3        </td><td>6.5        </td><td>6.0        </td><td>6.2        </td><td>5.7        </td><td>5.7        </td><td>5.1        </td><td>5.3        </td><td>5.5        </td><td>4.8        </td><td>BRACKEN    </td></tr>\n",
       "\t<tr><th scope=row>BURNS,E.B.</th><td> 6.2       </td><td>8.8        </td><td>8.7        </td><td>8.5        </td><td>7.9        </td><td>8.0        </td><td>8.1        </td><td>8.0        </td><td>8.0        </td><td>8.0        </td><td>8.6        </td><td>8.6        </td><td>BURNS      </td></tr>\n",
       "\t<tr><th scope=row>CALLAHAN,R.J.</th><td>10.6       </td><td>9.0        </td><td>8.9        </td><td>8.7        </td><td>8.5        </td><td>8.5        </td><td>8.5        </td><td>8.5        </td><td>8.6        </td><td>8.4        </td><td>9.1        </td><td>9.0        </td><td>CALLAHAN   </td></tr>\n",
       "\t<tr><th scope=row>COHEN,S.S.</th><td> 7.0       </td><td>5.9        </td><td>4.9        </td><td>5.1        </td><td>5.4        </td><td>5.9        </td><td>4.8        </td><td>5.1        </td><td>4.7        </td><td>4.9        </td><td>6.8        </td><td>5.0        </td><td>COHEN      </td></tr>\n",
       "\t<tr><th scope=row>DALY,J.J.</th><td> 7.3       </td><td>8.9        </td><td>8.9        </td><td>8.7        </td><td>8.6        </td><td>8.5        </td><td>8.4        </td><td>8.4        </td><td>8.4        </td><td>8.5        </td><td>8.8        </td><td>8.8        </td><td>DALY       </td></tr>\n",
       "\t<tr><th scope=row>DANNEHY,J.F.</th><td> 8.2       </td><td>7.9        </td><td>6.7        </td><td>8.1        </td><td>7.9        </td><td>8.0        </td><td>7.9        </td><td>8.1        </td><td>7.7        </td><td>7.8        </td><td>8.5        </td><td>7.9        </td><td>DANNEHY    </td></tr>\n",
       "\t<tr><th scope=row>DEAN,H.H.</th><td> 7.0       </td><td>8.0        </td><td>7.6        </td><td>7.4        </td><td>7.3        </td><td>7.5        </td><td>7.1        </td><td>7.2        </td><td>7.1        </td><td>7.2        </td><td>8.4        </td><td>7.7        </td><td>DEAN       </td></tr>\n",
       "\t<tr><th scope=row>DEVITA,H.J.</th><td> 6.5       </td><td>8.0        </td><td>7.6        </td><td>7.2        </td><td>7.0        </td><td>7.1        </td><td>6.9        </td><td>7.0        </td><td>7.0        </td><td>7.1        </td><td>6.9        </td><td>7.2        </td><td>DEVITA     </td></tr>\n",
       "\t<tr><th scope=row>DRISCOLL,P.J.</th><td> 6.7       </td><td>8.6        </td><td>8.2        </td><td>6.8        </td><td>6.9        </td><td>6.6        </td><td>7.1        </td><td>7.3        </td><td>7.2        </td><td>7.2        </td><td>8.1        </td><td>7.7        </td><td>DRISCOLL   </td></tr>\n",
       "\t<tr><th scope=row>GRILLO,A.E.</th><td> 7.0       </td><td>7.5        </td><td>6.4        </td><td>6.8        </td><td>6.5        </td><td>7.0        </td><td>6.6        </td><td>6.8        </td><td>6.3        </td><td>6.6        </td><td>6.2        </td><td>6.5        </td><td>GRILLO     </td></tr>\n",
       "\t<tr><th scope=row>HADDEN,W.L.JR.</th><td> 6.5       </td><td>8.1        </td><td>8.0        </td><td>8.0        </td><td>7.9        </td><td>8.0        </td><td>7.9        </td><td>7.8        </td><td>7.8        </td><td>7.8        </td><td>8.4        </td><td>8.0        </td><td>HADDEN     </td></tr>\n",
       "\t<tr><th scope=row>HAMILL,E.C.</th><td> 7.3       </td><td>8.0        </td><td>7.4        </td><td>7.7        </td><td>7.3        </td><td>7.3        </td><td>7.3        </td><td>7.2        </td><td>7.1        </td><td>7.2        </td><td>8.0        </td><td>7.6        </td><td>HAMILL     </td></tr>\n",
       "\t<tr><th scope=row>HEALEY.A.H.</th><td> 8.0       </td><td>7.6        </td><td>6.6        </td><td>7.2        </td><td>6.5        </td><td>6.5        </td><td>6.8        </td><td>6.7        </td><td>6.4        </td><td>6.5        </td><td>6.9        </td><td>6.7        </td><td>HEALEY.A.H.</td></tr>\n",
       "\t<tr><th scope=row>HULL,T.C.</th><td> 7.7       </td><td>7.7        </td><td>6.7        </td><td>7.5        </td><td>7.4        </td><td>7.5        </td><td>7.1        </td><td>7.3        </td><td>7.1        </td><td>7.3        </td><td>8.1        </td><td>7.4        </td><td>HULL       </td></tr>\n",
       "\t<tr><th scope=row>LEVINE,I.</th><td> 8.3       </td><td>8.2        </td><td>7.4        </td><td>7.8        </td><td>7.7        </td><td>7.7        </td><td>7.7        </td><td>7.8        </td><td>7.5        </td><td>7.6        </td><td>8.0        </td><td>8.0        </td><td>LEVINE     </td></tr>\n",
       "\t<tr><th scope=row>LEVISTER,R.L.</th><td> 9.6       </td><td>6.9        </td><td>5.7        </td><td>6.6        </td><td>6.9        </td><td>6.6        </td><td>6.2        </td><td>6.0        </td><td>5.8        </td><td>5.8        </td><td>7.2        </td><td>6.0        </td><td>LEVISTER   </td></tr>\n",
       "\t<tr><th scope=row>MARTIN,L.F.</th><td> 7.1       </td><td>8.2        </td><td>7.7        </td><td>7.1        </td><td>6.6        </td><td>6.6        </td><td>6.7        </td><td>6.7        </td><td>6.8        </td><td>6.8        </td><td>7.5        </td><td>7.3        </td><td>MARTIN     </td></tr>\n",
       "\t<tr><th scope=row>MCGRATH,J.F.</th><td> 7.6       </td><td>7.3        </td><td>6.9        </td><td>6.8        </td><td>6.7        </td><td>6.8        </td><td>6.4        </td><td>6.3        </td><td>6.3        </td><td>6.3        </td><td>7.4        </td><td>6.6        </td><td>MCGRATH    </td></tr>\n",
       "\t<tr><th scope=row>MIGNONE,A.F.</th><td> 6.6       </td><td>7.4        </td><td>6.2        </td><td>6.2        </td><td>5.4        </td><td>5.7        </td><td>5.8        </td><td>5.9        </td><td>5.2        </td><td>5.8        </td><td>4.7        </td><td>5.2        </td><td>MIGNONE    </td></tr>\n",
       "\t<tr><th scope=row>MISSAL,H.M.</th><td> 6.2       </td><td>8.3        </td><td>8.1        </td><td>7.7        </td><td>7.4        </td><td>7.3        </td><td>7.3        </td><td>7.3        </td><td>7.2        </td><td>7.3        </td><td>7.8        </td><td>7.6        </td><td>MISSAL     </td></tr>\n",
       "\t<tr><th scope=row>MULVEY,H.M.</th><td> 7.5       </td><td>8.7        </td><td>8.5        </td><td>8.6        </td><td>8.5        </td><td>8.4        </td><td>8.5        </td><td>8.5        </td><td>8.4        </td><td>8.4        </td><td>8.7        </td><td>8.7        </td><td>MULVEY     </td></tr>\n",
       "\t<tr><th scope=row>NARUK,H.J.</th><td> 7.8       </td><td>8.9        </td><td>8.7        </td><td>8.9        </td><td>8.7        </td><td>8.8        </td><td>8.9        </td><td>9.0        </td><td>8.8        </td><td>8.9        </td><td>9.0        </td><td>9.0        </td><td>NARUK      </td></tr>\n",
       "\t<tr><th scope=row>O'BRIEN,F.J.</th><td> 7.1       </td><td>8.5        </td><td>8.3        </td><td>8.0        </td><td>7.9        </td><td>7.9        </td><td>7.8        </td><td>7.8        </td><td>7.8        </td><td>7.7        </td><td>8.3        </td><td>8.2        </td><td>O'BRIEN    </td></tr>\n",
       "\t<tr><th scope=row>O'SULLIVAN,T.J.</th><td> 7.5       </td><td>9.0        </td><td>8.9        </td><td>8.7        </td><td>8.4        </td><td>8.5        </td><td>8.4        </td><td>8.3        </td><td>8.3        </td><td>8.3        </td><td>8.8        </td><td>8.7        </td><td>O'SULLIVAN </td></tr>\n",
       "\t<tr><th scope=row>PASKEY,L.</th><td> 7.5       </td><td>8.1        </td><td>7.7        </td><td>8.2        </td><td>8.0        </td><td>8.1        </td><td>8.2        </td><td>8.4        </td><td>8.0        </td><td>8.1        </td><td>8.4        </td><td>8.1        </td><td>PASKEY     </td></tr>\n",
       "\t<tr><th scope=row>RUBINOW,J.E.</th><td> 7.1       </td><td>9.2        </td><td>9.0        </td><td>9.0        </td><td>8.4        </td><td>8.6        </td><td>9.1        </td><td>9.1        </td><td>8.9        </td><td>9.0        </td><td>8.9        </td><td>9.2        </td><td>RUBINOW    </td></tr>\n",
       "\t<tr><th scope=row>SADEN.G.A.</th><td> 6.6       </td><td>7.4        </td><td>6.9        </td><td>8.4        </td><td>8.0        </td><td>7.9        </td><td>8.2        </td><td>8.4        </td><td>7.7        </td><td>7.9        </td><td>8.4        </td><td>7.5        </td><td>SADEN.G.A. </td></tr>\n",
       "\t<tr><th scope=row>SATANIELLO,A.G.</th><td> 8.4       </td><td>8.0        </td><td>7.9        </td><td>7.9        </td><td>7.8        </td><td>7.8        </td><td>7.6        </td><td>7.4        </td><td>7.4        </td><td>7.4        </td><td>8.1        </td><td>7.9        </td><td>SATANIELLO </td></tr>\n",
       "\t<tr><th scope=row>SHEA,D.M.</th><td> 6.9       </td><td>8.5        </td><td>7.8        </td><td>8.5        </td><td>8.1        </td><td>8.2        </td><td>8.4        </td><td>8.5        </td><td>8.1        </td><td>8.3        </td><td>8.7        </td><td>8.3        </td><td>SHEA       </td></tr>\n",
       "\t<tr><th scope=row>SHEA,J.F.JR.</th><td> 7.3       </td><td>8.9        </td><td>8.8        </td><td>8.7        </td><td>8.4        </td><td>8.5        </td><td>8.5        </td><td>8.5        </td><td>8.4        </td><td>8.4        </td><td>8.8        </td><td>8.8        </td><td>SHEA       </td></tr>\n",
       "\t<tr><th scope=row>SIDOR,W.J.</th><td> 7.7       </td><td>6.2        </td><td>5.1        </td><td>5.6        </td><td>5.6        </td><td>5.9        </td><td>5.6        </td><td>5.6        </td><td>5.3        </td><td>5.5        </td><td>6.3        </td><td>5.3        </td><td>SIDOR      </td></tr>\n",
       "\t<tr><th scope=row>SPEZIALE,J.A.</th><td> 8.5       </td><td>8.3        </td><td>8.1        </td><td>8.3        </td><td>8.4        </td><td>8.2        </td><td>8.2        </td><td>8.1        </td><td>7.9        </td><td>8.0        </td><td>8.0        </td><td>8.2        </td><td>SPEZIALE   </td></tr>\n",
       "\t<tr><th scope=row>SPONZO,M.J.</th><td> 6.9       </td><td>8.3        </td><td>8.0        </td><td>8.1        </td><td>7.9        </td><td>7.9        </td><td>7.9        </td><td>7.7        </td><td>7.6        </td><td>7.7        </td><td>8.1        </td><td>8.0        </td><td>SPONZO     </td></tr>\n",
       "\t<tr><th scope=row>STAPLETON,J.F.</th><td> 6.5       </td><td>8.2        </td><td>7.7        </td><td>7.8        </td><td>7.6        </td><td>7.7        </td><td>7.7        </td><td>7.7        </td><td>7.5        </td><td>7.6        </td><td>8.5        </td><td>7.7        </td><td>STAPLETON  </td></tr>\n",
       "\t<tr><th scope=row>TESTO,R.J.</th><td> 8.3       </td><td>7.3        </td><td>7.0        </td><td>6.8        </td><td>7.0        </td><td>7.1        </td><td>6.7        </td><td>6.7        </td><td>6.7        </td><td>6.7        </td><td>8.0        </td><td>7.0        </td><td>TESTO      </td></tr>\n",
       "\t<tr><th scope=row>TIERNEY,W.L.JR.</th><td> 8.3       </td><td>8.2        </td><td>7.8        </td><td>8.3        </td><td>8.4        </td><td>8.3        </td><td>7.7        </td><td>7.6        </td><td>7.5        </td><td>7.7        </td><td>8.1        </td><td>7.9        </td><td>TIERNEY    </td></tr>\n",
       "\t<tr><th scope=row>WALL,R.A.</th><td> 9.0       </td><td>7.0        </td><td>5.9        </td><td>7.0        </td><td>7.0        </td><td>7.2        </td><td>6.9        </td><td>6.9        </td><td>6.5        </td><td>6.6        </td><td>7.6        </td><td>6.6        </td><td>WALL       </td></tr>\n",
       "\t<tr><th scope=row>WRIGHT,D.B.</th><td> 7.1       </td><td>8.4        </td><td>8.4        </td><td>7.7        </td><td>7.5        </td><td>7.7        </td><td>7.8        </td><td>8.2        </td><td>8.0        </td><td>8.1        </td><td>8.3        </td><td>8.1        </td><td>WRIGHT     </td></tr>\n",
       "\t<tr><th scope=row>ZARRILLI,K.J.</th><td> 8.6       </td><td>7.4        </td><td>7.0        </td><td>7.5        </td><td>7.5        </td><td>7.7        </td><td>7.4        </td><td>7.2        </td><td>6.9        </td><td>7.0        </td><td>7.8        </td><td>7.1        </td><td>ZARRILLI   </td></tr>\n",
       "</tbody>\n",
       "</table>\n"
      ],
      "text/latex": [
       "\\begin{tabular}{r|lllllllllllll}\n",
       "  & CONT & INTG & DMNR & DILG & CFMG & DECI & PREP & FAMI & ORAL & WRIT & PHYS & RTEN & names\\\\\n",
       "\\hline\n",
       "\tAARONSON,L.H. &  5.7        & 7.9         & 7.7         & 7.3         & 7.1         & 7.4         & 7.1         & 7.1         & 7.1         & 7.0         & 8.3         & 7.8         & AARONSON   \\\\\n",
       "\tALEXANDER,J.M. &  6.8        & 8.9         & 8.8         & 8.5         & 7.8         & 8.1         & 8.0         & 8.0         & 7.8         & 7.9         & 8.5         & 8.7         & ALEXANDER  \\\\\n",
       "\tARMENTANO,A.J. &  7.2        & 8.1         & 7.8         & 7.8         & 7.5         & 7.6         & 7.5         & 7.5         & 7.3         & 7.4         & 7.9         & 7.8         & ARMENTANO  \\\\\n",
       "\tBERDON,R.I. &  6.8        & 8.8         & 8.5         & 8.8         & 8.3         & 8.5         & 8.7         & 8.7         & 8.4         & 8.5         & 8.8         & 8.7         & BERDON     \\\\\n",
       "\tBRACKEN,J.J. &  7.3        & 6.4         & 4.3         & 6.5         & 6.0         & 6.2         & 5.7         & 5.7         & 5.1         & 5.3         & 5.5         & 4.8         & BRACKEN    \\\\\n",
       "\tBURNS,E.B. &  6.2        & 8.8         & 8.7         & 8.5         & 7.9         & 8.0         & 8.1         & 8.0         & 8.0         & 8.0         & 8.6         & 8.6         & BURNS      \\\\\n",
       "\tCALLAHAN,R.J. & 10.6        & 9.0         & 8.9         & 8.7         & 8.5         & 8.5         & 8.5         & 8.5         & 8.6         & 8.4         & 9.1         & 9.0         & CALLAHAN   \\\\\n",
       "\tCOHEN,S.S. &  7.0        & 5.9         & 4.9         & 5.1         & 5.4         & 5.9         & 4.8         & 5.1         & 4.7         & 4.9         & 6.8         & 5.0         & COHEN      \\\\\n",
       "\tDALY,J.J. &  7.3        & 8.9         & 8.9         & 8.7         & 8.6         & 8.5         & 8.4         & 8.4         & 8.4         & 8.5         & 8.8         & 8.8         & DALY       \\\\\n",
       "\tDANNEHY,J.F. &  8.2        & 7.9         & 6.7         & 8.1         & 7.9         & 8.0         & 7.9         & 8.1         & 7.7         & 7.8         & 8.5         & 7.9         & DANNEHY    \\\\\n",
       "\tDEAN,H.H. &  7.0        & 8.0         & 7.6         & 7.4         & 7.3         & 7.5         & 7.1         & 7.2         & 7.1         & 7.2         & 8.4         & 7.7         & DEAN       \\\\\n",
       "\tDEVITA,H.J. &  6.5        & 8.0         & 7.6         & 7.2         & 7.0         & 7.1         & 6.9         & 7.0         & 7.0         & 7.1         & 6.9         & 7.2         & DEVITA     \\\\\n",
       "\tDRISCOLL,P.J. &  6.7        & 8.6         & 8.2         & 6.8         & 6.9         & 6.6         & 7.1         & 7.3         & 7.2         & 7.2         & 8.1         & 7.7         & DRISCOLL   \\\\\n",
       "\tGRILLO,A.E. &  7.0        & 7.5         & 6.4         & 6.8         & 6.5         & 7.0         & 6.6         & 6.8         & 6.3         & 6.6         & 6.2         & 6.5         & GRILLO     \\\\\n",
       "\tHADDEN,W.L.JR. &  6.5        & 8.1         & 8.0         & 8.0         & 7.9         & 8.0         & 7.9         & 7.8         & 7.8         & 7.8         & 8.4         & 8.0         & HADDEN     \\\\\n",
       "\tHAMILL,E.C. &  7.3        & 8.0         & 7.4         & 7.7         & 7.3         & 7.3         & 7.3         & 7.2         & 7.1         & 7.2         & 8.0         & 7.6         & HAMILL     \\\\\n",
       "\tHEALEY.A.H. &  8.0        & 7.6         & 6.6         & 7.2         & 6.5         & 6.5         & 6.8         & 6.7         & 6.4         & 6.5         & 6.9         & 6.7         & HEALEY.A.H.\\\\\n",
       "\tHULL,T.C. &  7.7        & 7.7         & 6.7         & 7.5         & 7.4         & 7.5         & 7.1         & 7.3         & 7.1         & 7.3         & 8.1         & 7.4         & HULL       \\\\\n",
       "\tLEVINE,I. &  8.3        & 8.2         & 7.4         & 7.8         & 7.7         & 7.7         & 7.7         & 7.8         & 7.5         & 7.6         & 8.0         & 8.0         & LEVINE     \\\\\n",
       "\tLEVISTER,R.L. &  9.6        & 6.9         & 5.7         & 6.6         & 6.9         & 6.6         & 6.2         & 6.0         & 5.8         & 5.8         & 7.2         & 6.0         & LEVISTER   \\\\\n",
       "\tMARTIN,L.F. &  7.1        & 8.2         & 7.7         & 7.1         & 6.6         & 6.6         & 6.7         & 6.7         & 6.8         & 6.8         & 7.5         & 7.3         & MARTIN     \\\\\n",
       "\tMCGRATH,J.F. &  7.6        & 7.3         & 6.9         & 6.8         & 6.7         & 6.8         & 6.4         & 6.3         & 6.3         & 6.3         & 7.4         & 6.6         & MCGRATH    \\\\\n",
       "\tMIGNONE,A.F. &  6.6        & 7.4         & 6.2         & 6.2         & 5.4         & 5.7         & 5.8         & 5.9         & 5.2         & 5.8         & 4.7         & 5.2         & MIGNONE    \\\\\n",
       "\tMISSAL,H.M. &  6.2        & 8.3         & 8.1         & 7.7         & 7.4         & 7.3         & 7.3         & 7.3         & 7.2         & 7.3         & 7.8         & 7.6         & MISSAL     \\\\\n",
       "\tMULVEY,H.M. &  7.5        & 8.7         & 8.5         & 8.6         & 8.5         & 8.4         & 8.5         & 8.5         & 8.4         & 8.4         & 8.7         & 8.7         & MULVEY     \\\\\n",
       "\tNARUK,H.J. &  7.8        & 8.9         & 8.7         & 8.9         & 8.7         & 8.8         & 8.9         & 9.0         & 8.8         & 8.9         & 9.0         & 9.0         & NARUK      \\\\\n",
       "\tO'BRIEN,F.J. &  7.1        & 8.5         & 8.3         & 8.0         & 7.9         & 7.9         & 7.8         & 7.8         & 7.8         & 7.7         & 8.3         & 8.2         & O'BRIEN    \\\\\n",
       "\tO'SULLIVAN,T.J. &  7.5        & 9.0         & 8.9         & 8.7         & 8.4         & 8.5         & 8.4         & 8.3         & 8.3         & 8.3         & 8.8         & 8.7         & O'SULLIVAN \\\\\n",
       "\tPASKEY,L. &  7.5        & 8.1         & 7.7         & 8.2         & 8.0         & 8.1         & 8.2         & 8.4         & 8.0         & 8.1         & 8.4         & 8.1         & PASKEY     \\\\\n",
       "\tRUBINOW,J.E. &  7.1        & 9.2         & 9.0         & 9.0         & 8.4         & 8.6         & 9.1         & 9.1         & 8.9         & 9.0         & 8.9         & 9.2         & RUBINOW    \\\\\n",
       "\tSADEN.G.A. &  6.6        & 7.4         & 6.9         & 8.4         & 8.0         & 7.9         & 8.2         & 8.4         & 7.7         & 7.9         & 8.4         & 7.5         & SADEN.G.A. \\\\\n",
       "\tSATANIELLO,A.G. &  8.4        & 8.0         & 7.9         & 7.9         & 7.8         & 7.8         & 7.6         & 7.4         & 7.4         & 7.4         & 8.1         & 7.9         & SATANIELLO \\\\\n",
       "\tSHEA,D.M. &  6.9        & 8.5         & 7.8         & 8.5         & 8.1         & 8.2         & 8.4         & 8.5         & 8.1         & 8.3         & 8.7         & 8.3         & SHEA       \\\\\n",
       "\tSHEA,J.F.JR. &  7.3        & 8.9         & 8.8         & 8.7         & 8.4         & 8.5         & 8.5         & 8.5         & 8.4         & 8.4         & 8.8         & 8.8         & SHEA       \\\\\n",
       "\tSIDOR,W.J. &  7.7        & 6.2         & 5.1         & 5.6         & 5.6         & 5.9         & 5.6         & 5.6         & 5.3         & 5.5         & 6.3         & 5.3         & SIDOR      \\\\\n",
       "\tSPEZIALE,J.A. &  8.5        & 8.3         & 8.1         & 8.3         & 8.4         & 8.2         & 8.2         & 8.1         & 7.9         & 8.0         & 8.0         & 8.2         & SPEZIALE   \\\\\n",
       "\tSPONZO,M.J. &  6.9        & 8.3         & 8.0         & 8.1         & 7.9         & 7.9         & 7.9         & 7.7         & 7.6         & 7.7         & 8.1         & 8.0         & SPONZO     \\\\\n",
       "\tSTAPLETON,J.F. &  6.5        & 8.2         & 7.7         & 7.8         & 7.6         & 7.7         & 7.7         & 7.7         & 7.5         & 7.6         & 8.5         & 7.7         & STAPLETON  \\\\\n",
       "\tTESTO,R.J. &  8.3        & 7.3         & 7.0         & 6.8         & 7.0         & 7.1         & 6.7         & 6.7         & 6.7         & 6.7         & 8.0         & 7.0         & TESTO      \\\\\n",
       "\tTIERNEY,W.L.JR. &  8.3        & 8.2         & 7.8         & 8.3         & 8.4         & 8.3         & 7.7         & 7.6         & 7.5         & 7.7         & 8.1         & 7.9         & TIERNEY    \\\\\n",
       "\tWALL,R.A. &  9.0        & 7.0         & 5.9         & 7.0         & 7.0         & 7.2         & 6.9         & 6.9         & 6.5         & 6.6         & 7.6         & 6.6         & WALL       \\\\\n",
       "\tWRIGHT,D.B. &  7.1        & 8.4         & 8.4         & 7.7         & 7.5         & 7.7         & 7.8         & 8.2         & 8.0         & 8.1         & 8.3         & 8.1         & WRIGHT     \\\\\n",
       "\tZARRILLI,K.J. &  8.6        & 7.4         & 7.0         & 7.5         & 7.5         & 7.7         & 7.4         & 7.2         & 6.9         & 7.0         & 7.8         & 7.1         & ZARRILLI   \\\\\n",
       "\\end{tabular}\n"
      ],
      "text/markdown": [
       "\n",
       "| <!--/--> | CONT | INTG | DMNR | DILG | CFMG | DECI | PREP | FAMI | ORAL | WRIT | PHYS | RTEN | names |\n",
       "|---|---|---|---|---|---|---|---|---|---|---|---|---|---|\n",
       "| AARONSON,L.H. |  5.7        | 7.9         | 7.7         | 7.3         | 7.1         | 7.4         | 7.1         | 7.1         | 7.1         | 7.0         | 8.3         | 7.8         | AARONSON    |\n",
       "| ALEXANDER,J.M. |  6.8        | 8.9         | 8.8         | 8.5         | 7.8         | 8.1         | 8.0         | 8.0         | 7.8         | 7.9         | 8.5         | 8.7         | ALEXANDER   |\n",
       "| ARMENTANO,A.J. |  7.2        | 8.1         | 7.8         | 7.8         | 7.5         | 7.6         | 7.5         | 7.5         | 7.3         | 7.4         | 7.9         | 7.8         | ARMENTANO   |\n",
       "| BERDON,R.I. |  6.8        | 8.8         | 8.5         | 8.8         | 8.3         | 8.5         | 8.7         | 8.7         | 8.4         | 8.5         | 8.8         | 8.7         | BERDON      |\n",
       "| BRACKEN,J.J. |  7.3        | 6.4         | 4.3         | 6.5         | 6.0         | 6.2         | 5.7         | 5.7         | 5.1         | 5.3         | 5.5         | 4.8         | BRACKEN     |\n",
       "| BURNS,E.B. |  6.2        | 8.8         | 8.7         | 8.5         | 7.9         | 8.0         | 8.1         | 8.0         | 8.0         | 8.0         | 8.6         | 8.6         | BURNS       |\n",
       "| CALLAHAN,R.J. | 10.6        | 9.0         | 8.9         | 8.7         | 8.5         | 8.5         | 8.5         | 8.5         | 8.6         | 8.4         | 9.1         | 9.0         | CALLAHAN    |\n",
       "| COHEN,S.S. |  7.0        | 5.9         | 4.9         | 5.1         | 5.4         | 5.9         | 4.8         | 5.1         | 4.7         | 4.9         | 6.8         | 5.0         | COHEN       |\n",
       "| DALY,J.J. |  7.3        | 8.9         | 8.9         | 8.7         | 8.6         | 8.5         | 8.4         | 8.4         | 8.4         | 8.5         | 8.8         | 8.8         | DALY        |\n",
       "| DANNEHY,J.F. |  8.2        | 7.9         | 6.7         | 8.1         | 7.9         | 8.0         | 7.9         | 8.1         | 7.7         | 7.8         | 8.5         | 7.9         | DANNEHY     |\n",
       "| DEAN,H.H. |  7.0        | 8.0         | 7.6         | 7.4         | 7.3         | 7.5         | 7.1         | 7.2         | 7.1         | 7.2         | 8.4         | 7.7         | DEAN        |\n",
       "| DEVITA,H.J. |  6.5        | 8.0         | 7.6         | 7.2         | 7.0         | 7.1         | 6.9         | 7.0         | 7.0         | 7.1         | 6.9         | 7.2         | DEVITA      |\n",
       "| DRISCOLL,P.J. |  6.7        | 8.6         | 8.2         | 6.8         | 6.9         | 6.6         | 7.1         | 7.3         | 7.2         | 7.2         | 8.1         | 7.7         | DRISCOLL    |\n",
       "| GRILLO,A.E. |  7.0        | 7.5         | 6.4         | 6.8         | 6.5         | 7.0         | 6.6         | 6.8         | 6.3         | 6.6         | 6.2         | 6.5         | GRILLO      |\n",
       "| HADDEN,W.L.JR. |  6.5        | 8.1         | 8.0         | 8.0         | 7.9         | 8.0         | 7.9         | 7.8         | 7.8         | 7.8         | 8.4         | 8.0         | HADDEN      |\n",
       "| HAMILL,E.C. |  7.3        | 8.0         | 7.4         | 7.7         | 7.3         | 7.3         | 7.3         | 7.2         | 7.1         | 7.2         | 8.0         | 7.6         | HAMILL      |\n",
       "| HEALEY.A.H. |  8.0        | 7.6         | 6.6         | 7.2         | 6.5         | 6.5         | 6.8         | 6.7         | 6.4         | 6.5         | 6.9         | 6.7         | HEALEY.A.H. |\n",
       "| HULL,T.C. |  7.7        | 7.7         | 6.7         | 7.5         | 7.4         | 7.5         | 7.1         | 7.3         | 7.1         | 7.3         | 8.1         | 7.4         | HULL        |\n",
       "| LEVINE,I. |  8.3        | 8.2         | 7.4         | 7.8         | 7.7         | 7.7         | 7.7         | 7.8         | 7.5         | 7.6         | 8.0         | 8.0         | LEVINE      |\n",
       "| LEVISTER,R.L. |  9.6        | 6.9         | 5.7         | 6.6         | 6.9         | 6.6         | 6.2         | 6.0         | 5.8         | 5.8         | 7.2         | 6.0         | LEVISTER    |\n",
       "| MARTIN,L.F. |  7.1        | 8.2         | 7.7         | 7.1         | 6.6         | 6.6         | 6.7         | 6.7         | 6.8         | 6.8         | 7.5         | 7.3         | MARTIN      |\n",
       "| MCGRATH,J.F. |  7.6        | 7.3         | 6.9         | 6.8         | 6.7         | 6.8         | 6.4         | 6.3         | 6.3         | 6.3         | 7.4         | 6.6         | MCGRATH     |\n",
       "| MIGNONE,A.F. |  6.6        | 7.4         | 6.2         | 6.2         | 5.4         | 5.7         | 5.8         | 5.9         | 5.2         | 5.8         | 4.7         | 5.2         | MIGNONE     |\n",
       "| MISSAL,H.M. |  6.2        | 8.3         | 8.1         | 7.7         | 7.4         | 7.3         | 7.3         | 7.3         | 7.2         | 7.3         | 7.8         | 7.6         | MISSAL      |\n",
       "| MULVEY,H.M. |  7.5        | 8.7         | 8.5         | 8.6         | 8.5         | 8.4         | 8.5         | 8.5         | 8.4         | 8.4         | 8.7         | 8.7         | MULVEY      |\n",
       "| NARUK,H.J. |  7.8        | 8.9         | 8.7         | 8.9         | 8.7         | 8.8         | 8.9         | 9.0         | 8.8         | 8.9         | 9.0         | 9.0         | NARUK       |\n",
       "| O'BRIEN,F.J. |  7.1        | 8.5         | 8.3         | 8.0         | 7.9         | 7.9         | 7.8         | 7.8         | 7.8         | 7.7         | 8.3         | 8.2         | O'BRIEN     |\n",
       "| O'SULLIVAN,T.J. |  7.5        | 9.0         | 8.9         | 8.7         | 8.4         | 8.5         | 8.4         | 8.3         | 8.3         | 8.3         | 8.8         | 8.7         | O'SULLIVAN  |\n",
       "| PASKEY,L. |  7.5        | 8.1         | 7.7         | 8.2         | 8.0         | 8.1         | 8.2         | 8.4         | 8.0         | 8.1         | 8.4         | 8.1         | PASKEY      |\n",
       "| RUBINOW,J.E. |  7.1        | 9.2         | 9.0         | 9.0         | 8.4         | 8.6         | 9.1         | 9.1         | 8.9         | 9.0         | 8.9         | 9.2         | RUBINOW     |\n",
       "| SADEN.G.A. |  6.6        | 7.4         | 6.9         | 8.4         | 8.0         | 7.9         | 8.2         | 8.4         | 7.7         | 7.9         | 8.4         | 7.5         | SADEN.G.A.  |\n",
       "| SATANIELLO,A.G. |  8.4        | 8.0         | 7.9         | 7.9         | 7.8         | 7.8         | 7.6         | 7.4         | 7.4         | 7.4         | 8.1         | 7.9         | SATANIELLO  |\n",
       "| SHEA,D.M. |  6.9        | 8.5         | 7.8         | 8.5         | 8.1         | 8.2         | 8.4         | 8.5         | 8.1         | 8.3         | 8.7         | 8.3         | SHEA        |\n",
       "| SHEA,J.F.JR. |  7.3        | 8.9         | 8.8         | 8.7         | 8.4         | 8.5         | 8.5         | 8.5         | 8.4         | 8.4         | 8.8         | 8.8         | SHEA        |\n",
       "| SIDOR,W.J. |  7.7        | 6.2         | 5.1         | 5.6         | 5.6         | 5.9         | 5.6         | 5.6         | 5.3         | 5.5         | 6.3         | 5.3         | SIDOR       |\n",
       "| SPEZIALE,J.A. |  8.5        | 8.3         | 8.1         | 8.3         | 8.4         | 8.2         | 8.2         | 8.1         | 7.9         | 8.0         | 8.0         | 8.2         | SPEZIALE    |\n",
       "| SPONZO,M.J. |  6.9        | 8.3         | 8.0         | 8.1         | 7.9         | 7.9         | 7.9         | 7.7         | 7.6         | 7.7         | 8.1         | 8.0         | SPONZO      |\n",
       "| STAPLETON,J.F. |  6.5        | 8.2         | 7.7         | 7.8         | 7.6         | 7.7         | 7.7         | 7.7         | 7.5         | 7.6         | 8.5         | 7.7         | STAPLETON   |\n",
       "| TESTO,R.J. |  8.3        | 7.3         | 7.0         | 6.8         | 7.0         | 7.1         | 6.7         | 6.7         | 6.7         | 6.7         | 8.0         | 7.0         | TESTO       |\n",
       "| TIERNEY,W.L.JR. |  8.3        | 8.2         | 7.8         | 8.3         | 8.4         | 8.3         | 7.7         | 7.6         | 7.5         | 7.7         | 8.1         | 7.9         | TIERNEY     |\n",
       "| WALL,R.A. |  9.0        | 7.0         | 5.9         | 7.0         | 7.0         | 7.2         | 6.9         | 6.9         | 6.5         | 6.6         | 7.6         | 6.6         | WALL        |\n",
       "| WRIGHT,D.B. |  7.1        | 8.4         | 8.4         | 7.7         | 7.5         | 7.7         | 7.8         | 8.2         | 8.0         | 8.1         | 8.3         | 8.1         | WRIGHT      |\n",
       "| ZARRILLI,K.J. |  8.6        | 7.4         | 7.0         | 7.5         | 7.5         | 7.7         | 7.4         | 7.2         | 6.9         | 7.0         | 7.8         | 7.1         | ZARRILLI    |\n",
       "\n"
      ],
      "text/plain": [
       "                CONT INTG DMNR DILG CFMG DECI PREP FAMI ORAL WRIT PHYS RTEN\n",
       "AARONSON,L.H.    5.7 7.9  7.7  7.3  7.1  7.4  7.1  7.1  7.1  7.0  8.3  7.8 \n",
       "ALEXANDER,J.M.   6.8 8.9  8.8  8.5  7.8  8.1  8.0  8.0  7.8  7.9  8.5  8.7 \n",
       "ARMENTANO,A.J.   7.2 8.1  7.8  7.8  7.5  7.6  7.5  7.5  7.3  7.4  7.9  7.8 \n",
       "BERDON,R.I.      6.8 8.8  8.5  8.8  8.3  8.5  8.7  8.7  8.4  8.5  8.8  8.7 \n",
       "BRACKEN,J.J.     7.3 6.4  4.3  6.5  6.0  6.2  5.7  5.7  5.1  5.3  5.5  4.8 \n",
       "BURNS,E.B.       6.2 8.8  8.7  8.5  7.9  8.0  8.1  8.0  8.0  8.0  8.6  8.6 \n",
       "CALLAHAN,R.J.   10.6 9.0  8.9  8.7  8.5  8.5  8.5  8.5  8.6  8.4  9.1  9.0 \n",
       "COHEN,S.S.       7.0 5.9  4.9  5.1  5.4  5.9  4.8  5.1  4.7  4.9  6.8  5.0 \n",
       "DALY,J.J.        7.3 8.9  8.9  8.7  8.6  8.5  8.4  8.4  8.4  8.5  8.8  8.8 \n",
       "DANNEHY,J.F.     8.2 7.9  6.7  8.1  7.9  8.0  7.9  8.1  7.7  7.8  8.5  7.9 \n",
       "DEAN,H.H.        7.0 8.0  7.6  7.4  7.3  7.5  7.1  7.2  7.1  7.2  8.4  7.7 \n",
       "DEVITA,H.J.      6.5 8.0  7.6  7.2  7.0  7.1  6.9  7.0  7.0  7.1  6.9  7.2 \n",
       "DRISCOLL,P.J.    6.7 8.6  8.2  6.8  6.9  6.6  7.1  7.3  7.2  7.2  8.1  7.7 \n",
       "GRILLO,A.E.      7.0 7.5  6.4  6.8  6.5  7.0  6.6  6.8  6.3  6.6  6.2  6.5 \n",
       "HADDEN,W.L.JR.   6.5 8.1  8.0  8.0  7.9  8.0  7.9  7.8  7.8  7.8  8.4  8.0 \n",
       "HAMILL,E.C.      7.3 8.0  7.4  7.7  7.3  7.3  7.3  7.2  7.1  7.2  8.0  7.6 \n",
       "HEALEY.A.H.      8.0 7.6  6.6  7.2  6.5  6.5  6.8  6.7  6.4  6.5  6.9  6.7 \n",
       "HULL,T.C.        7.7 7.7  6.7  7.5  7.4  7.5  7.1  7.3  7.1  7.3  8.1  7.4 \n",
       "LEVINE,I.        8.3 8.2  7.4  7.8  7.7  7.7  7.7  7.8  7.5  7.6  8.0  8.0 \n",
       "LEVISTER,R.L.    9.6 6.9  5.7  6.6  6.9  6.6  6.2  6.0  5.8  5.8  7.2  6.0 \n",
       "MARTIN,L.F.      7.1 8.2  7.7  7.1  6.6  6.6  6.7  6.7  6.8  6.8  7.5  7.3 \n",
       "MCGRATH,J.F.     7.6 7.3  6.9  6.8  6.7  6.8  6.4  6.3  6.3  6.3  7.4  6.6 \n",
       "MIGNONE,A.F.     6.6 7.4  6.2  6.2  5.4  5.7  5.8  5.9  5.2  5.8  4.7  5.2 \n",
       "MISSAL,H.M.      6.2 8.3  8.1  7.7  7.4  7.3  7.3  7.3  7.2  7.3  7.8  7.6 \n",
       "MULVEY,H.M.      7.5 8.7  8.5  8.6  8.5  8.4  8.5  8.5  8.4  8.4  8.7  8.7 \n",
       "NARUK,H.J.       7.8 8.9  8.7  8.9  8.7  8.8  8.9  9.0  8.8  8.9  9.0  9.0 \n",
       "O'BRIEN,F.J.     7.1 8.5  8.3  8.0  7.9  7.9  7.8  7.8  7.8  7.7  8.3  8.2 \n",
       "O'SULLIVAN,T.J.  7.5 9.0  8.9  8.7  8.4  8.5  8.4  8.3  8.3  8.3  8.8  8.7 \n",
       "PASKEY,L.        7.5 8.1  7.7  8.2  8.0  8.1  8.2  8.4  8.0  8.1  8.4  8.1 \n",
       "RUBINOW,J.E.     7.1 9.2  9.0  9.0  8.4  8.6  9.1  9.1  8.9  9.0  8.9  9.2 \n",
       "SADEN.G.A.       6.6 7.4  6.9  8.4  8.0  7.9  8.2  8.4  7.7  7.9  8.4  7.5 \n",
       "SATANIELLO,A.G.  8.4 8.0  7.9  7.9  7.8  7.8  7.6  7.4  7.4  7.4  8.1  7.9 \n",
       "SHEA,D.M.        6.9 8.5  7.8  8.5  8.1  8.2  8.4  8.5  8.1  8.3  8.7  8.3 \n",
       "SHEA,J.F.JR.     7.3 8.9  8.8  8.7  8.4  8.5  8.5  8.5  8.4  8.4  8.8  8.8 \n",
       "SIDOR,W.J.       7.7 6.2  5.1  5.6  5.6  5.9  5.6  5.6  5.3  5.5  6.3  5.3 \n",
       "SPEZIALE,J.A.    8.5 8.3  8.1  8.3  8.4  8.2  8.2  8.1  7.9  8.0  8.0  8.2 \n",
       "SPONZO,M.J.      6.9 8.3  8.0  8.1  7.9  7.9  7.9  7.7  7.6  7.7  8.1  8.0 \n",
       "STAPLETON,J.F.   6.5 8.2  7.7  7.8  7.6  7.7  7.7  7.7  7.5  7.6  8.5  7.7 \n",
       "TESTO,R.J.       8.3 7.3  7.0  6.8  7.0  7.1  6.7  6.7  6.7  6.7  8.0  7.0 \n",
       "TIERNEY,W.L.JR.  8.3 8.2  7.8  8.3  8.4  8.3  7.7  7.6  7.5  7.7  8.1  7.9 \n",
       "WALL,R.A.        9.0 7.0  5.9  7.0  7.0  7.2  6.9  6.9  6.5  6.6  7.6  6.6 \n",
       "WRIGHT,D.B.      7.1 8.4  8.4  7.7  7.5  7.7  7.8  8.2  8.0  8.1  8.3  8.1 \n",
       "ZARRILLI,K.J.    8.6 7.4  7.0  7.5  7.5  7.7  7.4  7.2  6.9  7.0  7.8  7.1 \n",
       "                names      \n",
       "AARONSON,L.H.   AARONSON   \n",
       "ALEXANDER,J.M.  ALEXANDER  \n",
       "ARMENTANO,A.J.  ARMENTANO  \n",
       "BERDON,R.I.     BERDON     \n",
       "BRACKEN,J.J.    BRACKEN    \n",
       "BURNS,E.B.      BURNS      \n",
       "CALLAHAN,R.J.   CALLAHAN   \n",
       "COHEN,S.S.      COHEN      \n",
       "DALY,J.J.       DALY       \n",
       "DANNEHY,J.F.    DANNEHY    \n",
       "DEAN,H.H.       DEAN       \n",
       "DEVITA,H.J.     DEVITA     \n",
       "DRISCOLL,P.J.   DRISCOLL   \n",
       "GRILLO,A.E.     GRILLO     \n",
       "HADDEN,W.L.JR.  HADDEN     \n",
       "HAMILL,E.C.     HAMILL     \n",
       "HEALEY.A.H.     HEALEY.A.H.\n",
       "HULL,T.C.       HULL       \n",
       "LEVINE,I.       LEVINE     \n",
       "LEVISTER,R.L.   LEVISTER   \n",
       "MARTIN,L.F.     MARTIN     \n",
       "MCGRATH,J.F.    MCGRATH    \n",
       "MIGNONE,A.F.    MIGNONE    \n",
       "MISSAL,H.M.     MISSAL     \n",
       "MULVEY,H.M.     MULVEY     \n",
       "NARUK,H.J.      NARUK      \n",
       "O'BRIEN,F.J.    O'BRIEN    \n",
       "O'SULLIVAN,T.J. O'SULLIVAN \n",
       "PASKEY,L.       PASKEY     \n",
       "RUBINOW,J.E.    RUBINOW    \n",
       "SADEN.G.A.      SADEN.G.A. \n",
       "SATANIELLO,A.G. SATANIELLO \n",
       "SHEA,D.M.       SHEA       \n",
       "SHEA,J.F.JR.    SHEA       \n",
       "SIDOR,W.J.      SIDOR      \n",
       "SPEZIALE,J.A.   SPEZIALE   \n",
       "SPONZO,M.J.     SPONZO     \n",
       "STAPLETON,J.F.  STAPLETON  \n",
       "TESTO,R.J.      TESTO      \n",
       "TIERNEY,W.L.JR. TIERNEY    \n",
       "WALL,R.A.       WALL       \n",
       "WRIGHT,D.B.     WRIGHT     \n",
       "ZARRILLI,K.J.   ZARRILLI   "
      ]
     },
     "metadata": {},
     "output_type": "display_data"
    }
   ],
   "source": [
    "#Add 13th column for full names\n",
    "x"
   ]
  },
  {
   "cell_type": "code",
   "execution_count": 19,
   "metadata": {},
   "outputs": [
    {
     "data": {
      "text/html": [
       "<ol class=list-inline>\n",
       "\t<li>'Douglas Bates'</li>\n",
       "\t<li>'John Chambers'</li>\n",
       "\t<li>'Peter Dalgaard'</li>\n",
       "\t<li>'Robert Gentleman'</li>\n",
       "\t<li>'Kurt Hornik'</li>\n",
       "\t<li>'Ross Ihaka'</li>\n",
       "\t<li>'Tomas Kalibera'</li>\n",
       "\t<li>'Michael Lawrence'</li>\n",
       "\t<li>'Friedrich Leisch'</li>\n",
       "\t<li>'Uwe Ligges'</li>\n",
       "\t<li>'Thomas Lumley'</li>\n",
       "\t<li>'Martin Maechler'</li>\n",
       "\t<li>'Martin Morgan'</li>\n",
       "\t<li>'Paul Murrell'</li>\n",
       "\t<li>'Martyn Plummer'</li>\n",
       "\t<li>'Brian Ripley'</li>\n",
       "\t<li>'Deepayan Sarkar'</li>\n",
       "\t<li>'Duncan Temple Lang'</li>\n",
       "\t<li>'Luke Tierney'</li>\n",
       "\t<li>'Simon Urbanek'</li>\n",
       "\t<li>''</li>\n",
       "</ol>\n"
      ],
      "text/latex": [
       "\\begin{enumerate*}\n",
       "\\item 'Douglas Bates'\n",
       "\\item 'John Chambers'\n",
       "\\item 'Peter Dalgaard'\n",
       "\\item 'Robert Gentleman'\n",
       "\\item 'Kurt Hornik'\n",
       "\\item 'Ross Ihaka'\n",
       "\\item 'Tomas Kalibera'\n",
       "\\item 'Michael Lawrence'\n",
       "\\item 'Friedrich Leisch'\n",
       "\\item 'Uwe Ligges'\n",
       "\\item 'Thomas Lumley'\n",
       "\\item 'Martin Maechler'\n",
       "\\item 'Martin Morgan'\n",
       "\\item 'Paul Murrell'\n",
       "\\item 'Martyn Plummer'\n",
       "\\item 'Brian Ripley'\n",
       "\\item 'Deepayan Sarkar'\n",
       "\\item 'Duncan Temple Lang'\n",
       "\\item 'Luke Tierney'\n",
       "\\item 'Simon Urbanek'\n",
       "\\item ''\n",
       "\\end{enumerate*}\n"
      ],
      "text/markdown": [
       "1. 'Douglas Bates'\n",
       "2. 'John Chambers'\n",
       "3. 'Peter Dalgaard'\n",
       "4. 'Robert Gentleman'\n",
       "5. 'Kurt Hornik'\n",
       "6. 'Ross Ihaka'\n",
       "7. 'Tomas Kalibera'\n",
       "8. 'Michael Lawrence'\n",
       "9. 'Friedrich Leisch'\n",
       "10. 'Uwe Ligges'\n",
       "11. 'Thomas Lumley'\n",
       "12. 'Martin Maechler'\n",
       "13. 'Martin Morgan'\n",
       "14. 'Paul Murrell'\n",
       "15. 'Martyn Plummer'\n",
       "16. 'Brian Ripley'\n",
       "17. 'Deepayan Sarkar'\n",
       "18. 'Duncan Temple Lang'\n",
       "19. 'Luke Tierney'\n",
       "20. 'Simon Urbanek'\n",
       "21. ''\n",
       "\n",
       "\n"
      ],
      "text/plain": [
       " [1] \"Douglas Bates\"      \"John Chambers\"      \"Peter Dalgaard\"    \n",
       " [4] \"Robert Gentleman\"   \"Kurt Hornik\"        \"Ross Ihaka\"        \n",
       " [7] \"Tomas Kalibera\"     \"Michael Lawrence\"   \"Friedrich Leisch\"  \n",
       "[10] \"Uwe Ligges\"         \"Thomas Lumley\"      \"Martin Maechler\"   \n",
       "[13] \"Martin Morgan\"      \"Paul Murrell\"       \"Martyn Plummer\"    \n",
       "[16] \"Brian Ripley\"       \"Deepayan Sarkar\"    \"Duncan Temple Lang\"\n",
       "[19] \"Luke Tierney\"       \"Simon Urbanek\"      \"\"                  "
      ]
     },
     "metadata": {},
     "output_type": "display_data"
    }
   ],
   "source": [
    "#Another example\n",
    "###########################################################\n",
    "## get the first names of the members of R-core\n",
    "#Some code taken from internet\n",
    "a <- readLines(file.path(R.home(\"doc\"),\"AUTHORS\"))[-(1:8)][1:21]\n",
    "a"
   ]
  },
  {
   "cell_type": "code",
   "execution_count": 20,
   "metadata": {},
   "outputs": [
    {
     "data": {
      "text/html": [
       "<ol class=list-inline>\n",
       "\t<li>'Douglas'</li>\n",
       "\t<li>'John'</li>\n",
       "\t<li>'Peter'</li>\n",
       "\t<li>'Robert'</li>\n",
       "\t<li>'Kurt'</li>\n",
       "\t<li>'Ross'</li>\n",
       "\t<li>'Tomas'</li>\n",
       "\t<li>'Michael'</li>\n",
       "\t<li>'Friedrich'</li>\n",
       "\t<li>'Uwe'</li>\n",
       "\t<li>'Thomas'</li>\n",
       "\t<li>'Martin'</li>\n",
       "\t<li>'Martin'</li>\n",
       "\t<li>'Paul'</li>\n",
       "\t<li>'Martyn'</li>\n",
       "\t<li>'Brian'</li>\n",
       "\t<li>'Deepayan'</li>\n",
       "\t<li>'Duncan'</li>\n",
       "\t<li>'Luke'</li>\n",
       "\t<li>'Simon'</li>\n",
       "\t<li>''</li>\n",
       "</ol>\n"
      ],
      "text/latex": [
       "\\begin{enumerate*}\n",
       "\\item 'Douglas'\n",
       "\\item 'John'\n",
       "\\item 'Peter'\n",
       "\\item 'Robert'\n",
       "\\item 'Kurt'\n",
       "\\item 'Ross'\n",
       "\\item 'Tomas'\n",
       "\\item 'Michael'\n",
       "\\item 'Friedrich'\n",
       "\\item 'Uwe'\n",
       "\\item 'Thomas'\n",
       "\\item 'Martin'\n",
       "\\item 'Martin'\n",
       "\\item 'Paul'\n",
       "\\item 'Martyn'\n",
       "\\item 'Brian'\n",
       "\\item 'Deepayan'\n",
       "\\item 'Duncan'\n",
       "\\item 'Luke'\n",
       "\\item 'Simon'\n",
       "\\item ''\n",
       "\\end{enumerate*}\n"
      ],
      "text/markdown": [
       "1. 'Douglas'\n",
       "2. 'John'\n",
       "3. 'Peter'\n",
       "4. 'Robert'\n",
       "5. 'Kurt'\n",
       "6. 'Ross'\n",
       "7. 'Tomas'\n",
       "8. 'Michael'\n",
       "9. 'Friedrich'\n",
       "10. 'Uwe'\n",
       "11. 'Thomas'\n",
       "12. 'Martin'\n",
       "13. 'Martin'\n",
       "14. 'Paul'\n",
       "15. 'Martyn'\n",
       "16. 'Brian'\n",
       "17. 'Deepayan'\n",
       "18. 'Duncan'\n",
       "19. 'Luke'\n",
       "20. 'Simon'\n",
       "21. ''\n",
       "\n",
       "\n"
      ],
      "text/plain": [
       " [1] \"Douglas\"   \"John\"      \"Peter\"     \"Robert\"    \"Kurt\"      \"Ross\"     \n",
       " [7] \"Tomas\"     \"Michael\"   \"Friedrich\" \"Uwe\"       \"Thomas\"    \"Martin\"   \n",
       "[13] \"Martin\"    \"Paul\"      \"Martyn\"    \"Brian\"     \"Deepayan\"  \"Duncan\"   \n",
       "[19] \"Luke\"      \"Simon\"     \"\"         "
      ]
     },
     "metadata": {},
     "output_type": "display_data"
    }
   ],
   "source": [
    "#It is a perfect input (without any flaw)\n",
    "##########################\n",
    "#Get first names\n",
    "##########################\n",
    "b=sub(\" .*\",\"\", a)#sub is a command for substitute\n",
    "b\n",
    "#.* is a wild character (select everything)"
   ]
  },
  {
   "cell_type": "code",
   "execution_count": 21,
   "metadata": {},
   "outputs": [
    {
     "data": {
      "text/html": [
       "<ol>\n",
       "\t<li><ol class=list-inline>\n",
       "\t<li>'Douglas'</li>\n",
       "\t<li>'Bates'</li>\n",
       "</ol>\n",
       "</li>\n",
       "\t<li><ol class=list-inline>\n",
       "\t<li>'John'</li>\n",
       "\t<li>'Chambers'</li>\n",
       "</ol>\n",
       "</li>\n",
       "\t<li><ol class=list-inline>\n",
       "\t<li>'Peter'</li>\n",
       "\t<li>'Dalgaard'</li>\n",
       "</ol>\n",
       "</li>\n",
       "\t<li><ol class=list-inline>\n",
       "\t<li>'Robert'</li>\n",
       "\t<li>'Gentleman'</li>\n",
       "</ol>\n",
       "</li>\n",
       "\t<li><ol class=list-inline>\n",
       "\t<li>'Kurt'</li>\n",
       "\t<li>'Hornik'</li>\n",
       "</ol>\n",
       "</li>\n",
       "\t<li><ol class=list-inline>\n",
       "\t<li>'Ross'</li>\n",
       "\t<li>'Ihaka'</li>\n",
       "</ol>\n",
       "</li>\n",
       "\t<li><ol class=list-inline>\n",
       "\t<li>'Tomas'</li>\n",
       "\t<li>'Kalibera'</li>\n",
       "</ol>\n",
       "</li>\n",
       "\t<li><ol class=list-inline>\n",
       "\t<li>'Michael'</li>\n",
       "\t<li>'Lawrence'</li>\n",
       "</ol>\n",
       "</li>\n",
       "\t<li><ol class=list-inline>\n",
       "\t<li>'Friedrich'</li>\n",
       "\t<li>'Leisch'</li>\n",
       "</ol>\n",
       "</li>\n",
       "\t<li><ol class=list-inline>\n",
       "\t<li>'Uwe'</li>\n",
       "\t<li>'Ligges'</li>\n",
       "</ol>\n",
       "</li>\n",
       "\t<li><ol class=list-inline>\n",
       "\t<li>'Thomas'</li>\n",
       "\t<li>'Lumley'</li>\n",
       "</ol>\n",
       "</li>\n",
       "\t<li><ol class=list-inline>\n",
       "\t<li>'Martin'</li>\n",
       "\t<li>'Maechler'</li>\n",
       "</ol>\n",
       "</li>\n",
       "\t<li><ol class=list-inline>\n",
       "\t<li>'Martin'</li>\n",
       "\t<li>'Morgan'</li>\n",
       "</ol>\n",
       "</li>\n",
       "\t<li><ol class=list-inline>\n",
       "\t<li>'Paul'</li>\n",
       "\t<li>'Murrell'</li>\n",
       "</ol>\n",
       "</li>\n",
       "\t<li><ol class=list-inline>\n",
       "\t<li>'Martyn'</li>\n",
       "\t<li>'Plummer'</li>\n",
       "</ol>\n",
       "</li>\n",
       "\t<li><ol class=list-inline>\n",
       "\t<li>'Brian'</li>\n",
       "\t<li>'Ripley'</li>\n",
       "</ol>\n",
       "</li>\n",
       "\t<li><ol class=list-inline>\n",
       "\t<li>'Deepayan'</li>\n",
       "\t<li>'Sarkar'</li>\n",
       "</ol>\n",
       "</li>\n",
       "\t<li><ol class=list-inline>\n",
       "\t<li>'Duncan'</li>\n",
       "\t<li>'Temple'</li>\n",
       "\t<li>'Lang'</li>\n",
       "</ol>\n",
       "</li>\n",
       "\t<li><ol class=list-inline>\n",
       "\t<li>'Luke'</li>\n",
       "\t<li>'Tierney'</li>\n",
       "</ol>\n",
       "</li>\n",
       "\t<li><ol class=list-inline>\n",
       "\t<li>'Simon'</li>\n",
       "\t<li>'Urbanek'</li>\n",
       "</ol>\n",
       "</li>\n",
       "\t<li></li>\n",
       "</ol>\n"
      ],
      "text/latex": [
       "\\begin{enumerate}\n",
       "\\item \\begin{enumerate*}\n",
       "\\item 'Douglas'\n",
       "\\item 'Bates'\n",
       "\\end{enumerate*}\n",
       "\n",
       "\\item \\begin{enumerate*}\n",
       "\\item 'John'\n",
       "\\item 'Chambers'\n",
       "\\end{enumerate*}\n",
       "\n",
       "\\item \\begin{enumerate*}\n",
       "\\item 'Peter'\n",
       "\\item 'Dalgaard'\n",
       "\\end{enumerate*}\n",
       "\n",
       "\\item \\begin{enumerate*}\n",
       "\\item 'Robert'\n",
       "\\item 'Gentleman'\n",
       "\\end{enumerate*}\n",
       "\n",
       "\\item \\begin{enumerate*}\n",
       "\\item 'Kurt'\n",
       "\\item 'Hornik'\n",
       "\\end{enumerate*}\n",
       "\n",
       "\\item \\begin{enumerate*}\n",
       "\\item 'Ross'\n",
       "\\item 'Ihaka'\n",
       "\\end{enumerate*}\n",
       "\n",
       "\\item \\begin{enumerate*}\n",
       "\\item 'Tomas'\n",
       "\\item 'Kalibera'\n",
       "\\end{enumerate*}\n",
       "\n",
       "\\item \\begin{enumerate*}\n",
       "\\item 'Michael'\n",
       "\\item 'Lawrence'\n",
       "\\end{enumerate*}\n",
       "\n",
       "\\item \\begin{enumerate*}\n",
       "\\item 'Friedrich'\n",
       "\\item 'Leisch'\n",
       "\\end{enumerate*}\n",
       "\n",
       "\\item \\begin{enumerate*}\n",
       "\\item 'Uwe'\n",
       "\\item 'Ligges'\n",
       "\\end{enumerate*}\n",
       "\n",
       "\\item \\begin{enumerate*}\n",
       "\\item 'Thomas'\n",
       "\\item 'Lumley'\n",
       "\\end{enumerate*}\n",
       "\n",
       "\\item \\begin{enumerate*}\n",
       "\\item 'Martin'\n",
       "\\item 'Maechler'\n",
       "\\end{enumerate*}\n",
       "\n",
       "\\item \\begin{enumerate*}\n",
       "\\item 'Martin'\n",
       "\\item 'Morgan'\n",
       "\\end{enumerate*}\n",
       "\n",
       "\\item \\begin{enumerate*}\n",
       "\\item 'Paul'\n",
       "\\item 'Murrell'\n",
       "\\end{enumerate*}\n",
       "\n",
       "\\item \\begin{enumerate*}\n",
       "\\item 'Martyn'\n",
       "\\item 'Plummer'\n",
       "\\end{enumerate*}\n",
       "\n",
       "\\item \\begin{enumerate*}\n",
       "\\item 'Brian'\n",
       "\\item 'Ripley'\n",
       "\\end{enumerate*}\n",
       "\n",
       "\\item \\begin{enumerate*}\n",
       "\\item 'Deepayan'\n",
       "\\item 'Sarkar'\n",
       "\\end{enumerate*}\n",
       "\n",
       "\\item \\begin{enumerate*}\n",
       "\\item 'Duncan'\n",
       "\\item 'Temple'\n",
       "\\item 'Lang'\n",
       "\\end{enumerate*}\n",
       "\n",
       "\\item \\begin{enumerate*}\n",
       "\\item 'Luke'\n",
       "\\item 'Tierney'\n",
       "\\end{enumerate*}\n",
       "\n",
       "\\item \\begin{enumerate*}\n",
       "\\item 'Simon'\n",
       "\\item 'Urbanek'\n",
       "\\end{enumerate*}\n",
       "\n",
       "\\item \n",
       "\\end{enumerate}\n"
      ],
      "text/markdown": [
       "1. 1. 'Douglas'\n",
       "2. 'Bates'\n",
       "\n",
       "\n",
       "\n",
       "2. 1. 'John'\n",
       "2. 'Chambers'\n",
       "\n",
       "\n",
       "\n",
       "3. 1. 'Peter'\n",
       "2. 'Dalgaard'\n",
       "\n",
       "\n",
       "\n",
       "4. 1. 'Robert'\n",
       "2. 'Gentleman'\n",
       "\n",
       "\n",
       "\n",
       "5. 1. 'Kurt'\n",
       "2. 'Hornik'\n",
       "\n",
       "\n",
       "\n",
       "6. 1. 'Ross'\n",
       "2. 'Ihaka'\n",
       "\n",
       "\n",
       "\n",
       "7. 1. 'Tomas'\n",
       "2. 'Kalibera'\n",
       "\n",
       "\n",
       "\n",
       "8. 1. 'Michael'\n",
       "2. 'Lawrence'\n",
       "\n",
       "\n",
       "\n",
       "9. 1. 'Friedrich'\n",
       "2. 'Leisch'\n",
       "\n",
       "\n",
       "\n",
       "10. 1. 'Uwe'\n",
       "2. 'Ligges'\n",
       "\n",
       "\n",
       "\n",
       "11. 1. 'Thomas'\n",
       "2. 'Lumley'\n",
       "\n",
       "\n",
       "\n",
       "12. 1. 'Martin'\n",
       "2. 'Maechler'\n",
       "\n",
       "\n",
       "\n",
       "13. 1. 'Martin'\n",
       "2. 'Morgan'\n",
       "\n",
       "\n",
       "\n",
       "14. 1. 'Paul'\n",
       "2. 'Murrell'\n",
       "\n",
       "\n",
       "\n",
       "15. 1. 'Martyn'\n",
       "2. 'Plummer'\n",
       "\n",
       "\n",
       "\n",
       "16. 1. 'Brian'\n",
       "2. 'Ripley'\n",
       "\n",
       "\n",
       "\n",
       "17. 1. 'Deepayan'\n",
       "2. 'Sarkar'\n",
       "\n",
       "\n",
       "\n",
       "18. 1. 'Duncan'\n",
       "2. 'Temple'\n",
       "3. 'Lang'\n",
       "\n",
       "\n",
       "\n",
       "19. 1. 'Luke'\n",
       "2. 'Tierney'\n",
       "\n",
       "\n",
       "\n",
       "20. 1. 'Simon'\n",
       "2. 'Urbanek'\n",
       "\n",
       "\n",
       "\n",
       "21. \n",
       "\n",
       "\n"
      ],
      "text/plain": [
       "[[1]]\n",
       "[1] \"Douglas\" \"Bates\"  \n",
       "\n",
       "[[2]]\n",
       "[1] \"John\"     \"Chambers\"\n",
       "\n",
       "[[3]]\n",
       "[1] \"Peter\"    \"Dalgaard\"\n",
       "\n",
       "[[4]]\n",
       "[1] \"Robert\"    \"Gentleman\"\n",
       "\n",
       "[[5]]\n",
       "[1] \"Kurt\"   \"Hornik\"\n",
       "\n",
       "[[6]]\n",
       "[1] \"Ross\"  \"Ihaka\"\n",
       "\n",
       "[[7]]\n",
       "[1] \"Tomas\"    \"Kalibera\"\n",
       "\n",
       "[[8]]\n",
       "[1] \"Michael\"  \"Lawrence\"\n",
       "\n",
       "[[9]]\n",
       "[1] \"Friedrich\" \"Leisch\"   \n",
       "\n",
       "[[10]]\n",
       "[1] \"Uwe\"    \"Ligges\"\n",
       "\n",
       "[[11]]\n",
       "[1] \"Thomas\" \"Lumley\"\n",
       "\n",
       "[[12]]\n",
       "[1] \"Martin\"   \"Maechler\"\n",
       "\n",
       "[[13]]\n",
       "[1] \"Martin\" \"Morgan\"\n",
       "\n",
       "[[14]]\n",
       "[1] \"Paul\"    \"Murrell\"\n",
       "\n",
       "[[15]]\n",
       "[1] \"Martyn\"  \"Plummer\"\n",
       "\n",
       "[[16]]\n",
       "[1] \"Brian\"  \"Ripley\"\n",
       "\n",
       "[[17]]\n",
       "[1] \"Deepayan\" \"Sarkar\"  \n",
       "\n",
       "[[18]]\n",
       "[1] \"Duncan\" \"Temple\" \"Lang\"  \n",
       "\n",
       "[[19]]\n",
       "[1] \"Luke\"    \"Tierney\"\n",
       "\n",
       "[[20]]\n",
       "[1] \"Simon\"   \"Urbanek\"\n",
       "\n",
       "[[21]]\n",
       "character(0)\n"
      ]
     },
     "metadata": {},
     "output_type": "display_data"
    }
   ],
   "source": [
    "#we can use the power of sapply\n",
    "ss=strsplit(a, \" \") #The output is a list\n",
    "ss"
   ]
  },
  {
   "cell_type": "code",
   "execution_count": 22,
   "metadata": {},
   "outputs": [
    {
     "data": {
      "text/html": [
       "<ol>\n",
       "\t<li><ol class=list-inline>\n",
       "\t<li>'Douglas'</li>\n",
       "\t<li>'Bates'</li>\n",
       "</ol>\n",
       "</li>\n",
       "\t<li><ol class=list-inline>\n",
       "\t<li>'John'</li>\n",
       "\t<li>'Chambers'</li>\n",
       "</ol>\n",
       "</li>\n",
       "\t<li><ol class=list-inline>\n",
       "\t<li>'Peter'</li>\n",
       "\t<li>'Dalgaard'</li>\n",
       "</ol>\n",
       "</li>\n",
       "\t<li><ol class=list-inline>\n",
       "\t<li>'Robert'</li>\n",
       "\t<li>'Gentleman'</li>\n",
       "</ol>\n",
       "</li>\n",
       "\t<li><ol class=list-inline>\n",
       "\t<li>'Kurt'</li>\n",
       "\t<li>'Hornik'</li>\n",
       "</ol>\n",
       "</li>\n",
       "\t<li><ol class=list-inline>\n",
       "\t<li>'Ross'</li>\n",
       "\t<li>'Ihaka'</li>\n",
       "</ol>\n",
       "</li>\n",
       "\t<li><ol class=list-inline>\n",
       "\t<li>'Tomas'</li>\n",
       "\t<li>'Kalibera'</li>\n",
       "</ol>\n",
       "</li>\n",
       "\t<li><ol class=list-inline>\n",
       "\t<li>'Michael'</li>\n",
       "\t<li>'Lawrence'</li>\n",
       "</ol>\n",
       "</li>\n",
       "\t<li><ol class=list-inline>\n",
       "\t<li>'Friedrich'</li>\n",
       "\t<li>'Leisch'</li>\n",
       "</ol>\n",
       "</li>\n",
       "\t<li><ol class=list-inline>\n",
       "\t<li>'Uwe'</li>\n",
       "\t<li>'Ligges'</li>\n",
       "</ol>\n",
       "</li>\n",
       "\t<li><ol class=list-inline>\n",
       "\t<li>'Thomas'</li>\n",
       "\t<li>'Lumley'</li>\n",
       "</ol>\n",
       "</li>\n",
       "\t<li><ol class=list-inline>\n",
       "\t<li>'Martin'</li>\n",
       "\t<li>'Maechler'</li>\n",
       "</ol>\n",
       "</li>\n",
       "\t<li><ol class=list-inline>\n",
       "\t<li>'Martin'</li>\n",
       "\t<li>'Morgan'</li>\n",
       "</ol>\n",
       "</li>\n",
       "\t<li><ol class=list-inline>\n",
       "\t<li>'Paul'</li>\n",
       "\t<li>'Murrell'</li>\n",
       "</ol>\n",
       "</li>\n",
       "\t<li><ol class=list-inline>\n",
       "\t<li>'Martyn'</li>\n",
       "\t<li>'Plummer'</li>\n",
       "</ol>\n",
       "</li>\n",
       "\t<li><ol class=list-inline>\n",
       "\t<li>'Brian'</li>\n",
       "\t<li>'Ripley'</li>\n",
       "</ol>\n",
       "</li>\n",
       "\t<li><ol class=list-inline>\n",
       "\t<li>'Deepayan'</li>\n",
       "\t<li>'Sarkar'</li>\n",
       "</ol>\n",
       "</li>\n",
       "\t<li><ol class=list-inline>\n",
       "\t<li>'Duncan'</li>\n",
       "\t<li>'Temple'</li>\n",
       "\t<li>'Lang'</li>\n",
       "</ol>\n",
       "</li>\n",
       "\t<li><ol class=list-inline>\n",
       "\t<li>'Luke'</li>\n",
       "\t<li>'Tierney'</li>\n",
       "</ol>\n",
       "</li>\n",
       "\t<li><ol class=list-inline>\n",
       "\t<li>'Simon'</li>\n",
       "\t<li>'Urbanek'</li>\n",
       "</ol>\n",
       "</li>\n",
       "\t<li></li>\n",
       "</ol>\n"
      ],
      "text/latex": [
       "\\begin{enumerate}\n",
       "\\item \\begin{enumerate*}\n",
       "\\item 'Douglas'\n",
       "\\item 'Bates'\n",
       "\\end{enumerate*}\n",
       "\n",
       "\\item \\begin{enumerate*}\n",
       "\\item 'John'\n",
       "\\item 'Chambers'\n",
       "\\end{enumerate*}\n",
       "\n",
       "\\item \\begin{enumerate*}\n",
       "\\item 'Peter'\n",
       "\\item 'Dalgaard'\n",
       "\\end{enumerate*}\n",
       "\n",
       "\\item \\begin{enumerate*}\n",
       "\\item 'Robert'\n",
       "\\item 'Gentleman'\n",
       "\\end{enumerate*}\n",
       "\n",
       "\\item \\begin{enumerate*}\n",
       "\\item 'Kurt'\n",
       "\\item 'Hornik'\n",
       "\\end{enumerate*}\n",
       "\n",
       "\\item \\begin{enumerate*}\n",
       "\\item 'Ross'\n",
       "\\item 'Ihaka'\n",
       "\\end{enumerate*}\n",
       "\n",
       "\\item \\begin{enumerate*}\n",
       "\\item 'Tomas'\n",
       "\\item 'Kalibera'\n",
       "\\end{enumerate*}\n",
       "\n",
       "\\item \\begin{enumerate*}\n",
       "\\item 'Michael'\n",
       "\\item 'Lawrence'\n",
       "\\end{enumerate*}\n",
       "\n",
       "\\item \\begin{enumerate*}\n",
       "\\item 'Friedrich'\n",
       "\\item 'Leisch'\n",
       "\\end{enumerate*}\n",
       "\n",
       "\\item \\begin{enumerate*}\n",
       "\\item 'Uwe'\n",
       "\\item 'Ligges'\n",
       "\\end{enumerate*}\n",
       "\n",
       "\\item \\begin{enumerate*}\n",
       "\\item 'Thomas'\n",
       "\\item 'Lumley'\n",
       "\\end{enumerate*}\n",
       "\n",
       "\\item \\begin{enumerate*}\n",
       "\\item 'Martin'\n",
       "\\item 'Maechler'\n",
       "\\end{enumerate*}\n",
       "\n",
       "\\item \\begin{enumerate*}\n",
       "\\item 'Martin'\n",
       "\\item 'Morgan'\n",
       "\\end{enumerate*}\n",
       "\n",
       "\\item \\begin{enumerate*}\n",
       "\\item 'Paul'\n",
       "\\item 'Murrell'\n",
       "\\end{enumerate*}\n",
       "\n",
       "\\item \\begin{enumerate*}\n",
       "\\item 'Martyn'\n",
       "\\item 'Plummer'\n",
       "\\end{enumerate*}\n",
       "\n",
       "\\item \\begin{enumerate*}\n",
       "\\item 'Brian'\n",
       "\\item 'Ripley'\n",
       "\\end{enumerate*}\n",
       "\n",
       "\\item \\begin{enumerate*}\n",
       "\\item 'Deepayan'\n",
       "\\item 'Sarkar'\n",
       "\\end{enumerate*}\n",
       "\n",
       "\\item \\begin{enumerate*}\n",
       "\\item 'Duncan'\n",
       "\\item 'Temple'\n",
       "\\item 'Lang'\n",
       "\\end{enumerate*}\n",
       "\n",
       "\\item \\begin{enumerate*}\n",
       "\\item 'Luke'\n",
       "\\item 'Tierney'\n",
       "\\end{enumerate*}\n",
       "\n",
       "\\item \\begin{enumerate*}\n",
       "\\item 'Simon'\n",
       "\\item 'Urbanek'\n",
       "\\end{enumerate*}\n",
       "\n",
       "\\item \n",
       "\\end{enumerate}\n"
      ],
      "text/markdown": [
       "1. 1. 'Douglas'\n",
       "2. 'Bates'\n",
       "\n",
       "\n",
       "\n",
       "2. 1. 'John'\n",
       "2. 'Chambers'\n",
       "\n",
       "\n",
       "\n",
       "3. 1. 'Peter'\n",
       "2. 'Dalgaard'\n",
       "\n",
       "\n",
       "\n",
       "4. 1. 'Robert'\n",
       "2. 'Gentleman'\n",
       "\n",
       "\n",
       "\n",
       "5. 1. 'Kurt'\n",
       "2. 'Hornik'\n",
       "\n",
       "\n",
       "\n",
       "6. 1. 'Ross'\n",
       "2. 'Ihaka'\n",
       "\n",
       "\n",
       "\n",
       "7. 1. 'Tomas'\n",
       "2. 'Kalibera'\n",
       "\n",
       "\n",
       "\n",
       "8. 1. 'Michael'\n",
       "2. 'Lawrence'\n",
       "\n",
       "\n",
       "\n",
       "9. 1. 'Friedrich'\n",
       "2. 'Leisch'\n",
       "\n",
       "\n",
       "\n",
       "10. 1. 'Uwe'\n",
       "2. 'Ligges'\n",
       "\n",
       "\n",
       "\n",
       "11. 1. 'Thomas'\n",
       "2. 'Lumley'\n",
       "\n",
       "\n",
       "\n",
       "12. 1. 'Martin'\n",
       "2. 'Maechler'\n",
       "\n",
       "\n",
       "\n",
       "13. 1. 'Martin'\n",
       "2. 'Morgan'\n",
       "\n",
       "\n",
       "\n",
       "14. 1. 'Paul'\n",
       "2. 'Murrell'\n",
       "\n",
       "\n",
       "\n",
       "15. 1. 'Martyn'\n",
       "2. 'Plummer'\n",
       "\n",
       "\n",
       "\n",
       "16. 1. 'Brian'\n",
       "2. 'Ripley'\n",
       "\n",
       "\n",
       "\n",
       "17. 1. 'Deepayan'\n",
       "2. 'Sarkar'\n",
       "\n",
       "\n",
       "\n",
       "18. 1. 'Duncan'\n",
       "2. 'Temple'\n",
       "3. 'Lang'\n",
       "\n",
       "\n",
       "\n",
       "19. 1. 'Luke'\n",
       "2. 'Tierney'\n",
       "\n",
       "\n",
       "\n",
       "20. 1. 'Simon'\n",
       "2. 'Urbanek'\n",
       "\n",
       "\n",
       "\n",
       "21. \n",
       "\n",
       "\n"
      ],
      "text/plain": [
       "[[1]]\n",
       "[1] \"Douglas\" \"Bates\"  \n",
       "\n",
       "[[2]]\n",
       "[1] \"John\"     \"Chambers\"\n",
       "\n",
       "[[3]]\n",
       "[1] \"Peter\"    \"Dalgaard\"\n",
       "\n",
       "[[4]]\n",
       "[1] \"Robert\"    \"Gentleman\"\n",
       "\n",
       "[[5]]\n",
       "[1] \"Kurt\"   \"Hornik\"\n",
       "\n",
       "[[6]]\n",
       "[1] \"Ross\"  \"Ihaka\"\n",
       "\n",
       "[[7]]\n",
       "[1] \"Tomas\"    \"Kalibera\"\n",
       "\n",
       "[[8]]\n",
       "[1] \"Michael\"  \"Lawrence\"\n",
       "\n",
       "[[9]]\n",
       "[1] \"Friedrich\" \"Leisch\"   \n",
       "\n",
       "[[10]]\n",
       "[1] \"Uwe\"    \"Ligges\"\n",
       "\n",
       "[[11]]\n",
       "[1] \"Thomas\" \"Lumley\"\n",
       "\n",
       "[[12]]\n",
       "[1] \"Martin\"   \"Maechler\"\n",
       "\n",
       "[[13]]\n",
       "[1] \"Martin\" \"Morgan\"\n",
       "\n",
       "[[14]]\n",
       "[1] \"Paul\"    \"Murrell\"\n",
       "\n",
       "[[15]]\n",
       "[1] \"Martyn\"  \"Plummer\"\n",
       "\n",
       "[[16]]\n",
       "[1] \"Brian\"  \"Ripley\"\n",
       "\n",
       "[[17]]\n",
       "[1] \"Deepayan\" \"Sarkar\"  \n",
       "\n",
       "[[18]]\n",
       "[1] \"Duncan\" \"Temple\" \"Lang\"  \n",
       "\n",
       "[[19]]\n",
       "[1] \"Luke\"    \"Tierney\"\n",
       "\n",
       "[[20]]\n",
       "[1] \"Simon\"   \"Urbanek\"\n",
       "\n",
       "[[21]]\n",
       "character(0)\n"
      ]
     },
     "metadata": {},
     "output_type": "display_data"
    }
   ],
   "source": [
    "structure(ss)"
   ]
  },
  {
   "cell_type": "code",
   "execution_count": 29,
   "metadata": {},
   "outputs": [
    {
     "data": {
      "text/html": [
       "<ol class=list-inline>\n",
       "\t<li>'Douglas'</li>\n",
       "\t<li>'John'</li>\n",
       "\t<li>'Peter'</li>\n",
       "\t<li>'Robert'</li>\n",
       "\t<li>'Kurt'</li>\n",
       "\t<li>'Ross'</li>\n",
       "\t<li>'Tomas'</li>\n",
       "\t<li>'Michael'</li>\n",
       "\t<li>'Friedrich'</li>\n",
       "\t<li>'Uwe'</li>\n",
       "\t<li>'Thomas'</li>\n",
       "\t<li>'Martin'</li>\n",
       "\t<li>'Martin'</li>\n",
       "\t<li>'Paul'</li>\n",
       "\t<li>'Martyn'</li>\n",
       "\t<li>'Brian'</li>\n",
       "\t<li>'Deepayan'</li>\n",
       "\t<li>'Duncan'</li>\n",
       "\t<li>'Luke'</li>\n",
       "\t<li>'Simon'</li>\n",
       "\t<li>NA</li>\n",
       "</ol>\n"
      ],
      "text/latex": [
       "\\begin{enumerate*}\n",
       "\\item 'Douglas'\n",
       "\\item 'John'\n",
       "\\item 'Peter'\n",
       "\\item 'Robert'\n",
       "\\item 'Kurt'\n",
       "\\item 'Ross'\n",
       "\\item 'Tomas'\n",
       "\\item 'Michael'\n",
       "\\item 'Friedrich'\n",
       "\\item 'Uwe'\n",
       "\\item 'Thomas'\n",
       "\\item 'Martin'\n",
       "\\item 'Martin'\n",
       "\\item 'Paul'\n",
       "\\item 'Martyn'\n",
       "\\item 'Brian'\n",
       "\\item 'Deepayan'\n",
       "\\item 'Duncan'\n",
       "\\item 'Luke'\n",
       "\\item 'Simon'\n",
       "\\item NA\n",
       "\\end{enumerate*}\n"
      ],
      "text/markdown": [
       "1. 'Douglas'\n",
       "2. 'John'\n",
       "3. 'Peter'\n",
       "4. 'Robert'\n",
       "5. 'Kurt'\n",
       "6. 'Ross'\n",
       "7. 'Tomas'\n",
       "8. 'Michael'\n",
       "9. 'Friedrich'\n",
       "10. 'Uwe'\n",
       "11. 'Thomas'\n",
       "12. 'Martin'\n",
       "13. 'Martin'\n",
       "14. 'Paul'\n",
       "15. 'Martyn'\n",
       "16. 'Brian'\n",
       "17. 'Deepayan'\n",
       "18. 'Duncan'\n",
       "19. 'Luke'\n",
       "20. 'Simon'\n",
       "21. NA\n",
       "\n",
       "\n"
      ],
      "text/plain": [
       " [1] \"Douglas\"   \"John\"      \"Peter\"     \"Robert\"    \"Kurt\"      \"Ross\"     \n",
       " [7] \"Tomas\"     \"Michael\"   \"Friedrich\" \"Uwe\"       \"Thomas\"    \"Martin\"   \n",
       "[13] \"Martin\"    \"Paul\"      \"Martyn\"    \"Brian\"     \"Deepayan\"  \"Duncan\"   \n",
       "[19] \"Luke\"      \"Simon\"     NA         "
      ]
     },
     "metadata": {},
     "output_type": "display_data"
    }
   ],
   "source": [
    "sapply(strsplit(a, \" \"), \"[\", 1)\n",
    "#Means, subset second value of each element of the list"
   ]
  },
  {
   "cell_type": "code",
   "execution_count": 30,
   "metadata": {},
   "outputs": [
    {
     "data": {
      "text/html": [
       "<ol class=list-inline>\n",
       "\t<li>'Bates'</li>\n",
       "\t<li>'Chambers'</li>\n",
       "\t<li>'Dalgaard'</li>\n",
       "\t<li>'Gentleman'</li>\n",
       "\t<li>'Hornik'</li>\n",
       "\t<li>'Ihaka'</li>\n",
       "\t<li>'Kalibera'</li>\n",
       "\t<li>'Lawrence'</li>\n",
       "\t<li>'Leisch'</li>\n",
       "\t<li>'Ligges'</li>\n",
       "\t<li>'Lumley'</li>\n",
       "\t<li>'Maechler'</li>\n",
       "\t<li>'Morgan'</li>\n",
       "\t<li>'Murrell'</li>\n",
       "\t<li>'Plummer'</li>\n",
       "\t<li>'Ripley'</li>\n",
       "\t<li>'Sarkar'</li>\n",
       "\t<li>'Temple'</li>\n",
       "\t<li>'Tierney'</li>\n",
       "\t<li>'Urbanek'</li>\n",
       "\t<li>NA</li>\n",
       "</ol>\n"
      ],
      "text/latex": [
       "\\begin{enumerate*}\n",
       "\\item 'Bates'\n",
       "\\item 'Chambers'\n",
       "\\item 'Dalgaard'\n",
       "\\item 'Gentleman'\n",
       "\\item 'Hornik'\n",
       "\\item 'Ihaka'\n",
       "\\item 'Kalibera'\n",
       "\\item 'Lawrence'\n",
       "\\item 'Leisch'\n",
       "\\item 'Ligges'\n",
       "\\item 'Lumley'\n",
       "\\item 'Maechler'\n",
       "\\item 'Morgan'\n",
       "\\item 'Murrell'\n",
       "\\item 'Plummer'\n",
       "\\item 'Ripley'\n",
       "\\item 'Sarkar'\n",
       "\\item 'Temple'\n",
       "\\item 'Tierney'\n",
       "\\item 'Urbanek'\n",
       "\\item NA\n",
       "\\end{enumerate*}\n"
      ],
      "text/markdown": [
       "1. 'Bates'\n",
       "2. 'Chambers'\n",
       "3. 'Dalgaard'\n",
       "4. 'Gentleman'\n",
       "5. 'Hornik'\n",
       "6. 'Ihaka'\n",
       "7. 'Kalibera'\n",
       "8. 'Lawrence'\n",
       "9. 'Leisch'\n",
       "10. 'Ligges'\n",
       "11. 'Lumley'\n",
       "12. 'Maechler'\n",
       "13. 'Morgan'\n",
       "14. 'Murrell'\n",
       "15. 'Plummer'\n",
       "16. 'Ripley'\n",
       "17. 'Sarkar'\n",
       "18. 'Temple'\n",
       "19. 'Tierney'\n",
       "20. 'Urbanek'\n",
       "21. NA\n",
       "\n",
       "\n"
      ],
      "text/plain": [
       " [1] \"Bates\"     \"Chambers\"  \"Dalgaard\"  \"Gentleman\" \"Hornik\"    \"Ihaka\"    \n",
       " [7] \"Kalibera\"  \"Lawrence\"  \"Leisch\"    \"Ligges\"    \"Lumley\"    \"Maechler\" \n",
       "[13] \"Morgan\"    \"Murrell\"   \"Plummer\"   \"Ripley\"    \"Sarkar\"    \"Temple\"   \n",
       "[19] \"Tierney\"   \"Urbanek\"   NA         "
      ]
     },
     "metadata": {},
     "output_type": "display_data"
    }
   ],
   "source": [
    "#Similary, extract second name\n",
    "sapply(strsplit(a, \" \"), \"[\", 2)\n",
    "##############################################"
   ]
  },
  {
   "cell_type": "code",
   "execution_count": 31,
   "metadata": {},
   "outputs": [],
   "source": [
    "#A simpler way to achieve this same result would be to use the\n",
    "#str_split_fixed function of the stringr package:\n",
    "library(stringr)"
   ]
  },
  {
   "cell_type": "code",
   "execution_count": 32,
   "metadata": {},
   "outputs": [
    {
     "data": {
      "text/html": [
       "<table>\n",
       "<tbody>\n",
       "\t<tr><td>Douglas    </td><td>Bates      </td></tr>\n",
       "\t<tr><td>John       </td><td>Chambers   </td></tr>\n",
       "\t<tr><td>Peter      </td><td>Dalgaard   </td></tr>\n",
       "\t<tr><td>Robert     </td><td>Gentleman  </td></tr>\n",
       "\t<tr><td>Kurt       </td><td>Hornik     </td></tr>\n",
       "\t<tr><td>Ross       </td><td>Ihaka      </td></tr>\n",
       "\t<tr><td>Tomas      </td><td>Kalibera   </td></tr>\n",
       "\t<tr><td>Michael    </td><td>Lawrence   </td></tr>\n",
       "\t<tr><td>Friedrich  </td><td>Leisch     </td></tr>\n",
       "\t<tr><td>Uwe        </td><td>Ligges     </td></tr>\n",
       "\t<tr><td>Thomas     </td><td>Lumley     </td></tr>\n",
       "\t<tr><td>Martin     </td><td>Maechler   </td></tr>\n",
       "\t<tr><td>Martin     </td><td>Morgan     </td></tr>\n",
       "\t<tr><td>Paul       </td><td>Murrell    </td></tr>\n",
       "\t<tr><td>Martyn     </td><td>Plummer    </td></tr>\n",
       "\t<tr><td>Brian      </td><td>Ripley     </td></tr>\n",
       "\t<tr><td>Deepayan   </td><td>Sarkar     </td></tr>\n",
       "\t<tr><td>Duncan     </td><td>Temple Lang</td></tr>\n",
       "\t<tr><td>Luke       </td><td>Tierney    </td></tr>\n",
       "\t<tr><td>Simon      </td><td>Urbanek    </td></tr>\n",
       "\t<tr><td>           </td><td>           </td></tr>\n",
       "</tbody>\n",
       "</table>\n"
      ],
      "text/latex": [
       "\\begin{tabular}{ll}\n",
       "\t Douglas     & Bates      \\\\\n",
       "\t John        & Chambers   \\\\\n",
       "\t Peter       & Dalgaard   \\\\\n",
       "\t Robert      & Gentleman  \\\\\n",
       "\t Kurt        & Hornik     \\\\\n",
       "\t Ross        & Ihaka      \\\\\n",
       "\t Tomas       & Kalibera   \\\\\n",
       "\t Michael     & Lawrence   \\\\\n",
       "\t Friedrich   & Leisch     \\\\\n",
       "\t Uwe         & Ligges     \\\\\n",
       "\t Thomas      & Lumley     \\\\\n",
       "\t Martin      & Maechler   \\\\\n",
       "\t Martin      & Morgan     \\\\\n",
       "\t Paul        & Murrell    \\\\\n",
       "\t Martyn      & Plummer    \\\\\n",
       "\t Brian       & Ripley     \\\\\n",
       "\t Deepayan    & Sarkar     \\\\\n",
       "\t Duncan      & Temple Lang\\\\\n",
       "\t Luke        & Tierney    \\\\\n",
       "\t Simon       & Urbanek    \\\\\n",
       "\t             &            \\\\\n",
       "\\end{tabular}\n"
      ],
      "text/markdown": [
       "\n",
       "| Douglas     | Bates       |\n",
       "| John        | Chambers    |\n",
       "| Peter       | Dalgaard    |\n",
       "| Robert      | Gentleman   |\n",
       "| Kurt        | Hornik      |\n",
       "| Ross        | Ihaka       |\n",
       "| Tomas       | Kalibera    |\n",
       "| Michael     | Lawrence    |\n",
       "| Friedrich   | Leisch      |\n",
       "| Uwe         | Ligges      |\n",
       "| Thomas      | Lumley      |\n",
       "| Martin      | Maechler    |\n",
       "| Martin      | Morgan      |\n",
       "| Paul        | Murrell     |\n",
       "| Martyn      | Plummer     |\n",
       "| Brian       | Ripley      |\n",
       "| Deepayan    | Sarkar      |\n",
       "| Duncan      | Temple Lang |\n",
       "| Luke        | Tierney     |\n",
       "| Simon       | Urbanek     |\n",
       "|             |             |\n",
       "\n"
      ],
      "text/plain": [
       "      [,1]      [,2]       \n",
       " [1,] Douglas   Bates      \n",
       " [2,] John      Chambers   \n",
       " [3,] Peter     Dalgaard   \n",
       " [4,] Robert    Gentleman  \n",
       " [5,] Kurt      Hornik     \n",
       " [6,] Ross      Ihaka      \n",
       " [7,] Tomas     Kalibera   \n",
       " [8,] Michael   Lawrence   \n",
       " [9,] Friedrich Leisch     \n",
       "[10,] Uwe       Ligges     \n",
       "[11,] Thomas    Lumley     \n",
       "[12,] Martin    Maechler   \n",
       "[13,] Martin    Morgan     \n",
       "[14,] Paul      Murrell    \n",
       "[15,] Martyn    Plummer    \n",
       "[16,] Brian     Ripley     \n",
       "[17,] Deepayan  Sarkar     \n",
       "[18,] Duncan    Temple Lang\n",
       "[19,] Luke      Tierney    \n",
       "[20,] Simon     Urbanek    \n",
       "[21,]                      "
      ]
     },
     "metadata": {},
     "output_type": "display_data"
    },
    {
     "data": {
      "text/html": [
       "<ol class=list-inline>\n",
       "\t<li>'Douglas'</li>\n",
       "\t<li>'John'</li>\n",
       "\t<li>'Peter'</li>\n",
       "\t<li>'Robert'</li>\n",
       "\t<li>'Kurt'</li>\n",
       "\t<li>'Ross'</li>\n",
       "\t<li>'Tomas'</li>\n",
       "\t<li>'Michael'</li>\n",
       "\t<li>'Friedrich'</li>\n",
       "\t<li>'Uwe'</li>\n",
       "\t<li>'Thomas'</li>\n",
       "\t<li>'Martin'</li>\n",
       "\t<li>'Martin'</li>\n",
       "\t<li>'Paul'</li>\n",
       "\t<li>'Martyn'</li>\n",
       "\t<li>'Brian'</li>\n",
       "\t<li>'Deepayan'</li>\n",
       "\t<li>'Duncan'</li>\n",
       "\t<li>'Luke'</li>\n",
       "\t<li>'Simon'</li>\n",
       "\t<li>''</li>\n",
       "</ol>\n"
      ],
      "text/latex": [
       "\\begin{enumerate*}\n",
       "\\item 'Douglas'\n",
       "\\item 'John'\n",
       "\\item 'Peter'\n",
       "\\item 'Robert'\n",
       "\\item 'Kurt'\n",
       "\\item 'Ross'\n",
       "\\item 'Tomas'\n",
       "\\item 'Michael'\n",
       "\\item 'Friedrich'\n",
       "\\item 'Uwe'\n",
       "\\item 'Thomas'\n",
       "\\item 'Martin'\n",
       "\\item 'Martin'\n",
       "\\item 'Paul'\n",
       "\\item 'Martyn'\n",
       "\\item 'Brian'\n",
       "\\item 'Deepayan'\n",
       "\\item 'Duncan'\n",
       "\\item 'Luke'\n",
       "\\item 'Simon'\n",
       "\\item ''\n",
       "\\end{enumerate*}\n"
      ],
      "text/markdown": [
       "1. 'Douglas'\n",
       "2. 'John'\n",
       "3. 'Peter'\n",
       "4. 'Robert'\n",
       "5. 'Kurt'\n",
       "6. 'Ross'\n",
       "7. 'Tomas'\n",
       "8. 'Michael'\n",
       "9. 'Friedrich'\n",
       "10. 'Uwe'\n",
       "11. 'Thomas'\n",
       "12. 'Martin'\n",
       "13. 'Martin'\n",
       "14. 'Paul'\n",
       "15. 'Martyn'\n",
       "16. 'Brian'\n",
       "17. 'Deepayan'\n",
       "18. 'Duncan'\n",
       "19. 'Luke'\n",
       "20. 'Simon'\n",
       "21. ''\n",
       "\n",
       "\n"
      ],
      "text/plain": [
       " [1] \"Douglas\"   \"John\"      \"Peter\"     \"Robert\"    \"Kurt\"      \"Ross\"     \n",
       " [7] \"Tomas\"     \"Michael\"   \"Friedrich\" \"Uwe\"       \"Thomas\"    \"Martin\"   \n",
       "[13] \"Martin\"    \"Paul\"      \"Martyn\"    \"Brian\"     \"Deepayan\"  \"Duncan\"   \n",
       "[19] \"Luke\"      \"Simon\"     \"\"         "
      ]
     },
     "metadata": {},
     "output_type": "display_data"
    },
    {
     "data": {
      "text/html": [
       "<ol class=list-inline>\n",
       "\t<li>'Bates'</li>\n",
       "\t<li>'Chambers'</li>\n",
       "\t<li>'Dalgaard'</li>\n",
       "\t<li>'Gentleman'</li>\n",
       "\t<li>'Hornik'</li>\n",
       "\t<li>'Ihaka'</li>\n",
       "\t<li>'Kalibera'</li>\n",
       "\t<li>'Lawrence'</li>\n",
       "\t<li>'Leisch'</li>\n",
       "\t<li>'Ligges'</li>\n",
       "\t<li>'Lumley'</li>\n",
       "\t<li>'Maechler'</li>\n",
       "\t<li>'Morgan'</li>\n",
       "\t<li>'Murrell'</li>\n",
       "\t<li>'Plummer'</li>\n",
       "\t<li>'Ripley'</li>\n",
       "\t<li>'Sarkar'</li>\n",
       "\t<li>'Temple Lang'</li>\n",
       "\t<li>'Tierney'</li>\n",
       "\t<li>'Urbanek'</li>\n",
       "\t<li>''</li>\n",
       "</ol>\n"
      ],
      "text/latex": [
       "\\begin{enumerate*}\n",
       "\\item 'Bates'\n",
       "\\item 'Chambers'\n",
       "\\item 'Dalgaard'\n",
       "\\item 'Gentleman'\n",
       "\\item 'Hornik'\n",
       "\\item 'Ihaka'\n",
       "\\item 'Kalibera'\n",
       "\\item 'Lawrence'\n",
       "\\item 'Leisch'\n",
       "\\item 'Ligges'\n",
       "\\item 'Lumley'\n",
       "\\item 'Maechler'\n",
       "\\item 'Morgan'\n",
       "\\item 'Murrell'\n",
       "\\item 'Plummer'\n",
       "\\item 'Ripley'\n",
       "\\item 'Sarkar'\n",
       "\\item 'Temple Lang'\n",
       "\\item 'Tierney'\n",
       "\\item 'Urbanek'\n",
       "\\item ''\n",
       "\\end{enumerate*}\n"
      ],
      "text/markdown": [
       "1. 'Bates'\n",
       "2. 'Chambers'\n",
       "3. 'Dalgaard'\n",
       "4. 'Gentleman'\n",
       "5. 'Hornik'\n",
       "6. 'Ihaka'\n",
       "7. 'Kalibera'\n",
       "8. 'Lawrence'\n",
       "9. 'Leisch'\n",
       "10. 'Ligges'\n",
       "11. 'Lumley'\n",
       "12. 'Maechler'\n",
       "13. 'Morgan'\n",
       "14. 'Murrell'\n",
       "15. 'Plummer'\n",
       "16. 'Ripley'\n",
       "17. 'Sarkar'\n",
       "18. 'Temple Lang'\n",
       "19. 'Tierney'\n",
       "20. 'Urbanek'\n",
       "21. ''\n",
       "\n",
       "\n"
      ],
      "text/plain": [
       " [1] \"Bates\"       \"Chambers\"    \"Dalgaard\"    \"Gentleman\"   \"Hornik\"     \n",
       " [6] \"Ihaka\"       \"Kalibera\"    \"Lawrence\"    \"Leisch\"      \"Ligges\"     \n",
       "[11] \"Lumley\"      \"Maechler\"    \"Morgan\"      \"Murrell\"     \"Plummer\"    \n",
       "[16] \"Ripley\"      \"Sarkar\"      \"Temple Lang\" \"Tierney\"     \"Urbanek\"    \n",
       "[21] \"\"           "
      ]
     },
     "metadata": {},
     "output_type": "display_data"
    }
   ],
   "source": [
    "str_split_fixed(a, \" \", 2)\n",
    "#Divide the full name in 2 parts (the third argument)\n",
    "#Divide by \" \" (space)\n",
    "#Select 1 for name and 2 for sirname\n",
    "str_split_fixed(a, \" \", 2)[, 1]#For names\n",
    "str_split_fixed(a, \" \", 2)[, 2]#For surnames\n",
    "#It is the best one"
   ]
  },
  {
   "cell_type": "code",
   "execution_count": 27,
   "metadata": {},
   "outputs": [
    {
     "ename": "ERROR",
     "evalue": "Error in grep(pattern, x, ignore.case = FALSE): object 'pattern' not found\n",
     "output_type": "error",
     "traceback": [
      "Error in grep(pattern, x, ignore.case = FALSE): object 'pattern' not found\nTraceback:\n",
      "1. grep(pattern, x, ignore.case = FALSE)"
     ]
    }
   ],
   "source": [
    "######################################################\n",
    "#Pattern matching in R\n",
    "######################################################\n",
    "\n",
    "?grep #used for pattern match\n",
    "#By default arguments\n",
    "grep(pattern, x, ignore.case = FALSE)"
   ]
  },
  {
   "cell_type": "code",
   "execution_count": 33,
   "metadata": {},
   "outputs": [
    {
     "data": {
      "text/html": [
       "<ol class=list-inline>\n",
       "\t<li>'apple'</li>\n",
       "\t<li>'banana'</li>\n",
       "\t<li>'fox'</li>\n",
       "\t<li>'Actor'</li>\n",
       "</ol>\n"
      ],
      "text/latex": [
       "\\begin{enumerate*}\n",
       "\\item 'apple'\n",
       "\\item 'banana'\n",
       "\\item 'fox'\n",
       "\\item 'Actor'\n",
       "\\end{enumerate*}\n"
      ],
      "text/markdown": [
       "1. 'apple'\n",
       "2. 'banana'\n",
       "3. 'fox'\n",
       "4. 'Actor'\n",
       "\n",
       "\n"
      ],
      "text/plain": [
       "[1] \"apple\"  \"banana\" \"fox\"    \"Actor\" "
      ]
     },
     "metadata": {},
     "output_type": "display_data"
    }
   ],
   "source": [
    "##subset vector by first letter\n",
    "##Example\n",
    "vector = c(\"apple\", \"banana\", \"fox\", \"Actor\")\n",
    "vector"
   ]
  },
  {
   "cell_type": "code",
   "execution_count": 37,
   "metadata": {},
   "outputs": [
    {
     "data": {
      "text/html": [
       "'apple'"
      ],
      "text/latex": [
       "'apple'"
      ],
      "text/markdown": [
       "'apple'"
      ],
      "text/plain": [
       "[1] \"apple\""
      ]
     },
     "metadata": {},
     "output_type": "display_data"
    },
    {
     "data": {
      "text/html": [
       "<ol class=list-inline>\n",
       "\t<li>'apple'</li>\n",
       "\t<li>'banana'</li>\n",
       "</ol>\n"
      ],
      "text/latex": [
       "\\begin{enumerate*}\n",
       "\\item 'apple'\n",
       "\\item 'banana'\n",
       "\\end{enumerate*}\n"
      ],
      "text/markdown": [
       "1. 'apple'\n",
       "2. 'banana'\n",
       "\n",
       "\n"
      ],
      "text/plain": [
       "[1] \"apple\"  \"banana\""
      ]
     },
     "metadata": {},
     "output_type": "display_data"
    }
   ],
   "source": [
    "#Extract names starting with a (small letter)\n",
    "vector[grep(\"^a.*\", vector)]\n",
    "vector[grep(\"a.*\", vector)]\n",
    "#^ used for starting\n",
    "#If you do not put ^, it may select for the match anywhere (not from the beginning)\n",
    "#or"
   ]
  },
  {
   "cell_type": "code",
   "execution_count": 38,
   "metadata": {},
   "outputs": [
    {
     "data": {
      "text/html": [
       "1"
      ],
      "text/latex": [
       "1"
      ],
      "text/markdown": [
       "1"
      ],
      "text/plain": [
       "[1] 1"
      ]
     },
     "metadata": {},
     "output_type": "display_data"
    }
   ],
   "source": [
    "grep(\"^a.*\", vector)"
   ]
  },
  {
   "cell_type": "code",
   "execution_count": 39,
   "metadata": {},
   "outputs": [
    {
     "data": {
      "text/html": [
       "'apple'"
      ],
      "text/latex": [
       "'apple'"
      ],
      "text/markdown": [
       "'apple'"
      ],
      "text/plain": [
       "[1] \"apple\""
      ]
     },
     "metadata": {},
     "output_type": "display_data"
    }
   ],
   "source": [
    "#grep gives positions of pattern match\n",
    "#unless you use value = TRUE\n",
    "grep(\"^a.*\", value = T,vector)\n",
    "\n",
    "#Extract names starting with A (capital letter)"
   ]
  },
  {
   "cell_type": "code",
   "execution_count": 40,
   "metadata": {},
   "outputs": [
    {
     "data": {
      "text/html": [
       "'Actor'"
      ],
      "text/latex": [
       "'Actor'"
      ],
      "text/markdown": [
       "'Actor'"
      ],
      "text/plain": [
       "[1] \"Actor\""
      ]
     },
     "metadata": {},
     "output_type": "display_data"
    }
   ],
   "source": [
    "vector[grep(\"^A.*\", vector)]"
   ]
  },
  {
   "cell_type": "code",
   "execution_count": null,
   "metadata": {},
   "outputs": [],
   "source": []
  },
  {
   "cell_type": "code",
   "execution_count": 41,
   "metadata": {},
   "outputs": [
    {
     "data": {
      "text/html": [
       "<ol class=list-inline>\n",
       "\t<li>'apple'</li>\n",
       "\t<li>'Actor'</li>\n",
       "</ol>\n"
      ],
      "text/latex": [
       "\\begin{enumerate*}\n",
       "\\item 'apple'\n",
       "\\item 'Actor'\n",
       "\\end{enumerate*}\n"
      ],
      "text/markdown": [
       "1. 'apple'\n",
       "2. 'Actor'\n",
       "\n",
       "\n"
      ],
      "text/plain": [
       "[1] \"apple\" \"Actor\""
      ]
     },
     "metadata": {},
     "output_type": "display_data"
    },
    {
     "data": {
      "text/html": [
       "<ol class=list-inline>\n",
       "\t<li>'apple'</li>\n",
       "\t<li>'Actor'</li>\n",
       "</ol>\n"
      ],
      "text/latex": [
       "\\begin{enumerate*}\n",
       "\\item 'apple'\n",
       "\\item 'Actor'\n",
       "\\end{enumerate*}\n"
      ],
      "text/markdown": [
       "1. 'apple'\n",
       "2. 'Actor'\n",
       "\n",
       "\n"
      ],
      "text/plain": [
       "[1] \"apple\" \"Actor\""
      ]
     },
     "metadata": {},
     "output_type": "display_data"
    }
   ],
   "source": [
    "#Ignore case\n",
    "vector[grep(\"^a.*\", ignore.case = T, vector)]\n",
    "vector[grep(\"^[aA].*\", vector)]"
   ]
  },
  {
   "cell_type": "code",
   "execution_count": 42,
   "metadata": {},
   "outputs": [
    {
     "data": {
      "text/html": [
       "<ol class=list-inline>\n",
       "\t<li>1</li>\n",
       "\t<li>2</li>\n",
       "\t<li>3</li>\n",
       "\t<li>4</li>\n",
       "\t<li>5</li>\n",
       "\t<li>6</li>\n",
       "\t<li>7</li>\n",
       "\t<li>8</li>\n",
       "\t<li>9</li>\n",
       "\t<li>10</li>\n",
       "\t<li>11</li>\n",
       "\t<li>12</li>\n",
       "\t<li>13</li>\n",
       "\t<li>14</li>\n",
       "\t<li>15</li>\n",
       "\t<li>16</li>\n",
       "\t<li>17</li>\n",
       "\t<li>18</li>\n",
       "\t<li>19</li>\n",
       "\t<li>20</li>\n",
       "\t<li>21</li>\n",
       "\t<li>22</li>\n",
       "\t<li>23</li>\n",
       "\t<li>24</li>\n",
       "\t<li>25</li>\n",
       "\t<li>26</li>\n",
       "</ol>\n"
      ],
      "text/latex": [
       "\\begin{enumerate*}\n",
       "\\item 1\n",
       "\\item 2\n",
       "\\item 3\n",
       "\\item 4\n",
       "\\item 5\n",
       "\\item 6\n",
       "\\item 7\n",
       "\\item 8\n",
       "\\item 9\n",
       "\\item 10\n",
       "\\item 11\n",
       "\\item 12\n",
       "\\item 13\n",
       "\\item 14\n",
       "\\item 15\n",
       "\\item 16\n",
       "\\item 17\n",
       "\\item 18\n",
       "\\item 19\n",
       "\\item 20\n",
       "\\item 21\n",
       "\\item 22\n",
       "\\item 23\n",
       "\\item 24\n",
       "\\item 25\n",
       "\\item 26\n",
       "\\end{enumerate*}\n"
      ],
      "text/markdown": [
       "1. 1\n",
       "2. 2\n",
       "3. 3\n",
       "4. 4\n",
       "5. 5\n",
       "6. 6\n",
       "7. 7\n",
       "8. 8\n",
       "9. 9\n",
       "10. 10\n",
       "11. 11\n",
       "12. 12\n",
       "13. 13\n",
       "14. 14\n",
       "15. 15\n",
       "16. 16\n",
       "17. 17\n",
       "18. 18\n",
       "19. 19\n",
       "20. 20\n",
       "21. 21\n",
       "22. 22\n",
       "23. 23\n",
       "24. 24\n",
       "25. 25\n",
       "26. 26\n",
       "\n",
       "\n"
      ],
      "text/plain": [
       " [1]  1  2  3  4  5  6  7  8  9 10 11 12 13 14 15 16 17 18 19 20 21 22 23 24 25\n",
       "[26] 26"
      ]
     },
     "metadata": {},
     "output_type": "display_data"
    },
    {
     "data": {
      "text/html": [
       "<ol class=list-inline>\n",
       "\t<li>1</li>\n",
       "\t<li>2</li>\n",
       "\t<li>3</li>\n",
       "\t<li>4</li>\n",
       "\t<li>5</li>\n",
       "\t<li>6</li>\n",
       "\t<li>7</li>\n",
       "\t<li>8</li>\n",
       "\t<li>9</li>\n",
       "\t<li>10</li>\n",
       "\t<li>11</li>\n",
       "\t<li>12</li>\n",
       "\t<li>13</li>\n",
       "\t<li>14</li>\n",
       "\t<li>15</li>\n",
       "\t<li>16</li>\n",
       "\t<li>17</li>\n",
       "\t<li>18</li>\n",
       "\t<li>19</li>\n",
       "\t<li>20</li>\n",
       "\t<li>21</li>\n",
       "\t<li>22</li>\n",
       "\t<li>23</li>\n",
       "\t<li>24</li>\n",
       "\t<li>25</li>\n",
       "\t<li>26</li>\n",
       "</ol>\n"
      ],
      "text/latex": [
       "\\begin{enumerate*}\n",
       "\\item 1\n",
       "\\item 2\n",
       "\\item 3\n",
       "\\item 4\n",
       "\\item 5\n",
       "\\item 6\n",
       "\\item 7\n",
       "\\item 8\n",
       "\\item 9\n",
       "\\item 10\n",
       "\\item 11\n",
       "\\item 12\n",
       "\\item 13\n",
       "\\item 14\n",
       "\\item 15\n",
       "\\item 16\n",
       "\\item 17\n",
       "\\item 18\n",
       "\\item 19\n",
       "\\item 20\n",
       "\\item 21\n",
       "\\item 22\n",
       "\\item 23\n",
       "\\item 24\n",
       "\\item 25\n",
       "\\item 26\n",
       "\\end{enumerate*}\n"
      ],
      "text/markdown": [
       "1. 1\n",
       "2. 2\n",
       "3. 3\n",
       "4. 4\n",
       "5. 5\n",
       "6. 6\n",
       "7. 7\n",
       "8. 8\n",
       "9. 9\n",
       "10. 10\n",
       "11. 11\n",
       "12. 12\n",
       "13. 13\n",
       "14. 14\n",
       "15. 15\n",
       "16. 16\n",
       "17. 17\n",
       "18. 18\n",
       "19. 19\n",
       "20. 20\n",
       "21. 21\n",
       "22. 22\n",
       "23. 23\n",
       "24. 24\n",
       "25. 25\n",
       "26. 26\n",
       "\n",
       "\n"
      ],
      "text/plain": [
       " [1]  1  2  3  4  5  6  7  8  9 10 11 12 13 14 15 16 17 18 19 20 21 22 23 24 25\n",
       "[26] 26"
      ]
     },
     "metadata": {},
     "output_type": "display_data"
    },
    {
     "data": {
      "text/html": [
       "<ol class=list-inline>\n",
       "\t<li>1</li>\n",
       "\t<li>2</li>\n",
       "\t<li>3</li>\n",
       "</ol>\n"
      ],
      "text/latex": [
       "\\begin{enumerate*}\n",
       "\\item 1\n",
       "\\item 2\n",
       "\\item 3\n",
       "\\end{enumerate*}\n"
      ],
      "text/markdown": [
       "1. 1\n",
       "2. 2\n",
       "3. 3\n",
       "\n",
       "\n"
      ],
      "text/plain": [
       "[1] 1 2 3"
      ]
     },
     "metadata": {},
     "output_type": "display_data"
    }
   ],
   "source": [
    "#Other ways\n",
    "grep(\"^[a-z]\", letters)\n",
    "grep(\"[a-z]\", letters)\n",
    "grep(\"^[a-c]\", letters)\n",
    "########################################"
   ]
  },
  {
   "cell_type": "code",
   "execution_count": 45,
   "metadata": {},
   "outputs": [],
   "source": [
    "#Find values with certain beginning and closing value\n",
    "k <- c(\"J448\", \"G459\", \"G479\", \"K406\",\"SSG4KKJ\")  "
   ]
  },
  {
   "cell_type": "code",
   "execution_count": 46,
   "metadata": {},
   "outputs": [
    {
     "data": {
      "text/html": [
       "<ol class=list-inline>\n",
       "\t<li>'G459'</li>\n",
       "\t<li>'G479'</li>\n",
       "\t<li>'SSG4KKJ'</li>\n",
       "</ol>\n"
      ],
      "text/latex": [
       "\\begin{enumerate*}\n",
       "\\item 'G459'\n",
       "\\item 'G479'\n",
       "\\item 'SSG4KKJ'\n",
       "\\end{enumerate*}\n"
      ],
      "text/markdown": [
       "1. 'G459'\n",
       "2. 'G479'\n",
       "3. 'SSG4KKJ'\n",
       "\n",
       "\n"
      ],
      "text/plain": [
       "[1] \"G459\"    \"G479\"    \"SSG4KKJ\""
      ]
     },
     "metadata": {},
     "output_type": "display_data"
    }
   ],
   "source": [
    "#Find values starting with G4\n",
    "k[grep(\"G4\", k)]\n",
    "#or\n"
   ]
  },
  {
   "cell_type": "code",
   "execution_count": 47,
   "metadata": {},
   "outputs": [
    {
     "data": {
      "text/html": [
       "<ol class=list-inline>\n",
       "\t<li>'G459'</li>\n",
       "\t<li>'G479'</li>\n",
       "</ol>\n"
      ],
      "text/latex": [
       "\\begin{enumerate*}\n",
       "\\item 'G459'\n",
       "\\item 'G479'\n",
       "\\end{enumerate*}\n"
      ],
      "text/markdown": [
       "1. 'G459'\n",
       "2. 'G479'\n",
       "\n",
       "\n"
      ],
      "text/plain": [
       "[1] \"G459\" \"G479\""
      ]
     },
     "metadata": {},
     "output_type": "display_data"
    }
   ],
   "source": [
    "k[grep(\"^G4\", k)] #Beginning"
   ]
  },
  {
   "cell_type": "code",
   "execution_count": 48,
   "metadata": {},
   "outputs": [
    {
     "data": {
      "text/html": [
       "<ol class=list-inline>\n",
       "\t<li>'G459'</li>\n",
       "\t<li>'G479'</li>\n",
       "</ol>\n"
      ],
      "text/latex": [
       "\\begin{enumerate*}\n",
       "\\item 'G459'\n",
       "\\item 'G479'\n",
       "\\end{enumerate*}\n"
      ],
      "text/markdown": [
       "1. 'G459'\n",
       "2. 'G479'\n",
       "\n",
       "\n"
      ],
      "text/plain": [
       "[1] \"G459\" \"G479\""
      ]
     },
     "metadata": {},
     "output_type": "display_data"
    }
   ],
   "source": [
    "#Find values starting with G and ending with 9\n",
    "k[grep(\"^G..9\", k)]"
   ]
  },
  {
   "cell_type": "code",
   "execution_count": 57,
   "metadata": {},
   "outputs": [
    {
     "data": {
      "text/html": [],
      "text/latex": [],
      "text/markdown": [],
      "text/plain": [
       "character(0)"
      ]
     },
     "metadata": {},
     "output_type": "display_data"
    }
   ],
   "source": [
    "#. means it could be any letter\n",
    "\n",
    "#Find values ending with 9\n",
    "k[grep(\"^...9\", k)]\n",
    "#######################################"
   ]
  },
  {
   "cell_type": "code",
   "execution_count": 64,
   "metadata": {},
   "outputs": [
    {
     "data": {
      "text/html": [
       "<ol class=list-inline>\n",
       "\t<li>'G45129'</li>\n",
       "\t<li>'G41234579'</li>\n",
       "</ol>\n"
      ],
      "text/latex": [
       "\\begin{enumerate*}\n",
       "\\item 'G45129'\n",
       "\\item 'G41234579'\n",
       "\\end{enumerate*}\n"
      ],
      "text/markdown": [
       "1. 'G45129'\n",
       "2. 'G41234579'\n",
       "\n",
       "\n"
      ],
      "text/plain": [
       "[1] \"G45129\"    \"G41234579\""
      ]
     },
     "metadata": {},
     "output_type": "display_data"
    },
    {
     "data": {
      "text/html": [
       "<ol class=list-inline>\n",
       "\t<li>'G45129'</li>\n",
       "\t<li>'G41234579'</li>\n",
       "</ol>\n"
      ],
      "text/latex": [
       "\\begin{enumerate*}\n",
       "\\item 'G45129'\n",
       "\\item 'G41234579'\n",
       "\\end{enumerate*}\n"
      ],
      "text/markdown": [
       "1. 'G45129'\n",
       "2. 'G41234579'\n",
       "\n",
       "\n"
      ],
      "text/plain": [
       "[1] \"G45129\"    \"G41234579\""
      ]
     },
     "metadata": {},
     "output_type": "display_data"
    }
   ],
   "source": [
    "#If values are of different length\n",
    "k <- c(\"J448\", \"G45129\", \"G41234579\", \"K406\")\n",
    "#Find values ending with 9\n",
    "k[grep(\"^.*9\", k)]\n",
    "\n",
    "#Find values starting with G and ending with 9\n",
    "k[grep(\"^G.*9\", k)]\n",
    "##########################################"
   ]
  },
  {
   "cell_type": "code",
   "execution_count": 67,
   "metadata": {},
   "outputs": [
    {
     "name": "stderr",
     "output_type": "stream",
     "text": [
      "The following objects are masked from airquality (pos = 3):\n",
      "\n",
      "    Day, Month, Ozone, Solar.R, Temp, Wind\n",
      "\n",
      "The following objects are masked from airquality (pos = 4):\n",
      "\n",
      "    Day, Month, Ozone, Solar.R, Temp, Wind\n",
      "\n",
      "The following objects are masked from airquality (pos = 5):\n",
      "\n",
      "    Day, Month, Ozone, Solar.R, Temp, Wind\n",
      "\n",
      "The following objects are masked from airquality (pos = 6):\n",
      "\n",
      "    Day, Month, Ozone, Solar.R, Temp, Wind\n",
      "\n"
     ]
    },
    {
     "data": {
      "text/html": [
       "<ol class=list-inline>\n",
       "\t<li>'Ozone'</li>\n",
       "\t<li>'Solar.R'</li>\n",
       "\t<li>'Wind'</li>\n",
       "\t<li>'Temp'</li>\n",
       "\t<li>'Month'</li>\n",
       "\t<li>'Day'</li>\n",
       "</ol>\n"
      ],
      "text/latex": [
       "\\begin{enumerate*}\n",
       "\\item 'Ozone'\n",
       "\\item 'Solar.R'\n",
       "\\item 'Wind'\n",
       "\\item 'Temp'\n",
       "\\item 'Month'\n",
       "\\item 'Day'\n",
       "\\end{enumerate*}\n"
      ],
      "text/markdown": [
       "1. 'Ozone'\n",
       "2. 'Solar.R'\n",
       "3. 'Wind'\n",
       "4. 'Temp'\n",
       "5. 'Month'\n",
       "6. 'Day'\n",
       "\n",
       "\n"
      ],
      "text/plain": [
       "[1] \"Ozone\"   \"Solar.R\" \"Wind\"    \"Temp\"    \"Month\"   \"Day\"    "
      ]
     },
     "metadata": {},
     "output_type": "display_data"
    },
    {
     "data": {
      "image/png": "[encoded data removed]",
      "text/plain": [
       "plot without title"
      ]
     },
     "metadata": {},
     "output_type": "display_data"
    }
   ],
   "source": [
    "attach(airquality)\n",
    "air=airquality\n",
    "names(airquality)\n",
    "plot(airquality)"
   ]
  },
  {
   "cell_type": "code",
   "execution_count": 69,
   "metadata": {},
   "outputs": [
    {
     "data": {
      "text/html": [
       "<ol class=list-inline>\n",
       "\t<li>3.5</li>\n",
       "\t<li>1</li>\n",
       "\t<li>2</li>\n",
       "\t<li>9</li>\n",
       "\t<li>5</li>\n",
       "\t<li>6</li>\n",
       "\t<li>7</li>\n",
       "\t<li>3.5</li>\n",
       "\t<li>8</li>\n",
       "\t<li>10</li>\n",
       "</ol>\n"
      ],
      "text/latex": [
       "\\begin{enumerate*}\n",
       "\\item 3.5\n",
       "\\item 1\n",
       "\\item 2\n",
       "\\item 9\n",
       "\\item 5\n",
       "\\item 6\n",
       "\\item 7\n",
       "\\item 3.5\n",
       "\\item 8\n",
       "\\item 10\n",
       "\\end{enumerate*}\n"
      ],
      "text/markdown": [
       "1. 3.5\n",
       "2. 1\n",
       "3. 2\n",
       "4. 9\n",
       "5. 5\n",
       "6. 6\n",
       "7. 7\n",
       "8. 3.5\n",
       "9. 8\n",
       "10. 10\n",
       "\n",
       "\n"
      ],
      "text/plain": [
       " [1]  3.5  1.0  2.0  9.0  5.0  6.0  7.0  3.5  8.0 10.0"
      ]
     },
     "metadata": {},
     "output_type": "display_data"
    }
   ],
   "source": [
    "x=c(10,5,8,60,45,47,49,10,50,80)\n",
    "rank(x)"
   ]
  }
 ],
 "metadata": {
  "kernelspec": {
   "display_name": "R",
   "language": "R",
   "name": "ir"
  },
  "language_info": {
   "codemirror_mode": "r",
   "file_extension": ".r",
   "mimetype": "text/x-r-source",
   "name": "R",
   "pygments_lexer": "r",
   "version": "3.5.1"
  }
 },
 "nbformat": 4,
 "nbformat_minor": 2
}
