{
 "cells": [
  {
   "cell_type": "code",
   "execution_count": 2,
   "metadata": {},
   "outputs": [],
   "source": [
    "library(\"datasets\")"
   ]
  },
  {
   "cell_type": "code",
   "execution_count": 3,
   "metadata": {},
   "outputs": [],
   "source": [
    "help(\"datasets\")"
   ]
  },
  {
   "cell_type": "code",
   "execution_count": 4,
   "metadata": {},
   "outputs": [],
   "source": [
    "data()"
   ]
  },
  {
   "cell_type": "code",
   "execution_count": 5,
   "metadata": {},
   "outputs": [
    {
     "data": {
      "text/html": [
       "<ol class=list-inline>\n",
       "\t<li>112</li>\n",
       "\t<li>118</li>\n",
       "\t<li>132</li>\n",
       "\t<li>129</li>\n",
       "\t<li>121</li>\n",
       "\t<li>135</li>\n",
       "</ol>\n"
      ],
      "text/latex": [
       "\\begin{enumerate*}\n",
       "\\item 112\n",
       "\\item 118\n",
       "\\item 132\n",
       "\\item 129\n",
       "\\item 121\n",
       "\\item 135\n",
       "\\end{enumerate*}\n"
      ],
      "text/markdown": [
       "1. 112\n",
       "2. 118\n",
       "3. 132\n",
       "4. 129\n",
       "5. 121\n",
       "6. 135\n",
       "\n",
       "\n"
      ],
      "text/plain": [
       "[1] 112 118 132 129 121 135"
      ]
     },
     "metadata": {},
     "output_type": "display_data"
    }
   ],
   "source": [
    "data(\"AirPassengers\")\n",
    "head(AirPassengers)"
   ]
  },
  {
   "cell_type": "code",
   "execution_count": 6,
   "metadata": {},
   "outputs": [
    {
     "data": {
      "text/html": [
       "<table>\n",
       "<thead><tr><th scope=col>Time</th><th scope=col>demand</th></tr></thead>\n",
       "<tbody>\n",
       "\t<tr><td>1   </td><td> 8.3</td></tr>\n",
       "\t<tr><td>2   </td><td>10.3</td></tr>\n",
       "\t<tr><td>3   </td><td>19.0</td></tr>\n",
       "\t<tr><td>4   </td><td>16.0</td></tr>\n",
       "\t<tr><td>5   </td><td>15.6</td></tr>\n",
       "\t<tr><td>7   </td><td>19.8</td></tr>\n",
       "</tbody>\n",
       "</table>\n"
      ],
      "text/latex": [
       "\\begin{tabular}{r|ll}\n",
       " Time & demand\\\\\n",
       "\\hline\n",
       "\t 1    &  8.3\\\\\n",
       "\t 2    & 10.3\\\\\n",
       "\t 3    & 19.0\\\\\n",
       "\t 4    & 16.0\\\\\n",
       "\t 5    & 15.6\\\\\n",
       "\t 7    & 19.8\\\\\n",
       "\\end{tabular}\n"
      ],
      "text/markdown": [
       "\n",
       "| Time | demand |\n",
       "|---|---|\n",
       "| 1    |  8.3 |\n",
       "| 2    | 10.3 |\n",
       "| 3    | 19.0 |\n",
       "| 4    | 16.0 |\n",
       "| 5    | 15.6 |\n",
       "| 7    | 19.8 |\n",
       "\n"
      ],
      "text/plain": [
       "  Time demand\n",
       "1 1     8.3  \n",
       "2 2    10.3  \n",
       "3 3    19.0  \n",
       "4 4    16.0  \n",
       "5 5    15.6  \n",
       "6 7    19.8  "
      ]
     },
     "metadata": {},
     "output_type": "display_data"
    }
   ],
   "source": [
    "data(\"BOD\")\n",
    "BOD\n"
   ]
  },
  {
   "cell_type": "code",
   "execution_count": 7,
   "metadata": {},
   "outputs": [],
   "source": [
    "data(\"women\")"
   ]
  },
  {
   "cell_type": "code",
   "execution_count": 8,
   "metadata": {},
   "outputs": [
    {
     "data": {
      "text/html": [
       "<table>\n",
       "<thead><tr><th scope=col>height</th><th scope=col>weight</th></tr></thead>\n",
       "<tbody>\n",
       "\t<tr><td>58 </td><td>115</td></tr>\n",
       "\t<tr><td>59 </td><td>117</td></tr>\n",
       "\t<tr><td>60 </td><td>120</td></tr>\n",
       "\t<tr><td>61 </td><td>123</td></tr>\n",
       "\t<tr><td>62 </td><td>126</td></tr>\n",
       "\t<tr><td>63 </td><td>129</td></tr>\n",
       "\t<tr><td>64 </td><td>132</td></tr>\n",
       "\t<tr><td>65 </td><td>135</td></tr>\n",
       "\t<tr><td>66 </td><td>139</td></tr>\n",
       "\t<tr><td>67 </td><td>142</td></tr>\n",
       "\t<tr><td>68 </td><td>146</td></tr>\n",
       "\t<tr><td>69 </td><td>150</td></tr>\n",
       "\t<tr><td>70 </td><td>154</td></tr>\n",
       "\t<tr><td>71 </td><td>159</td></tr>\n",
       "\t<tr><td>72 </td><td>164</td></tr>\n",
       "</tbody>\n",
       "</table>\n"
      ],
      "text/latex": [
       "\\begin{tabular}{r|ll}\n",
       " height & weight\\\\\n",
       "\\hline\n",
       "\t 58  & 115\\\\\n",
       "\t 59  & 117\\\\\n",
       "\t 60  & 120\\\\\n",
       "\t 61  & 123\\\\\n",
       "\t 62  & 126\\\\\n",
       "\t 63  & 129\\\\\n",
       "\t 64  & 132\\\\\n",
       "\t 65  & 135\\\\\n",
       "\t 66  & 139\\\\\n",
       "\t 67  & 142\\\\\n",
       "\t 68  & 146\\\\\n",
       "\t 69  & 150\\\\\n",
       "\t 70  & 154\\\\\n",
       "\t 71  & 159\\\\\n",
       "\t 72  & 164\\\\\n",
       "\\end{tabular}\n"
      ],
      "text/markdown": [
       "\n",
       "| height | weight |\n",
       "|---|---|\n",
       "| 58  | 115 |\n",
       "| 59  | 117 |\n",
       "| 60  | 120 |\n",
       "| 61  | 123 |\n",
       "| 62  | 126 |\n",
       "| 63  | 129 |\n",
       "| 64  | 132 |\n",
       "| 65  | 135 |\n",
       "| 66  | 139 |\n",
       "| 67  | 142 |\n",
       "| 68  | 146 |\n",
       "| 69  | 150 |\n",
       "| 70  | 154 |\n",
       "| 71  | 159 |\n",
       "| 72  | 164 |\n",
       "\n"
      ],
      "text/plain": [
       "   height weight\n",
       "1  58     115   \n",
       "2  59     117   \n",
       "3  60     120   \n",
       "4  61     123   \n",
       "5  62     126   \n",
       "6  63     129   \n",
       "7  64     132   \n",
       "8  65     135   \n",
       "9  66     139   \n",
       "10 67     142   \n",
       "11 68     146   \n",
       "12 69     150   \n",
       "13 70     154   \n",
       "14 71     159   \n",
       "15 72     164   "
      ]
     },
     "metadata": {},
     "output_type": "display_data"
    }
   ],
   "source": [
    "women"
   ]
  },
  {
   "cell_type": "code",
   "execution_count": 9,
   "metadata": {},
   "outputs": [],
   "source": [
    "attach(women)"
   ]
  },
  {
   "cell_type": "code",
   "execution_count": 10,
   "metadata": {},
   "outputs": [
    {
     "data": {
      "text/html": [
       "<ol class=list-inline>\n",
       "\t<li>58</li>\n",
       "\t<li>59</li>\n",
       "\t<li>60</li>\n",
       "\t<li>61</li>\n",
       "\t<li>62</li>\n",
       "\t<li>63</li>\n",
       "\t<li>64</li>\n",
       "\t<li>65</li>\n",
       "\t<li>66</li>\n",
       "\t<li>67</li>\n",
       "\t<li>68</li>\n",
       "\t<li>69</li>\n",
       "\t<li>70</li>\n",
       "\t<li>71</li>\n",
       "\t<li>72</li>\n",
       "</ol>\n"
      ],
      "text/latex": [
       "\\begin{enumerate*}\n",
       "\\item 58\n",
       "\\item 59\n",
       "\\item 60\n",
       "\\item 61\n",
       "\\item 62\n",
       "\\item 63\n",
       "\\item 64\n",
       "\\item 65\n",
       "\\item 66\n",
       "\\item 67\n",
       "\\item 68\n",
       "\\item 69\n",
       "\\item 70\n",
       "\\item 71\n",
       "\\item 72\n",
       "\\end{enumerate*}\n"
      ],
      "text/markdown": [
       "1. 58\n",
       "2. 59\n",
       "3. 60\n",
       "4. 61\n",
       "5. 62\n",
       "6. 63\n",
       "7. 64\n",
       "8. 65\n",
       "9. 66\n",
       "10. 67\n",
       "11. 68\n",
       "12. 69\n",
       "13. 70\n",
       "14. 71\n",
       "15. 72\n",
       "\n",
       "\n"
      ],
      "text/plain": [
       " [1] 58 59 60 61 62 63 64 65 66 67 68 69 70 71 72"
      ]
     },
     "metadata": {},
     "output_type": "display_data"
    }
   ],
   "source": [
    "height"
   ]
  },
  {
   "cell_type": "code",
   "execution_count": 11,
   "metadata": {},
   "outputs": [
    {
     "data": {
      "text/html": [
       "<ol class=list-inline>\n",
       "\t<li>115</li>\n",
       "\t<li>117</li>\n",
       "\t<li>120</li>\n",
       "\t<li>123</li>\n",
       "\t<li>126</li>\n",
       "\t<li>129</li>\n",
       "\t<li>132</li>\n",
       "\t<li>135</li>\n",
       "\t<li>139</li>\n",
       "\t<li>142</li>\n",
       "\t<li>146</li>\n",
       "\t<li>150</li>\n",
       "\t<li>154</li>\n",
       "\t<li>159</li>\n",
       "\t<li>164</li>\n",
       "</ol>\n"
      ],
      "text/latex": [
       "\\begin{enumerate*}\n",
       "\\item 115\n",
       "\\item 117\n",
       "\\item 120\n",
       "\\item 123\n",
       "\\item 126\n",
       "\\item 129\n",
       "\\item 132\n",
       "\\item 135\n",
       "\\item 139\n",
       "\\item 142\n",
       "\\item 146\n",
       "\\item 150\n",
       "\\item 154\n",
       "\\item 159\n",
       "\\item 164\n",
       "\\end{enumerate*}\n"
      ],
      "text/markdown": [
       "1. 115\n",
       "2. 117\n",
       "3. 120\n",
       "4. 123\n",
       "5. 126\n",
       "6. 129\n",
       "7. 132\n",
       "8. 135\n",
       "9. 139\n",
       "10. 142\n",
       "11. 146\n",
       "12. 150\n",
       "13. 154\n",
       "14. 159\n",
       "15. 164\n",
       "\n",
       "\n"
      ],
      "text/plain": [
       " [1] 115 117 120 123 126 129 132 135 139 142 146 150 154 159 164"
      ]
     },
     "metadata": {},
     "output_type": "display_data"
    }
   ],
   "source": [
    "weight"
   ]
  },
  {
   "cell_type": "code",
   "execution_count": 12,
   "metadata": {},
   "outputs": [
    {
     "data": {
      "image/png": "[encoded data removed]",
      "text/plain": [
       "Plot with title “Scaterplot of Height vs Weight”"
      ]
     },
     "metadata": {},
     "output_type": "display_data"
    }
   ],
   "source": [
    "# attach(mtcars)\n",
    "par(mfrow=c(2,2))\n",
    "\n",
    "plot(height, weight,\n",
    "    xlab=\"height\",\n",
    "    ylab=\"weight\",\n",
    "    xlim=c(50,100),\n",
    "    ylim =c(100,200),\n",
    "    main=\"Scaterplot of Height vs Weight\",\n",
    "    pch=7,\n",
    "    col=2,\n",
    "    type=\"p\"\n",
    "    )\n",
    "\n",
    "plot(height, weight,\n",
    "    xlab=\"height\",\n",
    "    ylab=\"weight\",\n",
    "    xlim=c(50,100),\n",
    "    ylim =c(100,200),\n",
    "    main=\"LIneplot of Height vs Weight\",\n",
    "    pch=7,\n",
    "    col=2,\n",
    "    type=\"l\"\n",
    "    )\n",
    "\n",
    "plot(height, weight,\n",
    "    xlab=\"height\",\n",
    "    ylab=\"weight\",\n",
    "    xlim=c(50,100),\n",
    "    ylim =c(100,200),\n",
    "    main=\"Scaterplot of Height vs Weight\",\n",
    "    pch=7,\n",
    "    col=3,\n",
    "    type=\"h\"\n",
    "    )\n",
    "\n",
    "plot(height, weight,\n",
    "    xlab=\"height\",\n",
    "    ylab=\"weight\",\n",
    "    xlim=c(50,100),\n",
    "    ylim =c(100,200),\n",
    "    main=\"Scaterplot of Height vs Weight\",\n",
    "#     pch=7,\n",
    "#     col=4,\n",
    "    type=\"b\"\n",
    "    )\n",
    "\n",
    "\n",
    "abline(lm(weight~height), col=2)\n",
    "polygon(x=40, y=100, col=4)"
   ]
  },
  {
   "cell_type": "code",
   "execution_count": 13,
   "metadata": {},
   "outputs": [
    {
     "data": {
      "text/html": [
       "<table>\n",
       "<thead><tr><th scope=col>S.No.</th><th scope=col>Lung.Capacity</th><th scope=col>Smoke</th><th scope=col>Gender</th></tr></thead>\n",
       "<tbody>\n",
       "\t<tr><td>1     </td><td>13    </td><td>No    </td><td>Male  </td></tr>\n",
       "\t<tr><td>2     </td><td> 8    </td><td>Yes   </td><td>Male  </td></tr>\n",
       "\t<tr><td>3     </td><td> 1    </td><td>No    </td><td>Female</td></tr>\n",
       "\t<tr><td>4     </td><td> 4    </td><td>Yes   </td><td>Female</td></tr>\n",
       "\t<tr><td>5     </td><td> 7    </td><td>No    </td><td>Male  </td></tr>\n",
       "\t<tr><td>6     </td><td> 2    </td><td>Yes   </td><td>Male  </td></tr>\n",
       "</tbody>\n",
       "</table>\n"
      ],
      "text/latex": [
       "\\begin{tabular}{r|llll}\n",
       " S.No. & Lung.Capacity & Smoke & Gender\\\\\n",
       "\\hline\n",
       "\t 1      & 13     & No     & Male  \\\\\n",
       "\t 2      &  8     & Yes    & Male  \\\\\n",
       "\t 3      &  1     & No     & Female\\\\\n",
       "\t 4      &  4     & Yes    & Female\\\\\n",
       "\t 5      &  7     & No     & Male  \\\\\n",
       "\t 6      &  2     & Yes    & Male  \\\\\n",
       "\\end{tabular}\n"
      ],
      "text/markdown": [
       "\n",
       "| S.No. | Lung.Capacity | Smoke | Gender |\n",
       "|---|---|---|---|\n",
       "| 1      | 13     | No     | Male   |\n",
       "| 2      |  8     | Yes    | Male   |\n",
       "| 3      |  1     | No     | Female |\n",
       "| 4      |  4     | Yes    | Female |\n",
       "| 5      |  7     | No     | Male   |\n",
       "| 6      |  2     | Yes    | Male   |\n",
       "\n"
      ],
      "text/plain": [
       "  S.No. Lung.Capacity Smoke Gender\n",
       "1 1     13            No    Male  \n",
       "2 2      8            Yes   Male  \n",
       "3 3      1            No    Female\n",
       "4 4      4            Yes   Female\n",
       "5 5      7            No    Male  \n",
       "6 6      2            Yes   Male  "
      ]
     },
     "metadata": {},
     "output_type": "display_data"
    }
   ],
   "source": [
    "x=read.csv(file = \"./Lung Cap_Random.csv\")\n",
    "head(x)\n",
    "# barplot(x)"
   ]
  },
  {
   "cell_type": "code",
   "execution_count": 14,
   "metadata": {},
   "outputs": [
    {
     "ename": "ERROR",
     "evalue": "Error in barplot.default(x$Gender): 'height' must be a vector or a matrix\n",
     "output_type": "error",
     "traceback": [
      "Error in barplot.default(x$Gender): 'height' must be a vector or a matrix\nTraceback:\n",
      "1. barplot(x$Gender)",
      "2. barplot.default(x$Gender)",
      "3. stop(\"'height' must be a vector or a matrix\")"
     ]
    }
   ],
   "source": [
    "barplot(x$Gender)"
   ]
  },
  {
   "cell_type": "code",
   "execution_count": 35,
   "metadata": {},
   "outputs": [],
   "source": [
    "library(carData)"
   ]
  },
  {
   "cell_type": "code",
   "execution_count": 39,
   "metadata": {},
   "outputs": [],
   "source": [
    "help(carData)"
   ]
  },
  {
   "cell_type": "code",
   "execution_count": null,
   "metadata": {},
   "outputs": [],
   "source": []
  }
 ],
 "metadata": {
  "kernelspec": {
   "display_name": "R",
   "language": "R",
   "name": "ir"
  },
  "language_info": {
   "codemirror_mode": "r",
   "file_extension": ".r",
   "mimetype": "text/x-r-source",
   "name": "R",
   "pygments_lexer": "r",
   "version": "3.5.1"
  }
 },
 "nbformat": 4,
 "nbformat_minor": 2
}
