{
 "cells": [
  {
   "cell_type": "code",
   "execution_count": 1,
   "metadata": {},
   "outputs": [],
   "source": [
    "################################################################\n",
    "############# Statistical Programming with R ###################\n",
    "################################################################\n",
    "\n",
    "#Session 12\n",
    "###################################################\n",
    "################ Hypothesis Testing ###############\n",
    "###################################################\n",
    "\n",
    "#Explain the t-test\n",
    "#One-sided and two-sided t-test\n",
    "#Population mean and sample mean\n",
    "#Population std deviation and sample standard deviation"
   ]
  },
  {
   "cell_type": "code",
   "execution_count": 2,
   "metadata": {},
   "outputs": [],
   "source": [
    "#Example of one-sample t-test\n",
    "##################################################\n",
    "#The mean tariff of a hotel room in New York is $168 per night (Population mean)\n",
    "#Sample of 25 hotels, Mean is $172.50 with standard deviation $15.40\n",
    "\n",
    "#Compute t-test, for 5 % significance level\n",
    "#Alternate Hypothesis are as follows:\n",
    "#Right-tail: The mean tariff of a hotel room in New York is more than $168 per night\n",
    "#Left-tail: The mean tariff of a hotel room in New York is less than $168 per night\n",
    "#Two tail: The mean tariff of a hotel room in New York is not $168 per night."
   ]
  },
  {
   "cell_type": "code",
   "execution_count": 3,
   "metadata": {},
   "outputs": [
    {
     "data": {
      "text/html": [
       "1.46103896103896"
      ],
      "text/latex": [
       "1.46103896103896"
      ],
      "text/markdown": [
       "1.46103896103896"
      ],
      "text/plain": [
       "[1] 1.461039"
      ]
     },
     "metadata": {},
     "output_type": "display_data"
    }
   ],
   "source": [
    "#T-test, computed value\n",
    "x=(172.50-168)/(15.40/sqrt(25))\n",
    "x#Computed Value of Test Statistic = 1.461039"
   ]
  },
  {
   "cell_type": "code",
   "execution_count": 4,
   "metadata": {},
   "outputs": [
    {
     "data": {
      "text/html": [
       "1.71088207990943"
      ],
      "text/latex": [
       "1.71088207990943"
      ],
      "text/markdown": [
       "1.71088207990943"
      ],
      "text/plain": [
       "[1] 1.710882"
      ]
     },
     "metadata": {},
     "output_type": "display_data"
    },
    {
     "data": {
      "text/html": [
       "-1.71088207990943"
      ],
      "text/latex": [
       "-1.71088207990943"
      ],
      "text/markdown": [
       "-1.71088207990943"
      ],
      "text/plain": [
       "[1] -1.710882"
      ]
     },
     "metadata": {},
     "output_type": "display_data"
    }
   ],
   "source": [
    "#The critical value at 5% for one-tail is\n",
    "#Syntax qt(1-level of significance(5%), degree of freedom (n-1))\n",
    "qt(0.95, 24)\n",
    "qt(0.05, 24)\n",
    "?qt"
   ]
  },
  {
   "cell_type": "code",
   "execution_count": 5,
   "metadata": {},
   "outputs": [
    {
     "data": {
      "text/html": [
       "2.06389856162803"
      ],
      "text/latex": [
       "2.06389856162803"
      ],
      "text/markdown": [
       "2.06389856162803"
      ],
      "text/plain": [
       "[1] 2.063899"
      ]
     },
     "metadata": {},
     "output_type": "display_data"
    }
   ],
   "source": [
    "qt(0.975, 24)"
   ]
  },
  {
   "cell_type": "code",
   "execution_count": 6,
   "metadata": {},
   "outputs": [
    {
     "data": {
      "text/html": [
       "-2.06389856162803"
      ],
      "text/latex": [
       "-2.06389856162803"
      ],
      "text/markdown": [
       "-2.06389856162803"
      ],
      "text/plain": [
       "[1] -2.063899"
      ]
     },
     "metadata": {},
     "output_type": "display_data"
    }
   ],
   "source": [
    "qt(0.025,24)"
   ]
  },
  {
   "cell_type": "code",
   "execution_count": 7,
   "metadata": {},
   "outputs": [
    {
     "data": {
      "text/html": [
       "1.46103896103896"
      ],
      "text/latex": [
       "1.46103896103896"
      ],
      "text/markdown": [
       "1.46103896103896"
      ],
      "text/plain": [
       "[1] 1.461039"
      ]
     },
     "metadata": {},
     "output_type": "display_data"
    }
   ],
   "source": [
    "#Critical vaule is 1.710882\n",
    "\n",
    "#Since the computed value is less than critical value\n",
    "#Cannot reject the null\n",
    "#Infer that mean tariff of a hotel room in New York is not more than $168 per night\n",
    "########################\n",
    "\n",
    "#Two tail: if the mean tariff of a hotel room in New York is not $168 per night.\n",
    "\n",
    "#T-test, computed value\n",
    "(172.50-168)/(15.40/sqrt(25))\n",
    "#Computed Value of Test Statistic = 1.461039"
   ]
  },
  {
   "cell_type": "code",
   "execution_count": 8,
   "metadata": {},
   "outputs": [
    {
     "data": {
      "text/html": [
       "2.06389856162803"
      ],
      "text/latex": [
       "2.06389856162803"
      ],
      "text/markdown": [
       "2.06389856162803"
      ],
      "text/plain": [
       "[1] 2.063899"
      ]
     },
     "metadata": {},
     "output_type": "display_data"
    }
   ],
   "source": [
    "#The critical value at 5% for one-tail is\n",
    "#Syntax qt(1-level of significance(5%), degree of freedom (n-1))\n",
    "qt(0.975, 24)\n",
    "#Critical vaule is 2.063899"
   ]
  },
  {
   "cell_type": "code",
   "execution_count": 9,
   "metadata": {},
   "outputs": [
    {
     "data": {
      "text/html": [
       "0.0784871812759242"
      ],
      "text/latex": [
       "0.0784871812759242"
      ],
      "text/markdown": [
       "0.0784871812759242"
      ],
      "text/plain": [
       "[1] 0.07848718"
      ]
     },
     "metadata": {},
     "output_type": "display_data"
    }
   ],
   "source": [
    "#Since the computed value is less than critical value\n",
    "#Cannot reject the null\n",
    "#Infer that mean tariff of a hotel room in New York is $168 per night (statistically no difference between sample and population mean)\n",
    "###########################################\n",
    "#It was critical value approach\n",
    "\n",
    "#We can use p-value approach as well (0.05 p-value)\n",
    "#One-tail p-value\n",
    "#Syntax pt(-abs(computed t-test value),degree of freedom)\n",
    "pt(-abs(1.461039),24) #pt gives cumulative distribution function\n",
    "#Hence, put - sign to get probability (Explain by PDF and CDF)"
   ]
  },
  {
   "cell_type": "code",
   "execution_count": 10,
   "metadata": {},
   "outputs": [
    {
     "data": {
      "text/html": [
       "0.921512818724076"
      ],
      "text/latex": [
       "0.921512818724076"
      ],
      "text/markdown": [
       "0.921512818724076"
      ],
      "text/plain": [
       "[1] 0.9215128"
      ]
     },
     "metadata": {},
     "output_type": "display_data"
    },
    {
     "data": {
      "text/html": [
       "0.0784871812759241"
      ],
      "text/latex": [
       "0.0784871812759241"
      ],
      "text/markdown": [
       "0.0784871812759241"
      ],
      "text/plain": [
       "[1] 0.07848718"
      ]
     },
     "metadata": {},
     "output_type": "display_data"
    }
   ],
   "source": [
    "pt(abs(1.461039),24)\n",
    "1-pt(abs(1.461039),24)"
   ]
  },
  {
   "cell_type": "code",
   "execution_count": 11,
   "metadata": {},
   "outputs": [
    {
     "data": {
      "text/html": [
       "0.156974362551848"
      ],
      "text/latex": [
       "0.156974362551848"
      ],
      "text/markdown": [
       "0.156974362551848"
      ],
      "text/plain": [
       "[1] 0.1569744"
      ]
     },
     "metadata": {},
     "output_type": "display_data"
    }
   ],
   "source": [
    "#Two-tail p-values\n",
    "2*pt(-abs(1.461039),24)"
   ]
  },
  {
   "cell_type": "code",
   "execution_count": 12,
   "metadata": {},
   "outputs": [],
   "source": [
    "#In both cases, cannot reject Null as p-value is more than 0.05\n",
    "##################################################\n",
    "\n",
    "#Now a numerical example\n",
    "#Do one-sample t-test in R\n",
    "# Raw dataset -- 32 observations\n",
    "data = c(21.75, 18.0875, 18.75, 23.5, 14.125, 16.75, 11.125, 11.125, 14.875, 15.5, 20.875,\n",
    "         17.125, 19.075, 25.125, 27.75, 29.825, 17.825, 28.375, 22.625, 28.75, 27, 12.825, \n",
    "         26, 32.825, 25.375, 24.825, 25.825, 15.625, 26.825, 24.625, 26.625, 19.625)"
   ]
  },
  {
   "cell_type": "code",
   "execution_count": 13,
   "metadata": {},
   "outputs": [
    {
     "data": {
      "text/html": [
       "21.591796875"
      ],
      "text/latex": [
       "21.591796875"
      ],
      "text/markdown": [
       "21.591796875"
      ],
      "text/plain": [
       "[1] 21.5918"
      ]
     },
     "metadata": {},
     "output_type": "display_data"
    }
   ],
   "source": [
    "# Student t-Test\n",
    "mean(data)"
   ]
  },
  {
   "cell_type": "code",
   "execution_count": 14,
   "metadata": {},
   "outputs": [
    {
     "data": {
      "text/plain": [
       "\n",
       "\tOne Sample t-test\n",
       "\n",
       "data:  data\n",
       "t = 11.225, df = 31, p-value = 1.891e-12\n",
       "alternative hypothesis: true mean is not equal to 10\n",
       "95 percent confidence interval:\n",
       " 19.48568 23.69792\n",
       "sample estimates:\n",
       "mean of x \n",
       "  21.5918 \n"
      ]
     },
     "metadata": {},
     "output_type": "display_data"
    }
   ],
   "source": [
    "t.test(x=data, mu=10, conf.level=0.95)"
   ]
  },
  {
   "cell_type": "code",
   "execution_count": 15,
   "metadata": {},
   "outputs": [],
   "source": [
    "# Manually calculate p-value\n",
    "t.value = (mean(data) - 10) / (sd(data) / sqrt(length(data)))\n",
    "#Two-tail p-values\n",
    "p.value=2*pt(-abs(t.value),df=length(data) - 1)\n",
    "#########################################################"
   ]
  },
  {
   "cell_type": "code",
   "execution_count": 17,
   "metadata": {},
   "outputs": [
    {
     "ename": "ERROR",
     "evalue": "Error in t.test.default(x, y = NULL, alternative = c(\"two.sided\", \"less\", : not enough 'x' observations\n",
     "output_type": "error",
     "traceback": [
      "Error in t.test.default(x, y = NULL, alternative = c(\"two.sided\", \"less\", : not enough 'x' observations\nTraceback:\n",
      "1. t.test(x, y = NULL, alternative = c(\"two.sided\", \"less\", \"greater\"), \n .     mu = 0, paired = FALSE, var.equal = FALSE, conf.level = 0.95)",
      "2. t.test.default(x, y = NULL, alternative = c(\"two.sided\", \"less\", \n .     \"greater\"), mu = 0, paired = FALSE, var.equal = FALSE, conf.level = 0.95)",
      "3. stop(\"not enough 'x' observations\")"
     ]
    }
   ],
   "source": [
    "#By default t.test function arguments\n",
    "t.test(x, y = NULL, \n",
    "       alternative = c(\"two.sided\", \"less\", \"greater\"), \n",
    "       mu = 0, \n",
    "       paired =FALSE, \n",
    "       var.equal = FALSE, \n",
    "       conf.level = 0.95)\n",
    "#two.sided is default alternative\n",
    "#########################################################"
   ]
  },
  {
   "cell_type": "code",
   "execution_count": 19,
   "metadata": {},
   "outputs": [
    {
     "name": "stderr",
     "output_type": "stream",
     "text": [
      "The following objects are masked from x (pos = 3):\n",
      "\n",
      "    Gender, Lung.Capacity, S.No., Smoke\n",
      "\n"
     ]
    }
   ],
   "source": [
    "#Example with Lungcapacity dataset\n",
    "x=read.csv(file=\"../Data/Lung Cap_Random.csv\")\n",
    "attach(x)\n",
    "########################\n",
    "#One-sided t-test at 95% confidence\n",
    "#Suppose we test the claim that mean Lungcapacity is <8 (H1)\n",
    "#H0: Mean>=8    H1: Mean<8"
   ]
  },
  {
   "cell_type": "code",
   "execution_count": 20,
   "metadata": {},
   "outputs": [
    {
     "data": {
      "text/plain": [
       "\n",
       "\tOne Sample t-test\n",
       "\n",
       "data:  Lung.Capacity\n",
       "t = -2.0965, df = 49, p-value = 0.02061\n",
       "alternative hypothesis: true mean is less than 8\n",
       "95 percent confidence interval:\n",
       "    -Inf 7.77968\n",
       "sample estimates:\n",
       "mean of x \n",
       "      6.9 \n"
      ]
     },
     "metadata": {},
     "output_type": "display_data"
    }
   ],
   "source": [
    "t.test(Lung.Capacity,mu =8, alternative = \"less\", conf.level = 0.95)\n",
    "#Reject the null, infer that true mean is less than 8\n",
    "##################################\n",
    "?t.test\n",
    "########################\n",
    "#Two-sided t-test at 95% confidence\n",
    "#Suppose we test the claim that mean Lungcapacity is not equal to 8\n",
    "#H0: Mean=8    H1: Mean!=8"
   ]
  },
  {
   "cell_type": "code",
   "execution_count": 21,
   "metadata": {},
   "outputs": [
    {
     "data": {
      "text/plain": [
       "\n",
       "\tOne Sample t-test\n",
       "\n",
       "data:  Lung.Capacity\n",
       "t = -2.0965, df = 49, p-value = 0.02061\n",
       "alternative hypothesis: true mean is less than 8\n",
       "95 percent confidence interval:\n",
       "    -Inf 7.77968\n",
       "sample estimates:\n",
       "mean of x \n",
       "      6.9 \n"
      ]
     },
     "metadata": {},
     "output_type": "display_data"
    }
   ],
   "source": [
    "t.test(Lung.Capacity,mu =8, alternative = \"less\", conf.level = 0.95)\n",
    "#Reject the null, infer that true mean is less than 8\n",
    "##################################"
   ]
  },
  {
   "cell_type": "code",
   "execution_count": 22,
   "metadata": {},
   "outputs": [
    {
     "data": {
      "text/plain": [
       "\n",
       "\tOne Sample t-test\n",
       "\n",
       "data:  Lung.Capacity\n",
       "t = -2.0965, df = 49, p-value = 0.04123\n",
       "alternative hypothesis: true mean is not equal to 8\n",
       "95 percent confidence interval:\n",
       " 5.845583 7.954417\n",
       "sample estimates:\n",
       "mean of x \n",
       "      6.9 \n"
      ]
     },
     "metadata": {},
     "output_type": "display_data"
    },
    {
     "data": {
      "text/plain": [
       "\n",
       "\tOne Sample t-test\n",
       "\n",
       "data:  Lung.Capacity\n",
       "t = -2.0965, df = 49, p-value = 0.04123\n",
       "alternative hypothesis: true mean is not equal to 8\n",
       "95 percent confidence interval:\n",
       " 5.845583 7.954417\n",
       "sample estimates:\n",
       "mean of x \n",
       "      6.9 \n"
      ]
     },
     "metadata": {},
     "output_type": "display_data"
    }
   ],
   "source": [
    "########################\n",
    "#Two-sided t-test at 95% confidence\n",
    "#Suppose we test the claim that mean Lungcapacity is not equal to 8\n",
    "#H0: Mean=8    H1: Mean!=8\n",
    "\n",
    "t.test(Lung.Capacity,mu =8, alternative = \"two.sided\", conf.level = 0.95)\n",
    "t.test(Lung.Capacity,mu =8,conf.level = 0.95)"
   ]
  },
  {
   "cell_type": "code",
   "execution_count": 23,
   "metadata": {},
   "outputs": [],
   "source": [
    "#Reject the null, infer that true mean is not 8\n",
    "##################################\n",
    "#Assign to an object\n",
    "T_test=t.test(Lung.Capacity,mu =8,conf.level = 0.95)"
   ]
  },
  {
   "cell_type": "code",
   "execution_count": 24,
   "metadata": {},
   "outputs": [
    {
     "data": {
      "text/html": [
       "<strong>t:</strong> -2.09645116495172"
      ],
      "text/latex": [
       "\\textbf{t:} -2.09645116495172"
      ],
      "text/markdown": [
       "**t:** -2.09645116495172"
      ],
      "text/plain": [
       "        t \n",
       "-2.096451 "
      ]
     },
     "metadata": {},
     "output_type": "display_data"
    },
    {
     "data": {
      "text/html": [
       "0.0412279297439577"
      ],
      "text/latex": [
       "0.0412279297439577"
      ],
      "text/markdown": [
       "0.0412279297439577"
      ],
      "text/plain": [
       "[1] 0.04122793"
      ]
     },
     "metadata": {},
     "output_type": "display_data"
    }
   ],
   "source": [
    "#Extract desired values\n",
    "T_test$statistic\n",
    "T_test$p.value"
   ]
  },
  {
   "cell_type": "code",
   "execution_count": 25,
   "metadata": {},
   "outputs": [
    {
     "data": {
      "text/html": [
       "'factor'"
      ],
      "text/latex": [
       "'factor'"
      ],
      "text/markdown": [
       "'factor'"
      ],
      "text/plain": [
       "[1] \"factor\""
      ]
     },
     "metadata": {},
     "output_type": "display_data"
    }
   ],
   "source": [
    "#####################################################\n",
    "#####################################################\n",
    "\n",
    "#Two-sample t-test\n",
    "#Examine the differences of two sample means\n",
    "#Compare the Lung capacity of smokers vs non-smokers\n",
    "class(Smoke)"
   ]
  },
  {
   "cell_type": "code",
   "execution_count": 26,
   "metadata": {},
   "outputs": [
    {
     "data": {
      "image/png": "[encoded data removed]",
      "text/plain": [
       "plot without title"
      ]
     },
     "metadata": {},
     "output_type": "display_data"
    }
   ],
   "source": [
    "boxplot(Lung.Capacity~Smoke)#Compare the means"
   ]
  },
  {
   "cell_type": "code",
   "execution_count": 27,
   "metadata": {},
   "outputs": [
    {
     "data": {
      "text/plain": [
       "\n",
       "\tWelch Two Sample t-test\n",
       "\n",
       "data:  Lung.Capacity by Smoke\n",
       "t = -0.045126, df = 46.49, p-value = 0.9642\n",
       "alternative hypothesis: true difference in means is not equal to 0\n",
       "95 percent confidence interval:\n",
       " -2.191984  2.095830\n",
       "sample estimates:\n",
       " mean in group No mean in group Yes \n",
       "         6.875000          6.923077 \n"
      ]
     },
     "metadata": {},
     "output_type": "display_data"
    }
   ],
   "source": [
    "#Conduct two-sided t-test\n",
    "#H0: Mean lung capacity of smokers and non-smokers is equal\n",
    "#H1: There is a difference\n",
    "t.test(Lung.Capacity~Smoke,conf.level = 0.95)\n",
    "#So can not reject the null and infer that there is no difference in Lung capacity"
   ]
  },
  {
   "cell_type": "code",
   "execution_count": 28,
   "metadata": {},
   "outputs": [
    {
     "data": {
      "text/plain": [
       "\n",
       "\tWelch Two Sample t-test\n",
       "\n",
       "data:  Lung.Capacity[Smoke == \"No\"] and Lung.Capacity[Smoke == \"Yes\"]\n",
       "t = -0.045126, df = 46.49, p-value = 0.9642\n",
       "alternative hypothesis: true difference in means is not equal to 0\n",
       "95 percent confidence interval:\n",
       " -2.191984  2.095830\n",
       "sample estimates:\n",
       "mean of x mean of y \n",
       " 6.875000  6.923077 \n"
      ]
     },
     "metadata": {},
     "output_type": "display_data"
    }
   ],
   "source": [
    "#Rather than using ~\n",
    "t.test(Lung.Capacity[Smoke==\"No\"],Lung.Capacity[Smoke==\"Yes\"],conf.level = 0.95)"
   ]
  },
  {
   "cell_type": "code",
   "execution_count": 29,
   "metadata": {},
   "outputs": [
    {
     "data": {
      "text/plain": [
       "\n",
       "\tWelch Two Sample t-test\n",
       "\n",
       "data:  Lung.Capacity by Gender\n",
       "t = 0.49168, df = 45.551, p-value = 0.6253\n",
       "alternative hypothesis: true difference in means is not equal to 0\n",
       "95 percent confidence interval:\n",
       " -1.609419  2.649419\n",
       "sample estimates:\n",
       "mean in group Female   mean in group Male \n",
       "                7.16                 6.64 \n"
      ]
     },
     "metadata": {},
     "output_type": "display_data"
    }
   ],
   "source": [
    "##############################\n",
    "#Now do t-test for Lung capacity of males and females\n",
    "t.test(Lung.Capacity~Gender,conf.level = 0.95)"
   ]
  },
  {
   "cell_type": "code",
   "execution_count": 34,
   "metadata": {},
   "outputs": [
    {
     "data": {
      "text/plain": [
       "\n",
       "\tPaired t-test\n",
       "\n",
       "data:  before and after\n",
       "t = -1.0389, df = 9, p-value = 0.326\n",
       "alternative hypothesis: true difference in means is not equal to 0\n",
       "95 percent confidence interval:\n",
       " -3.495229  1.295229\n",
       "sample estimates:\n",
       "mean of the differences \n",
       "                   -1.1 \n"
      ]
     },
     "metadata": {},
     "output_type": "display_data"
    }
   ],
   "source": [
    "#So can not reject the null and infer that there is no difference in Lung capacity\n",
    "##############################\n",
    "################################################\n",
    "\n",
    "#Paired t-test\n",
    "#Compare before and after situation\n",
    "before=c(10,15,18,20,25,30,32,36,15,18)\n",
    "after=c(12,18,21,20,22,32,36,30,20,19)\n",
    "#There is no impact\n",
    "t.test(before,after,conf.level = 0.95,paired=T)\n",
    "#####################################################"
   ]
  }
 ],
 "metadata": {
  "kernelspec": {
   "display_name": "R",
   "language": "R",
   "name": "ir"
  },
  "language_info": {
   "codemirror_mode": "r",
   "file_extension": ".r",
   "mimetype": "text/x-r-source",
   "name": "R",
   "pygments_lexer": "r",
   "version": "3.5.1"
  }
 },
 "nbformat": 4,
 "nbformat_minor": 2
}
