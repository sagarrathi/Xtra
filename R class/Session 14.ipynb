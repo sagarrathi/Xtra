{
 "cells": [
  {
   "cell_type": "code",
   "execution_count": 1,
   "metadata": {},
   "outputs": [],
   "source": [
    "################################################################\n",
    "############# Statistical Programming with R ###################\n",
    "################################################################\n",
    "\n",
    "#Session 14\n",
    "###################################################\n",
    "######### Sampling and bootstrapping ##############\n",
    "###################################################\n",
    "\n",
    "#####Sampling\n",
    "#sample takes a sample of the specified size from the elements of x (vector)\n",
    "#using either with or without replacement\n",
    "\n",
    "#Syntax \n",
    "#sample(x, size, replace = FALSE, prob = NULL)\n",
    "\n",
    "#Generate a vector of sequence\n",
    "x <- 10:20"
   ]
  },
  {
   "cell_type": "code",
   "execution_count": 2,
   "metadata": {},
   "outputs": [
    {
     "data": {
      "text/html": [
       "<ol class=list-inline>\n",
       "\t<li>20</li>\n",
       "\t<li>12</li>\n",
       "\t<li>10</li>\n",
       "\t<li>17</li>\n",
       "\t<li>11</li>\n",
       "\t<li>16</li>\n",
       "\t<li>13</li>\n",
       "\t<li>19</li>\n",
       "\t<li>18</li>\n",
       "\t<li>14</li>\n",
       "\t<li>15</li>\n",
       "</ol>\n"
      ],
      "text/latex": [
       "\\begin{enumerate*}\n",
       "\\item 20\n",
       "\\item 12\n",
       "\\item 10\n",
       "\\item 17\n",
       "\\item 11\n",
       "\\item 16\n",
       "\\item 13\n",
       "\\item 19\n",
       "\\item 18\n",
       "\\item 14\n",
       "\\item 15\n",
       "\\end{enumerate*}\n"
      ],
      "text/markdown": [
       "1. 20\n",
       "2. 12\n",
       "3. 10\n",
       "4. 17\n",
       "5. 11\n",
       "6. 16\n",
       "7. 13\n",
       "8. 19\n",
       "9. 18\n",
       "10. 14\n",
       "11. 15\n",
       "\n",
       "\n"
      ],
      "text/plain": [
       " [1] 20 12 10 17 11 16 13 19 18 14 15"
      ]
     },
     "metadata": {},
     "output_type": "display_data"
    }
   ],
   "source": [
    "# Take a random permutation\n",
    "sample(x)"
   ]
  },
  {
   "cell_type": "code",
   "execution_count": 3,
   "metadata": {},
   "outputs": [
    {
     "data": {
      "text/html": [
       "<ol class=list-inline>\n",
       "\t<li>11</li>\n",
       "\t<li>15</li>\n",
       "\t<li>17</li>\n",
       "\t<li>18</li>\n",
       "\t<li>19</li>\n",
       "\t<li>10</li>\n",
       "\t<li>13</li>\n",
       "\t<li>12</li>\n",
       "\t<li>16</li>\n",
       "\t<li>20</li>\n",
       "\t<li>14</li>\n",
       "</ol>\n"
      ],
      "text/latex": [
       "\\begin{enumerate*}\n",
       "\\item 11\n",
       "\\item 15\n",
       "\\item 17\n",
       "\\item 18\n",
       "\\item 19\n",
       "\\item 10\n",
       "\\item 13\n",
       "\\item 12\n",
       "\\item 16\n",
       "\\item 20\n",
       "\\item 14\n",
       "\\end{enumerate*}\n"
      ],
      "text/markdown": [
       "1. 11\n",
       "2. 15\n",
       "3. 17\n",
       "4. 18\n",
       "5. 19\n",
       "6. 10\n",
       "7. 13\n",
       "8. 12\n",
       "9. 16\n",
       "10. 20\n",
       "11. 14\n",
       "\n",
       "\n"
      ],
      "text/plain": [
       " [1] 11 15 17 18 19 10 13 12 16 20 14"
      ]
     },
     "metadata": {},
     "output_type": "display_data"
    }
   ],
   "source": [
    "sample(x)\n",
    "#It gives a random arrangement like resampling of same size as of sample"
   ]
  },
  {
   "cell_type": "code",
   "execution_count": 4,
   "metadata": {},
   "outputs": [
    {
     "data": {
      "text/html": [
       "<ol class=list-inline>\n",
       "\t<li>17</li>\n",
       "\t<li>13</li>\n",
       "\t<li>12</li>\n",
       "\t<li>18</li>\n",
       "\t<li>16</li>\n",
       "\t<li>20</li>\n",
       "\t<li>14</li>\n",
       "\t<li>20</li>\n",
       "\t<li>10</li>\n",
       "\t<li>18</li>\n",
       "\t<li>15</li>\n",
       "</ol>\n"
      ],
      "text/latex": [
       "\\begin{enumerate*}\n",
       "\\item 17\n",
       "\\item 13\n",
       "\\item 12\n",
       "\\item 18\n",
       "\\item 16\n",
       "\\item 20\n",
       "\\item 14\n",
       "\\item 20\n",
       "\\item 10\n",
       "\\item 18\n",
       "\\item 15\n",
       "\\end{enumerate*}\n"
      ],
      "text/markdown": [
       "1. 17\n",
       "2. 13\n",
       "3. 12\n",
       "4. 18\n",
       "5. 16\n",
       "6. 20\n",
       "7. 14\n",
       "8. 20\n",
       "9. 10\n",
       "10. 18\n",
       "11. 15\n",
       "\n",
       "\n"
      ],
      "text/plain": [
       " [1] 17 13 12 18 16 20 14 20 10 18 15"
      ]
     },
     "metadata": {},
     "output_type": "display_data"
    }
   ],
   "source": [
    "# bootstrap resampling -- only if length(x) > 1\n",
    "# Taking a sample out of sample with replacement\n",
    "# It is used when we have small sample size\n",
    "# Just need to simulate many times to validate the results\n",
    "sample(x, replace = TRUE)"
   ]
  },
  {
   "cell_type": "code",
   "execution_count": 5,
   "metadata": {},
   "outputs": [
    {
     "data": {
      "text/html": [
       "<ol class=list-inline>\n",
       "\t<li>16</li>\n",
       "\t<li>17</li>\n",
       "\t<li>20</li>\n",
       "\t<li>19</li>\n",
       "\t<li>18</li>\n",
       "</ol>\n"
      ],
      "text/latex": [
       "\\begin{enumerate*}\n",
       "\\item 16\n",
       "\\item 17\n",
       "\\item 20\n",
       "\\item 19\n",
       "\\item 18\n",
       "\\end{enumerate*}\n"
      ],
      "text/markdown": [
       "1. 16\n",
       "2. 17\n",
       "3. 20\n",
       "4. 19\n",
       "5. 18\n",
       "\n",
       "\n"
      ],
      "text/plain": [
       "[1] 16 17 20 19 18"
      ]
     },
     "metadata": {},
     "output_type": "display_data"
    },
    {
     "data": {
      "text/html": [],
      "text/latex": [],
      "text/markdown": [],
      "text/plain": [
       "integer(0)"
      ]
     },
     "metadata": {},
     "output_type": "display_data"
    }
   ],
   "source": [
    "#Choose conditional samples\n",
    "####################################\n",
    "sample(x[x >  15]) # length 5\n",
    "sample(x[x > 20]) # length 0"
   ]
  },
  {
   "cell_type": "code",
   "execution_count": 8,
   "metadata": {},
   "outputs": [
    {
     "data": {
      "text/html": [
       "<ol class=list-inline>\n",
       "\t<li>10</li>\n",
       "\t<li>14</li>\n",
       "\t<li>16</li>\n",
       "\t<li>12</li>\n",
       "\t<li>19</li>\n",
       "</ol>\n"
      ],
      "text/latex": [
       "\\begin{enumerate*}\n",
       "\\item 10\n",
       "\\item 14\n",
       "\\item 16\n",
       "\\item 12\n",
       "\\item 19\n",
       "\\end{enumerate*}\n"
      ],
      "text/markdown": [
       "1. 10\n",
       "2. 14\n",
       "3. 16\n",
       "4. 12\n",
       "5. 19\n",
       "\n",
       "\n"
      ],
      "text/plain": [
       "[1] 10 14 16 12 19"
      ]
     },
     "metadata": {},
     "output_type": "display_data"
    },
    {
     "data": {
      "text/html": [
       "<ol class=list-inline>\n",
       "\t<li>14</li>\n",
       "\t<li>16</li>\n",
       "\t<li>12</li>\n",
       "\t<li>18</li>\n",
       "\t<li>14</li>\n",
       "</ol>\n"
      ],
      "text/latex": [
       "\\begin{enumerate*}\n",
       "\\item 14\n",
       "\\item 16\n",
       "\\item 12\n",
       "\\item 18\n",
       "\\item 14\n",
       "\\end{enumerate*}\n"
      ],
      "text/markdown": [
       "1. 14\n",
       "2. 16\n",
       "3. 12\n",
       "4. 18\n",
       "5. 14\n",
       "\n",
       "\n"
      ],
      "text/plain": [
       "[1] 14 16 12 18 14"
      ]
     },
     "metadata": {},
     "output_type": "display_data"
    },
    {
     "data": {
      "text/html": [
       "<ol class=list-inline>\n",
       "\t<li>17</li>\n",
       "\t<li>14</li>\n",
       "\t<li>12</li>\n",
       "\t<li>11</li>\n",
       "\t<li>19</li>\n",
       "\t<li>11</li>\n",
       "\t<li>14</li>\n",
       "\t<li>11</li>\n",
       "\t<li>20</li>\n",
       "\t<li>15</li>\n",
       "\t<li>14</li>\n",
       "\t<li>14</li>\n",
       "\t<li>10</li>\n",
       "\t<li>20</li>\n",
       "\t<li>12</li>\n",
       "\t<li>20</li>\n",
       "\t<li>13</li>\n",
       "\t<li>12</li>\n",
       "\t<li>11</li>\n",
       "\t<li>17</li>\n",
       "\t<li>18</li>\n",
       "\t<li>10</li>\n",
       "\t<li>14</li>\n",
       "\t<li>11</li>\n",
       "\t<li>16</li>\n",
       "\t<li>18</li>\n",
       "\t<li>20</li>\n",
       "\t<li>16</li>\n",
       "\t<li>11</li>\n",
       "\t<li>14</li>\n",
       "\t<li>15</li>\n",
       "\t<li>16</li>\n",
       "\t<li>13</li>\n",
       "\t<li>16</li>\n",
       "\t<li>16</li>\n",
       "\t<li>18</li>\n",
       "\t<li>15</li>\n",
       "\t<li>16</li>\n",
       "\t<li>10</li>\n",
       "\t<li>11</li>\n",
       "\t<li>16</li>\n",
       "\t<li>19</li>\n",
       "\t<li>12</li>\n",
       "\t<li>19</li>\n",
       "\t<li>13</li>\n",
       "\t<li>20</li>\n",
       "\t<li>20</li>\n",
       "\t<li>13</li>\n",
       "\t<li>16</li>\n",
       "\t<li>20</li>\n",
       "\t<li>10</li>\n",
       "\t<li>10</li>\n",
       "\t<li>18</li>\n",
       "\t<li>15</li>\n",
       "\t<li>20</li>\n",
       "\t<li>13</li>\n",
       "\t<li>10</li>\n",
       "\t<li>10</li>\n",
       "\t<li>10</li>\n",
       "\t<li>15</li>\n",
       "\t<li>16</li>\n",
       "\t<li>16</li>\n",
       "\t<li>18</li>\n",
       "\t<li>15</li>\n",
       "\t<li>19</li>\n",
       "\t<li>18</li>\n",
       "\t<li>16</li>\n",
       "\t<li>19</li>\n",
       "\t<li>14</li>\n",
       "\t<li>17</li>\n",
       "\t<li>17</li>\n",
       "\t<li>14</li>\n",
       "\t<li>15</li>\n",
       "\t<li>20</li>\n",
       "\t<li>10</li>\n",
       "\t<li>10</li>\n",
       "\t<li>13</li>\n",
       "\t<li>10</li>\n",
       "\t<li>14</li>\n",
       "\t<li>14</li>\n",
       "\t<li>15</li>\n",
       "\t<li>16</li>\n",
       "\t<li>14</li>\n",
       "\t<li>13</li>\n",
       "\t<li>12</li>\n",
       "\t<li>20</li>\n",
       "\t<li>17</li>\n",
       "\t<li>12</li>\n",
       "\t<li>15</li>\n",
       "\t<li>14</li>\n",
       "\t<li>14</li>\n",
       "\t<li>13</li>\n",
       "\t<li>11</li>\n",
       "\t<li>19</li>\n",
       "\t<li>19</li>\n",
       "\t<li>10</li>\n",
       "\t<li>14</li>\n",
       "\t<li>12</li>\n",
       "\t<li>11</li>\n",
       "\t<li>16</li>\n",
       "</ol>\n"
      ],
      "text/latex": [
       "\\begin{enumerate*}\n",
       "\\item 17\n",
       "\\item 14\n",
       "\\item 12\n",
       "\\item 11\n",
       "\\item 19\n",
       "\\item 11\n",
       "\\item 14\n",
       "\\item 11\n",
       "\\item 20\n",
       "\\item 15\n",
       "\\item 14\n",
       "\\item 14\n",
       "\\item 10\n",
       "\\item 20\n",
       "\\item 12\n",
       "\\item 20\n",
       "\\item 13\n",
       "\\item 12\n",
       "\\item 11\n",
       "\\item 17\n",
       "\\item 18\n",
       "\\item 10\n",
       "\\item 14\n",
       "\\item 11\n",
       "\\item 16\n",
       "\\item 18\n",
       "\\item 20\n",
       "\\item 16\n",
       "\\item 11\n",
       "\\item 14\n",
       "\\item 15\n",
       "\\item 16\n",
       "\\item 13\n",
       "\\item 16\n",
       "\\item 16\n",
       "\\item 18\n",
       "\\item 15\n",
       "\\item 16\n",
       "\\item 10\n",
       "\\item 11\n",
       "\\item 16\n",
       "\\item 19\n",
       "\\item 12\n",
       "\\item 19\n",
       "\\item 13\n",
       "\\item 20\n",
       "\\item 20\n",
       "\\item 13\n",
       "\\item 16\n",
       "\\item 20\n",
       "\\item 10\n",
       "\\item 10\n",
       "\\item 18\n",
       "\\item 15\n",
       "\\item 20\n",
       "\\item 13\n",
       "\\item 10\n",
       "\\item 10\n",
       "\\item 10\n",
       "\\item 15\n",
       "\\item 16\n",
       "\\item 16\n",
       "\\item 18\n",
       "\\item 15\n",
       "\\item 19\n",
       "\\item 18\n",
       "\\item 16\n",
       "\\item 19\n",
       "\\item 14\n",
       "\\item 17\n",
       "\\item 17\n",
       "\\item 14\n",
       "\\item 15\n",
       "\\item 20\n",
       "\\item 10\n",
       "\\item 10\n",
       "\\item 13\n",
       "\\item 10\n",
       "\\item 14\n",
       "\\item 14\n",
       "\\item 15\n",
       "\\item 16\n",
       "\\item 14\n",
       "\\item 13\n",
       "\\item 12\n",
       "\\item 20\n",
       "\\item 17\n",
       "\\item 12\n",
       "\\item 15\n",
       "\\item 14\n",
       "\\item 14\n",
       "\\item 13\n",
       "\\item 11\n",
       "\\item 19\n",
       "\\item 19\n",
       "\\item 10\n",
       "\\item 14\n",
       "\\item 12\n",
       "\\item 11\n",
       "\\item 16\n",
       "\\end{enumerate*}\n"
      ],
      "text/markdown": [
       "1. 17\n",
       "2. 14\n",
       "3. 12\n",
       "4. 11\n",
       "5. 19\n",
       "6. 11\n",
       "7. 14\n",
       "8. 11\n",
       "9. 20\n",
       "10. 15\n",
       "11. 14\n",
       "12. 14\n",
       "13. 10\n",
       "14. 20\n",
       "15. 12\n",
       "16. 20\n",
       "17. 13\n",
       "18. 12\n",
       "19. 11\n",
       "20. 17\n",
       "21. 18\n",
       "22. 10\n",
       "23. 14\n",
       "24. 11\n",
       "25. 16\n",
       "26. 18\n",
       "27. 20\n",
       "28. 16\n",
       "29. 11\n",
       "30. 14\n",
       "31. 15\n",
       "32. 16\n",
       "33. 13\n",
       "34. 16\n",
       "35. 16\n",
       "36. 18\n",
       "37. 15\n",
       "38. 16\n",
       "39. 10\n",
       "40. 11\n",
       "41. 16\n",
       "42. 19\n",
       "43. 12\n",
       "44. 19\n",
       "45. 13\n",
       "46. 20\n",
       "47. 20\n",
       "48. 13\n",
       "49. 16\n",
       "50. 20\n",
       "51. 10\n",
       "52. 10\n",
       "53. 18\n",
       "54. 15\n",
       "55. 20\n",
       "56. 13\n",
       "57. 10\n",
       "58. 10\n",
       "59. 10\n",
       "60. 15\n",
       "61. 16\n",
       "62. 16\n",
       "63. 18\n",
       "64. 15\n",
       "65. 19\n",
       "66. 18\n",
       "67. 16\n",
       "68. 19\n",
       "69. 14\n",
       "70. 17\n",
       "71. 17\n",
       "72. 14\n",
       "73. 15\n",
       "74. 20\n",
       "75. 10\n",
       "76. 10\n",
       "77. 13\n",
       "78. 10\n",
       "79. 14\n",
       "80. 14\n",
       "81. 15\n",
       "82. 16\n",
       "83. 14\n",
       "84. 13\n",
       "85. 12\n",
       "86. 20\n",
       "87. 17\n",
       "88. 12\n",
       "89. 15\n",
       "90. 14\n",
       "91. 14\n",
       "92. 13\n",
       "93. 11\n",
       "94. 19\n",
       "95. 19\n",
       "96. 10\n",
       "97. 14\n",
       "98. 12\n",
       "99. 11\n",
       "100. 16\n",
       "\n",
       "\n"
      ],
      "text/plain": [
       "  [1] 17 14 12 11 19 11 14 11 20 15 14 14 10 20 12 20 13 12 11 17 18 10 14 11 16\n",
       " [26] 18 20 16 11 14 15 16 13 16 16 18 15 16 10 11 16 19 12 19 13 20 20 13 16 20\n",
       " [51] 10 10 18 15 20 13 10 10 10 15 16 16 18 15 19 18 16 19 14 17 17 14 15 20 10\n",
       " [76] 10 13 10 14 14 15 16 14 13 12 20 17 12 15 14 14 13 11 19 19 10 14 12 11 16"
      ]
     },
     "metadata": {},
     "output_type": "display_data"
    }
   ],
   "source": [
    "#Other examples\n",
    "sample(x, 5)\n",
    "sample(x, 5, replace = T)\n",
    "sample(x, 100, replace = T)\n",
    "########################################################"
   ]
  },
  {
   "cell_type": "code",
   "execution_count": null,
   "metadata": {},
   "outputs": [],
   "source": [
    "#Sample from a string vector\n",
    "###########################################################\n",
    "## get the first names of the members of R-core\n",
    "#Some code taken from internet\n",
    "a <- readLines(file.path(R.home(\"doc\"),\"AUTHORS\"))[-(1:8)][1:21][-21]\n",
    "a\n",
    "\n",
    "#Take a random sample of 5 person, without replacement\n",
    "sample(a, 5)\n",
    "###################################################\n",
    "\n",
    "\n",
    "###################################################\n",
    "############# Simulation in R Studio ##############\n",
    "###################################################\n",
    "\n",
    "##very simple bootstrap example\n",
    "###################################################\n",
    "##Estimate the 95% confidence interval for the mean of a sample mean\n",
    "#First, generate a random sample from a normal distribution\n",
    "set.seed(1)\n",
    "y <- rnorm(1000, 10, 3)\n",
    "\n",
    "#sample multiple times using the replicate function to\n",
    "#get our bootstrap resamples\n",
    "#Then, compute the relevant quantiles\n",
    "sample(y, replace = TRUE)\n",
    "mean(sample(y, replace = TRUE))\n",
    "replicate(1000, mean(sample(y, replace = TRUE)))#Gives 1000 mean values\n",
    "\n",
    "#Get desired quantiles\n",
    "quantile(replicate(1000, mean(sample(y, replace = TRUE))),\n",
    "         probs = c(0.025, 0.975))\n",
    "####################################################################"
   ]
  },
  {
   "cell_type": "code",
   "execution_count": 9,
   "metadata": {},
   "outputs": [
    {
     "data": {
      "text/html": [
       "4"
      ],
      "text/latex": [
       "4"
      ],
      "text/markdown": [
       "4"
      ],
      "text/plain": [
       "[1] 4"
      ]
     },
     "metadata": {},
     "output_type": "display_data"
    }
   ],
   "source": [
    "##Example 2 for simulation\n",
    "####################################################\n",
    "#Repeat a task many times\n",
    "coin=c(\"Head\", \"Tail\")\n",
    "set.seed(1) #To make results reproducible\n",
    "y=sample(coin, 10, replace = TRUE) #Take a sample of 10\n",
    "length(y[y==\"Head\"])#Count head, should be five"
   ]
  },
  {
   "cell_type": "code",
   "execution_count": 13,
   "metadata": {},
   "outputs": [
    {
     "data": {
      "text/html": [
       "<table>\n",
       "<tbody>\n",
       "\t<tr><td>Tail</td><td>Head</td><td>Tail</td><td>Head</td><td>Head</td><td>Head</td><td>Tail</td><td>Head</td><td>Tail</td><td>Tail</td><td>⋯   </td><td>Head</td><td>Tail</td><td>Tail</td><td>Head</td><td>Tail</td><td>Tail</td><td>Tail</td><td>Tail</td><td>Head</td><td>Head</td></tr>\n",
       "\t<tr><td>Head</td><td>Head</td><td>Tail</td><td>Tail</td><td>Head</td><td>Tail</td><td>Tail</td><td>Head</td><td>Tail</td><td>Tail</td><td>⋯   </td><td>Head</td><td>Tail</td><td>Head</td><td>Head</td><td>Head</td><td>Tail</td><td>Head</td><td>Tail</td><td>Tail</td><td>Head</td></tr>\n",
       "\t<tr><td>Tail</td><td>Head</td><td>Head</td><td>Head</td><td>Head</td><td>Head</td><td>Tail</td><td>Tail</td><td>Head</td><td>Head</td><td>⋯   </td><td>Head</td><td>Tail</td><td>Head</td><td>Head</td><td>Tail</td><td>Head</td><td>Tail</td><td>Head</td><td>Head</td><td>Head</td></tr>\n",
       "\t<tr><td>Tail</td><td>Tail</td><td>Tail</td><td>Head</td><td>Head</td><td>Tail</td><td>Head</td><td>Head</td><td>Head</td><td>Head</td><td>⋯   </td><td>Head</td><td>Tail</td><td>Tail</td><td>Tail</td><td>Tail</td><td>Head</td><td>Tail</td><td>Head</td><td>Head</td><td>Tail</td></tr>\n",
       "\t<tr><td>Head</td><td>Tail</td><td>Head</td><td>Head</td><td>Head</td><td>Head</td><td>Head</td><td>Head</td><td>Tail</td><td>Head</td><td>⋯   </td><td>Head</td><td>Tail</td><td>Head</td><td>Head</td><td>Head</td><td>Tail</td><td>Tail</td><td>Head</td><td>Tail</td><td>Head</td></tr>\n",
       "\t<tr><td>Tail</td><td>Tail</td><td>Head</td><td>Tail</td><td>Tail</td><td>Head</td><td>Head</td><td>Tail</td><td>Tail</td><td>Tail</td><td>⋯   </td><td>Tail</td><td>Tail</td><td>Head</td><td>Head</td><td>Head</td><td>Head</td><td>Head</td><td>Tail</td><td>Head</td><td>Head</td></tr>\n",
       "\t<tr><td>Head</td><td>Head</td><td>Tail</td><td>Tail</td><td>Head</td><td>Head</td><td>Head</td><td>Head</td><td>Tail</td><td>Head</td><td>⋯   </td><td>Tail</td><td>Head</td><td>Tail</td><td>Tail</td><td>Tail</td><td>Tail</td><td>Head</td><td>Head</td><td>Head</td><td>Tail</td></tr>\n",
       "\t<tr><td>Head</td><td>Tail</td><td>Head</td><td>Tail</td><td>Head</td><td>Head</td><td>Tail</td><td>Head</td><td>Tail</td><td>Head</td><td>⋯   </td><td>Head</td><td>Tail</td><td>Head</td><td>Tail</td><td>Head</td><td>Head</td><td>Tail</td><td>Tail</td><td>Head</td><td>Head</td></tr>\n",
       "\t<tr><td>Head</td><td>Tail</td><td>Tail</td><td>Tail</td><td>Tail</td><td>Tail</td><td>Tail</td><td>Head</td><td>Tail</td><td>Head</td><td>⋯   </td><td>Head</td><td>Tail</td><td>Head</td><td>Tail</td><td>Tail</td><td>Tail</td><td>Tail</td><td>Tail</td><td>Head</td><td>Head</td></tr>\n",
       "\t<tr><td>Head</td><td>Tail</td><td>Tail</td><td>Tail</td><td>Head</td><td>Head</td><td>Head</td><td>Head</td><td>Tail</td><td>Head</td><td>⋯   </td><td>Head</td><td>Head</td><td>Head</td><td>Head</td><td>Tail</td><td>Tail</td><td>Head</td><td>Tail</td><td>Head</td><td>Tail</td></tr>\n",
       "</tbody>\n",
       "</table>\n"
      ],
      "text/latex": [
       "\\begin{tabular}{llllllllllllllllllllllllllllllllllllllllllllllllllllllllllllllllllllllllllllllllllllllllllllllllllll}\n",
       "\t Tail & Head & Tail & Head & Head & Head & Tail & Head & Tail & Tail & ⋯    & Head & Tail & Tail & Head & Tail & Tail & Tail & Tail & Head & Head\\\\\n",
       "\t Head & Head & Tail & Tail & Head & Tail & Tail & Head & Tail & Tail & ⋯    & Head & Tail & Head & Head & Head & Tail & Head & Tail & Tail & Head\\\\\n",
       "\t Tail & Head & Head & Head & Head & Head & Tail & Tail & Head & Head & ⋯    & Head & Tail & Head & Head & Tail & Head & Tail & Head & Head & Head\\\\\n",
       "\t Tail & Tail & Tail & Head & Head & Tail & Head & Head & Head & Head & ⋯    & Head & Tail & Tail & Tail & Tail & Head & Tail & Head & Head & Tail\\\\\n",
       "\t Head & Tail & Head & Head & Head & Head & Head & Head & Tail & Head & ⋯    & Head & Tail & Head & Head & Head & Tail & Tail & Head & Tail & Head\\\\\n",
       "\t Tail & Tail & Head & Tail & Tail & Head & Head & Tail & Tail & Tail & ⋯    & Tail & Tail & Head & Head & Head & Head & Head & Tail & Head & Head\\\\\n",
       "\t Head & Head & Tail & Tail & Head & Head & Head & Head & Tail & Head & ⋯    & Tail & Head & Tail & Tail & Tail & Tail & Head & Head & Head & Tail\\\\\n",
       "\t Head & Tail & Head & Tail & Head & Head & Tail & Head & Tail & Head & ⋯    & Head & Tail & Head & Tail & Head & Head & Tail & Tail & Head & Head\\\\\n",
       "\t Head & Tail & Tail & Tail & Tail & Tail & Tail & Head & Tail & Head & ⋯    & Head & Tail & Head & Tail & Tail & Tail & Tail & Tail & Head & Head\\\\\n",
       "\t Head & Tail & Tail & Tail & Head & Head & Head & Head & Tail & Head & ⋯    & Head & Head & Head & Head & Tail & Tail & Head & Tail & Head & Tail\\\\\n",
       "\\end{tabular}\n"
      ],
      "text/markdown": [
       "\n",
       "| Tail | Head | Tail | Head | Head | Head | Tail | Head | Tail | Tail | ⋯    | Head | Tail | Tail | Head | Tail | Tail | Tail | Tail | Head | Head |\n",
       "| Head | Head | Tail | Tail | Head | Tail | Tail | Head | Tail | Tail | ⋯    | Head | Tail | Head | Head | Head | Tail | Head | Tail | Tail | Head |\n",
       "| Tail | Head | Head | Head | Head | Head | Tail | Tail | Head | Head | ⋯    | Head | Tail | Head | Head | Tail | Head | Tail | Head | Head | Head |\n",
       "| Tail | Tail | Tail | Head | Head | Tail | Head | Head | Head | Head | ⋯    | Head | Tail | Tail | Tail | Tail | Head | Tail | Head | Head | Tail |\n",
       "| Head | Tail | Head | Head | Head | Head | Head | Head | Tail | Head | ⋯    | Head | Tail | Head | Head | Head | Tail | Tail | Head | Tail | Head |\n",
       "| Tail | Tail | Head | Tail | Tail | Head | Head | Tail | Tail | Tail | ⋯    | Tail | Tail | Head | Head | Head | Head | Head | Tail | Head | Head |\n",
       "| Head | Head | Tail | Tail | Head | Head | Head | Head | Tail | Head | ⋯    | Tail | Head | Tail | Tail | Tail | Tail | Head | Head | Head | Tail |\n",
       "| Head | Tail | Head | Tail | Head | Head | Tail | Head | Tail | Head | ⋯    | Head | Tail | Head | Tail | Head | Head | Tail | Tail | Head | Head |\n",
       "| Head | Tail | Tail | Tail | Tail | Tail | Tail | Head | Tail | Head | ⋯    | Head | Tail | Head | Tail | Tail | Tail | Tail | Tail | Head | Head |\n",
       "| Head | Tail | Tail | Tail | Head | Head | Head | Head | Tail | Head | ⋯    | Head | Head | Head | Head | Tail | Tail | Head | Tail | Head | Tail |\n",
       "\n"
      ],
      "text/plain": [
       "      [,1] [,2] [,3] [,4] [,5] [,6] [,7] [,8] [,9] [,10] [,11] [,12] [,13]\n",
       " [1,] Tail Head Tail Head Head Head Tail Head Tail Tail  ⋯     Head  Tail \n",
       " [2,] Head Head Tail Tail Head Tail Tail Head Tail Tail  ⋯     Head  Tail \n",
       " [3,] Tail Head Head Head Head Head Tail Tail Head Head  ⋯     Head  Tail \n",
       " [4,] Tail Tail Tail Head Head Tail Head Head Head Head  ⋯     Head  Tail \n",
       " [5,] Head Tail Head Head Head Head Head Head Tail Head  ⋯     Head  Tail \n",
       " [6,] Tail Tail Head Tail Tail Head Head Tail Tail Tail  ⋯     Tail  Tail \n",
       " [7,] Head Head Tail Tail Head Head Head Head Tail Head  ⋯     Tail  Head \n",
       " [8,] Head Tail Head Tail Head Head Tail Head Tail Head  ⋯     Head  Tail \n",
       " [9,] Head Tail Tail Tail Tail Tail Tail Head Tail Head  ⋯     Head  Tail \n",
       "[10,] Head Tail Tail Tail Head Head Head Head Tail Head  ⋯     Head  Head \n",
       "      [,14] [,15] [,16] [,17] [,18] [,19] [,20] [,21]\n",
       " [1,] Tail  Head  Tail  Tail  Tail  Tail  Head  Head \n",
       " [2,] Head  Head  Head  Tail  Head  Tail  Tail  Head \n",
       " [3,] Head  Head  Tail  Head  Tail  Head  Head  Head \n",
       " [4,] Tail  Tail  Tail  Head  Tail  Head  Head  Tail \n",
       " [5,] Head  Head  Head  Tail  Tail  Head  Tail  Head \n",
       " [6,] Head  Head  Head  Head  Head  Tail  Head  Head \n",
       " [7,] Tail  Tail  Tail  Tail  Head  Head  Head  Tail \n",
       " [8,] Head  Tail  Head  Head  Tail  Tail  Head  Head \n",
       " [9,] Head  Tail  Tail  Tail  Tail  Tail  Head  Head \n",
       "[10,] Head  Head  Tail  Tail  Head  Tail  Head  Tail "
      ]
     },
     "metadata": {},
     "output_type": "display_data"
    }
   ],
   "source": [
    "#Do it 100 times\n",
    "replicate(100, sample(coin, 10, replace = TRUE))\n",
    "a=replicate(100, sample(coin, 10, replace = TRUE))\n"
   ]
  },
  {
   "cell_type": "code",
   "execution_count": 18,
   "metadata": {},
   "outputs": [
    {
     "data": {
      "text/html": [
       "'Tail'"
      ],
      "text/latex": [
       "'Tail'"
      ],
      "text/markdown": [
       "'Tail'"
      ],
      "text/plain": [
       "[1] \"Tail\""
      ]
     },
     "metadata": {},
     "output_type": "display_data"
    }
   ],
   "source": [
    "a[1]"
   ]
  },
  {
   "cell_type": "code",
   "execution_count": 17,
   "metadata": {},
   "outputs": [
    {
     "ename": "ERROR",
     "evalue": "Error in parse(text = x, srcfile = src): <text>:4:6: unexpected symbol\n3: for (i in 1:lenght(a)){\n4:   if a\n        ^\n",
     "output_type": "error",
     "traceback": [
      "Error in parse(text = x, srcfile = src): <text>:4:6: unexpected symbol\n3: for (i in 1:lenght(a)){\n4:   if a\n        ^\nTraceback:\n"
     ]
    }
   ],
   "source": [
    "#Count thr number of heads in each round\n",
    "Head_count=c()\n",
    "for (i in 1:lenght(a)) {\n",
    "  if( a[i] ==\"Head\") {\n",
    "      \n",
    "  Head_count +=1    \n",
    "  }\n",
    "    \n",
    "   #Count head, should be three\n",
    "}"
   ]
  },
  {
   "cell_type": "code",
   "execution_count": null,
   "metadata": {},
   "outputs": [],
   "source": [
    "Head_count\n",
    "mean(Head_count)\n",
    "#Coin is unbiased, which is quite obvious here\n",
    "###################################################\n",
    "\n",
    "\n",
    "\n",
    "## Central Limit Theorem\n",
    "#################################################\n",
    "#The distribution of sample mean is always normal\n",
    "#Given that the sample size is large enough (more than 30 as per literature)\n",
    "############################################\n",
    "################################################\n",
    "##First consider a normal distribution with mean 5 and sd 6 \n",
    "#The population distribution~N(5,6)\n",
    "#Take 100 samples of same size (n=100)\n",
    "set.seed(1)# You can replicate the same results from resampling, \n",
    "#any arbitrary number\n",
    "\n",
    "rnorm(100, 5, 6)#Take 100 values\n",
    "mean(rnorm(100, 5, 6))\n",
    "#Use replicate command to repeat 100 (n) times\n",
    "a=replicate(100, mean(rnorm(100, 5, 6)))\n",
    "mean(a)\n",
    "sd(a)#Equals 6/sqrt(100)=0.6 [Also called standard error]\n",
    "hist(a)\n",
    "#Invoke CLT Sample distribution~N(5, 6/sqrt(sample size))\n",
    "#Use Jarque-Bera test for normality\n",
    "library(moments)\n",
    "jarque.test(a)\n",
    "###############################################\n",
    "###############################################"
   ]
  }
 ],
 "metadata": {
  "kernelspec": {
   "display_name": "R",
   "language": "R",
   "name": "ir"
  },
  "language_info": {
   "codemirror_mode": "r",
   "file_extension": ".r",
   "mimetype": "text/x-r-source",
   "name": "R",
   "pygments_lexer": "r",
   "version": "3.5.1"
  }
 },
 "nbformat": 4,
 "nbformat_minor": 2
}
