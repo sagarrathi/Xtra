{
 "cells": [
  {
   "cell_type": "code",
   "execution_count": 2,
   "metadata": {},
   "outputs": [
    {
     "data": {
      "text/html": [
       "'/home/boo/notebook/RTut/R class'"
      ],
      "text/latex": [
       "'/home/boo/notebook/RTut/R class'"
      ],
      "text/markdown": [
       "'/home/boo/notebook/RTut/R class'"
      ],
      "text/plain": [
       "[1] \"/home/boo/notebook/RTut/R class\""
      ]
     },
     "metadata": {},
     "output_type": "display_data"
    }
   ],
   "source": [
    "################################################################\n",
    "############# Statistical Programming with R ###################\n",
    "################################################################\n",
    "\n",
    "getwd()\n",
    "##Session 1"
   ]
  },
  {
   "cell_type": "code",
   "execution_count": 9,
   "metadata": {},
   "outputs": [],
   "source": [
    "#How to create an object\n",
    "#R is an object oriented language\n",
    "#Different types of data can be generated in R\n",
    "# Generate objects using Assignment Operator which is <- or =\n",
    "#For example\n",
    "x<-5\n",
    "y=5"
   ]
  },
  {
   "cell_type": "code",
   "execution_count": 4,
   "metadata": {},
   "outputs": [],
   "source": [
    "#Assign some output in x\n",
    "x=5*6+2 #R is a dynamic language\n",
    "x=6+5\n",
    "#It replaces the old values of the objects with new one\n",
    "\n",
    "#We can generate different types of structures in R \n",
    "#For Example vector, matrix, dataframe, list \n",
    "#########################################################\n",
    "\n",
    "\n",
    "#########################################################\n",
    "#####How to Generate vectors in R studio#################\n",
    "#########################################################\n",
    "#First clean the slate using rm(list = ls()) command in console\n",
    "rm(list = ls())"
   ]
  },
  {
   "cell_type": "code",
   "execution_count": 10,
   "metadata": {},
   "outputs": [],
   "source": [
    "Marks_R=c(5,6,9)\n",
    "Names_R=c(\"R\", \"Vivek\", \"X\")\n",
    "Status_R=c(T,F,T)\n",
    "\n",
    "#Vector is an object in R\n",
    "#c() is used for generating vectors\n",
    "#c stands for combine (combine values to make a vector)\n",
    "#diffrerent types of vectors could be generated in R\n",
    "#For example\n",
    "x=c(5,6,9,10)#A numerical vector with 4 observations or elements\n",
    "#All obs must be of same type (numeric, character, or logical)"
   ]
  },
  {
   "cell_type": "code",
   "execution_count": null,
   "metadata": {},
   "outputs": [],
   "source": [
    "y=c(\"Ram\", \"Shyam\", \"Sam\", \"Thomas\")#A character vector with 4 observations or elements\n",
    "#We will discuss all types of vectors in next video\n",
    "\n",
    "#These vectors can be combined to make a matrix or dataframe\n",
    "#with the help of cbind (column bind command)"
   ]
  },
  {
   "cell_type": "code",
   "execution_count": 16,
   "metadata": {},
   "outputs": [
    {
     "data": {
      "text/html": [
       "<table>\n",
       "<tbody>\n",
       "\t<tr><td>5 </td><td>7 </td><td> 9</td></tr>\n",
       "\t<tr><td>6 </td><td>8 </td><td>10</td></tr>\n",
       "</tbody>\n",
       "</table>\n"
      ],
      "text/latex": [
       "\\begin{tabular}{lll}\n",
       "\t 5  & 7  &  9\\\\\n",
       "\t 6  & 8  & 10\\\\\n",
       "\\end{tabular}\n"
      ],
      "text/markdown": [
       "\n",
       "| 5  | 7  |  9 |\n",
       "| 6  | 8  | 10 |\n",
       "\n"
      ],
      "text/plain": [
       "     [,1] [,2] [,3]\n",
       "[1,] 5    7     9  \n",
       "[2,] 6    8    10  "
      ]
     },
     "metadata": {},
     "output_type": "display_data"
    },
    {
     "data": {
      "text/html": [
       "<table>\n",
       "<tbody>\n",
       "\t<tr><td>5 </td><td> 8</td></tr>\n",
       "\t<tr><td>6 </td><td> 9</td></tr>\n",
       "\t<tr><td>7 </td><td>10</td></tr>\n",
       "</tbody>\n",
       "</table>\n"
      ],
      "text/latex": [
       "\\begin{tabular}{ll}\n",
       "\t 5  &  8\\\\\n",
       "\t 6  &  9\\\\\n",
       "\t 7  & 10\\\\\n",
       "\\end{tabular}\n"
      ],
      "text/markdown": [
       "\n",
       "| 5  |  8 |\n",
       "| 6  |  9 |\n",
       "| 7  | 10 |\n",
       "\n"
      ],
      "text/plain": [
       "     [,1] [,2]\n",
       "[1,] 5     8  \n",
       "[2,] 6     9  \n",
       "[3,] 7    10  "
      ]
     },
     "metadata": {},
     "output_type": "display_data"
    },
    {
     "ename": "ERROR",
     "evalue": "Error in cbind(x, y): number of rows of matrices must match (see arg 2)\n",
     "output_type": "error",
     "traceback": [
      "Error in cbind(x, y): number of rows of matrices must match (see arg 2)\nTraceback:\n",
      "1. cbind(x, y)"
     ]
    }
   ],
   "source": [
    "x\n",
    "y\n",
    "z=cbind(x,y)#Makes a matrix\n",
    "\n",
    "is.matrix(z)"
   ]
  },
  {
   "cell_type": "code",
   "execution_count": 21,
   "metadata": {},
   "outputs": [
    {
     "data": {
      "text/html": [
       "<table>\n",
       "<tbody>\n",
       "\t<tr><td>130</td><td>193</td></tr>\n",
       "\t<tr><td>148</td><td>220</td></tr>\n",
       "</tbody>\n",
       "</table>\n"
      ],
      "text/latex": [
       "\\begin{tabular}{ll}\n",
       "\t 130 & 193\\\\\n",
       "\t 148 & 220\\\\\n",
       "\\end{tabular}\n"
      ],
      "text/markdown": [
       "\n",
       "| 130 | 193 |\n",
       "| 148 | 220 |\n",
       "\n"
      ],
      "text/plain": [
       "     [,1] [,2]\n",
       "[1,] 130  193 \n",
       "[2,] 148  220 "
      ]
     },
     "metadata": {},
     "output_type": "display_data"
    },
    {
     "name": "stdout",
     "output_type": "stream",
     "text": [
      " num [1:2, 1:2] 130 148 193 220\n"
     ]
    },
    {
     "data": {
      "text/html": [
       "'matrix'"
      ],
      "text/latex": [
       "'matrix'"
      ],
      "text/markdown": [
       "'matrix'"
      ],
      "text/plain": [
       "[1] \"matrix\""
      ]
     },
     "metadata": {},
     "output_type": "display_data"
    }
   ],
   "source": [
    "z\n",
    "str(z)\n",
    "class(z)#What kind of object it is"
   ]
  },
  {
   "cell_type": "code",
   "execution_count": 23,
   "metadata": {},
   "outputs": [
    {
     "data": {
      "text/html": [
       "<table>\n",
       "<thead><tr><th scope=col>X1</th><th scope=col>X2</th></tr></thead>\n",
       "<tbody>\n",
       "\t<tr><td>130</td><td>193</td></tr>\n",
       "\t<tr><td>148</td><td>220</td></tr>\n",
       "</tbody>\n",
       "</table>\n"
      ],
      "text/latex": [
       "\\begin{tabular}{r|ll}\n",
       " X1 & X2\\\\\n",
       "\\hline\n",
       "\t 130 & 193\\\\\n",
       "\t 148 & 220\\\\\n",
       "\\end{tabular}\n"
      ],
      "text/markdown": [
       "\n",
       "| X1 | X2 |\n",
       "|---|---|\n",
       "| 130 | 193 |\n",
       "| 148 | 220 |\n",
       "\n"
      ],
      "text/plain": [
       "  X1  X2 \n",
       "1 130 193\n",
       "2 148 220"
      ]
     },
     "metadata": {},
     "output_type": "display_data"
    }
   ],
   "source": [
    "##Make a dataframe\n",
    "z=data.frame(z)#Makes a matrix (Coercion to character data)\n",
    "z"
   ]
  },
  {
   "cell_type": "code",
   "execution_count": 19,
   "metadata": {},
   "outputs": [
    {
     "data": {
      "text/html": [
       "<table>\n",
       "<tbody>\n",
       "\t<tr><td>130</td><td>193</td></tr>\n",
       "\t<tr><td>148</td><td>220</td></tr>\n",
       "</tbody>\n",
       "</table>\n"
      ],
      "text/latex": [
       "\\begin{tabular}{ll}\n",
       "\t 130 & 193\\\\\n",
       "\t 148 & 220\\\\\n",
       "\\end{tabular}\n"
      ],
      "text/markdown": [
       "\n",
       "| 130 | 193 |\n",
       "| 148 | 220 |\n",
       "\n"
      ],
      "text/plain": [
       "     [,1] [,2]\n",
       "[1,] 130  193 \n",
       "[2,] 148  220 "
      ]
     },
     "metadata": {},
     "output_type": "display_data"
    },
    {
     "name": "stdout",
     "output_type": "stream",
     "text": [
      " num [1:2, 1:2] 130 148 193 220\n"
     ]
    },
    {
     "data": {
      "text/html": [
       "'matrix'"
      ],
      "text/latex": [
       "'matrix'"
      ],
      "text/markdown": [
       "'matrix'"
      ],
      "text/plain": [
       "[1] \"matrix\""
      ]
     },
     "metadata": {},
     "output_type": "display_data"
    },
    {
     "ename": "ERROR",
     "evalue": "Error in data.frame(x, y): arguments imply differing number of rows: 2, 3\n",
     "output_type": "error",
     "traceback": [
      "Error in data.frame(x, y): arguments imply differing number of rows: 2, 3\nTraceback:\n",
      "1. data.frame(x, y)",
      "2. stop(gettextf(\"arguments imply differing number of rows: %s\", \n .     paste(unique(nrows), collapse = \", \")), domain = NA)"
     ]
    }
   ],
   "source": [
    "is.matrix(z)\n",
    "z\n",
    "str(z)\n",
    "class(z)#What kind of object it is\n",
    "\n",
    "#The difference between matrix, dataframe, or list structures\n",
    "#############################################################\n",
    "\n",
    "\n",
    "###############################################################\n",
    "########Types of data in R studio or atomic vectors############\n",
    "###############################################################\n",
    "#First clean the slate using rm(list = ls()) command in console\n",
    "rm(list = ls())\n",
    "\n",
    "#Numeric\n",
    "x=c(5.2,6.99,9.032,10)\n",
    "class(x)"
   ]
  },
  {
   "cell_type": "code",
   "execution_count": null,
   "metadata": {},
   "outputs": [],
   "source": [
    "#Character\n",
    "x1=c('Ram', 'Shyam', 'Sam', 'Thomas') #Use inverted commas (sigle or double quotations)\n",
    "class(x1)\n",
    "\n",
    "#Logical or Boolean\n",
    "x2=c(TRUE, FALSE) #Do not add inverted commas otherwise it will be character vector\n",
    "class(x2)\n",
    "\n",
    "#Integer\n",
    "x3=c(5L,6L,9L,10L) #Use L for every number\n",
    "class(x3)\n",
    "\n",
    "#Complex\n",
    "x4=c(3 + 2i, 5 + 3i)\n",
    "class(x4)\n",
    "###############################################################\n",
    "\n",
    "\n",
    "###############################################################\n",
    "########How to do vector operations/ vectorization in R########\n",
    "###############################################################\n",
    "#First clean the slate using rm(list = ls()) command in console\n",
    "rm(list = ls())\n",
    "\n",
    "#Add a scalar (single value) in each element of vector\n",
    "#We can add, subtract, multiply, divide, or any operation on a vector\n",
    "#For example\n",
    "x=c(5,6,9,10)\n",
    "\n",
    "#Add 5 to each element, and make a new vector y\n",
    "y=x+5\n",
    "\n",
    "#subtract 5 from each element, and make a new vector y1\n",
    "y1=x-5\n",
    "\n",
    "#multiply each element from 2, and make a new vector y2\n",
    "y2=x*2\n",
    "\n",
    "#divide each element from 2, and make a new vector y3\n",
    "y3=x/2\n",
    "\n",
    "#Take log of each element, and make a new vector y4\n",
    "y4=log(x) #Natural log\n",
    "\n",
    "#Take square root\n",
    "sqrt(x)\n",
    "\n",
    "#Do squares, or any exponent\n",
    "x^5\n",
    "\n",
    "##So we can do any vector operation for each element\n",
    "#of a vector easily\n",
    "\n",
    "#We can do element to element operations in \n",
    "#vectors of same length\n",
    "#+,-,*,/, or any operation\n",
    "x\n",
    "y\n",
    "z=x+y\n",
    "#Similarly other operations could be done easily\n",
    "###################################################\n",
    "\n",
    "\n",
    "###################################################\n",
    "####Vector, Matrix, Dataframe, List################\n",
    "####The basic data structures/objects in R#################\n",
    "###################################################\n",
    "#Vector/Column/Variable\n",
    "x=c(\"Ram\",\"Shyam\")#Character vector\n",
    "x1=c(\"Ram\",\"Shyam\", \"Sam\", \"Thomas\")#Character vector\n",
    "y=c(5,6,9,4) #Numeric vector"
   ]
  },
  {
   "cell_type": "code",
   "execution_count": 24,
   "metadata": {},
   "outputs": [],
   "source": [
    "#Matrix\n",
    "#A matrix is a two-dimensional data structure. \n",
    "#All the elements of a matrix must be of the same type (numeric, logical, character). \n",
    "#You can create a matrix with the matrix() command\n",
    "#a combination of equal length same type vectors\n",
    "mat_A=matrix(1:10,nrow = 5,ncol = 2)"
   ]
  },
  {
   "cell_type": "code",
   "execution_count": 25,
   "metadata": {},
   "outputs": [
    {
     "data": {
      "text/html": [
       "<table>\n",
       "<tbody>\n",
       "\t<tr><td>1 </td><td> 6</td></tr>\n",
       "\t<tr><td>2 </td><td> 7</td></tr>\n",
       "\t<tr><td>3 </td><td> 8</td></tr>\n",
       "\t<tr><td>4 </td><td> 9</td></tr>\n",
       "\t<tr><td>5 </td><td>10</td></tr>\n",
       "</tbody>\n",
       "</table>\n"
      ],
      "text/latex": [
       "\\begin{tabular}{ll}\n",
       "\t 1  &  6\\\\\n",
       "\t 2  &  7\\\\\n",
       "\t 3  &  8\\\\\n",
       "\t 4  &  9\\\\\n",
       "\t 5  & 10\\\\\n",
       "\\end{tabular}\n"
      ],
      "text/markdown": [
       "\n",
       "| 1  |  6 |\n",
       "| 2  |  7 |\n",
       "| 3  |  8 |\n",
       "| 4  |  9 |\n",
       "| 5  | 10 |\n",
       "\n"
      ],
      "text/plain": [
       "     [,1] [,2]\n",
       "[1,] 1     6  \n",
       "[2,] 2     7  \n",
       "[3,] 3     8  \n",
       "[4,] 4     9  \n",
       "[5,] 5    10  "
      ]
     },
     "metadata": {},
     "output_type": "display_data"
    }
   ],
   "source": [
    "mat_A"
   ]
  },
  {
   "cell_type": "code",
   "execution_count": 26,
   "metadata": {},
   "outputs": [
    {
     "data": {
      "text/html": [
       "TRUE"
      ],
      "text/latex": [
       "TRUE"
      ],
      "text/markdown": [
       "TRUE"
      ],
      "text/plain": [
       "[1] TRUE"
      ]
     },
     "metadata": {},
     "output_type": "display_data"
    },
    {
     "data": {
      "text/html": [
       "<ol class=list-inline>\n",
       "\t<li>5</li>\n",
       "\t<li>2</li>\n",
       "</ol>\n"
      ],
      "text/latex": [
       "\\begin{enumerate*}\n",
       "\\item 5\n",
       "\\item 2\n",
       "\\end{enumerate*}\n"
      ],
      "text/markdown": [
       "1. 5\n",
       "2. 2\n",
       "\n",
       "\n"
      ],
      "text/plain": [
       "[1] 5 2"
      ]
     },
     "metadata": {},
     "output_type": "display_data"
    },
    {
     "data": {
      "text/html": [
       "5"
      ],
      "text/latex": [
       "5"
      ],
      "text/markdown": [
       "5"
      ],
      "text/plain": [
       "[1] 5"
      ]
     },
     "metadata": {},
     "output_type": "display_data"
    },
    {
     "data": {
      "text/html": [
       "2"
      ],
      "text/latex": [
       "2"
      ],
      "text/markdown": [
       "2"
      ],
      "text/plain": [
       "[1] 2"
      ]
     },
     "metadata": {},
     "output_type": "display_data"
    },
    {
     "data": {
      "text/html": [
       "10"
      ],
      "text/latex": [
       "10"
      ],
      "text/markdown": [
       "10"
      ],
      "text/plain": [
       "[1] 10"
      ]
     },
     "metadata": {},
     "output_type": "display_data"
    }
   ],
   "source": [
    "is.matrix(mat_A)#Verify\n",
    "dim(mat_A)#Rows, columns\n",
    "nrow(mat_A)\n",
    "ncol(mat_A)\n",
    "length(mat_A) #Total observations (rows*columns)"
   ]
  },
  {
   "cell_type": "code",
   "execution_count": 27,
   "metadata": {},
   "outputs": [
    {
     "ename": "ERROR",
     "evalue": "Error in data.frame(x1, y): arguments imply differing number of rows: 4, 3\n",
     "output_type": "error",
     "traceback": [
      "Error in data.frame(x1, y): arguments imply differing number of rows: 4, 3\nTraceback:\n",
      "1. data.frame(x1, y)",
      "2. stop(gettextf(\"arguments imply differing number of rows: %s\", \n .     paste(unique(nrows), collapse = \", \")), domain = NA)"
     ]
    }
   ],
   "source": [
    "#We use matrix for numeric data to conduct\n",
    "#Matrix operations (linear algebra)\n",
    "#To conduct loops and codes\n",
    "#Matrix consumes less memory as compared to dataframes\n",
    "#codes are more efficient for matrices\n",
    "#The length should be same for all variables/columns in matrix/dataframe \n",
    "#Matrix are necessity to do linear algebra operations\n",
    "#matrix are not very much different from dataframe\n",
    "\n",
    "\n",
    "#dataframe\n",
    "#It has features of both matrix and list\n",
    "# a dataframe is a list of equal-length vectors of different data types\n",
    "df_A=data.frame(x1,y)\n",
    "df_A"
   ]
  },
  {
   "cell_type": "code",
   "execution_count": 29,
   "metadata": {},
   "outputs": [
    {
     "data": {
      "text/html": [
       "TRUE"
      ],
      "text/latex": [
       "TRUE"
      ],
      "text/markdown": [
       "TRUE"
      ],
      "text/plain": [
       "[1] TRUE"
      ]
     },
     "metadata": {},
     "output_type": "display_data"
    },
    {
     "data": {
      "text/html": [
       "<ol class=list-inline>\n",
       "\t<li>4</li>\n",
       "\t<li>2</li>\n",
       "</ol>\n"
      ],
      "text/latex": [
       "\\begin{enumerate*}\n",
       "\\item 4\n",
       "\\item 2\n",
       "\\end{enumerate*}\n"
      ],
      "text/markdown": [
       "1. 4\n",
       "2. 2\n",
       "\n",
       "\n"
      ],
      "text/plain": [
       "[1] 4 2"
      ]
     },
     "metadata": {},
     "output_type": "display_data"
    },
    {
     "data": {
      "text/html": [
       "<ol class=list-inline>\n",
       "\t<li>'x1'</li>\n",
       "\t<li>'y'</li>\n",
       "</ol>\n"
      ],
      "text/latex": [
       "\\begin{enumerate*}\n",
       "\\item 'x1'\n",
       "\\item 'y'\n",
       "\\end{enumerate*}\n"
      ],
      "text/markdown": [
       "1. 'x1'\n",
       "2. 'y'\n",
       "\n",
       "\n"
      ],
      "text/plain": [
       "[1] \"x1\" \"y\" "
      ]
     },
     "metadata": {},
     "output_type": "display_data"
    }
   ],
   "source": [
    "is.data.frame(df_A)#Verify\n",
    "dim(df_A)#Rows, columns\n",
    "names(df_A)"
   ]
  },
  {
   "cell_type": "code",
   "execution_count": 30,
   "metadata": {},
   "outputs": [
    {
     "data": {
      "text/html": [
       "4"
      ],
      "text/latex": [
       "4"
      ],
      "text/markdown": [
       "4"
      ],
      "text/plain": [
       "[1] 4"
      ]
     },
     "metadata": {},
     "output_type": "display_data"
    },
    {
     "data": {
      "text/html": [
       "2"
      ],
      "text/latex": [
       "2"
      ],
      "text/markdown": [
       "2"
      ],
      "text/plain": [
       "[1] 2"
      ]
     },
     "metadata": {},
     "output_type": "display_data"
    },
    {
     "data": {
      "text/html": [
       "2"
      ],
      "text/latex": [
       "2"
      ],
      "text/markdown": [
       "2"
      ],
      "text/plain": [
       "[1] 2"
      ]
     },
     "metadata": {},
     "output_type": "display_data"
    }
   ],
   "source": [
    "nrow(df_A)\n",
    "ncol(df_A)\n",
    "length(df_A)#No. of columns"
   ]
  },
  {
   "cell_type": "code",
   "execution_count": 31,
   "metadata": {},
   "outputs": [
    {
     "data": {
      "text/html": [
       "<ol class=list-inline>\n",
       "\t<li>Ram</li>\n",
       "\t<li>Shyam</li>\n",
       "\t<li>Sam</li>\n",
       "\t<li>Thomas</li>\n",
       "</ol>\n",
       "\n",
       "<details>\n",
       "\t<summary style=display:list-item;cursor:pointer>\n",
       "\t\t<strong>Levels</strong>:\n",
       "\t</summary>\n",
       "\t<ol class=list-inline>\n",
       "\t\t<li>'Ram'</li>\n",
       "\t\t<li>'Sam'</li>\n",
       "\t\t<li>'Shyam'</li>\n",
       "\t\t<li>'Thomas'</li>\n",
       "\t</ol>\n",
       "</details>"
      ],
      "text/latex": [
       "\\begin{enumerate*}\n",
       "\\item Ram\n",
       "\\item Shyam\n",
       "\\item Sam\n",
       "\\item Thomas\n",
       "\\end{enumerate*}\n",
       "\n",
       "\\emph{Levels}: \\begin{enumerate*}\n",
       "\\item 'Ram'\n",
       "\\item 'Sam'\n",
       "\\item 'Shyam'\n",
       "\\item 'Thomas'\n",
       "\\end{enumerate*}\n"
      ],
      "text/markdown": [
       "1. Ram\n",
       "2. Shyam\n",
       "3. Sam\n",
       "4. Thomas\n",
       "\n",
       "\n",
       "\n",
       "**Levels**: 1. 'Ram'\n",
       "2. 'Sam'\n",
       "3. 'Shyam'\n",
       "4. 'Thomas'\n",
       "\n",
       "\n"
      ],
      "text/plain": [
       "[1] Ram    Shyam  Sam    Thomas\n",
       "Levels: Ram Sam Shyam Thomas"
      ]
     },
     "metadata": {},
     "output_type": "display_data"
    },
    {
     "data": {
      "text/html": [
       "<ol class=list-inline>\n",
       "\t<li>5</li>\n",
       "\t<li>6</li>\n",
       "\t<li>9</li>\n",
       "\t<li>4</li>\n",
       "</ol>\n"
      ],
      "text/latex": [
       "\\begin{enumerate*}\n",
       "\\item 5\n",
       "\\item 6\n",
       "\\item 9\n",
       "\\item 4\n",
       "\\end{enumerate*}\n"
      ],
      "text/markdown": [
       "1. 5\n",
       "2. 6\n",
       "3. 9\n",
       "4. 4\n",
       "\n",
       "\n"
      ],
      "text/plain": [
       "[1] 5 6 9 4"
      ]
     },
     "metadata": {},
     "output_type": "display_data"
    },
    {
     "data": {
      "text/html": [
       "<ol class=list-inline>\n",
       "\t<li>5</li>\n",
       "\t<li>6</li>\n",
       "\t<li>9</li>\n",
       "\t<li>4</li>\n",
       "</ol>\n"
      ],
      "text/latex": [
       "\\begin{enumerate*}\n",
       "\\item 5\n",
       "\\item 6\n",
       "\\item 9\n",
       "\\item 4\n",
       "\\end{enumerate*}\n"
      ],
      "text/markdown": [
       "1. 5\n",
       "2. 6\n",
       "3. 9\n",
       "4. 4\n",
       "\n",
       "\n"
      ],
      "text/plain": [
       "[1] 5 6 9 4"
      ]
     },
     "metadata": {},
     "output_type": "display_data"
    }
   ],
   "source": [
    "#Mostly used structure in R\n",
    "#Can contain different types of data (Numeric, character)\n",
    "#But one column should contain same data type\n",
    "#The columns of dataframe can be accessed by name using $ sign\n",
    "df_A$x1\n",
    "df_A$y\n",
    "df_A$y"
   ]
  },
  {
   "cell_type": "code",
   "execution_count": null,
   "metadata": {},
   "outputs": [],
   "source": []
  },
  {
   "cell_type": "code",
   "execution_count": 28,
   "metadata": {},
   "outputs": [
    {
     "data": {
      "text/html": [
       "TRUE"
      ],
      "text/latex": [
       "TRUE"
      ],
      "text/markdown": [
       "TRUE"
      ],
      "text/plain": [
       "[1] TRUE"
      ]
     },
     "metadata": {},
     "output_type": "display_data"
    },
    {
     "data": {
      "text/html": [
       "<ol class=list-inline>\n",
       "\t<li>4</li>\n",
       "\t<li>2</li>\n",
       "</ol>\n"
      ],
      "text/latex": [
       "\\begin{enumerate*}\n",
       "\\item 4\n",
       "\\item 2\n",
       "\\end{enumerate*}\n"
      ],
      "text/markdown": [
       "1. 4\n",
       "2. 2\n",
       "\n",
       "\n"
      ],
      "text/plain": [
       "[1] 4 2"
      ]
     },
     "metadata": {},
     "output_type": "display_data"
    },
    {
     "data": {
      "text/html": [
       "<ol class=list-inline>\n",
       "\t<li>'x1'</li>\n",
       "\t<li>'y'</li>\n",
       "</ol>\n"
      ],
      "text/latex": [
       "\\begin{enumerate*}\n",
       "\\item 'x1'\n",
       "\\item 'y'\n",
       "\\end{enumerate*}\n"
      ],
      "text/markdown": [
       "1. 'x1'\n",
       "2. 'y'\n",
       "\n",
       "\n"
      ],
      "text/plain": [
       "[1] \"x1\" \"y\" "
      ]
     },
     "metadata": {},
     "output_type": "display_data"
    },
    {
     "data": {
      "text/html": [
       "4"
      ],
      "text/latex": [
       "4"
      ],
      "text/markdown": [
       "4"
      ],
      "text/plain": [
       "[1] 4"
      ]
     },
     "metadata": {},
     "output_type": "display_data"
    },
    {
     "data": {
      "text/html": [
       "2"
      ],
      "text/latex": [
       "2"
      ],
      "text/markdown": [
       "2"
      ],
      "text/plain": [
       "[1] 2"
      ]
     },
     "metadata": {},
     "output_type": "display_data"
    },
    {
     "data": {
      "text/html": [
       "2"
      ],
      "text/latex": [
       "2"
      ],
      "text/markdown": [
       "2"
      ],
      "text/plain": [
       "[1] 2"
      ]
     },
     "metadata": {},
     "output_type": "display_data"
    },
    {
     "data": {
      "text/html": [
       "<ol class=list-inline>\n",
       "\t<li>Ram</li>\n",
       "\t<li>Shyam</li>\n",
       "\t<li>Sam</li>\n",
       "\t<li>Thomas</li>\n",
       "</ol>\n",
       "\n",
       "<details>\n",
       "\t<summary style=display:list-item;cursor:pointer>\n",
       "\t\t<strong>Levels</strong>:\n",
       "\t</summary>\n",
       "\t<ol class=list-inline>\n",
       "\t\t<li>'Ram'</li>\n",
       "\t\t<li>'Sam'</li>\n",
       "\t\t<li>'Shyam'</li>\n",
       "\t\t<li>'Thomas'</li>\n",
       "\t</ol>\n",
       "</details>"
      ],
      "text/latex": [
       "\\begin{enumerate*}\n",
       "\\item Ram\n",
       "\\item Shyam\n",
       "\\item Sam\n",
       "\\item Thomas\n",
       "\\end{enumerate*}\n",
       "\n",
       "\\emph{Levels}: \\begin{enumerate*}\n",
       "\\item 'Ram'\n",
       "\\item 'Sam'\n",
       "\\item 'Shyam'\n",
       "\\item 'Thomas'\n",
       "\\end{enumerate*}\n"
      ],
      "text/markdown": [
       "1. Ram\n",
       "2. Shyam\n",
       "3. Sam\n",
       "4. Thomas\n",
       "\n",
       "\n",
       "\n",
       "**Levels**: 1. 'Ram'\n",
       "2. 'Sam'\n",
       "3. 'Shyam'\n",
       "4. 'Thomas'\n",
       "\n",
       "\n"
      ],
      "text/plain": [
       "[1] Ram    Shyam  Sam    Thomas\n",
       "Levels: Ram Sam Shyam Thomas"
      ]
     },
     "metadata": {},
     "output_type": "display_data"
    },
    {
     "data": {
      "text/html": [
       "<ol class=list-inline>\n",
       "\t<li>5</li>\n",
       "\t<li>6</li>\n",
       "\t<li>9</li>\n",
       "\t<li>4</li>\n",
       "</ol>\n"
      ],
      "text/latex": [
       "\\begin{enumerate*}\n",
       "\\item 5\n",
       "\\item 6\n",
       "\\item 9\n",
       "\\item 4\n",
       "\\end{enumerate*}\n"
      ],
      "text/markdown": [
       "1. 5\n",
       "2. 6\n",
       "3. 9\n",
       "4. 4\n",
       "\n",
       "\n"
      ],
      "text/plain": [
       "[1] 5 6 9 4"
      ]
     },
     "metadata": {},
     "output_type": "display_data"
    },
    {
     "data": {
      "text/html": [
       "<ol class=list-inline>\n",
       "\t<li>5</li>\n",
       "\t<li>6</li>\n",
       "\t<li>9</li>\n",
       "\t<li>4</li>\n",
       "</ol>\n"
      ],
      "text/latex": [
       "\\begin{enumerate*}\n",
       "\\item 5\n",
       "\\item 6\n",
       "\\item 9\n",
       "\\item 4\n",
       "\\end{enumerate*}\n"
      ],
      "text/markdown": [
       "1. 5\n",
       "2. 6\n",
       "3. 9\n",
       "4. 4\n",
       "\n",
       "\n"
      ],
      "text/plain": [
       "[1] 5 6 9 4"
      ]
     },
     "metadata": {},
     "output_type": "display_data"
    },
    {
     "data": {
      "text/html": [
       "TRUE"
      ],
      "text/latex": [
       "TRUE"
      ],
      "text/markdown": [
       "TRUE"
      ],
      "text/plain": [
       "[1] TRUE"
      ]
     },
     "metadata": {},
     "output_type": "display_data"
    },
    {
     "data": {
      "text/html": [
       "<table>\n",
       "<tbody>\n",
       "\t<tr><td>5 </td><td>7 </td><td> 9</td></tr>\n",
       "\t<tr><td>6 </td><td>8 </td><td>10</td></tr>\n",
       "</tbody>\n",
       "</table>\n"
      ],
      "text/latex": [
       "\\begin{tabular}{lll}\n",
       "\t 5  & 7  &  9\\\\\n",
       "\t 6  & 8  & 10\\\\\n",
       "\\end{tabular}\n"
      ],
      "text/markdown": [
       "\n",
       "| 5  | 7  |  9 |\n",
       "| 6  | 8  | 10 |\n",
       "\n"
      ],
      "text/plain": [
       "     [,1] [,2] [,3]\n",
       "[1,] 5    7     9  \n",
       "[2,] 6    8    10  "
      ]
     },
     "metadata": {},
     "output_type": "display_data"
    },
    {
     "data": {
      "text/html": [
       "5"
      ],
      "text/latex": [
       "5"
      ],
      "text/markdown": [
       "5"
      ],
      "text/plain": [
       "[1] 5"
      ]
     },
     "metadata": {},
     "output_type": "display_data"
    },
    {
     "data": {
      "text/html": [
       "<table>\n",
       "<tbody>\n",
       "\t<tr><td>5 </td><td> 8</td></tr>\n",
       "\t<tr><td>6 </td><td> 9</td></tr>\n",
       "\t<tr><td>7 </td><td>10</td></tr>\n",
       "</tbody>\n",
       "</table>\n"
      ],
      "text/latex": [
       "\\begin{tabular}{ll}\n",
       "\t 5  &  8\\\\\n",
       "\t 6  &  9\\\\\n",
       "\t 7  & 10\\\\\n",
       "\\end{tabular}\n"
      ],
      "text/markdown": [
       "\n",
       "| 5  |  8 |\n",
       "| 6  |  9 |\n",
       "| 7  | 10 |\n",
       "\n"
      ],
      "text/plain": [
       "     [,1] [,2]\n",
       "[1,] 5     8  \n",
       "[2,] 6     9  \n",
       "[3,] 7    10  "
      ]
     },
     "metadata": {},
     "output_type": "display_data"
    },
    {
     "data": {
      "text/html": [
       "8"
      ],
      "text/latex": [
       "8"
      ],
      "text/markdown": [
       "8"
      ],
      "text/plain": [
       "[1] 8"
      ]
     },
     "metadata": {},
     "output_type": "display_data"
    },
    {
     "data": {
      "text/html": [
       "TRUE"
      ],
      "text/latex": [
       "TRUE"
      ],
      "text/markdown": [
       "TRUE"
      ],
      "text/plain": [
       "[1] TRUE"
      ]
     },
     "metadata": {},
     "output_type": "display_data"
    },
    {
     "data": {
      "text/html": [
       "<ol class=list-inline>\n",
       "\t<li>5</li>\n",
       "\t<li>2</li>\n",
       "</ol>\n"
      ],
      "text/latex": [
       "\\begin{enumerate*}\n",
       "\\item 5\n",
       "\\item 2\n",
       "\\end{enumerate*}\n"
      ],
      "text/markdown": [
       "1. 5\n",
       "2. 2\n",
       "\n",
       "\n"
      ],
      "text/plain": [
       "[1] 5 2"
      ]
     },
     "metadata": {},
     "output_type": "display_data"
    },
    {
     "data": {
      "text/html": [
       "5"
      ],
      "text/latex": [
       "5"
      ],
      "text/markdown": [
       "5"
      ],
      "text/plain": [
       "[1] 5"
      ]
     },
     "metadata": {},
     "output_type": "display_data"
    },
    {
     "data": {
      "text/html": [
       "2"
      ],
      "text/latex": [
       "2"
      ],
      "text/markdown": [
       "2"
      ],
      "text/plain": [
       "[1] 2"
      ]
     },
     "metadata": {},
     "output_type": "display_data"
    },
    {
     "data": {
      "text/html": [
       "10"
      ],
      "text/latex": [
       "10"
      ],
      "text/markdown": [
       "10"
      ],
      "text/plain": [
       "[1] 10"
      ]
     },
     "metadata": {},
     "output_type": "display_data"
    },
    {
     "data": {
      "text/html": [
       "<table>\n",
       "<tbody>\n",
       "\t<tr><td>5 </td><td>7 </td><td> 9</td></tr>\n",
       "\t<tr><td>6 </td><td>8 </td><td>10</td></tr>\n",
       "</tbody>\n",
       "</table>\n"
      ],
      "text/latex": [
       "\\begin{tabular}{lll}\n",
       "\t 5  & 7  &  9\\\\\n",
       "\t 6  & 8  & 10\\\\\n",
       "\\end{tabular}\n"
      ],
      "text/markdown": [
       "\n",
       "| 5  | 7  |  9 |\n",
       "| 6  | 8  | 10 |\n",
       "\n"
      ],
      "text/plain": [
       "     [,1] [,2] [,3]\n",
       "[1,] 5    7     9  \n",
       "[2,] 6    8    10  "
      ]
     },
     "metadata": {},
     "output_type": "display_data"
    },
    {
     "data": {
      "text/html": [
       "<table>\n",
       "<tbody>\n",
       "\t<tr><td>5 </td><td>6 </td><td> 7</td></tr>\n",
       "\t<tr><td>8 </td><td>9 </td><td>10</td></tr>\n",
       "</tbody>\n",
       "</table>\n"
      ],
      "text/latex": [
       "\\begin{tabular}{lll}\n",
       "\t 5  & 6  &  7\\\\\n",
       "\t 8  & 9  & 10\\\\\n",
       "\\end{tabular}\n"
      ],
      "text/markdown": [
       "\n",
       "| 5  | 6  |  7 |\n",
       "| 8  | 9  | 10 |\n",
       "\n"
      ],
      "text/plain": [
       "     [,1] [,2] [,3]\n",
       "[1,] 5    6     7  \n",
       "[2,] 8    9    10  "
      ]
     },
     "metadata": {},
     "output_type": "display_data"
    },
    {
     "data": {
      "text/html": [
       "<table>\n",
       "<tbody>\n",
       "\t<tr><td>1</td><td>0</td><td>0</td></tr>\n",
       "\t<tr><td>0</td><td>1</td><td>0</td></tr>\n",
       "\t<tr><td>0</td><td>0</td><td>1</td></tr>\n",
       "</tbody>\n",
       "</table>\n"
      ],
      "text/latex": [
       "\\begin{tabular}{lll}\n",
       "\t 1 & 0 & 0\\\\\n",
       "\t 0 & 1 & 0\\\\\n",
       "\t 0 & 0 & 1\\\\\n",
       "\\end{tabular}\n"
      ],
      "text/markdown": [
       "\n",
       "| 1 | 0 | 0 |\n",
       "| 0 | 1 | 0 |\n",
       "| 0 | 0 | 1 |\n",
       "\n"
      ],
      "text/plain": [
       "     [,1] [,2] [,3]\n",
       "[1,] 1    0    0   \n",
       "[2,] 0    1    0   \n",
       "[3,] 0    0    1   "
      ]
     },
     "metadata": {},
     "output_type": "display_data"
    },
    {
     "data": {
      "text/html": [
       "<table>\n",
       "<tbody>\n",
       "\t<tr><td>5</td><td>0</td><td>0</td></tr>\n",
       "\t<tr><td>0</td><td>6</td><td>0</td></tr>\n",
       "\t<tr><td>0</td><td>0</td><td>9</td></tr>\n",
       "</tbody>\n",
       "</table>\n"
      ],
      "text/latex": [
       "\\begin{tabular}{lll}\n",
       "\t 5 & 0 & 0\\\\\n",
       "\t 0 & 6 & 0\\\\\n",
       "\t 0 & 0 & 9\\\\\n",
       "\\end{tabular}\n"
      ],
      "text/markdown": [
       "\n",
       "| 5 | 0 | 0 |\n",
       "| 0 | 6 | 0 |\n",
       "| 0 | 0 | 9 |\n",
       "\n"
      ],
      "text/plain": [
       "     [,1] [,2] [,3]\n",
       "[1,] 5    0    0   \n",
       "[2,] 0    6    0   \n",
       "[3,] 0    0    9   "
      ]
     },
     "metadata": {},
     "output_type": "display_data"
    },
    {
     "data": {
      "text/html": [
       "<table>\n",
       "<tbody>\n",
       "\t<tr><td>5 </td><td>7 </td><td> 9</td></tr>\n",
       "\t<tr><td>6 </td><td>8 </td><td>10</td></tr>\n",
       "</tbody>\n",
       "</table>\n"
      ],
      "text/latex": [
       "\\begin{tabular}{lll}\n",
       "\t 5  & 7  &  9\\\\\n",
       "\t 6  & 8  & 10\\\\\n",
       "\\end{tabular}\n"
      ],
      "text/markdown": [
       "\n",
       "| 5  | 7  |  9 |\n",
       "| 6  | 8  | 10 |\n",
       "\n"
      ],
      "text/plain": [
       "     [,1] [,2] [,3]\n",
       "[1,] 5    7     9  \n",
       "[2,] 6    8    10  "
      ]
     },
     "metadata": {},
     "output_type": "display_data"
    },
    {
     "data": {
      "text/html": [
       "<table>\n",
       "<tbody>\n",
       "\t<tr><td>5 </td><td> 6</td></tr>\n",
       "\t<tr><td>7 </td><td> 8</td></tr>\n",
       "\t<tr><td>9 </td><td>10</td></tr>\n",
       "</tbody>\n",
       "</table>\n"
      ],
      "text/latex": [
       "\\begin{tabular}{ll}\n",
       "\t 5  &  6\\\\\n",
       "\t 7  &  8\\\\\n",
       "\t 9  & 10\\\\\n",
       "\\end{tabular}\n"
      ],
      "text/markdown": [
       "\n",
       "| 5  |  6 |\n",
       "| 7  |  8 |\n",
       "| 9  | 10 |\n",
       "\n"
      ],
      "text/plain": [
       "     [,1] [,2]\n",
       "[1,] 5     6  \n",
       "[2,] 7     8  \n",
       "[3,] 9    10  "
      ]
     },
     "metadata": {},
     "output_type": "display_data"
    },
    {
     "data": {
      "text/html": [
       "<table>\n",
       "<tbody>\n",
       "\t<tr><td> 6.111111</td><td>-5.361111</td></tr>\n",
       "\t<tr><td>-4.111111</td><td> 3.611111</td></tr>\n",
       "</tbody>\n",
       "</table>\n"
      ],
      "text/latex": [
       "\\begin{tabular}{ll}\n",
       "\t  6.111111 & -5.361111\\\\\n",
       "\t -4.111111 &  3.611111\\\\\n",
       "\\end{tabular}\n"
      ],
      "text/markdown": [
       "\n",
       "|  6.111111 | -5.361111 |\n",
       "| -4.111111 |  3.611111 |\n",
       "\n"
      ],
      "text/plain": [
       "     [,1]      [,2]     \n",
       "[1,]  6.111111 -5.361111\n",
       "[2,] -4.111111  3.611111"
      ]
     },
     "metadata": {},
     "output_type": "display_data"
    }
   ],
   "source": [
    "yog=df_A$y\n",
    "#List\n",
    "#Most powerful structure for looping, output storage\n",
    "#It is like dataframe of dataframe\n",
    "#A dataframe of different length vectors of any type\n",
    "\n",
    "list_A=list(x,x1,y)\n",
    "is.list(list_A)#verify\n",
    "#access elements of list using[[]]\n",
    "\n",
    "list_A[[1]]#first component\n",
    "list_A[[1]][1]#first element of first component\n",
    "list_A[[3]]\n",
    "list_A[[3]][4]\n",
    "###################################################\n",
    "\n",
    "\n",
    "#Matrix functions\n",
    "##########################################\n",
    "mat_A=matrix(1:10,nrow = 5,ncol = 2, byrow = T)\n",
    "is.matrix(mat_A)#Verify\n",
    "dim(mat_A)#Rows, columns\n",
    "nrow(mat_A)\n",
    "ncol(mat_A)\n",
    "length(mat_A) #Total observations (rows*columns)\n",
    "\n",
    "#We use matrix for numeric data to conduct\n",
    "#Matrix operations (linear algebra)\n",
    "#To conduct loops and codes\n",
    "#Matrix consumes less memory as compared to dataframes\n",
    "#codes are more efficient for matrices\n",
    "#The length should be same for all variables/columns in matrix/dataframe \n",
    "#Matrix are necessity to do linear algebra operations\n",
    "#matrix are not very much different from dataframe\n",
    "\n",
    "\n",
    "###################################################\n",
    "#### Matrix operations in R Studio ################\n",
    "###################################################\n",
    "#Matrix operations are very helpful\n",
    "#Generate a matrix\n",
    "matrix(5:10,2,3)#A 2x3 matrix\n",
    "\n",
    "#Generate a matrix, row-wise\n",
    "matrix(5:10,2,3, byrow = T)#A 2x3 matrix\n",
    "\n",
    "#Generate identity matrix\n",
    "diag(3)#of order 3\n",
    "\n",
    "#Make a diagonal matrix\n",
    "diag(c(5,6,9))\n",
    "\n",
    "#Now move to other computations\n",
    "#Suppose we have two matrices\n",
    "x=matrix(5:10,2,3)#A 2x3 matrix\n",
    "y=matrix(5:10,3,2)#A 3x2 matrix\n",
    "\n",
    "#Transpose of x\n",
    "x\n",
    "t(x)\n",
    "\n",
    "#addition of matrix, element to element operation\n",
    "z=y+t(x) #Dimensions must be same\n",
    "\n",
    "#subtraction of matrix\n",
    "z=y-t(x) #Dimensions must be same\n",
    "\n",
    "#Matrix multiplication\n",
    "z=x%*%y #columns in x and rows in y should be identical\n",
    "\n",
    "#Compute inverse of square matrix\n",
    "solve(z)\n",
    "#####################################################\n",
    "#####################################################"
   ]
  },
  {
   "cell_type": "code",
   "execution_count": null,
   "metadata": {},
   "outputs": [],
   "source": []
  },
  {
   "cell_type": "code",
   "execution_count": null,
   "metadata": {},
   "outputs": [],
   "source": []
  }
 ],
 "metadata": {
  "kernelspec": {
   "display_name": "R",
   "language": "R",
   "name": "ir"
  },
  "language_info": {
   "codemirror_mode": "r",
   "file_extension": ".r",
   "mimetype": "text/x-r-source",
   "name": "R",
   "pygments_lexer": "r",
   "version": "3.5.1"
  }
 },
 "nbformat": 4,
 "nbformat_minor": 2
}
