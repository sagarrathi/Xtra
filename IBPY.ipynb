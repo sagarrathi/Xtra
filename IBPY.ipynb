{
 "cells": [
  {
   "cell_type": "code",
   "execution_count": 1,
   "metadata": {},
   "outputs": [],
   "source": [
    "import pandas as pd\n",
    "import numpy as np"
   ]
  },
  {
   "cell_type": "code",
   "execution_count": 75,
   "metadata": {},
   "outputs": [
    {
     "data": {
      "text/plain": [
       "0.9808955936854132"
      ]
     },
     "execution_count": 75,
     "metadata": {},
     "output_type": "execute_result"
    }
   ],
   "source": [
    "r=np.random.rand()\n",
    "beta=r*0.09+0.9\n",
    "beta=1-10**(-(r+1))\n",
    "# beta=1-10**(-r+1)\n",
    "# beta=r*0.9+0.09\n",
    "\n",
    "beta"
   ]
  },
  {
   "cell_type": "code",
   "execution_count": 77,
   "metadata": {},
   "outputs": [
    {
     "data": {
      "text/plain": [
       "array([[False, False, False],\n",
       "       [False,  True,  True]])"
      ]
     },
     "execution_count": 77,
     "metadata": {},
     "output_type": "execute_result"
    }
   ],
   "source": [
    "r=np.random.rand(2,3)<=0.5\n",
    "r"
   ]
  },
  {
   "cell_type": "code",
   "execution_count": 7,
   "metadata": {},
   "outputs": [
    {
     "data": {
      "text/plain": [
       "array([ 0, -1, -1,  0])"
      ]
     },
     "execution_count": 7,
     "metadata": {},
     "output_type": "execute_result"
    }
   ],
   "source": [
    "np.random.randint(-4,1,4)"
   ]
  },
  {
   "cell_type": "code",
   "execution_count": null,
   "metadata": {},
   "outputs": [],
   "source": [
    "from ib.opt import connection, message\n",
    "from ib.ext.Contract import Contract\n",
    "from ib.ext.Order import Order\n",
    "\n",
    "def make_contract(symbol, sec_type, exch, prim_exch, cuur):\n",
    "    Contract.m_symbol=symbol\n",
    "    Contract.m_secType=sex_Type\n",
    "    Contract.m_exchange=exch\n",
    "    Contract.m_primaryExch=prim+exch\n",
    "    Contract.m_currency=curr\n",
    "    return Contract\n",
    "def make_under(action, quantity)\n",
    "    "
   ]
  },
  {
   "cell_type": "code",
   "execution_count": 3,
   "metadata": {},
   "outputs": [
    {
     "ename": "ModuleNotFoundError",
     "evalue": "No module named 'ibapi'",
     "output_type": "error",
     "traceback": [
      "\u001b[0;31m---------------------------------------------------------------------------\u001b[0m",
      "\u001b[0;31mModuleNotFoundError\u001b[0m                       Traceback (most recent call last)",
      "\u001b[0;32m<ipython-input-3-d6b26df088ae>\u001b[0m in \u001b[0;36m<module>\u001b[0;34m\u001b[0m\n\u001b[1;32m      5\u001b[0m \u001b[0;34m\u001b[0m\u001b[0m\n\u001b[1;32m      6\u001b[0m \u001b[0;34m\u001b[0m\u001b[0m\n\u001b[0;32m----> 7\u001b[0;31m \u001b[0;32mfrom\u001b[0m \u001b[0mibapi\u001b[0m\u001b[0;34m.\u001b[0m\u001b[0mobject_implem\u001b[0m \u001b[0;32mimport\u001b[0m \u001b[0mObject\u001b[0m\u001b[0;34m\u001b[0m\u001b[0;34m\u001b[0m\u001b[0m\n\u001b[0m\u001b[1;32m      8\u001b[0m \u001b[0;32mfrom\u001b[0m \u001b[0mibapi\u001b[0m\u001b[0;34m.\u001b[0m\u001b[0mscanner\u001b[0m \u001b[0;32mimport\u001b[0m \u001b[0mScannerSubscription\u001b[0m\u001b[0;34m\u001b[0m\u001b[0;34m\u001b[0m\u001b[0m\n\u001b[1;32m      9\u001b[0m \u001b[0;34m\u001b[0m\u001b[0m\n",
      "\u001b[0;31mModuleNotFoundError\u001b[0m: No module named 'ibapi'"
     ]
    }
   ],
   "source": [
    "\"\"\"\n",
    "Copyright (C) 2019 Interactive Brokers LLC. All rights reserved. This code is subject to the terms\n",
    " and conditions of the IB API Non-Commercial License or the IB API Commercial License, as applicable.\n",
    "\"\"\"\n",
    "\n",
    "\n",
    "from ibapi.object_implem import Object \n",
    "from ibapi.scanner import ScannerSubscription\n",
    "\n",
    "\n",
    "class ScannerSubscriptionSamples(Object):\n",
    "\n",
    "    @staticmethod\n",
    "    def HotUSStkByVolume():\n",
    "        #! [hotusvolume]\n",
    "        #Hot US stocks by volume\n",
    "        scanSub = ScannerSubscription()\n",
    "        scanSub.instrument = \"STK\"\n",
    "        scanSub.locationCode = \"STK.US.MAJOR\"\n",
    "        scanSub.scanCode = \"HOT_BY_VOLUME\"\n",
    "        #! [hotusvolume]\n",
    "        return scanSub\n",
    "\n",
    "    @staticmethod\n",
    "    def TopPercentGainersIbis():\n",
    "        #! [toppercentgaineribis]\n",
    "        # Top % gainers at IBIS\n",
    "        scanSub = ScannerSubscription()\n",
    "        scanSub.instrument = \"STOCK.EU\"\n",
    "        scanSub.locationCode = \"STK.EU.IBIS\"\n",
    "        scanSub.scanCode = \"TOP_PERC_GAIN\"\n",
    "        #! [toppercentgaineribis]\n",
    "        return scanSub\n",
    "\n",
    "    @staticmethod\n",
    "    def MostActiveFutSoffex():\n",
    "        #! [mostactivefutsoffex]\n",
    "        # Most active futures at SOFFEX\n",
    "        scanSub = ScannerSubscription()\n",
    "        scanSub.instrument = \"FUT.EU\"\n",
    "        scanSub.locationCode = \"FUT.EU.SOFFEX\"\n",
    "        scanSub.scanCode = \"MOST_ACTIVE\"\n",
    "        #! [mostactivefutsoffex]\n",
    "        return scanSub\n",
    "\n",
    "    @staticmethod\n",
    "    def HighOptVolumePCRatioUSIndexes():\n",
    "        #! [highoptvolume]\n",
    "        # High option volume P/C ratio US indexes\n",
    "        scanSub = ScannerSubscription()\n",
    "        scanSub.instrument = \"IND.US\"\n",
    "        scanSub.locationCode = \"IND.US\"\n",
    "        scanSub.scanCode = \"HIGH_OPT_VOLUME_PUT_CALL_RATIO\"\n",
    "        #! [highoptvolume]\n",
    "        return scanSub\n",
    "\n",
    "    @staticmethod\n",
    "    def ComplexOrdersAndTrades():\n",
    "        #! [combolatesttrade]\n",
    "        # High option volume P/C ratio US indexes\n",
    "        scanSub = ScannerSubscription()\n",
    "        scanSub.instrument = \"NATCOMB\"\n",
    "        scanSub.locationCode = \"NATCOMB.OPT.US\"\n",
    "        scanSub.scanCode = \"COMBO_LATEST_TRADE\"\n",
    "        #! [combolatesttrade]\n",
    "        return scanSub\n",
    "\t\t\n",
    "def Test():\n",
    "    print(ScannerSubscriptionSamples.HotUSStkByVolume())\n",
    "    print(ScannerSubscriptionSamples.TopPercentGainersIbis())\n",
    "    print(ScannerSubscriptionSamples.MostActiveFutSoffex())\n",
    "    print(ScannerSubscriptionSamples.HighOptVolumePCRatioUSIndexes())\n",
    "    \n",
    " \n",
    "if \"__main__\" == __name__:\n",
    "    Test()\n",
    " "
   ]
  }
 ],
 "metadata": {
  "kernelspec": {
   "display_name": "Python 3",
   "language": "python",
   "name": "python3"
  },
  "language_info": {
   "codemirror_mode": {
    "name": "ipython",
    "version": 3
   },
   "file_extension": ".py",
   "mimetype": "text/x-python",
   "name": "python",
   "nbconvert_exporter": "python",
   "pygments_lexer": "ipython3",
   "version": "3.7.6"
  }
 },
 "nbformat": 4,
 "nbformat_minor": 2
}
